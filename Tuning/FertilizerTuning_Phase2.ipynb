{
 "cells": [
  {
   "cell_type": "markdown",
   "id": "203f9e3b",
   "metadata": {},
   "source": [
    "# CatBoost Tuning Phase 2 - Refined Values\n",
    "\n",
    "In this notebook, we want to find the best hyperparameter values to use for our final model. We will use the narrowed hyperparameter search spaces found in Phase 1 of the tuning. In Phase 2, we will run 4-fold cross-validation on these narrowed parameter search spaces to get more refined results. This notebook will also take about 2 hours to run and the best hyperparameter results will be saved to a `.json` file."
   ]
  },
  {
   "cell_type": "code",
   "execution_count": null,
   "id": "5520f42c",
   "metadata": {},
   "outputs": [],
   "source": [
    "# pip3 install numpy pandas matplotlib scipy scikit-learn catboost optuna nbformat --upgrade\n",
    "import time\n",
    "import json\n",
    "\n",
    "# Data Science Libraries\n",
    "import numpy as np\n",
    "import pandas as pd\n",
    "import matplotlib.pyplot as plt\n",
    "\n",
    "# Data Preparation\n",
    "from sklearn.preprocessing import LabelEncoder\n",
    "\n",
    "# Modelling\n",
    "from sklearn.model_selection import StratifiedKFold\n",
    "from catboost import CatBoostClassifier\n",
    "\n",
    "# Hyperparameter Tuning\n",
    "import optuna\n",
    "from optuna import Trial\n",
    "from optuna.samplers import TPESampler\n",
    "from optuna.pruners import MedianPruner\n",
    "from optuna.visualization import plot_optimization_history\n",
    "from optuna.visualization import plot_parallel_coordinate\n",
    "from optuna.visualization import plot_param_importances\n",
    "\n",
    "# Custom Functions -> Function definitions can be found in utils.py file\n",
    "from utils import MAP3, generate_model_rankings"
   ]
  },
  {
   "cell_type": "code",
   "execution_count": null,
   "id": "2d2b5009",
   "metadata": {},
   "outputs": [],
   "source": [
    "# Set seeds for reproducibility\n",
    "sampler_seed = 346346\n",
    "split_seed = 4326\n",
    "model_seed = 36209436"
   ]
  },
  {
   "cell_type": "code",
   "execution_count": 3,
   "id": "0d16d0b4",
   "metadata": {},
   "outputs": [
    {
     "data": {
      "text/html": [
       "<div>\n",
       "<style scoped>\n",
       "    .dataframe tbody tr th:only-of-type {\n",
       "        vertical-align: middle;\n",
       "    }\n",
       "\n",
       "    .dataframe tbody tr th {\n",
       "        vertical-align: top;\n",
       "    }\n",
       "\n",
       "    .dataframe thead th {\n",
       "        text-align: right;\n",
       "    }\n",
       "</style>\n",
       "<table border=\"1\" class=\"dataframe\">\n",
       "  <thead>\n",
       "    <tr style=\"text-align: right;\">\n",
       "      <th></th>\n",
       "      <th>Temperature</th>\n",
       "      <th>Humidity</th>\n",
       "      <th>Moisture</th>\n",
       "      <th>Soil Type</th>\n",
       "      <th>Crop Type</th>\n",
       "      <th>Nitrogen</th>\n",
       "      <th>Potassium</th>\n",
       "      <th>Phosphorous</th>\n",
       "      <th>Fertilizer Name</th>\n",
       "    </tr>\n",
       "    <tr>\n",
       "      <th>id</th>\n",
       "      <th></th>\n",
       "      <th></th>\n",
       "      <th></th>\n",
       "      <th></th>\n",
       "      <th></th>\n",
       "      <th></th>\n",
       "      <th></th>\n",
       "      <th></th>\n",
       "      <th></th>\n",
       "    </tr>\n",
       "  </thead>\n",
       "  <tbody>\n",
       "    <tr>\n",
       "      <th>0</th>\n",
       "      <td>37</td>\n",
       "      <td>70</td>\n",
       "      <td>36</td>\n",
       "      <td>Clayey</td>\n",
       "      <td>Sugarcane</td>\n",
       "      <td>36</td>\n",
       "      <td>4</td>\n",
       "      <td>5</td>\n",
       "      <td>28-28</td>\n",
       "    </tr>\n",
       "    <tr>\n",
       "      <th>1</th>\n",
       "      <td>27</td>\n",
       "      <td>69</td>\n",
       "      <td>65</td>\n",
       "      <td>Sandy</td>\n",
       "      <td>Millets</td>\n",
       "      <td>30</td>\n",
       "      <td>6</td>\n",
       "      <td>18</td>\n",
       "      <td>28-28</td>\n",
       "    </tr>\n",
       "    <tr>\n",
       "      <th>2</th>\n",
       "      <td>29</td>\n",
       "      <td>63</td>\n",
       "      <td>32</td>\n",
       "      <td>Sandy</td>\n",
       "      <td>Millets</td>\n",
       "      <td>24</td>\n",
       "      <td>12</td>\n",
       "      <td>16</td>\n",
       "      <td>17-17-17</td>\n",
       "    </tr>\n",
       "    <tr>\n",
       "      <th>3</th>\n",
       "      <td>35</td>\n",
       "      <td>62</td>\n",
       "      <td>54</td>\n",
       "      <td>Sandy</td>\n",
       "      <td>Barley</td>\n",
       "      <td>39</td>\n",
       "      <td>12</td>\n",
       "      <td>4</td>\n",
       "      <td>10-26-26</td>\n",
       "    </tr>\n",
       "    <tr>\n",
       "      <th>4</th>\n",
       "      <td>35</td>\n",
       "      <td>58</td>\n",
       "      <td>43</td>\n",
       "      <td>Red</td>\n",
       "      <td>Paddy</td>\n",
       "      <td>37</td>\n",
       "      <td>2</td>\n",
       "      <td>16</td>\n",
       "      <td>DAP</td>\n",
       "    </tr>\n",
       "  </tbody>\n",
       "</table>\n",
       "</div>"
      ],
      "text/plain": [
       "    Temperature  Humidity  Moisture Soil Type  Crop Type  Nitrogen  Potassium  \\\n",
       "id                                                                              \n",
       "0            37        70        36    Clayey  Sugarcane        36          4   \n",
       "1            27        69        65     Sandy    Millets        30          6   \n",
       "2            29        63        32     Sandy    Millets        24         12   \n",
       "3            35        62        54     Sandy     Barley        39         12   \n",
       "4            35        58        43       Red      Paddy        37          2   \n",
       "\n",
       "    Phosphorous Fertilizer Name  \n",
       "id                               \n",
       "0             5           28-28  \n",
       "1            18           28-28  \n",
       "2            16        17-17-17  \n",
       "3             4        10-26-26  \n",
       "4            16             DAP  "
      ]
     },
     "execution_count": 3,
     "metadata": {},
     "output_type": "execute_result"
    }
   ],
   "source": [
    "# Read in the training data\n",
    "train = pd.read_csv('Data/train.csv', index_col='id')\n",
    "train = train.rename(columns={'Temparature':'Temperature'})\n",
    "train.head()"
   ]
  },
  {
   "cell_type": "code",
   "execution_count": 4,
   "id": "fb51dbf0",
   "metadata": {},
   "outputs": [],
   "source": [
    "# Store the numeric and categorical columns\n",
    "numeric_cols = ['Temperature', 'Humidity', 'Moisture', 'Nitrogen', 'Potassium', 'Phosphorous']\n",
    "categorical_cols = ['Soil Type', 'Crop Type']\n",
    "\n",
    "# Extract feature columns and the target column\n",
    "features = numeric_cols + categorical_cols\n",
    "cat_cols_idxs = [int(inx) for inx in np.where(np.isin(features, categorical_cols))[0]]\n",
    "target = 'Fertilizer Name'"
   ]
  },
  {
   "cell_type": "code",
   "execution_count": 5,
   "id": "23b17a6d",
   "metadata": {},
   "outputs": [
    {
     "data": {
      "text/plain": [
       "['10-26-26', '14-35-14', '17-17-17', '20-20', '28-28', 'DAP', 'Urea']"
      ]
     },
     "execution_count": 5,
     "metadata": {},
     "output_type": "execute_result"
    }
   ],
   "source": [
    "# Fit LabelEncoder to the target\n",
    "le = LabelEncoder()\n",
    "le.fit(train[target])\n",
    "class_mapping = list(le.classes_)\n",
    "class_mapping"
   ]
  },
  {
   "cell_type": "code",
   "execution_count": null,
   "id": "714bdb97",
   "metadata": {},
   "outputs": [],
   "source": [
    "# Tune on a subsample of the data to reduce computation time\n",
    "tuning_data = train.sample(frac=0.05, random_state=sampler_seed)"
   ]
  },
  {
   "cell_type": "code",
   "execution_count": null,
   "id": "8bef6715",
   "metadata": {},
   "outputs": [],
   "source": [
    "# Define the objective function for Optuna to optimize\n",
    "fixed_params = {'boosting_type':'Ordered', \n",
    "                'loss_function':'MultiClass',\n",
    "                'od_type':'IncToDec'}\n",
    "\n",
    "def objective(trial: Trial, num_folds: int) -> float:\n",
    "    \"\"\"\n",
    "    Objective function for Optuna hyperparameter tuning of a CatBoostClassifier using Stratified K-Fold cross-validation.\n",
    "\n",
    "    This function defines the search space, samples hyperparameters for each trial,\n",
    "    trains and evaluates the model using stratified cross-validation, uses early stopping in the training, \n",
    "    and returns the average MAP@3 score across all folds.\n",
    "\n",
    "    Parameters\n",
    "    ----------\n",
    "    trial : Trial\n",
    "        An Optuna Trial object used to suggest hyperparameters.\n",
    "    num_folds : int\n",
    "        The number of folds to use in Stratified K-Fold Cross-Validation.\n",
    "\n",
    "    Returns\n",
    "    -------\n",
    "    float\n",
    "        The average MAP@3 score across all cross-validation folds.\n",
    "    \"\"\"\n",
    "\n",
    "    # Suggest remaining unconditional parameters\n",
    "    hyperparameters = {\n",
    "        'iterations':300, # Fix at 300 for tuning\n",
    "        'learning_rate':trial.suggest_float('learning_rate', 0.02, 0.1, log=True), # log = True apparently biases Optuna toward better values\n",
    "        'depth':trial.suggest_int('depth', 8, 12), # Allow for greater depths in phase 2 (max=12)\n",
    "        'colsample_bylevel': trial.suggest_float('colsample_bylevel', 0.36, 0.7), # Allow for greater colsample by level since depth is greater\n",
    "        'od_wait':trial.suggest_int('od_wait', 20, 49),\n",
    "        'subsample':trial.suggest_float('subsample', 0.05, 0.38),\n",
    "        'min_data_in_leaf':trial.suggest_int('min_data_in_leaf', 65, 90),\n",
    "        'l2_leaf_reg':trial.suggest_float('l2_leaf_reg', 1.0, 3.0, log=True),\n",
    "        'random_strength':trial.suggest_float('random_strength', 0.04, 0.2),\n",
    "        'bootstrap_type':trial.suggest_categorical('bootstrap_type', ['Bernoulli', 'MVS']),\n",
    "        'boosting_type':fixed_params['boosting_type'], # From early study results, it is clear that the boosting_type should be ordered. We don't need to explore this as thoroughly as the other variables\n",
    "        'loss_function':fixed_params['loss_function'],\n",
    "        'od_type':fixed_params['od_type'],\n",
    "        'allow_writing_files': False, # Unless you want to analyze the report\n",
    "        'random_seed': model_seed\n",
    "    }\n",
    "\n",
    "    # Training-Test Split with Stratified K-Fold Cross-Validation\n",
    "    sk_folds = StratifiedKFold(n_splits=num_folds, shuffle=True, random_state=split_seed)\n",
    "\n",
    "    # Get the features and the target\n",
    "    X, y = tuning_data[features], tuning_data[target]\n",
    "\n",
    "    # Initialize a list to keep track of the scores\n",
    "    MAP3_folds_scores = []\n",
    "\n",
    "    # Loop through the folds and get the MAP3 fold scores\n",
    "    for train_indices, valid_indices in sk_folds.split(X, y):\n",
    "        # Get the training features and target observations\n",
    "        X_train_tune, y_train_tune = X.iloc[train_indices], y.iloc[train_indices]\n",
    "        y_train_tune_encoded = le.transform(y_train_tune)\n",
    "\n",
    "        # Get the test features and target observations\n",
    "        X_valid_tune, y_valid_tune = X.iloc[valid_indices], y.iloc[valid_indices]\n",
    "        y_valid_tune_encoded = le.transform(y_valid_tune)\n",
    "\n",
    "        # Initialize the CatBoost model\n",
    "        model = CatBoostClassifier(**hyperparameters, cat_features=cat_cols_idxs)\n",
    "\n",
    "        # Fit the model on the training fold data\n",
    "        model.fit(X_train_tune, \n",
    "                  y_train_tune_encoded,\n",
    "                  eval_set=(X_valid_tune, y_valid_tune_encoded),\n",
    "                  early_stopping_rounds=hyperparameters['od_wait'],\n",
    "                  verbose=0)\n",
    "\n",
    "        # Get the model rankings for the validation fold\n",
    "        valid_fold_rankings = generate_model_rankings(model, X_valid_tune, class_mapping)\n",
    "\n",
    "        # Compute the MAP3 score for this fold\n",
    "        MAP3_fold_score = MAP3(labels=y_valid_tune, rankings=valid_fold_rankings)\n",
    "\n",
    "        # Add the MAP3 score to the list of fold scores\n",
    "        MAP3_folds_scores.append(MAP3_fold_score)\n",
    "\n",
    "    # Return the average MAP3 score across all folds\n",
    "    return np.mean(MAP3_folds_scores)"
   ]
  },
  {
   "cell_type": "code",
   "execution_count": 8,
   "id": "4feb8fa6",
   "metadata": {},
   "outputs": [
    {
     "name": "stdout",
     "output_type": "stream",
     "text": [
      "A new study created in memory with name: CatBoost_Tuning_Phase2\n",
      "Trial 0 finished with value: 0.2888488888888889 and parameters: {'learning_rate': 0.04347527759761787, 'depth': 8, 'colsample_bylevel': 0.6962236782969772, 'od_wait': 33, 'subsample': 0.06437556419534844, 'min_data_in_leaf': 73, 'l2_leaf_reg': 1.5688504023169896, 'random_strength': 0.07369881313293966, 'bootstrap_type': 'Bernoulli'}. Best is trial 0 with value: 0.2888488888888889.\n",
      "\n",
      "Trial 1 finished with value: 0.28555111111111114 and parameters: {'learning_rate': 0.08285555909896472, 'depth': 10, 'colsample_bylevel': 0.4969815204555851, 'od_wait': 41, 'subsample': 0.06879677184092878, 'min_data_in_leaf': 73, 'l2_leaf_reg': 2.2377420984979075, 'random_strength': 0.13527521830158212, 'bootstrap_type': 'MVS'}. Best is trial 0 with value: 0.2888488888888889.\n",
      "\n",
      "Trial 2 finished with value: 0.2905466666666667 and parameters: {'learning_rate': 0.0391614767133417, 'depth': 10, 'colsample_bylevel': 0.5493498707044185, 'od_wait': 30, 'subsample': 0.07238778196778539, 'min_data_in_leaf': 85, 'l2_leaf_reg': 2.4570272700906526, 'random_strength': 0.05575795473550638, 'bootstrap_type': 'Bernoulli'}. Best is trial 2 with value: 0.2905466666666667.\n",
      "\n",
      "Trial 3 finished with value: 0.28689333333333333 and parameters: {'learning_rate': 0.02501004248520272, 'depth': 10, 'colsample_bylevel': 0.40221310349011424, 'od_wait': 26, 'subsample': 0.24581854052232566, 'min_data_in_leaf': 89, 'l2_leaf_reg': 1.327375271258171, 'random_strength': 0.17291941922733992, 'bootstrap_type': 'Bernoulli'}. Best is trial 2 with value: 0.2905466666666667.\n",
      "\n",
      "Trial 4 finished with value: 0.28728 and parameters: {'learning_rate': 0.060713982692796854, 'depth': 9, 'colsample_bylevel': 0.4376941399045903, 'od_wait': 38, 'subsample': 0.1115304947956047, 'min_data_in_leaf': 78, 'l2_leaf_reg': 2.911149152089103, 'random_strength': 0.1930143766973997, 'bootstrap_type': 'MVS'}. Best is trial 2 with value: 0.2905466666666667.\n",
      "\n",
      "Trial 5 finished with value: 0.28959999999999997 and parameters: {'learning_rate': 0.02235971861128376, 'depth': 10, 'colsample_bylevel': 0.605559468975422, 'od_wait': 33, 'subsample': 0.2188800187013923, 'min_data_in_leaf': 79, 'l2_leaf_reg': 1.579051628232457, 'random_strength': 0.04702374138475529, 'bootstrap_type': 'MVS'}. Best is trial 2 with value: 0.2905466666666667.\n",
      "\n",
      "Trial 6 finished with value: 0.2872533333333333 and parameters: {'learning_rate': 0.05554146113225865, 'depth': 12, 'colsample_bylevel': 0.41198264902583737, 'od_wait': 38, 'subsample': 0.23345575801913265, 'min_data_in_leaf': 87, 'l2_leaf_reg': 1.3450785866305417, 'random_strength': 0.1268977126820334, 'bootstrap_type': 'MVS'}. Best is trial 2 with value: 0.2905466666666667.\n",
      "\n",
      "Trial 7 finished with value: 0.2875466666666667 and parameters: {'learning_rate': 0.04322534844162114, 'depth': 12, 'colsample_bylevel': 0.4665714439286838, 'od_wait': 29, 'subsample': 0.16088879948006274, 'min_data_in_leaf': 68, 'l2_leaf_reg': 1.2195589755181016, 'random_strength': 0.1993233981278044, 'bootstrap_type': 'Bernoulli'}. Best is trial 2 with value: 0.2905466666666667.\n",
      "\n",
      "Trial 8 finished with value: 0.2871333333333333 and parameters: {'learning_rate': 0.09307220690830796, 'depth': 8, 'colsample_bylevel': 0.4155621509977834, 'od_wait': 36, 'subsample': 0.19515425710055134, 'min_data_in_leaf': 84, 'l2_leaf_reg': 2.583462864722306, 'random_strength': 0.19686885360931666, 'bootstrap_type': 'Bernoulli'}. Best is trial 2 with value: 0.2905466666666667.\n",
      "\n",
      "Trial 9 finished with value: 0.28896444444444436 and parameters: {'learning_rate': 0.024736834871263533, 'depth': 12, 'colsample_bylevel': 0.6841912792769442, 'od_wait': 41, 'subsample': 0.2887252498935067, 'min_data_in_leaf': 86, 'l2_leaf_reg': 2.117400112639527, 'random_strength': 0.0438459047748206, 'bootstrap_type': 'Bernoulli'}. Best is trial 2 with value: 0.2905466666666667.\n",
      "\n",
      "Trial 10 finished with value: 0.2876533333333333 and parameters: {'learning_rate': 0.026354886142398424, 'depth': 8, 'colsample_bylevel': 0.4831764588522875, 'od_wait': 26, 'subsample': 0.09926291149821145, 'min_data_in_leaf': 87, 'l2_leaf_reg': 2.785209098301805, 'random_strength': 0.04396471014338447, 'bootstrap_type': 'Bernoulli'}. Best is trial 2 with value: 0.2905466666666667.\n",
      "\n",
      "...\n",
      "\n",
      "Trial 40 finished with value: 0.28704888888888885 and parameters: {'learning_rate': 0.04109672041246452, 'depth': 10, 'colsample_bylevel': 0.6971981778481432, 'od_wait': 22, 'subsample': 0.13205630781236338, 'min_data_in_leaf': 80, 'l2_leaf_reg': 2.1150275119847417, 'random_strength': 0.05179454534472936, 'bootstrap_type': 'Bernoulli'}. Best is trial 35 with value: 0.29234666666666664.\n",
      "\n",
      "Trial 41 finished with value: 0.2886888888888889 and parameters: {'learning_rate': 0.04181913153343776, 'depth': 10, 'colsample_bylevel': 0.5144067512248743, 'od_wait': 36, 'subsample': 0.05378611901268526, 'min_data_in_leaf': 90, 'l2_leaf_reg': 1.8495170998936041, 'random_strength': 0.04989305251119934, 'bootstrap_type': 'Bernoulli'}. Best is trial 35 with value: 0.29234666666666664.\n",
      "\n",
      "Trial 42 finished with value: 0.28870666666666667 and parameters: {'learning_rate': 0.0279585425530254, 'depth': 10, 'colsample_bylevel': 0.46692092654072825, 'od_wait': 35, 'subsample': 0.08462595732657838, 'min_data_in_leaf': 89, 'l2_leaf_reg': 2.4888167834943413, 'random_strength': 0.05838535252669692, 'bootstrap_type': 'MVS'}. Best is trial 35 with value: 0.29234666666666664.\n",
      "\n",
      "Trial 43 finished with value: 0.2873688888888889 and parameters: {'learning_rate': 0.056351459763995394, 'depth': 10, 'colsample_bylevel': 0.4081481339077369, 'od_wait': 32, 'subsample': 0.0528175955370731, 'min_data_in_leaf': 86, 'l2_leaf_reg': 2.5016379985059403, 'random_strength': 0.060501807361226886, 'bootstrap_type': 'Bernoulli'}. Best is trial 35 with value: 0.29234666666666664.\n",
      "\n",
      "Trial 44 finished with value: 0.28773777777777776 and parameters: {'learning_rate': 0.0837200489415017, 'depth': 11, 'colsample_bylevel': 0.5575883470186423, 'od_wait': 35, 'subsample': 0.13163616526216462, 'min_data_in_leaf': 79, 'l2_leaf_reg': 2.608603937712299, 'random_strength': 0.04329405939526078, 'bootstrap_type': 'Bernoulli'}. Best is trial 35 with value: 0.29234666666666664.\n",
      "\n",
      "Trial 45 finished with value: 0.2864711111111111 and parameters: {'learning_rate': 0.03102121957412659, 'depth': 9, 'colsample_bylevel': 0.6039941824509311, 'od_wait': 22, 'subsample': 0.1590675352475634, 'min_data_in_leaf': 89, 'l2_leaf_reg': 2.3533172560629776, 'random_strength': 0.05091614624234179, 'bootstrap_type': 'Bernoulli'}. Best is trial 35 with value: 0.29234666666666664.\n",
     "\n",
      "Trial 46 finished with value: 0.28812 and parameters: {'learning_rate': 0.03144211993831438, 'depth': 11, 'colsample_bylevel': 0.663522746586705, 'od_wait': 24, 'subsample': 0.06057667817634753, 'min_data_in_leaf': 90, 'l2_leaf_reg': 2.149075701495431, 'random_strength': 0.07369792599080931, 'bootstrap_type': 'Bernoulli'}. Best is trial 35 with value: 0.29234666666666664.\n",
      "\n",
      "Trial 47 finished with value: 0.2874 and parameters: {'learning_rate': 0.043563577860581, 'depth': 9, 'colsample_bylevel': 0.4733581133785588, 'od_wait': 26, 'subsample': 0.052215937319688904, 'min_data_in_leaf': 83, 'l2_leaf_reg': 2.635155590110792, 'random_strength': 0.057477528482842884, 'bootstrap_type': 'MVS'}. Best is trial 35 with value: 0.29234666666666664.\n",
     "\n",
      "Trial 48 finished with value: 0.2886222222222222 and parameters: {'learning_rate': 0.055542308674143344, 'depth': 10, 'colsample_bylevel': 0.5784212431976992, 'od_wait': 29, 'subsample': 0.08556719605309912, 'min_data_in_leaf': 83, 'l2_leaf_reg': 2.1197009237888644, 'random_strength': 0.07866216975529047, 'bootstrap_type': 'Bernoulli'}. Best is trial 35 with value: 0.29234666666666664.\n",
      "\n",
      "Trial 49 finished with value: 0.2869422222222222 and parameters: {'learning_rate': 0.05357282455723314, 'depth': 11, 'colsample_bylevel': 0.6404140422132194, 'od_wait': 49, 'subsample': 0.20537146209056592, 'min_data_in_leaf': 67, 'l2_leaf_reg': 1.0027042486639406, 'random_strength': 0.15294141865306937, 'bootstrap_type': 'MVS'}. Best is trial 35 with value: 0.29234666666666664.\n"
     ]
    },
    {
     "name": "stdout",
     "output_type": "stream",
     "text": [
      "-----------------------------------------------------------\n",
      "Hyperparameter Tuning Runtime: 101.23 minutes.\n"
     ]
    }
   ],
   "source": [
    "# Study parameters\n",
    "trials = 50\n",
    "start_up_trials = trials // 10 + 1\n",
    "warmup_steps = 50\n",
    "num_folds = 4 # Use 4 folds in phase 2\n",
    "sampler = TPESampler(multivariate=True, seed=sampler_seed)\n",
    "pruner = MedianPruner(n_startup_trials=start_up_trials, n_warmup_steps=warmup_steps)\n",
    "\n",
    "# Study\n",
    "study = optuna.create_study(\n",
    "    direction='maximize', \n",
    "    pruner=pruner, \n",
    "    sampler=sampler,\n",
    "    study_name='CatBoost_Tuning_Phase2'\n",
    ")\n",
    "\n",
    "# Run and time the study\n",
    "start = time.time()\n",
    "study.optimize(lambda trial: objective(trial, num_folds), n_trials=trials, timeout=7200) # Run 50 trials or stop after 2 hours\n",
    "end = time.time()\n",
    "\n",
    "# Print the total runtime\n",
    "print('-----------------------------------------------------------')\n",
    "print(f'Hyperparameter Tuning Runtime: {(end-start)/60:.2f} minutes.')"
   ]
  },
  {
   "cell_type": "code",
   "execution_count": 9,
   "id": "90810fb4",
   "metadata": {},
   "outputs": [
    {
     "name": "stdout",
     "output_type": "stream",
     "text": [
      "Best MAP@3: 0.2923 achieved in Trial #35\n",
      "Best hyperparameters: {'learning_rate': 0.049745499889766426, 'depth': 10, 'colsample_bylevel': 0.46619923304859245, 'od_wait': 39, 'subsample': 0.06155900139866675, 'min_data_in_leaf': 90, 'l2_leaf_reg': 2.399719543149106, 'random_strength': 0.050324592372389315, 'bootstrap_type': 'Bernoulli', 'boosting_type': 'Ordered', 'loss_function': 'MultiClass', 'od_type': 'IncToDec'}\n"
     ]
    }
   ],
   "source": [
    "# Save the best trial\n",
    "best_trial = study.best_trial\n",
    "\n",
    "# Save best parameters\n",
    "best_params = best_trial.params\n",
    "# Include the fixed parameters\n",
    "for key, value in fixed_params.items():\n",
    "    best_params[key] = value\n",
    "\n",
    "# Save the study's best parameters to a file\n",
    "with open('Study_Results/Phase2/best_params.json', 'w') as file:\n",
    "    json.dump(best_params, file)\n",
    "\n",
    "# Print the results\n",
    "print(f'Best MAP@3: {study.best_value:.4f} achieved in Trial #{best_trial.number}')\n",
    "print(f'Best hyperparameters: {best_params}')\n",
    "\n",
    "# Save the od_wait parameter for later use\n",
    "od_wait = best_params.pop('od_wait')"
   ]
  },
  {
   "cell_type": "markdown",
   "id": "e4a0886d",
   "metadata": {},
   "source": [
    "**Best Hyperparameter Selection - Phase 2**\n",
    "- depth: 10\n",
    "- learning_rate: 0.049745499889766426\n",
    "- bootstrap_type: Bernoulli\n",
    "- colsample_bylevel: 0.46619923304859245\n",
    "- min_data_in_leaf: 90\n",
    "- subsample: 0.06155900139866675\n",
    "- random_strength: 0.050324592372389315\n",
    "- l2_leaf_reg: 2.399719543149106\n",
    "- boosting_type: Ordered\n",
    "- loss_function: MultiClass\n",
    "- od_type: IncToDec\n",
    "- od_wait: 39"
   ]
  },
  {
   "cell_type": "code",
   "execution_count": null,
   "id": "b1a01b76",
   "metadata": {},
   "outputs": [
    {
     "name": "stdout",
     "output_type": "stream",
     "text": [
      "MAP@3 = 0.2923 achieved on Trial #35 with parameters: {'learning_rate': 0.049745499889766426, 'depth': 10, 'colsample_bylevel': 0.46619923304859245, 'od_wait': 39, 'subsample': 0.06155900139866675, 'min_data_in_leaf': 90, 'l2_leaf_reg': 2.399719543149106, 'random_strength': 0.050324592372389315, 'bootstrap_type': 'Bernoulli'}\n",
      "\n",
      "MAP@3 = 0.2905 achieved on Trial #2 with parameters: {'learning_rate': 0.0391614767133417, 'depth': 10, 'colsample_bylevel': 0.5493498707044185, 'od_wait': 30, 'subsample': 0.07238778196778539, 'min_data_in_leaf': 85, 'l2_leaf_reg': 2.4570272700906526, 'random_strength': 0.05575795473550638, 'bootstrap_type': 'Bernoulli'}\n",
      "\n",      
      "MAP@3 = 0.2903 achieved on Trial #26 with parameters: {'learning_rate': 0.042221897486034256, 'depth': 10, 'colsample_bylevel': 0.6467736531186911, 'od_wait': 22, 'subsample': 0.1759648947595891, 'min_data_in_leaf': 85, 'l2_leaf_reg': 1.877044367624782, 'random_strength': 0.0439242063615476, 'bootstrap_type': 'Bernoulli'}\n",
      "\n",
      "MAP@3 = 0.2901 achieved on Trial #20 with parameters: {'learning_rate': 0.03264748544584013, 'depth': 10, 'colsample_bylevel': 0.6192142937339048, 'od_wait': 25, 'subsample': 0.07850655330865959, 'min_data_in_leaf': 88, 'l2_leaf_reg': 2.077106100721589, 'random_strength': 0.04976148018055342, 'bootstrap_type': 'Bernoulli'}\n",
      "\n",
      "MAP@3 = 0.2898 achieved on Trial #12 with parameters: {'learning_rate': 0.07267660697780003, 'depth': 10, 'colsample_bylevel': 0.5385902875790248, 'od_wait': 28, 'subsample': 0.05681625486528563, 'min_data_in_leaf': 86, 'l2_leaf_reg': 2.3742925015613743, 'random_strength': 0.07294333790544344, 'bootstrap_type': 'Bernoulli'}\n",
      "\n",
      "MAP@3 = 0.2896 achieved on Trial #5 with parameters: {'learning_rate': 0.02235971861128376, 'depth': 10, 'colsample_bylevel': 0.605559468975422, 'od_wait': 33, 'subsample': 0.2188800187013923, 'min_data_in_leaf': 79, 'l2_leaf_reg': 1.579051628232457, 'random_strength': 0.04702374138475529, 'bootstrap_type': 'MVS'}\n",
      "\n",
      "MAP@3 = 0.2891 achieved on Trial #39 with parameters: {'learning_rate': 0.053643133775673146, 'depth': 8, 'colsample_bylevel': 0.4957518215233577, 'od_wait': 43, 'subsample': 0.12647028529295662, 'min_data_in_leaf': 87, 'l2_leaf_reg': 1.6897258768994865, 'random_strength': 0.040426706816752055, 'bootstrap_type': 'MVS'}\n",
      "\n",
      "MAP@3 = 0.2891 achieved on Trial #14 with parameters: {'learning_rate': 0.06105939023466106, 'depth': 11, 'colsample_bylevel': 0.5497837360126793, 'od_wait': 34, 'subsample': 0.06980520120725162, 'min_data_in_leaf': 85, 'l2_leaf_reg': 1.918204014078251, 'random_strength': 0.049990051099660135, 'bootstrap_type': 'MVS'}\n",
      "\n",
      "MAP@3 = 0.2890 achieved on Trial #9 with parameters: {'learning_rate': 0.024736834871263533, 'depth': 12, 'colsample_bylevel': 0.6841912792769442, 'od_wait': 41, 'subsample': 0.2887252498935067, 'min_data_in_leaf': 86, 'l2_leaf_reg': 2.117400112639527, 'random_strength': 0.0438459047748206, 'bootstrap_type': 'Bernoulli'}\n",
      "\n",
      "MAP@3 = 0.2889 achieved on Trial #30 with parameters: {'learning_rate': 0.03901261227983868, 'depth': 9, 'colsample_bylevel': 0.5964583570582509, 'od_wait': 24, 'subsample': 0.1990239208647105, 'min_data_in_leaf': 87, 'l2_leaf_reg': 2.678891576726555, 'random_strength': 0.08036693985635952, 'bootstrap_type': 'MVS'}\n",
      "\n",
      "MAP@3 = 0.2888 achieved on Trial #0 with parameters: {'learning_rate': 0.04347527759761787, 'depth': 8, 'colsample_bylevel': 0.6962236782969772, 'od_wait': 33, 'subsample': 0.06437556419534844, 'min_data_in_leaf': 73, 'l2_leaf_reg': 1.5688504023169896, 'random_strength': 0.07369881313293966, 'bootstrap_type': 'Bernoulli'}\n",
      "\n",
      "MAP@3 = 0.2888 achieved on Trial #11 with parameters: {'learning_rate': 0.027542811807466233, 'depth': 9, 'colsample_bylevel': 0.5811497920575249, 'od_wait': 24, 'subsample': 0.2347244132592743, 'min_data_in_leaf': 84, 'l2_leaf_reg': 1.2876122531442746, 'random_strength': 0.07977593758885566, 'bootstrap_type': 'MVS'}\n",
      "\n",
      "MAP@3 = 0.2887 achieved on Trial #42 with parameters: {'learning_rate': 0.0279585425530254, 'depth': 10, 'colsample_bylevel': 0.46692092654072825, 'od_wait': 35, 'subsample': 0.08462595732657838, 'min_data_in_leaf': 89, 'l2_leaf_reg': 2.4888167834943413, 'random_strength': 0.05838535252669692, 'bootstrap_type': 'MVS'}\n",
      "\n",
      "MAP@3 = 0.2887 achieved on Trial #41 with parameters: {'learning_rate': 0.04181913153343776, 'depth': 10, 'colsample_bylevel': 0.5144067512248743, 'od_wait': 36, 'subsample': 0.05378611901268526, 'min_data_in_leaf': 90, 'l2_leaf_reg': 1.8495170998936041, 'random_strength': 0.04989305251119934, 'bootstrap_type': 'Bernoulli'}\n",
      "\n",
      "MAP@3 = 0.2886 achieved on Trial #48 with parameters: {'learning_rate': 0.055542308674143344, 'depth': 10, 'colsample_bylevel': 0.5784212431976992, 'od_wait': 29, 'subsample': 0.08556719605309912, 'min_data_in_leaf': 83, 'l2_leaf_reg': 2.1197009237888644, 'random_strength': 0.07866216975529047, 'bootstrap_type': 'Bernoulli'}\n",
      "\n",
      "MAP@3 = 0.2885 achieved on Trial #37 with parameters: {'learning_rate': 0.033466679063107435, 'depth': 9, 'colsample_bylevel': 0.5099495806959238, 'od_wait': 40, 'subsample': 0.0868507735973907, 'min_data_in_leaf': 84, 'l2_leaf_reg': 2.595377041864887, 'random_strength': 0.07172490892011468, 'bootstrap_type': 'Bernoulli'}\n",
      "\n",
      "MAP@3 = 0.2884 achieved on Trial #34 with parameters: {'learning_rate': 0.027382583941538183, 'depth': 11, 'colsample_bylevel': 0.6296071916533431, 'od_wait': 24, 'subsample': 0.06499509235788062, 'min_data_in_leaf': 87, 'l2_leaf_reg': 2.0324806120488828, 'random_strength': 0.0525997938552518, 'bootstrap_type': 'MVS'}\n",
      "\n",
      "MAP@3 = 0.2883 achieved on Trial #32 with parameters: {'learning_rate': 0.08022363852432753, 'depth': 10, 'colsample_bylevel': 0.47755709941307173, 'od_wait': 26, 'subsample': 0.09039481197973798, 'min_data_in_leaf': 90, 'l2_leaf_reg': 2.2856689253304827, 'random_strength': 0.08392256863532918, 'bootstrap_type': 'Bernoulli'}\n",
      "\n",
      "MAP@3 = 0.2882 achieved on Trial #24 with parameters: {'learning_rate': 0.036493487450979196, 'depth': 11, 'colsample_bylevel': 0.6227159830475048, 'od_wait': 30, 'subsample': 0.08595665531305226, 'min_data_in_leaf': 89, 'l2_leaf_reg': 1.5327127380986285, 'random_strength': 0.04871379795472769, 'bootstrap_type': 'Bernoulli'}\n",
      "\n",
      "MAP@3 = 0.2882 achieved on Trial #28 with parameters: {'learning_rate': 0.05733499846277849, 'depth': 8, 'colsample_bylevel': 0.6040625892353925, 'od_wait': 22, 'subsample': 0.2706909094375661, 'min_data_in_leaf': 85, 'l2_leaf_reg': 1.9618975394825582, 'random_strength': 0.059187580113629436, 'bootstrap_type': 'Bernoulli'}\n"
     ]
    }
   ],
   "source": [
    "# Examine the top 20 trials\n",
    "top20_trials = sorted(study.trials, key=lambda trial: trial.value, reverse=True)[:20]\n",
    "for i, trial in enumerate(top20_trials):\n",
    "    print(f'MAP@3 = {trial.value:.4f} achieved on Trial #{trial.number} with parameters: {trial.params}')"
   ]
  },
  {
   "cell_type": "code",
   "execution_count": null,
   "id": "36ed91c8",
   "metadata": {},
   "outputs": [
    {
     "data": {
      "text/html": [
       "<div>\n",
       "<style scoped>\n",
       "    .dataframe tbody tr th:only-of-type {\n",
       "        vertical-align: middle;\n",
       "    }\n",
       "\n",
       "    .dataframe tbody tr th {\n",
       "        vertical-align: top;\n",
       "    }\n",
       "\n",
       "    .dataframe thead th {\n",
       "        text-align: right;\n",
       "    }\n",
       "</style>\n",
       "<table border=\"1\" class=\"dataframe\">\n",
       "  <thead>\n",
       "    <tr style=\"text-align: right;\">\n",
       "      <th></th>\n",
       "      <th>learning_rate</th>\n",
       "      <th>depth</th>\n",
       "      <th>colsample_bylevel</th>\n",
       "      <th>od_wait</th>\n",
       "      <th>subsample</th>\n",
       "      <th>min_data_in_leaf</th>\n",
       "      <th>l2_leaf_reg</th>\n",
       "      <th>random_strength</th>\n",
       "      <th>bootstrap_type</th>\n",
       "      <th>MAP@3</th>\n",
       "    </tr>\n",
       "  </thead>\n",
       "  <tbody>\n",
       "    <tr>\n",
       "      <th>0</th>\n",
       "      <td>0.049745</td>\n",
       "      <td>10</td>\n",
       "      <td>0.466199</td>\n",
       "      <td>39</td>\n",
       "      <td>0.061559</td>\n",
       "      <td>90</td>\n",
       "      <td>2.399720</td>\n",
       "      <td>0.050325</td>\n",
       "      <td>Bernoulli</td>\n",
       "      <td>0.292347</td>\n",
       "    </tr>\n",
       "    <tr>\n",
       "      <th>1</th>\n",
       "      <td>0.039161</td>\n",
       "      <td>10</td>\n",
       "      <td>0.549350</td>\n",
       "      <td>30</td>\n",
       "      <td>0.072388</td>\n",
       "      <td>85</td>\n",
       "      <td>2.457027</td>\n",
       "      <td>0.055758</td>\n",
       "      <td>Bernoulli</td>\n",
       "      <td>0.290547</td>\n",
       "    </tr>\n",
       "    <tr>\n",
       "      <th>2</th>\n",
       "      <td>0.042222</td>\n",
       "      <td>10</td>\n",
       "      <td>0.646774</td>\n",
       "      <td>22</td>\n",
       "      <td>0.175965</td>\n",
       "      <td>85</td>\n",
       "      <td>1.877044</td>\n",
       "      <td>0.043924</td>\n",
       "      <td>Bernoulli</td>\n",
       "      <td>0.290342</td>\n",
       "    </tr>\n",
       "    <tr>\n",
       "      <th>3</th>\n",
       "      <td>0.032647</td>\n",
       "      <td>10</td>\n",
       "      <td>0.619214</td>\n",
       "      <td>25</td>\n",
       "      <td>0.078507</td>\n",
       "      <td>88</td>\n",
       "      <td>2.077106</td>\n",
       "      <td>0.049761</td>\n",
       "      <td>Bernoulli</td>\n",
       "      <td>0.290053</td>\n",
       "    </tr>\n",
       "    <tr>\n",
       "      <th>4</th>\n",
       "      <td>0.072677</td>\n",
       "      <td>10</td>\n",
       "      <td>0.538590</td>\n",
       "      <td>28</td>\n",
       "      <td>0.056816</td>\n",
       "      <td>86</td>\n",
       "      <td>2.374293</td>\n",
       "      <td>0.072943</td>\n",
       "      <td>Bernoulli</td>\n",
       "      <td>0.289751</td>\n",
       "    </tr>\n",
       "    <tr>\n",
       "      <th>5</th>\n",
       "      <td>0.022360</td>\n",
       "      <td>10</td>\n",
       "      <td>0.605559</td>\n",
       "      <td>33</td>\n",
       "      <td>0.218880</td>\n",
       "      <td>79</td>\n",
       "      <td>1.579052</td>\n",
       "      <td>0.047024</td>\n",
       "      <td>MVS</td>\n",
       "      <td>0.289600</td>\n",
       "    </tr>\n",
       "    <tr>\n",
       "      <th>6</th>\n",
       "      <td>0.053643</td>\n",
       "      <td>8</td>\n",
       "      <td>0.495752</td>\n",
       "      <td>43</td>\n",
       "      <td>0.126470</td>\n",
       "      <td>87</td>\n",
       "      <td>1.689726</td>\n",
       "      <td>0.040427</td>\n",
       "      <td>MVS</td>\n",
       "      <td>0.289116</td>\n",
       "    </tr>\n",
       "    <tr>\n",
       "      <th>7</th>\n",
       "      <td>0.061059</td>\n",
       "      <td>11</td>\n",
       "      <td>0.549784</td>\n",
       "      <td>34</td>\n",
       "      <td>0.069805</td>\n",
       "      <td>85</td>\n",
       "      <td>1.918204</td>\n",
       "      <td>0.049990</td>\n",
       "      <td>MVS</td>\n",
       "      <td>0.289089</td>\n",
       "    </tr>\n",
       "    <tr>\n",
       "      <th>8</th>\n",
       "      <td>0.024737</td>\n",
       "      <td>12</td>\n",
       "      <td>0.684191</td>\n",
       "      <td>41</td>\n",
       "      <td>0.288725</td>\n",
       "      <td>86</td>\n",
       "      <td>2.117400</td>\n",
       "      <td>0.043846</td>\n",
       "      <td>Bernoulli</td>\n",
       "      <td>0.288964</td>\n",
       "    </tr>\n",
       "    <tr>\n",
       "      <th>9</th>\n",
       "      <td>0.039013</td>\n",
       "      <td>9</td>\n",
       "      <td>0.596458</td>\n",
       "      <td>24</td>\n",
       "      <td>0.199024</td>\n",
       "      <td>87</td>\n",
       "      <td>2.678892</td>\n",
       "      <td>0.080367</td>\n",
       "      <td>MVS</td>\n",
       "      <td>0.288876</td>\n",
       "    </tr>\n",
       "    <tr>\n",
       "      <th>10</th>\n",
       "      <td>0.043475</td>\n",
       "      <td>8</td>\n",
       "      <td>0.696224</td>\n",
       "      <td>33</td>\n",
       "      <td>0.064376</td>\n",
       "      <td>73</td>\n",
       "      <td>1.568850</td>\n",
       "      <td>0.073699</td>\n",
       "      <td>Bernoulli</td>\n",
       "      <td>0.288849</td>\n",
       "    </tr>\n",
       "    <tr>\n",
       "      <th>11</th>\n",
       "      <td>0.027543</td>\n",
       "      <td>9</td>\n",
       "      <td>0.581150</td>\n",
       "      <td>24</td>\n",
       "      <td>0.234724</td>\n",
       "      <td>84</td>\n",
       "      <td>1.287612</td>\n",
       "      <td>0.079776</td>\n",
       "      <td>MVS</td>\n",
       "      <td>0.288773</td>\n",
       "    </tr>\n",
       "    <tr>\n",
       "      <th>12</th>\n",
       "      <td>0.027959</td>\n",
       "      <td>10</td>\n",
       "      <td>0.466921</td>\n",
       "      <td>35</td>\n",
       "      <td>0.084626</td>\n",
       "      <td>89</td>\n",
       "      <td>2.488817</td>\n",
       "      <td>0.058385</td>\n",
       "      <td>MVS</td>\n",
       "      <td>0.288707</td>\n",
       "    </tr>\n",
       "    <tr>\n",
       "      <th>13</th>\n",
       "      <td>0.041819</td>\n",
       "      <td>10</td>\n",
       "      <td>0.514407</td>\n",
       "      <td>36</td>\n",
       "      <td>0.053786</td>\n",
       "      <td>90</td>\n",
       "      <td>1.849517</td>\n",
       "      <td>0.049893</td>\n",
       "      <td>Bernoulli</td>\n",
       "      <td>0.288689</td>\n",
       "    </tr>\n",
       "    <tr>\n",
       "      <th>14</th>\n",
       "      <td>0.055542</td>\n",
       "      <td>10</td>\n",
       "      <td>0.578421</td>\n",
       "      <td>29</td>\n",
       "      <td>0.085567</td>\n",
       "      <td>83</td>\n",
       "      <td>2.119701</td>\n",
       "      <td>0.078662</td>\n",
       "      <td>Bernoulli</td>\n",
       "      <td>0.288622</td>\n",
       "    </tr>\n",
       "    <tr>\n",
       "      <th>15</th>\n",
       "      <td>0.033467</td>\n",
       "      <td>9</td>\n",
       "      <td>0.509950</td>\n",
       "      <td>40</td>\n",
       "      <td>0.086851</td>\n",
       "      <td>84</td>\n",
       "      <td>2.595377</td>\n",
       "      <td>0.071725</td>\n",
       "      <td>Bernoulli</td>\n",
       "      <td>0.288547</td>\n",
       "    </tr>\n",
       "    <tr>\n",
       "      <th>16</th>\n",
       "      <td>0.027383</td>\n",
       "      <td>11</td>\n",
       "      <td>0.629607</td>\n",
       "      <td>24</td>\n",
       "      <td>0.064995</td>\n",
       "      <td>87</td>\n",
       "      <td>2.032481</td>\n",
       "      <td>0.052600</td>\n",
       "      <td>MVS</td>\n",
       "      <td>0.288351</td>\n",
       "    </tr>\n",
       "    <tr>\n",
       "      <th>17</th>\n",
       "      <td>0.080224</td>\n",
       "      <td>10</td>\n",
       "      <td>0.477557</td>\n",
       "      <td>26</td>\n",
       "      <td>0.090395</td>\n",
       "      <td>90</td>\n",
       "      <td>2.285669</td>\n",
       "      <td>0.083923</td>\n",
       "      <td>Bernoulli</td>\n",
       "      <td>0.288311</td>\n",
       "    </tr>\n",
       "    <tr>\n",
       "      <th>18</th>\n",
       "      <td>0.036493</td>\n",
       "      <td>11</td>\n",
       "      <td>0.622716</td>\n",
       "      <td>30</td>\n",
       "      <td>0.085957</td>\n",
       "      <td>89</td>\n",
       "      <td>1.532713</td>\n",
       "      <td>0.048714</td>\n",
       "      <td>Bernoulli</td>\n",
       "      <td>0.288244</td>\n",
       "    </tr>\n",
       "    <tr>\n",
       "      <th>19</th>\n",
       "      <td>0.057335</td>\n",
       "      <td>8</td>\n",
       "      <td>0.604063</td>\n",
       "      <td>22</td>\n",
       "      <td>0.270691</td>\n",
       "      <td>85</td>\n",
       "      <td>1.961898</td>\n",
       "      <td>0.059188</td>\n",
       "      <td>Bernoulli</td>\n",
       "      <td>0.288244</td>\n",
       "    </tr>\n",
       "  </tbody>\n",
       "</table>\n",
       "</div>"
      ],
      "text/plain": [
       "    learning_rate  depth  colsample_bylevel  od_wait  subsample  \\\n",
       "0        0.049745     10           0.466199       39   0.061559   \n",
       "1        0.039161     10           0.549350       30   0.072388   \n",
       "2        0.042222     10           0.646774       22   0.175965   \n",
       "3        0.032647     10           0.619214       25   0.078507   \n",
       "4        0.072677     10           0.538590       28   0.056816   \n",
       "5        0.022360     10           0.605559       33   0.218880   \n",
       "6        0.053643      8           0.495752       43   0.126470   \n",
       "7        0.061059     11           0.549784       34   0.069805   \n",
       "8        0.024737     12           0.684191       41   0.288725   \n",
       "9        0.039013      9           0.596458       24   0.199024   \n",
       "10       0.043475      8           0.696224       33   0.064376   \n",
       "11       0.027543      9           0.581150       24   0.234724   \n",
       "12       0.027959     10           0.466921       35   0.084626   \n",
       "13       0.041819     10           0.514407       36   0.053786   \n",
       "14       0.055542     10           0.578421       29   0.085567   \n",
       "15       0.033467      9           0.509950       40   0.086851   \n",
       "16       0.027383     11           0.629607       24   0.064995   \n",
       "17       0.080224     10           0.477557       26   0.090395   \n",
       "18       0.036493     11           0.622716       30   0.085957   \n",
       "19       0.057335      8           0.604063       22   0.270691   \n",
       "\n",
       "    min_data_in_leaf  l2_leaf_reg  random_strength bootstrap_type     MAP@3  \n",
       "0                 90     2.399720         0.050325      Bernoulli  0.292347  \n",
       "1                 85     2.457027         0.055758      Bernoulli  0.290547  \n",
       "2                 85     1.877044         0.043924      Bernoulli  0.290342  \n",
       "3                 88     2.077106         0.049761      Bernoulli  0.290053  \n",
       "4                 86     2.374293         0.072943      Bernoulli  0.289751  \n",
       "5                 79     1.579052         0.047024            MVS  0.289600  \n",
       "6                 87     1.689726         0.040427            MVS  0.289116  \n",
       "7                 85     1.918204         0.049990            MVS  0.289089  \n",
       "8                 86     2.117400         0.043846      Bernoulli  0.288964  \n",
       "9                 87     2.678892         0.080367            MVS  0.288876  \n",
       "10                73     1.568850         0.073699      Bernoulli  0.288849  \n",
       "11                84     1.287612         0.079776            MVS  0.288773  \n",
       "12                89     2.488817         0.058385            MVS  0.288707  \n",
       "13                90     1.849517         0.049893      Bernoulli  0.288689  \n",
       "14                83     2.119701         0.078662      Bernoulli  0.288622  \n",
       "15                84     2.595377         0.071725      Bernoulli  0.288547  \n",
       "16                87     2.032481         0.052600            MVS  0.288351  \n",
       "17                90     2.285669         0.083923      Bernoulli  0.288311  \n",
       "18                89     1.532713         0.048714      Bernoulli  0.288244  \n",
       "19                85     1.961898         0.059188      Bernoulli  0.288244  "
      ]
     },
     "execution_count": 11,
     "metadata": {},
     "output_type": "execute_result"
    }
   ],
   "source": [
    "# Put the top 20 trials into a dataframe\n",
    "top20_df = pd.DataFrame([trial.params for trial in top20_trials])\n",
    "top20_df['MAP@3'] = pd.Series([trial.value for trial in top20_trials])\n",
    "top20_df"
   ]
  },
  {
   "cell_type": "code",
   "execution_count": null,
   "id": "76b2e1a8",
   "metadata": {},
   "outputs": [
    {
     "data": {
      "text/html": [
       "<div>\n",
       "<style scoped>\n",
       "    .dataframe tbody tr th:only-of-type {\n",
       "        vertical-align: middle;\n",
       "    }\n",
       "\n",
       "    .dataframe tbody tr th {\n",
       "        vertical-align: top;\n",
       "    }\n",
       "\n",
       "    .dataframe thead th {\n",
       "        text-align: right;\n",
       "    }\n",
       "</style>\n",
       "<table border=\"1\" class=\"dataframe\">\n",
       "  <thead>\n",
       "    <tr style=\"text-align: right;\">\n",
       "      <th></th>\n",
       "      <th>learning_rate</th>\n",
       "      <th>depth</th>\n",
       "      <th>colsample_bylevel</th>\n",
       "      <th>od_wait</th>\n",
       "      <th>subsample</th>\n",
       "      <th>min_data_in_leaf</th>\n",
       "      <th>l2_leaf_reg</th>\n",
       "      <th>random_strength</th>\n",
       "      <th>MAP@3</th>\n",
       "    </tr>\n",
       "  </thead>\n",
       "  <tbody>\n",
       "    <tr>\n",
       "      <th>count</th>\n",
       "      <td>20.000000</td>\n",
       "      <td>20.000000</td>\n",
       "      <td>20.000000</td>\n",
       "      <td>20.000000</td>\n",
       "      <td>20.000000</td>\n",
       "      <td>20.000000</td>\n",
       "      <td>20.000000</td>\n",
       "      <td>20.000000</td>\n",
       "      <td>20.000000</td>\n",
       "    </tr>\n",
       "    <tr>\n",
       "      <th>mean</th>\n",
       "      <td>0.043425</td>\n",
       "      <td>9.800000</td>\n",
       "      <td>0.571644</td>\n",
       "      <td>30.900000</td>\n",
       "      <td>0.123505</td>\n",
       "      <td>85.600000</td>\n",
       "      <td>2.044555</td>\n",
       "      <td>0.059546</td>\n",
       "      <td>0.289201</td>\n",
       "    </tr>\n",
       "    <tr>\n",
       "      <th>std</th>\n",
       "      <td>0.015981</td>\n",
       "      <td>1.056309</td>\n",
       "      <td>0.069154</td>\n",
       "      <td>6.616566</td>\n",
       "      <td>0.077214</td>\n",
       "      <td>4.031455</td>\n",
       "      <td>0.388735</td>\n",
       "      <td>0.014309</td>\n",
       "      <td>0.001008</td>\n",
       "    </tr>\n",
       "    <tr>\n",
       "      <th>min</th>\n",
       "      <td>0.022360</td>\n",
       "      <td>8.000000</td>\n",
       "      <td>0.466199</td>\n",
       "      <td>22.000000</td>\n",
       "      <td>0.053786</td>\n",
       "      <td>73.000000</td>\n",
       "      <td>1.287612</td>\n",
       "      <td>0.040427</td>\n",
       "      <td>0.288244</td>\n",
       "    </tr>\n",
       "    <tr>\n",
       "      <th>25%</th>\n",
       "      <td>0.031475</td>\n",
       "      <td>9.000000</td>\n",
       "      <td>0.513292</td>\n",
       "      <td>24.750000</td>\n",
       "      <td>0.068603</td>\n",
       "      <td>84.750000</td>\n",
       "      <td>1.809569</td>\n",
       "      <td>0.049500</td>\n",
       "      <td>0.288603</td>\n",
       "    </tr>\n",
       "    <tr>\n",
       "      <th>50%</th>\n",
       "      <td>0.040490</td>\n",
       "      <td>10.000000</td>\n",
       "      <td>0.579786</td>\n",
       "      <td>30.000000</td>\n",
       "      <td>0.085762</td>\n",
       "      <td>86.000000</td>\n",
       "      <td>2.054793</td>\n",
       "      <td>0.054179</td>\n",
       "      <td>0.288862</td>\n",
       "    </tr>\n",
       "    <tr>\n",
       "      <th>75%</th>\n",
       "      <td>0.054118</td>\n",
       "      <td>10.000000</td>\n",
       "      <td>0.620090</td>\n",
       "      <td>35.250000</td>\n",
       "      <td>0.181730</td>\n",
       "      <td>88.250000</td>\n",
       "      <td>2.380649</td>\n",
       "      <td>0.073132</td>\n",
       "      <td>0.289638</td>\n",
       "    </tr>\n",
       "    <tr>\n",
       "      <th>max</th>\n",
       "      <td>0.080224</td>\n",
       "      <td>12.000000</td>\n",
       "      <td>0.696224</td>\n",
       "      <td>43.000000</td>\n",
       "      <td>0.288725</td>\n",
       "      <td>90.000000</td>\n",
       "      <td>2.678892</td>\n",
       "      <td>0.083923</td>\n",
       "      <td>0.292347</td>\n",
       "    </tr>\n",
       "  </tbody>\n",
       "</table>\n",
       "</div>"
      ],
      "text/plain": [
       "       learning_rate      depth  colsample_bylevel    od_wait  subsample  \\\n",
       "count      20.000000  20.000000          20.000000  20.000000  20.000000   \n",
       "mean        0.043425   9.800000           0.571644  30.900000   0.123505   \n",
       "std         0.015981   1.056309           0.069154   6.616566   0.077214   \n",
       "min         0.022360   8.000000           0.466199  22.000000   0.053786   \n",
       "25%         0.031475   9.000000           0.513292  24.750000   0.068603   \n",
       "50%         0.040490  10.000000           0.579786  30.000000   0.085762   \n",
       "75%         0.054118  10.000000           0.620090  35.250000   0.181730   \n",
       "max         0.080224  12.000000           0.696224  43.000000   0.288725   \n",
       "\n",
       "       min_data_in_leaf  l2_leaf_reg  random_strength      MAP@3  \n",
       "count         20.000000    20.000000        20.000000  20.000000  \n",
       "mean          85.600000     2.044555         0.059546   0.289201  \n",
       "std            4.031455     0.388735         0.014309   0.001008  \n",
       "min           73.000000     1.287612         0.040427   0.288244  \n",
       "25%           84.750000     1.809569         0.049500   0.288603  \n",
       "50%           86.000000     2.054793         0.054179   0.288862  \n",
       "75%           88.250000     2.380649         0.073132   0.289638  \n",
       "max           90.000000     2.678892         0.083923   0.292347  "
      ]
     },
     "execution_count": 12,
     "metadata": {},
     "output_type": "execute_result"
    }
   ],
   "source": [
    "# Get a sense of the value ranges for the numeric parameters\n",
    "top20_df.describe()"
   ]
  },
  {
   "cell_type": "code",
   "execution_count": null,
   "id": "fe8ecbaa",
   "metadata": {},
   "outputs": [
    {
     "name": "stdout",
     "output_type": "stream",
     "text": [
      "bootstrap_type\n",
      "Bernoulli    13\n",
      "MVS           7\n",
      "Name: count, dtype: int64\n"
     ]
    }
   ],
   "source": [
    "# Get the frequency counts of the categorical data\n",
    "print(top20_df['bootstrap_type'].value_counts())"
   ]
  },
  {
   "cell_type": "code",
   "execution_count": 15,
   "id": "12d6bb8c",
   "metadata": {},
   "outputs": [],
   "source": [
    "# Save study trial results\n",
    "study_dataframe = study.trials_dataframe()\n",
    "study_dataframe.to_csv('Study_Results/Phase2/trials.csv')"
   ]
  },
  {
   "cell_type": "code",
   "execution_count": 16,
   "id": "6906dd90",
   "metadata": {},
   "outputs": [
    {
     "data": {
      "image/png": "[encoded data removed]",
      "text/plain": [
       "<Figure size 432x288 with 1 Axes>"
      ]
     },
     "metadata": {
      "needs_background": "light"
     },
     "output_type": "display_data"
    }
   ],
   "source": [
    "# Examine top trial results and performance trend\n",
    "study_dataframe['value'].plot(title='MAP@3 over trials', xlabel='Trial #', ylabel='MAP@3')\n",
    "plt.grid(True)\n",
    "plt.show()"
   ]
  },
  {
   "cell_type": "markdown",
   "id": "072fa999",
   "metadata": {},
   "source": [
    "We narrowed the search space quite a bit in Phase 1, so the MAP@3 scores in this phase are quite similar for most of the trials. Every little bit of improvement helps for competition purposes, though."
   ]
  },
  {
   "cell_type": "code",
   "execution_count": 17,
   "id": "e308285c",
   "metadata": {},
   "outputs": [
    {
     "data": {
      "application/vnd.plotly.v1+json": {
       "config": {
        "plotlyServerURL": "https://plot.ly"
       },
       "data": [
        {
         "mode": "markers",
         "name": "Objective Value",
         "type": "scatter",
         "x": [
          0,
          1,
          2,
          3,
          4,
          5,
          6,
          7,
          8,
          9,
          10,
          11,
          12,
          13,
          14,
          15,
          16,
          17,
          18,
          19,
          20,
          21,
          22,
          23,
          24,
          25,
          26,
          27,
          28,
          29,
          30,
          31,
          32,
          33,
          34,
          35,
          36,
          37,
          38,
          39,
          40,
          41,
          42,
          43,
          44,
          45,
          46,
          47,
          48,
          49
         ],
         "y": [
          0.2888488888888889,
          0.28555111111111114,
          0.2905466666666667,
          0.28689333333333333,
          0.28728,
          0.28959999999999997,
          0.2872533333333333,
          0.2875466666666667,
          0.2871333333333333,
          0.28896444444444436,
          0.2876533333333333,
          0.2887733333333333,
          0.28975111111111107,
          0.2880711111111111,
          0.2890888888888889,
          0.2877288888888889,
          0.2869511111111111,
          0.28689777777777775,
          0.28794666666666663,
          0.28713333333333335,
          0.29005333333333333,
          0.28756888888888893,
          0.28784,
          0.28696444444444447,
          0.28824444444444447,
          0.28779999999999994,
          0.2903422222222222,
          0.2875511111111111,
          0.2882444444444444,
          0.2876177777777778,
          0.28887555555555555,
          0.28676,
          0.2883111111111111,
          0.2866533333333333,
          0.2883511111111111,
          0.29234666666666664,
          0.2877644444444445,
          0.2885466666666666,
          0.2864311111111111,
          0.28911555555555557,
          0.28704888888888885,
          0.2886888888888889,
          0.28870666666666667,
          0.2873688888888889,
          0.28773777777777776,
          0.2864711111111111,
          0.28812,
          0.2874,
          0.2886222222222222,
          0.2869422222222222
         ]
        },
        {
         "mode": "lines",
         "name": "Best Value",
         "type": "scatter",
         "x": [
          0,
          1,
          2,
          3,
          4,
          5,
          6,
          7,
          8,
          9,
          10,
          11,
          12,
          13,
          14,
          15,
          16,
          17,
          18,
          19,
          20,
          21,
          22,
          23,
          24,
          25,
          26,
          27,
          28,
          29,
          30,
          31,
          32,
          33,
          34,
          35,
          36,
          37,
          38,
          39,
          40,
          41,
          42,
          43,
          44,
          45,
          46,
          47,
          48,
          49
         ],
         "y": [
          0.2888488888888889,
          0.2888488888888889,
          0.2905466666666667,
          0.2905466666666667,
          0.2905466666666667,
          0.2905466666666667,
          0.2905466666666667,
          0.2905466666666667,
          0.2905466666666667,
          0.2905466666666667,
          0.2905466666666667,
          0.2905466666666667,
          0.2905466666666667,
          0.2905466666666667,
          0.2905466666666667,
          0.2905466666666667,
          0.2905466666666667,
          0.2905466666666667,
          0.2905466666666667,
          0.2905466666666667,
          0.2905466666666667,
          0.2905466666666667,
          0.2905466666666667,
          0.2905466666666667,
          0.2905466666666667,
          0.2905466666666667,
          0.2905466666666667,
          0.2905466666666667,
          0.2905466666666667,
          0.2905466666666667,
          0.2905466666666667,
          0.2905466666666667,
          0.2905466666666667,
          0.2905466666666667,
          0.2905466666666667,
          0.29234666666666664,
          0.29234666666666664,
          0.29234666666666664,
          0.29234666666666664,
          0.29234666666666664,
          0.29234666666666664,
          0.29234666666666664,
          0.29234666666666664,
          0.29234666666666664,
          0.29234666666666664,
          0.29234666666666664,
          0.29234666666666664,
          0.29234666666666664,
          0.29234666666666664,
          0.29234666666666664
         ]
        },
        {
         "marker": {
          "color": "#cccccc"
         },
         "mode": "markers",
         "name": "Infeasible Trial",
         "showlegend": false,
         "type": "scatter",
         "x": [],
         "y": []
        }
       ],
       "layout": {
        "template": {
         "data": {
          "bar": [
           {
            "error_x": {
             "color": "#2a3f5f"
            },
            "error_y": {
             "color": "#2a3f5f"
            },
            "marker": {
             "line": {
              "color": "#E5ECF6",
              "width": 0.5
             },
             "pattern": {
              "fillmode": "overlay",
              "size": 10,
              "solidity": 0.2
             }
            },
            "type": "bar"
           }
          ],
          "barpolar": [
           {
            "marker": {
             "line": {
              "color": "#E5ECF6",
              "width": 0.5
             },
             "pattern": {
              "fillmode": "overlay",
              "size": 10,
              "solidity": 0.2
             }
            },
            "type": "barpolar"
           }
          ],
          "carpet": [
           {
            "aaxis": {
             "endlinecolor": "#2a3f5f",
             "gridcolor": "white",
             "linecolor": "white",
             "minorgridcolor": "white",
             "startlinecolor": "#2a3f5f"
            },
            "baxis": {
             "endlinecolor": "#2a3f5f",
             "gridcolor": "white",
             "linecolor": "white",
             "minorgridcolor": "white",
             "startlinecolor": "#2a3f5f"
            },
            "type": "carpet"
           }
          ],
          "choropleth": [
           {
            "colorbar": {
             "outlinewidth": 0,
             "ticks": ""
            },
            "type": "choropleth"
           }
          ],
          "contour": [
           {
            "colorbar": {
             "outlinewidth": 0,
             "ticks": ""
            },
            "colorscale": [
             [
              0,
              "#0d0887"
             ],
             [
              0.1111111111111111,
              "#46039f"
             ],
             [
              0.2222222222222222,
              "#7201a8"
             ],
             [
              0.3333333333333333,
              "#9c179e"
             ],
             [
              0.4444444444444444,
              "#bd3786"
             ],
             [
              0.5555555555555556,
              "#d8576b"
             ],
             [
              0.6666666666666666,
              "#ed7953"
             ],
             [
              0.7777777777777778,
              "#fb9f3a"
             ],
             [
              0.8888888888888888,
              "#fdca26"
             ],
             [
              1,
              "#f0f921"
             ]
            ],
            "type": "contour"
           }
          ],
          "contourcarpet": [
           {
            "colorbar": {
             "outlinewidth": 0,
             "ticks": ""
            },
            "type": "contourcarpet"
           }
          ],
          "heatmap": [
           {
            "colorbar": {
             "outlinewidth": 0,
             "ticks": ""
            },
            "colorscale": [
             [
              0,
              "#0d0887"
             ],
             [
              0.1111111111111111,
              "#46039f"
             ],
             [
              0.2222222222222222,
              "#7201a8"
             ],
             [
              0.3333333333333333,
              "#9c179e"
             ],
             [
              0.4444444444444444,
              "#bd3786"
             ],
             [
              0.5555555555555556,
              "#d8576b"
             ],
             [
              0.6666666666666666,
              "#ed7953"
             ],
             [
              0.7777777777777778,
              "#fb9f3a"
             ],
             [
              0.8888888888888888,
              "#fdca26"
             ],
             [
              1,
              "#f0f921"
             ]
            ],
            "type": "heatmap"
           }
          ],
          "histogram": [
           {
            "marker": {
             "pattern": {
              "fillmode": "overlay",
              "size": 10,
              "solidity": 0.2
             }
            },
            "type": "histogram"
           }
          ],
          "histogram2d": [
           {
            "colorbar": {
             "outlinewidth": 0,
             "ticks": ""
            },
            "colorscale": [
             [
              0,
              "#0d0887"
             ],
             [
              0.1111111111111111,
              "#46039f"
             ],
             [
              0.2222222222222222,
              "#7201a8"
             ],
             [
              0.3333333333333333,
              "#9c179e"
             ],
             [
              0.4444444444444444,
              "#bd3786"
             ],
             [
              0.5555555555555556,
              "#d8576b"
             ],
             [
              0.6666666666666666,
              "#ed7953"
             ],
             [
              0.7777777777777778,
              "#fb9f3a"
             ],
             [
              0.8888888888888888,
              "#fdca26"
             ],
             [
              1,
              "#f0f921"
             ]
            ],
            "type": "histogram2d"
           }
          ],
          "histogram2dcontour": [
           {
            "colorbar": {
             "outlinewidth": 0,
             "ticks": ""
            },
            "colorscale": [
             [
              0,
              "#0d0887"
             ],
             [
              0.1111111111111111,
              "#46039f"
             ],
             [
              0.2222222222222222,
              "#7201a8"
             ],
             [
              0.3333333333333333,
              "#9c179e"
             ],
             [
              0.4444444444444444,
              "#bd3786"
             ],
             [
              0.5555555555555556,
              "#d8576b"
             ],
             [
              0.6666666666666666,
              "#ed7953"
             ],
             [
              0.7777777777777778,
              "#fb9f3a"
             ],
             [
              0.8888888888888888,
              "#fdca26"
             ],
             [
              1,
              "#f0f921"
             ]
            ],
            "type": "histogram2dcontour"
           }
          ],
          "mesh3d": [
           {
            "colorbar": {
             "outlinewidth": 0,
             "ticks": ""
            },
            "type": "mesh3d"
           }
          ],
          "parcoords": [
           {
            "line": {
             "colorbar": {
              "outlinewidth": 0,
              "ticks": ""
             }
            },
            "type": "parcoords"
           }
          ],
          "pie": [
           {
            "automargin": true,
            "type": "pie"
           }
          ],
          "scatter": [
           {
            "fillpattern": {
             "fillmode": "overlay",
             "size": 10,
             "solidity": 0.2
            },
            "type": "scatter"
           }
          ],
          "scatter3d": [
           {
            "line": {
             "colorbar": {
              "outlinewidth": 0,
              "ticks": ""
             }
            },
            "marker": {
             "colorbar": {
              "outlinewidth": 0,
              "ticks": ""
             }
            },
            "type": "scatter3d"
           }
          ],
          "scattercarpet": [
           {
            "marker": {
             "colorbar": {
              "outlinewidth": 0,
              "ticks": ""
             }
            },
            "type": "scattercarpet"
           }
          ],
          "scattergeo": [
           {
            "marker": {
             "colorbar": {
              "outlinewidth": 0,
              "ticks": ""
             }
            },
            "type": "scattergeo"
           }
          ],
          "scattergl": [
           {
            "marker": {
             "colorbar": {
              "outlinewidth": 0,
              "ticks": ""
             }
            },
            "type": "scattergl"
           }
          ],
          "scattermap": [
           {
            "marker": {
             "colorbar": {
              "outlinewidth": 0,
              "ticks": ""
             }
            },
            "type": "scattermap"
           }
          ],
          "scattermapbox": [
           {
            "marker": {
             "colorbar": {
              "outlinewidth": 0,
              "ticks": ""
             }
            },
            "type": "scattermapbox"
           }
          ],
          "scatterpolar": [
           {
            "marker": {
             "colorbar": {
              "outlinewidth": 0,
              "ticks": ""
             }
            },
            "type": "scatterpolar"
           }
          ],
          "scatterpolargl": [
           {
            "marker": {
             "colorbar": {
              "outlinewidth": 0,
              "ticks": ""
             }
            },
            "type": "scatterpolargl"
           }
          ],
          "scatterternary": [
           {
            "marker": {
             "colorbar": {
              "outlinewidth": 0,
              "ticks": ""
             }
            },
            "type": "scatterternary"
           }
          ],
          "surface": [
           {
            "colorbar": {
             "outlinewidth": 0,
             "ticks": ""
            },
            "colorscale": [
             [
              0,
              "#0d0887"
             ],
             [
              0.1111111111111111,
              "#46039f"
             ],
             [
              0.2222222222222222,
              "#7201a8"
             ],
             [
              0.3333333333333333,
              "#9c179e"
             ],
             [
              0.4444444444444444,
              "#bd3786"
             ],
             [
              0.5555555555555556,
              "#d8576b"
             ],
             [
              0.6666666666666666,
              "#ed7953"
             ],
             [
              0.7777777777777778,
              "#fb9f3a"
             ],
             [
              0.8888888888888888,
              "#fdca26"
             ],
             [
              1,
              "#f0f921"
             ]
            ],
            "type": "surface"
           }
          ],
          "table": [
           {
            "cells": {
             "fill": {
              "color": "#EBF0F8"
             },
             "line": {
              "color": "white"
             }
            },
            "header": {
             "fill": {
              "color": "#C8D4E3"
             },
             "line": {
              "color": "white"
             }
            },
            "type": "table"
           }
          ]
         },
         "layout": {
          "annotationdefaults": {
           "arrowcolor": "#2a3f5f",
           "arrowhead": 0,
           "arrowwidth": 1
          },
          "autotypenumbers": "strict",
          "coloraxis": {
           "colorbar": {
            "outlinewidth": 0,
            "ticks": ""
           }
          },
          "colorscale": {
           "diverging": [
            [
             0,
             "#8e0152"
            ],
            [
             0.1,
             "#c51b7d"
            ],
            [
             0.2,
             "#de77ae"
            ],
            [
             0.3,
             "#f1b6da"
            ],
            [
             0.4,
             "#fde0ef"
            ],
            [
             0.5,
             "#f7f7f7"
            ],
            [
             0.6,
             "#e6f5d0"
            ],
            [
             0.7,
             "#b8e186"
            ],
            [
             0.8,
             "#7fbc41"
            ],
            [
             0.9,
             "#4d9221"
            ],
            [
             1,
             "#276419"
            ]
           ],
           "sequential": [
            [
             0,
             "#0d0887"
            ],
            [
             0.1111111111111111,
             "#46039f"
            ],
            [
             0.2222222222222222,
             "#7201a8"
            ],
            [
             0.3333333333333333,
             "#9c179e"
            ],
            [
             0.4444444444444444,
             "#bd3786"
            ],
            [
             0.5555555555555556,
             "#d8576b"
            ],
            [
             0.6666666666666666,
             "#ed7953"
            ],
            [
             0.7777777777777778,
             "#fb9f3a"
            ],
            [
             0.8888888888888888,
             "#fdca26"
            ],
            [
             1,
             "#f0f921"
            ]
           ],
           "sequentialminus": [
            [
             0,
             "#0d0887"
            ],
            [
             0.1111111111111111,
             "#46039f"
            ],
            [
             0.2222222222222222,
             "#7201a8"
            ],
            [
             0.3333333333333333,
             "#9c179e"
            ],
            [
             0.4444444444444444,
             "#bd3786"
            ],
            [
             0.5555555555555556,
             "#d8576b"
            ],
            [
             0.6666666666666666,
             "#ed7953"
            ],
            [
             0.7777777777777778,
             "#fb9f3a"
            ],
            [
             0.8888888888888888,
             "#fdca26"
            ],
            [
             1,
             "#f0f921"
            ]
           ]
          },
          "colorway": [
           "#636efa",
           "#EF553B",
           "#00cc96",
           "#ab63fa",
           "#FFA15A",
           "#19d3f3",
           "#FF6692",
           "#B6E880",
           "#FF97FF",
           "#FECB52"
          ],
          "font": {
           "color": "#2a3f5f"
          },
          "geo": {
           "bgcolor": "white",
           "lakecolor": "white",
           "landcolor": "#E5ECF6",
           "showlakes": true,
           "showland": true,
           "subunitcolor": "white"
          },
          "hoverlabel": {
           "align": "left"
          },
          "hovermode": "closest",
          "mapbox": {
           "style": "light"
          },
          "paper_bgcolor": "white",
          "plot_bgcolor": "#E5ECF6",
          "polar": {
           "angularaxis": {
            "gridcolor": "white",
            "linecolor": "white",
            "ticks": ""
           },
           "bgcolor": "#E5ECF6",
           "radialaxis": {
            "gridcolor": "white",
            "linecolor": "white",
            "ticks": ""
           }
          },
          "scene": {
           "xaxis": {
            "backgroundcolor": "#E5ECF6",
            "gridcolor": "white",
            "gridwidth": 2,
            "linecolor": "white",
            "showbackground": true,
            "ticks": "",
            "zerolinecolor": "white"
           },
           "yaxis": {
            "backgroundcolor": "#E5ECF6",
            "gridcolor": "white",
            "gridwidth": 2,
            "linecolor": "white",
            "showbackground": true,
            "ticks": "",
            "zerolinecolor": "white"
           },
           "zaxis": {
            "backgroundcolor": "#E5ECF6",
            "gridcolor": "white",
            "gridwidth": 2,
            "linecolor": "white",
            "showbackground": true,
            "ticks": "",
            "zerolinecolor": "white"
           }
          },
          "shapedefaults": {
           "line": {
            "color": "#2a3f5f"
           }
          },
          "ternary": {
           "aaxis": {
            "gridcolor": "white",
            "linecolor": "white",
            "ticks": ""
           },
           "baxis": {
            "gridcolor": "white",
            "linecolor": "white",
            "ticks": ""
           },
           "bgcolor": "#E5ECF6",
           "caxis": {
            "gridcolor": "white",
            "linecolor": "white",
            "ticks": ""
           }
          },
          "title": {
           "x": 0.05
          },
          "xaxis": {
           "automargin": true,
           "gridcolor": "white",
           "linecolor": "white",
           "ticks": "",
           "title": {
            "standoff": 15
           },
           "zerolinecolor": "white",
           "zerolinewidth": 2
          },
          "yaxis": {
           "automargin": true,
           "gridcolor": "white",
           "linecolor": "white",
           "ticks": "",
           "title": {
            "standoff": 15
           },
           "zerolinecolor": "white",
           "zerolinewidth": 2
          }
         }
        },
        "title": {
         "text": "Optimization History Plot"
        },
        "xaxis": {
         "title": {
          "text": "Trial"
         }
        },
        "yaxis": {
         "title": {
          "text": "Objective Value"
         }
        }
       }
      }
     },
     "metadata": {},
     "output_type": "display_data"
    }
   ],
   "source": [
    "# An interactive version of the plot above\n",
    "plot_optimization_history(study).show()"
   ]
  },
  {
   "cell_type": "code",
   "execution_count": 18,
   "id": "face7d14",
   "metadata": {},
   "outputs": [
    {
     "data": {
      "application/vnd.plotly.v1+json": {
       "config": {
        "plotlyServerURL": "https://plot.ly"
       },
       "data": [
        {
         "cliponaxis": false,
         "hovertemplate": [
          "l2_leaf_reg (FloatDistribution): 0.022145762532339675<extra></extra>",
          "depth (IntDistribution): 0.022971045273206175<extra></extra>",
          "bootstrap_type (CategoricalDistribution): 0.028975106797732148<extra></extra>",
          "min_data_in_leaf (IntDistribution): 0.06277888268361334<extra></extra>",
          "learning_rate (FloatDistribution): 0.07409262291643631<extra></extra>",
          "colsample_bylevel (FloatDistribution): 0.1294974699176066<extra></extra>",
          "od_wait (IntDistribution): 0.1535629669784859<extra></extra>",
          "subsample (FloatDistribution): 0.15399178247138287<extra></extra>",
          "random_strength (FloatDistribution): 0.3519843604291971<extra></extra>"
         ],
         "name": "Objective Value",
         "orientation": "h",
         "text": [
          "0.02",
          "0.02",
          "0.03",
          "0.06",
          "0.07",
          "0.13",
          "0.15",
          "0.15",
          "0.35"
         ],
         "textposition": "outside",
         "type": "bar",
         "x": [
          0.022145762532339675,
          0.022971045273206175,
          0.028975106797732148,
          0.06277888268361334,
          0.07409262291643631,
          0.1294974699176066,
          0.1535629669784859,
          0.15399178247138287,
          0.3519843604291971
         ],
         "y": [
          "l2_leaf_reg",
          "depth",
          "bootstrap_type",
          "min_data_in_leaf",
          "learning_rate",
          "colsample_bylevel",
          "od_wait",
          "subsample",
          "random_strength"
         ]
        }
       ],
       "layout": {
        "template": {
         "data": {
          "bar": [
           {
            "error_x": {
             "color": "#2a3f5f"
            },
            "error_y": {
             "color": "#2a3f5f"
            },
            "marker": {
             "line": {
              "color": "#E5ECF6",
              "width": 0.5
             },
             "pattern": {
              "fillmode": "overlay",
              "size": 10,
              "solidity": 0.2
             }
            },
            "type": "bar"
           }
          ],
          "barpolar": [
           {
            "marker": {
             "line": {
              "color": "#E5ECF6",
              "width": 0.5
             },
             "pattern": {
              "fillmode": "overlay",
              "size": 10,
              "solidity": 0.2
             }
            },
            "type": "barpolar"
           }
          ],
          "carpet": [
           {
            "aaxis": {
             "endlinecolor": "#2a3f5f",
             "gridcolor": "white",
             "linecolor": "white",
             "minorgridcolor": "white",
             "startlinecolor": "#2a3f5f"
            },
            "baxis": {
             "endlinecolor": "#2a3f5f",
             "gridcolor": "white",
             "linecolor": "white",
             "minorgridcolor": "white",
             "startlinecolor": "#2a3f5f"
            },
            "type": "carpet"
           }
          ],
          "choropleth": [
           {
            "colorbar": {
             "outlinewidth": 0,
             "ticks": ""
            },
            "type": "choropleth"
           }
          ],
          "contour": [
           {
            "colorbar": {
             "outlinewidth": 0,
             "ticks": ""
            },
            "colorscale": [
             [
              0,
              "#0d0887"
             ],
             [
              0.1111111111111111,
              "#46039f"
             ],
             [
              0.2222222222222222,
              "#7201a8"
             ],
             [
              0.3333333333333333,
              "#9c179e"
             ],
             [
              0.4444444444444444,
              "#bd3786"
             ],
             [
              0.5555555555555556,
              "#d8576b"
             ],
             [
              0.6666666666666666,
              "#ed7953"
             ],
             [
              0.7777777777777778,
              "#fb9f3a"
             ],
             [
              0.8888888888888888,
              "#fdca26"
             ],
             [
              1,
              "#f0f921"
             ]
            ],
            "type": "contour"
           }
          ],
          "contourcarpet": [
           {
            "colorbar": {
             "outlinewidth": 0,
             "ticks": ""
            },
            "type": "contourcarpet"
           }
          ],
          "heatmap": [
           {
            "colorbar": {
             "outlinewidth": 0,
             "ticks": ""
            },
            "colorscale": [
             [
              0,
              "#0d0887"
             ],
             [
              0.1111111111111111,
              "#46039f"
             ],
             [
              0.2222222222222222,
              "#7201a8"
             ],
             [
              0.3333333333333333,
              "#9c179e"
             ],
             [
              0.4444444444444444,
              "#bd3786"
             ],
             [
              0.5555555555555556,
              "#d8576b"
             ],
             [
              0.6666666666666666,
              "#ed7953"
             ],
             [
              0.7777777777777778,
              "#fb9f3a"
             ],
             [
              0.8888888888888888,
              "#fdca26"
             ],
             [
              1,
              "#f0f921"
             ]
            ],
            "type": "heatmap"
           }
          ],
          "histogram": [
           {
            "marker": {
             "pattern": {
              "fillmode": "overlay",
              "size": 10,
              "solidity": 0.2
             }
            },
            "type": "histogram"
           }
          ],
          "histogram2d": [
           {
            "colorbar": {
             "outlinewidth": 0,
             "ticks": ""
            },
            "colorscale": [
             [
              0,
              "#0d0887"
             ],
             [
              0.1111111111111111,
              "#46039f"
             ],
             [
              0.2222222222222222,
              "#7201a8"
             ],
             [
              0.3333333333333333,
              "#9c179e"
             ],
             [
              0.4444444444444444,
              "#bd3786"
             ],
             [
              0.5555555555555556,
              "#d8576b"
             ],
             [
              0.6666666666666666,
              "#ed7953"
             ],
             [
              0.7777777777777778,
              "#fb9f3a"
             ],
             [
              0.8888888888888888,
              "#fdca26"
             ],
             [
              1,
              "#f0f921"
             ]
            ],
            "type": "histogram2d"
           }
          ],
          "histogram2dcontour": [
           {
            "colorbar": {
             "outlinewidth": 0,
             "ticks": ""
            },
            "colorscale": [
             [
              0,
              "#0d0887"
             ],
             [
              0.1111111111111111,
              "#46039f"
             ],
             [
              0.2222222222222222,
              "#7201a8"
             ],
             [
              0.3333333333333333,
              "#9c179e"
             ],
             [
              0.4444444444444444,
              "#bd3786"
             ],
             [
              0.5555555555555556,
              "#d8576b"
             ],
             [
              0.6666666666666666,
              "#ed7953"
             ],
             [
              0.7777777777777778,
              "#fb9f3a"
             ],
             [
              0.8888888888888888,
              "#fdca26"
             ],
             [
              1,
              "#f0f921"
             ]
            ],
            "type": "histogram2dcontour"
           }
          ],
          "mesh3d": [
           {
            "colorbar": {
             "outlinewidth": 0,
             "ticks": ""
            },
            "type": "mesh3d"
           }
          ],
          "parcoords": [
           {
            "line": {
             "colorbar": {
              "outlinewidth": 0,
              "ticks": ""
             }
            },
            "type": "parcoords"
           }
          ],
          "pie": [
           {
            "automargin": true,
            "type": "pie"
           }
          ],
          "scatter": [
           {
            "fillpattern": {
             "fillmode": "overlay",
             "size": 10,
             "solidity": 0.2
            },
            "type": "scatter"
           }
          ],
          "scatter3d": [
           {
            "line": {
             "colorbar": {
              "outlinewidth": 0,
              "ticks": ""
             }
            },
            "marker": {
             "colorbar": {
              "outlinewidth": 0,
              "ticks": ""
             }
            },
            "type": "scatter3d"
           }
          ],
          "scattercarpet": [
           {
            "marker": {
             "colorbar": {
              "outlinewidth": 0,
              "ticks": ""
             }
            },
            "type": "scattercarpet"
           }
          ],
          "scattergeo": [
           {
            "marker": {
             "colorbar": {
              "outlinewidth": 0,
              "ticks": ""
             }
            },
            "type": "scattergeo"
           }
          ],
          "scattergl": [
           {
            "marker": {
             "colorbar": {
              "outlinewidth": 0,
              "ticks": ""
             }
            },
            "type": "scattergl"
           }
          ],
          "scattermap": [
           {
            "marker": {
             "colorbar": {
              "outlinewidth": 0,
              "ticks": ""
             }
            },
            "type": "scattermap"
           }
          ],
          "scattermapbox": [
           {
            "marker": {
             "colorbar": {
              "outlinewidth": 0,
              "ticks": ""
             }
            },
            "type": "scattermapbox"
           }
          ],
          "scatterpolar": [
           {
            "marker": {
             "colorbar": {
              "outlinewidth": 0,
              "ticks": ""
             }
            },
            "type": "scatterpolar"
           }
          ],
          "scatterpolargl": [
           {
            "marker": {
             "colorbar": {
              "outlinewidth": 0,
              "ticks": ""
             }
            },
            "type": "scatterpolargl"
           }
          ],
          "scatterternary": [
           {
            "marker": {
             "colorbar": {
              "outlinewidth": 0,
              "ticks": ""
             }
            },
            "type": "scatterternary"
           }
          ],
          "surface": [
           {
            "colorbar": {
             "outlinewidth": 0,
             "ticks": ""
            },
            "colorscale": [
             [
              0,
              "#0d0887"
             ],
             [
              0.1111111111111111,
              "#46039f"
             ],
             [
              0.2222222222222222,
              "#7201a8"
             ],
             [
              0.3333333333333333,
              "#9c179e"
             ],
             [
              0.4444444444444444,
              "#bd3786"
             ],
             [
              0.5555555555555556,
              "#d8576b"
             ],
             [
              0.6666666666666666,
              "#ed7953"
             ],
             [
              0.7777777777777778,
              "#fb9f3a"
             ],
             [
              0.8888888888888888,
              "#fdca26"
             ],
             [
              1,
              "#f0f921"
             ]
            ],
            "type": "surface"
           }
          ],
          "table": [
           {
            "cells": {
             "fill": {
              "color": "#EBF0F8"
             },
             "line": {
              "color": "white"
             }
            },
            "header": {
             "fill": {
              "color": "#C8D4E3"
             },
             "line": {
              "color": "white"
             }
            },
            "type": "table"
           }
          ]
         },
         "layout": {
          "annotationdefaults": {
           "arrowcolor": "#2a3f5f",
           "arrowhead": 0,
           "arrowwidth": 1
          },
          "autotypenumbers": "strict",
          "coloraxis": {
           "colorbar": {
            "outlinewidth": 0,
            "ticks": ""
           }
          },
          "colorscale": {
           "diverging": [
            [
             0,
             "#8e0152"
            ],
            [
             0.1,
             "#c51b7d"
            ],
            [
             0.2,
             "#de77ae"
            ],
            [
             0.3,
             "#f1b6da"
            ],
            [
             0.4,
             "#fde0ef"
            ],
            [
             0.5,
             "#f7f7f7"
            ],
            [
             0.6,
             "#e6f5d0"
            ],
            [
             0.7,
             "#b8e186"
            ],
            [
             0.8,
             "#7fbc41"
            ],
            [
             0.9,
             "#4d9221"
            ],
            [
             1,
             "#276419"
            ]
           ],
           "sequential": [
            [
             0,
             "#0d0887"
            ],
            [
             0.1111111111111111,
             "#46039f"
            ],
            [
             0.2222222222222222,
             "#7201a8"
            ],
            [
             0.3333333333333333,
             "#9c179e"
            ],
            [
             0.4444444444444444,
             "#bd3786"
            ],
            [
             0.5555555555555556,
             "#d8576b"
            ],
            [
             0.6666666666666666,
             "#ed7953"
            ],
            [
             0.7777777777777778,
             "#fb9f3a"
            ],
            [
             0.8888888888888888,
             "#fdca26"
            ],
            [
             1,
             "#f0f921"
            ]
           ],
           "sequentialminus": [
            [
             0,
             "#0d0887"
            ],
            [
             0.1111111111111111,
             "#46039f"
            ],
            [
             0.2222222222222222,
             "#7201a8"
            ],
            [
             0.3333333333333333,
             "#9c179e"
            ],
            [
             0.4444444444444444,
             "#bd3786"
            ],
            [
             0.5555555555555556,
             "#d8576b"
            ],
            [
             0.6666666666666666,
             "#ed7953"
            ],
            [
             0.7777777777777778,
             "#fb9f3a"
            ],
            [
             0.8888888888888888,
             "#fdca26"
            ],
            [
             1,
             "#f0f921"
            ]
           ]
          },
          "colorway": [
           "#636efa",
           "#EF553B",
           "#00cc96",
           "#ab63fa",
           "#FFA15A",
           "#19d3f3",
           "#FF6692",
           "#B6E880",
           "#FF97FF",
           "#FECB52"
          ],
          "font": {
           "color": "#2a3f5f"
          },
          "geo": {
           "bgcolor": "white",
           "lakecolor": "white",
           "landcolor": "#E5ECF6",
           "showlakes": true,
           "showland": true,
           "subunitcolor": "white"
          },
          "hoverlabel": {
           "align": "left"
          },
          "hovermode": "closest",
          "mapbox": {
           "style": "light"
          },
          "paper_bgcolor": "white",
          "plot_bgcolor": "#E5ECF6",
          "polar": {
           "angularaxis": {
            "gridcolor": "white",
            "linecolor": "white",
            "ticks": ""
           },
           "bgcolor": "#E5ECF6",
           "radialaxis": {
            "gridcolor": "white",
            "linecolor": "white",
            "ticks": ""
           }
          },
          "scene": {
           "xaxis": {
            "backgroundcolor": "#E5ECF6",
            "gridcolor": "white",
            "gridwidth": 2,
            "linecolor": "white",
            "showbackground": true,
            "ticks": "",
            "zerolinecolor": "white"
           },
           "yaxis": {
            "backgroundcolor": "#E5ECF6",
            "gridcolor": "white",
            "gridwidth": 2,
            "linecolor": "white",
            "showbackground": true,
            "ticks": "",
            "zerolinecolor": "white"
           },
           "zaxis": {
            "backgroundcolor": "#E5ECF6",
            "gridcolor": "white",
            "gridwidth": 2,
            "linecolor": "white",
            "showbackground": true,
            "ticks": "",
            "zerolinecolor": "white"
           }
          },
          "shapedefaults": {
           "line": {
            "color": "#2a3f5f"
           }
          },
          "ternary": {
           "aaxis": {
            "gridcolor": "white",
            "linecolor": "white",
            "ticks": ""
           },
           "baxis": {
            "gridcolor": "white",
            "linecolor": "white",
            "ticks": ""
           },
           "bgcolor": "#E5ECF6",
           "caxis": {
            "gridcolor": "white",
            "linecolor": "white",
            "ticks": ""
           }
          },
          "title": {
           "x": 0.05
          },
          "xaxis": {
           "automargin": true,
           "gridcolor": "white",
           "linecolor": "white",
           "ticks": "",
           "title": {
            "standoff": 15
           },
           "zerolinecolor": "white",
           "zerolinewidth": 2
          },
          "yaxis": {
           "automargin": true,
           "gridcolor": "white",
           "linecolor": "white",
           "ticks": "",
           "title": {
            "standoff": 15
           },
           "zerolinecolor": "white",
           "zerolinewidth": 2
          }
         }
        },
        "title": {
         "text": "Hyperparameter Importances"
        },
        "xaxis": {
         "title": {
          "text": "Hyperparameter Importance"
         }
        },
        "yaxis": {
         "title": {
          "text": "Hyperparameter"
         }
        }
       }
      }
     },
     "metadata": {},
     "output_type": "display_data"
    }
   ],
   "source": [
    "# Plot Paramerter Importances\n",
    "plot_param_importances(study).show()"
   ]
  },
  {
   "cell_type": "markdown",
   "id": "3094a58c",
   "metadata": {},
   "source": [
    "Interestingly, the random_strength had the most importance in this phase of the tuning, not the learning rate."
   ]
  },
  {
   "cell_type": "code",
   "execution_count": 19,
   "id": "75d69936",
   "metadata": {},
   "outputs": [
    {
     "data": {
      "application/vnd.plotly.v1+json": {
       "config": {
        "plotlyServerURL": "https://plot.ly"
       },
       "data": [
        {
         "dimensions": [
          {
           "label": "Objective Value",
           "range": [
            0.28555111111111114,
            0.29234666666666664
           ],
           "values": [
            0.2888488888888889,
            0.28555111111111114,
            0.2905466666666667,
            0.28689333333333333,
            0.28728,
            0.28959999999999997,
            0.2872533333333333,
            0.2875466666666667,
            0.2871333333333333,
            0.28896444444444436,
            0.2876533333333333,
            0.2887733333333333,
            0.28975111111111107,
            0.2880711111111111,
            0.2890888888888889,
            0.2877288888888889,
            0.2869511111111111,
            0.28689777777777775,
            0.28794666666666663,
            0.28713333333333335,
            0.29005333333333333,
            0.28756888888888893,
            0.28784,
            0.28696444444444447,
            0.28824444444444447,
            0.28779999999999994,
            0.2903422222222222,
            0.2875511111111111,
            0.2882444444444444,
            0.2876177777777778,
            0.28887555555555555,
            0.28676,
            0.2883111111111111,
            0.2866533333333333,
            0.2883511111111111,
            0.29234666666666664,
            0.2877644444444445,
            0.2885466666666666,
            0.2864311111111111,
            0.28911555555555557,
            0.28704888888888885,
            0.2886888888888889,
            0.28870666666666667,
            0.2873688888888889,
            0.28773777777777776,
            0.2864711111111111,
            0.28812,
            0.2874,
            0.2886222222222222,
            0.2869422222222222
           ]
          },
          {
           "label": "bootstrap_type",
           "range": [
            0,
            1
           ],
           "ticktext": [
            "Bernoulli",
            "MVS"
           ],
           "tickvals": [
            0,
            1
           ],
           "values": [
            0,
            1,
            0,
            0,
            1,
            1,
            1,
            0,
            0,
            0,
            0,
            1,
            0,
            0,
            1,
            0,
            0,
            0,
            1,
            0,
            0,
            0,
            0,
            0,
            0,
            0,
            0,
            0,
            0,
            0,
            1,
            0,
            0,
            0,
            1,
            0,
            0,
            0,
            0,
            1,
            0,
            0,
            1,
            0,
            0,
            0,
            0,
            1,
            0,
            1
           ]
          },
          {
           "label": "colsample_bylevel",
           "range": [
            0.3817848923310803,
            0.6971981778481432
           ],
           "values": [
            0.6962236782969772,
            0.4969815204555851,
            0.5493498707044185,
            0.40221310349011424,
            0.4376941399045903,
            0.605559468975422,
            0.41198264902583737,
            0.4665714439286838,
            0.4155621509977834,
            0.6841912792769442,
            0.4831764588522875,
            0.5811497920575249,
            0.5385902875790248,
            0.5354262454185607,
            0.5497837360126793,
            0.4820354250656256,
            0.5209661239401954,
            0.510749602321913,
            0.6495673036172134,
            0.6608514077963298,
            0.6192142937339048,
            0.5890018199720631,
            0.6670921983757594,
            0.6481871681417793,
            0.6227159830475048,
            0.694717064348966,
            0.6467736531186911,
            0.6155749326797956,
            0.6040625892353925,
            0.6304569733063322,
            0.5964583570582509,
            0.6595872402826857,
            0.47755709941307173,
            0.6248506332285647,
            0.6296071916533431,
            0.46619923304859245,
            0.3817848923310803,
            0.5099495806959238,
            0.5268725230421872,
            0.4957518215233577,
            0.6971981778481432,
            0.5144067512248743,
            0.46692092654072825,
            0.4081481339077369,
            0.5575883470186423,
            0.6039941824509311,
            0.663522746586705,
            0.4733581133785588,
            0.5784212431976992,
            0.6404140422132194
           ]
          },
          {
           "label": "depth",
           "range": [
            8,
            12
           ],
           "values": [
            8,
            10,
            10,
            10,
            9,
            10,
            12,
            12,
            8,
            12,
            8,
            9,
            10,
            8,
            11,
            11,
            10,
            11,
            10,
            10,
            10,
            11,
            9,
            9,
            11,
            10,
            10,
            10,
            8,
            9,
            9,
            10,
            10,
            12,
            11,
            10,
            9,
            9,
            11,
            8,
            10,
            10,
            10,
            10,
            11,
            9,
            11,
            9,
            10,
            11
           ]
          },
          {
           "label": "l2_leaf_reg",
           "range": [
            0.0011728551402594766,
            0.4640644569914879
           ],
           "ticktext": [
            "1",
            "2.91"
           ],
           "tickvals": [
            0.0011728551402594766,
            0.4640644569914879
           ],
           "values": [
            0.1955815334239549,
            0.34981003230255103,
            0.3904099766608575,
            0.12299372256008605,
            0.4640644569914879,
            0.19839632981191238,
            0.12874765886850553,
            0.08620280680044848,
            0.4122022232797463,
            0.32580293184681663,
            0.4448578051936958,
            0.10978510085578182,
            0.37553422093233546,
            0.36038480713525534,
            0.2828947954709975,
            0.44739154756446076,
            0.27261085215982245,
            0.44193213796573416,
            0.3693144128161279,
            0.46170908128899196,
            0.31745868131170557,
            0.4553295993959189,
            0.43546079505252633,
            0.29945277234120704,
            0.18546076675989298,
            0.29273113772551995,
            0.2734745381444632,
            0.18182717892181066,
            0.2926763225142266,
            0.16623791482909053,
            0.42795513668314455,
            0.28280951673199234,
            0.35901332390923013,
            0.28041287737360016,
            0.30802641152546845,
            0.3801604883866257,
            0.4510520927366415,
            0.4142004586417607,
            0.2795470760782925,
            0.22781625502426153,
            0.3253160209902329,
            0.2670583509826389,
            0.3959929268029945,
            0.39822446497940733,
            0.416408145515218,
            0.3716804793518368,
            0.33225171384541574,
            0.42080626278638633,
            0.32627458908400814,
            0.0011728551402594766
           ]
          },
          {
           "label": "learning_rate",
           "range": [
            -1.667782350718489,
            -1.0189168954123136
           ],
           "ticktext": [
            "0.0215",
            "0.0957"
           ],
           "tickvals": [
            -1.667782350718489,
            -1.0189168954123136
           ],
           "values": [
            -1.3617576362665096,
            -1.0816783477755914,
            -1.4071409400465353,
            -1.6018855705216593,
            -1.216711277507998,
            -1.6505336661852423,
            -1.2553826994267683,
            -1.3642614971711386,
            -1.0311799880669756,
            -1.6066558700214626,
            -1.579138855671179,
            -1.5599917252943545,
            -1.1386053566146346,
            -1.0414046687107605,
            -1.2142475370672332,
            -1.2522220979359666,
            -1.2119707617554347,
            -1.623910423673179,
            -1.0189168954123136,
            -1.4049301597105863,
            -1.4861502630581527,
            -1.4010979847907854,
            -1.534318324943724,
            -1.667782350718489,
            -1.4377846318848877,
            -1.2151837694058258,
            -1.3744622530464403,
            -1.3439224448346916,
            -1.241580194799987,
            -1.2521323903351338,
            -1.4087949684081438,
            -1.5463634546613971,
            -1.0956976445832105,
            -1.2566748001564525,
            -1.5625255723231957,
            -1.3032462005753136,
            -1.1948030620187156,
            -1.4753873810429878,
            -1.3768967258141962,
            -1.270485859050714,
            -1.3861928341725709,
            -1.378624990508114,
            -1.5534854716129163,
            -1.2490948292321309,
            -1.0771705264511495,
            -1.5083411322509166,
            -1.5024881799839798,
            -1.3608764590058577,
            -1.2553760723062743,
            -1.271055455413928
           ]
          },
          {
           "label": "min_data_in_leaf",
           "range": [
            67,
            90
           ],
           "values": [
            73,
            73,
            85,
            89,
            78,
            79,
            87,
            68,
            84,
            86,
            87,
            84,
            86,
            88,
            85,
            83,
            78,
            81,
            90,
            73,
            88,
            88,
            89,
            87,
            89,
            82,
            85,
            90,
            85,
            85,
            87,
            87,
            90,
            85,
            87,
            90,
            90,
            84,
            87,
            87,
            80,
            90,
            89,
            86,
            79,
            89,
            90,
            83,
            83,
            67
           ]
          },
          {
           "label": "od_wait",
           "range": [
            20,
            49
           ],
           "values": [
            33,
            41,
            30,
            26,
            38,
            33,
            38,
            29,
            36,
            41,
            26,
            24,
            28,
            32,
            34,
            30,
            24,
            30,
            21,
            28,
            25,
            30,
            37,
            24,
            30,
            30,
            22,
            21,
            22,
            23,
            24,
            28,
            26,
            20,
            24,
            39,
            44,
            40,
            46,
            43,
            22,
            36,
            35,
            32,
            35,
            22,
            24,
            26,
            29,
            49
           ]
          },
          {
           "label": "random_strength",
           "range": [
            0.040426706816752055,
            0.1993233981278044
           ],
           "values": [
            0.07369881313293966,
            0.13527521830158212,
            0.05575795473550638,
            0.17291941922733992,
            0.1930143766973997,
            0.04702374138475529,
            0.1268977126820334,
            0.1993233981278044,
            0.19686885360931666,
            0.0438459047748206,
            0.04396471014338447,
            0.07977593758885566,
            0.07294333790544344,
            0.06761928455846543,
            0.049990051099660135,
            0.11400439525931674,
            0.04842143977931482,
            0.07532010481107597,
            0.06365347905320554,
            0.06404312817067503,
            0.04976148018055342,
            0.04209910140317674,
            0.09774636326851477,
            0.08230284459544966,
            0.04871379795472769,
            0.09867535156534424,
            0.0439242063615476,
            0.10556480671833002,
            0.059187580113629436,
            0.0435943941279098,
            0.08036693985635952,
            0.06142980504542175,
            0.08392256863532918,
            0.04528503122182159,
            0.0525997938552518,
            0.050324592372389315,
            0.0406590804508833,
            0.07172490892011468,
            0.04528346111949484,
            0.040426706816752055,
            0.05179454534472936,
            0.04989305251119934,
            0.05838535252669692,
            0.060501807361226886,
            0.04329405939526078,
            0.05091614624234179,
            0.07369792599080931,
            0.057477528482842884,
            0.07866216975529047,
            0.15294141865306937
           ]
          },
          {
           "label": "subsample",
           "range": [
            0.05131090243107325,
            0.2887252498935067
           ],
           "values": [
            0.06437556419534844,
            0.06879677184092878,
            0.07238778196778539,
            0.24581854052232566,
            0.1115304947956047,
            0.2188800187013923,
            0.23345575801913265,
            0.16088879948006274,
            0.19515425710055134,
            0.2887252498935067,
            0.09926291149821145,
            0.2347244132592743,
            0.05681625486528563,
            0.05131090243107325,
            0.06980520120725162,
            0.13059538296005066,
            0.0743421284499609,
            0.1363285247959395,
            0.06719377099525964,
            0.12644334592717876,
            0.07850655330865959,
            0.09558506076974717,
            0.13917335469026576,
            0.06511427267761034,
            0.08595665531305226,
            0.11301349933339858,
            0.1759648947595891,
            0.21555378880071618,
            0.2706909094375661,
            0.12337265844922199,
            0.1990239208647105,
            0.2435099725427235,
            0.09039481197973798,
            0.21082141364985596,
            0.06499509235788062,
            0.06155900139866675,
            0.07648745597533134,
            0.0868507735973907,
            0.13036846311542458,
            0.12647028529295662,
            0.13205630781236338,
            0.05378611901268526,
            0.08462595732657838,
            0.0528175955370731,
            0.13163616526216462,
            0.1590675352475634,
            0.06057667817634753,
            0.052215937319688904,
            0.08556719605309912,
            0.20537146209056592
           ]
          }
         ],
         "labelangle": 30,
         "labelside": "bottom",
         "line": {
          "color": [
           0.2888488888888889,
           0.28555111111111114,
           0.2905466666666667,
           0.28689333333333333,
           0.28728,
           0.28959999999999997,
           0.2872533333333333,
           0.2875466666666667,
           0.2871333333333333,
           0.28896444444444436,
           0.2876533333333333,
           0.2887733333333333,
           0.28975111111111107,
           0.2880711111111111,
           0.2890888888888889,
           0.2877288888888889,
           0.2869511111111111,
           0.28689777777777775,
           0.28794666666666663,
           0.28713333333333335,
           0.29005333333333333,
           0.28756888888888893,
           0.28784,
           0.28696444444444447,
           0.28824444444444447,
           0.28779999999999994,
           0.2903422222222222,
           0.2875511111111111,
           0.2882444444444444,
           0.2876177777777778,
           0.28887555555555555,
           0.28676,
           0.2883111111111111,
           0.2866533333333333,
           0.2883511111111111,
           0.29234666666666664,
           0.2877644444444445,
           0.2885466666666666,
           0.2864311111111111,
           0.28911555555555557,
           0.28704888888888885,
           0.2886888888888889,
           0.28870666666666667,
           0.2873688888888889,
           0.28773777777777776,
           0.2864711111111111,
           0.28812,
           0.2874,
           0.2886222222222222,
           0.2869422222222222
          ],
          "colorbar": {
           "title": {
            "text": "Objective Value"
           }
          },
          "colorscale": [
           [
            0,
            "rgb(247,251,255)"
           ],
           [
            0.125,
            "rgb(222,235,247)"
           ],
           [
            0.25,
            "rgb(198,219,239)"
           ],
           [
            0.375,
            "rgb(158,202,225)"
           ],
           [
            0.5,
            "rgb(107,174,214)"
           ],
           [
            0.625,
            "rgb(66,146,198)"
           ],
           [
            0.75,
            "rgb(33,113,181)"
           ],
           [
            0.875,
            "rgb(8,81,156)"
           ],
           [
            1,
            "rgb(8,48,107)"
           ]
          ],
          "reversescale": false,
          "showscale": true
         },
         "type": "parcoords"
        }
       ],
       "layout": {
        "template": {
         "data": {
          "bar": [
           {
            "error_x": {
             "color": "#2a3f5f"
            },
            "error_y": {
             "color": "#2a3f5f"
            },
            "marker": {
             "line": {
              "color": "#E5ECF6",
              "width": 0.5
             },
             "pattern": {
              "fillmode": "overlay",
              "size": 10,
              "solidity": 0.2
             }
            },
            "type": "bar"
           }
          ],
          "barpolar": [
           {
            "marker": {
             "line": {
              "color": "#E5ECF6",
              "width": 0.5
             },
             "pattern": {
              "fillmode": "overlay",
              "size": 10,
              "solidity": 0.2
             }
            },
            "type": "barpolar"
           }
          ],
          "carpet": [
           {
            "aaxis": {
             "endlinecolor": "#2a3f5f",
             "gridcolor": "white",
             "linecolor": "white",
             "minorgridcolor": "white",
             "startlinecolor": "#2a3f5f"
            },
            "baxis": {
             "endlinecolor": "#2a3f5f",
             "gridcolor": "white",
             "linecolor": "white",
             "minorgridcolor": "white",
             "startlinecolor": "#2a3f5f"
            },
            "type": "carpet"
           }
          ],
          "choropleth": [
           {
            "colorbar": {
             "outlinewidth": 0,
             "ticks": ""
            },
            "type": "choropleth"
           }
          ],
          "contour": [
           {
            "colorbar": {
             "outlinewidth": 0,
             "ticks": ""
            },
            "colorscale": [
             [
              0,
              "#0d0887"
             ],
             [
              0.1111111111111111,
              "#46039f"
             ],
             [
              0.2222222222222222,
              "#7201a8"
             ],
             [
              0.3333333333333333,
              "#9c179e"
             ],
             [
              0.4444444444444444,
              "#bd3786"
             ],
             [
              0.5555555555555556,
              "#d8576b"
             ],
             [
              0.6666666666666666,
              "#ed7953"
             ],
             [
              0.7777777777777778,
              "#fb9f3a"
             ],
             [
              0.8888888888888888,
              "#fdca26"
             ],
             [
              1,
              "#f0f921"
             ]
            ],
            "type": "contour"
           }
          ],
          "contourcarpet": [
           {
            "colorbar": {
             "outlinewidth": 0,
             "ticks": ""
            },
            "type": "contourcarpet"
           }
          ],
          "heatmap": [
           {
            "colorbar": {
             "outlinewidth": 0,
             "ticks": ""
            },
            "colorscale": [
             [
              0,
              "#0d0887"
             ],
             [
              0.1111111111111111,
              "#46039f"
             ],
             [
              0.2222222222222222,
              "#7201a8"
             ],
             [
              0.3333333333333333,
              "#9c179e"
             ],
             [
              0.4444444444444444,
              "#bd3786"
             ],
             [
              0.5555555555555556,
              "#d8576b"
             ],
             [
              0.6666666666666666,
              "#ed7953"
             ],
             [
              0.7777777777777778,
              "#fb9f3a"
             ],
             [
              0.8888888888888888,
              "#fdca26"
             ],
             [
              1,
              "#f0f921"
             ]
            ],
            "type": "heatmap"
           }
          ],
          "histogram": [
           {
            "marker": {
             "pattern": {
              "fillmode": "overlay",
              "size": 10,
              "solidity": 0.2
             }
            },
            "type": "histogram"
           }
          ],
          "histogram2d": [
           {
            "colorbar": {
             "outlinewidth": 0,
             "ticks": ""
            },
            "colorscale": [
             [
              0,
              "#0d0887"
             ],
             [
              0.1111111111111111,
              "#46039f"
             ],
             [
              0.2222222222222222,
              "#7201a8"
             ],
             [
              0.3333333333333333,
              "#9c179e"
             ],
             [
              0.4444444444444444,
              "#bd3786"
             ],
             [
              0.5555555555555556,
              "#d8576b"
             ],
             [
              0.6666666666666666,
              "#ed7953"
             ],
             [
              0.7777777777777778,
              "#fb9f3a"
             ],
             [
              0.8888888888888888,
              "#fdca26"
             ],
             [
              1,
              "#f0f921"
             ]
            ],
            "type": "histogram2d"
           }
          ],
          "histogram2dcontour": [
           {
            "colorbar": {
             "outlinewidth": 0,
             "ticks": ""
            },
            "colorscale": [
             [
              0,
              "#0d0887"
             ],
             [
              0.1111111111111111,
              "#46039f"
             ],
             [
              0.2222222222222222,
              "#7201a8"
             ],
             [
              0.3333333333333333,
              "#9c179e"
             ],
             [
              0.4444444444444444,
              "#bd3786"
             ],
             [
              0.5555555555555556,
              "#d8576b"
             ],
             [
              0.6666666666666666,
              "#ed7953"
             ],
             [
              0.7777777777777778,
              "#fb9f3a"
             ],
             [
              0.8888888888888888,
              "#fdca26"
             ],
             [
              1,
              "#f0f921"
             ]
            ],
            "type": "histogram2dcontour"
           }
          ],
          "mesh3d": [
           {
            "colorbar": {
             "outlinewidth": 0,
             "ticks": ""
            },
            "type": "mesh3d"
           }
          ],
          "parcoords": [
           {
            "line": {
             "colorbar": {
              "outlinewidth": 0,
              "ticks": ""
             }
            },
            "type": "parcoords"
           }
          ],
          "pie": [
           {
            "automargin": true,
            "type": "pie"
           }
          ],
          "scatter": [
           {
            "fillpattern": {
             "fillmode": "overlay",
             "size": 10,
             "solidity": 0.2
            },
            "type": "scatter"
           }
          ],
          "scatter3d": [
           {
            "line": {
             "colorbar": {
              "outlinewidth": 0,
              "ticks": ""
             }
            },
            "marker": {
             "colorbar": {
              "outlinewidth": 0,
              "ticks": ""
             }
            },
            "type": "scatter3d"
           }
          ],
          "scattercarpet": [
           {
            "marker": {
             "colorbar": {
              "outlinewidth": 0,
              "ticks": ""
             }
            },
            "type": "scattercarpet"
           }
          ],
          "scattergeo": [
           {
            "marker": {
             "colorbar": {
              "outlinewidth": 0,
              "ticks": ""
             }
            },
            "type": "scattergeo"
           }
          ],
          "scattergl": [
           {
            "marker": {
             "colorbar": {
              "outlinewidth": 0,
              "ticks": ""
             }
            },
            "type": "scattergl"
           }
          ],
          "scattermap": [
           {
            "marker": {
             "colorbar": {
              "outlinewidth": 0,
              "ticks": ""
             }
            },
            "type": "scattermap"
           }
          ],
          "scattermapbox": [
           {
            "marker": {
             "colorbar": {
              "outlinewidth": 0,
              "ticks": ""
             }
            },
            "type": "scattermapbox"
           }
          ],
          "scatterpolar": [
           {
            "marker": {
             "colorbar": {
              "outlinewidth": 0,
              "ticks": ""
             }
            },
            "type": "scatterpolar"
           }
          ],
          "scatterpolargl": [
           {
            "marker": {
             "colorbar": {
              "outlinewidth": 0,
              "ticks": ""
             }
            },
            "type": "scatterpolargl"
           }
          ],
          "scatterternary": [
           {
            "marker": {
             "colorbar": {
              "outlinewidth": 0,
              "ticks": ""
             }
            },
            "type": "scatterternary"
           }
          ],
          "surface": [
           {
            "colorbar": {
             "outlinewidth": 0,
             "ticks": ""
            },
            "colorscale": [
             [
              0,
              "#0d0887"
             ],
             [
              0.1111111111111111,
              "#46039f"
             ],
             [
              0.2222222222222222,
              "#7201a8"
             ],
             [
              0.3333333333333333,
              "#9c179e"
             ],
             [
              0.4444444444444444,
              "#bd3786"
             ],
             [
              0.5555555555555556,
              "#d8576b"
             ],
             [
              0.6666666666666666,
              "#ed7953"
             ],
             [
              0.7777777777777778,
              "#fb9f3a"
             ],
             [
              0.8888888888888888,
              "#fdca26"
             ],
             [
              1,
              "#f0f921"
             ]
            ],
            "type": "surface"
           }
          ],
          "table": [
           {
            "cells": {
             "fill": {
              "color": "#EBF0F8"
             },
             "line": {
              "color": "white"
             }
            },
            "header": {
             "fill": {
              "color": "#C8D4E3"
             },
             "line": {
              "color": "white"
             }
            },
            "type": "table"
           }
          ]
         },
         "layout": {
          "annotationdefaults": {
           "arrowcolor": "#2a3f5f",
           "arrowhead": 0,
           "arrowwidth": 1
          },
          "autotypenumbers": "strict",
          "coloraxis": {
           "colorbar": {
            "outlinewidth": 0,
            "ticks": ""
           }
          },
          "colorscale": {
           "diverging": [
            [
             0,
             "#8e0152"
            ],
            [
             0.1,
             "#c51b7d"
            ],
            [
             0.2,
             "#de77ae"
            ],
            [
             0.3,
             "#f1b6da"
            ],
            [
             0.4,
             "#fde0ef"
            ],
            [
             0.5,
             "#f7f7f7"
            ],
            [
             0.6,
             "#e6f5d0"
            ],
            [
             0.7,
             "#b8e186"
            ],
            [
             0.8,
             "#7fbc41"
            ],
            [
             0.9,
             "#4d9221"
            ],
            [
             1,
             "#276419"
            ]
           ],
           "sequential": [
            [
             0,
             "#0d0887"
            ],
            [
             0.1111111111111111,
             "#46039f"
            ],
            [
             0.2222222222222222,
             "#7201a8"
            ],
            [
             0.3333333333333333,
             "#9c179e"
            ],
            [
             0.4444444444444444,
             "#bd3786"
            ],
            [
             0.5555555555555556,
             "#d8576b"
            ],
            [
             0.6666666666666666,
             "#ed7953"
            ],
            [
             0.7777777777777778,
             "#fb9f3a"
            ],
            [
             0.8888888888888888,
             "#fdca26"
            ],
            [
             1,
             "#f0f921"
            ]
           ],
           "sequentialminus": [
            [
             0,
             "#0d0887"
            ],
            [
             0.1111111111111111,
             "#46039f"
            ],
            [
             0.2222222222222222,
             "#7201a8"
            ],
            [
             0.3333333333333333,
             "#9c179e"
            ],
            [
             0.4444444444444444,
             "#bd3786"
            ],
            [
             0.5555555555555556,
             "#d8576b"
            ],
            [
             0.6666666666666666,
             "#ed7953"
            ],
            [
             0.7777777777777778,
             "#fb9f3a"
            ],
            [
             0.8888888888888888,
             "#fdca26"
            ],
            [
             1,
             "#f0f921"
            ]
           ]
          },
          "colorway": [
           "#636efa",
           "#EF553B",
           "#00cc96",
           "#ab63fa",
           "#FFA15A",
           "#19d3f3",
           "#FF6692",
           "#B6E880",
           "#FF97FF",
           "#FECB52"
          ],
          "font": {
           "color": "#2a3f5f"
          },
          "geo": {
           "bgcolor": "white",
           "lakecolor": "white",
           "landcolor": "#E5ECF6",
           "showlakes": true,
           "showland": true,
           "subunitcolor": "white"
          },
          "hoverlabel": {
           "align": "left"
          },
          "hovermode": "closest",
          "mapbox": {
           "style": "light"
          },
          "paper_bgcolor": "white",
          "plot_bgcolor": "#E5ECF6",
          "polar": {
           "angularaxis": {
            "gridcolor": "white",
            "linecolor": "white",
            "ticks": ""
           },
           "bgcolor": "#E5ECF6",
           "radialaxis": {
            "gridcolor": "white",
            "linecolor": "white",
            "ticks": ""
           }
          },
          "scene": {
           "xaxis": {
            "backgroundcolor": "#E5ECF6",
            "gridcolor": "white",
            "gridwidth": 2,
            "linecolor": "white",
            "showbackground": true,
            "ticks": "",
            "zerolinecolor": "white"
           },
           "yaxis": {
            "backgroundcolor": "#E5ECF6",
            "gridcolor": "white",
            "gridwidth": 2,
            "linecolor": "white",
            "showbackground": true,
            "ticks": "",
            "zerolinecolor": "white"
           },
           "zaxis": {
            "backgroundcolor": "#E5ECF6",
            "gridcolor": "white",
            "gridwidth": 2,
            "linecolor": "white",
            "showbackground": true,
            "ticks": "",
            "zerolinecolor": "white"
           }
          },
          "shapedefaults": {
           "line": {
            "color": "#2a3f5f"
           }
          },
          "ternary": {
           "aaxis": {
            "gridcolor": "white",
            "linecolor": "white",
            "ticks": ""
           },
           "baxis": {
            "gridcolor": "white",
            "linecolor": "white",
            "ticks": ""
           },
           "bgcolor": "#E5ECF6",
           "caxis": {
            "gridcolor": "white",
            "linecolor": "white",
            "ticks": ""
           }
          },
          "title": {
           "x": 0.05
          },
          "xaxis": {
           "automargin": true,
           "gridcolor": "white",
           "linecolor": "white",
           "ticks": "",
           "title": {
            "standoff": 15
           },
           "zerolinecolor": "white",
           "zerolinewidth": 2
          },
          "yaxis": {
           "automargin": true,
           "gridcolor": "white",
           "linecolor": "white",
           "ticks": "",
           "title": {
            "standoff": 15
           },
           "zerolinecolor": "white",
           "zerolinewidth": 2
          }
         }
        },
        "title": {
         "text": "Parallel Coordinate Plot"
        }
       }
      }
     },
     "metadata": {},
     "output_type": "display_data"
    }
   ],
   "source": [
    "# Plot Multivariate Visualization\n",
    "plot_parallel_coordinate(study).show()\n",
    "\n",
    "## Notes:\n",
    "# - Each line is a trial\n",
    "# - X-axis has the hyperparameters\n",
    "# - Y-axis is the hyperparameter value\n",
    "# - Color is the Objective Value\n",
    "# - See which parameter ranges tend to result in better scores"
   ]
  },
  {
   "cell_type": "markdown",
   "id": "58f54526",
   "metadata": {},
   "source": [
    "## Conclusion\n",
    "We have saved the best hyperparameter values from our tuning into a `.json` file which will be used in the next step - model validation."
   ]
  }
 ],
 "metadata": {
  "kernelspec": {
   "display_name": "Python 3",
   "language": "python",
   "name": "python3"
  },
  "language_info": {
   "codemirror_mode": {
    "name": "ipython",
    "version": 3
   },
   "file_extension": ".py",
   "mimetype": "text/x-python",
   "name": "python",
   "nbconvert_exporter": "python",
   "pygments_lexer": "ipython3",
   "version": "3.10.12"
  }
 },
 "nbformat": 4,
 "nbformat_minor": 5
}
