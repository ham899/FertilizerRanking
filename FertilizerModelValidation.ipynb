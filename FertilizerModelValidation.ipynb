{
 "cells": [
  {
   "cell_type": "markdown",
   "id": "748f1df3",
   "metadata": {},
   "source": [
    "# Model Validation\n",
    "\n",
    "This notebook validates the performance of our fine-tuned CatBoost model by estimating its MAP@3 score using 4-fold cross-validation on the competition dataset. For each fold, we use a 75%/25% split of the training fold to determine the optimal number of boosting iterations via early stopping. We then retrain on the full fold using this optimal iteration count to generate predictions on the held-out validation set. The MAP@3 scores from each fold are averaged to produce a final performance estimate.\n",
    "\n",
    "**Runtime:** > 2 hours"
   ]
  },
  {
   "cell_type": "code",
   "execution_count": null,
   "id": "d1d79c5d",
   "metadata": {},
   "outputs": [],
   "source": [
    "# pip3 install numpy pandas matplotlib scipy scikit-learn catboost optuna nbformat --upgrade\n",
    "import time\n",
    "import json\n",
    "\n",
    "# Data Science Libraries\n",
    "import numpy as np\n",
    "import pandas as pd\n",
    "\n",
    "# Data Preparation\n",
    "from sklearn.preprocessing import LabelEncoder\n",
    "\n",
    "# Modelling\n",
    "from sklearn.model_selection import StratifiedKFold\n",
    "from catboost import CatBoostClassifier\n",
    "\n",
    "# Custom Functions -> Function definitions can be found in utils.py file\n",
    "from utils import MAP3, generate_model_rankings"
   ]
  },
  {
   "cell_type": "code",
   "execution_count": 2,
   "id": "12cb4e55",
   "metadata": {},
   "outputs": [],
   "source": [
    "sampler_seed = 346346\n",
    "split_seed = 4326\n",
    "model_seed = 36209436"
   ]
  },
  {
   "cell_type": "code",
   "execution_count": 3,
   "id": "30a65781",
   "metadata": {},
   "outputs": [
    {
     "name": "stdout",
     "output_type": "stream",
     "text": [
      "The training data has 750,000 rows and 9 columns.\n"
     ]
    },
    {
     "data": {
      "text/html": [
       "<div>\n",
       "<style scoped>\n",
       "    .dataframe tbody tr th:only-of-type {\n",
       "        vertical-align: middle;\n",
       "    }\n",
       "\n",
       "    .dataframe tbody tr th {\n",
       "        vertical-align: top;\n",
       "    }\n",
       "\n",
       "    .dataframe thead th {\n",
       "        text-align: right;\n",
       "    }\n",
       "</style>\n",
       "<table border=\"1\" class=\"dataframe\">\n",
       "  <thead>\n",
       "    <tr style=\"text-align: right;\">\n",
       "      <th></th>\n",
       "      <th>Temperature</th>\n",
       "      <th>Humidity</th>\n",
       "      <th>Moisture</th>\n",
       "      <th>Soil Type</th>\n",
       "      <th>Crop Type</th>\n",
       "      <th>Nitrogen</th>\n",
       "      <th>Potassium</th>\n",
       "      <th>Phosphorous</th>\n",
       "      <th>Fertilizer Name</th>\n",
       "    </tr>\n",
       "    <tr>\n",
       "      <th>id</th>\n",
       "      <th></th>\n",
       "      <th></th>\n",
       "      <th></th>\n",
       "      <th></th>\n",
       "      <th></th>\n",
       "      <th></th>\n",
       "      <th></th>\n",
       "      <th></th>\n",
       "      <th></th>\n",
       "    </tr>\n",
       "  </thead>\n",
       "  <tbody>\n",
       "    <tr>\n",
       "      <th>0</th>\n",
       "      <td>37</td>\n",
       "      <td>70</td>\n",
       "      <td>36</td>\n",
       "      <td>Clayey</td>\n",
       "      <td>Sugarcane</td>\n",
       "      <td>36</td>\n",
       "      <td>4</td>\n",
       "      <td>5</td>\n",
       "      <td>28-28</td>\n",
       "    </tr>\n",
       "    <tr>\n",
       "      <th>1</th>\n",
       "      <td>27</td>\n",
       "      <td>69</td>\n",
       "      <td>65</td>\n",
       "      <td>Sandy</td>\n",
       "      <td>Millets</td>\n",
       "      <td>30</td>\n",
       "      <td>6</td>\n",
       "      <td>18</td>\n",
       "      <td>28-28</td>\n",
       "    </tr>\n",
       "    <tr>\n",
       "      <th>2</th>\n",
       "      <td>29</td>\n",
       "      <td>63</td>\n",
       "      <td>32</td>\n",
       "      <td>Sandy</td>\n",
       "      <td>Millets</td>\n",
       "      <td>24</td>\n",
       "      <td>12</td>\n",
       "      <td>16</td>\n",
       "      <td>17-17-17</td>\n",
       "    </tr>\n",
       "    <tr>\n",
       "      <th>3</th>\n",
       "      <td>35</td>\n",
       "      <td>62</td>\n",
       "      <td>54</td>\n",
       "      <td>Sandy</td>\n",
       "      <td>Barley</td>\n",
       "      <td>39</td>\n",
       "      <td>12</td>\n",
       "      <td>4</td>\n",
       "      <td>10-26-26</td>\n",
       "    </tr>\n",
       "    <tr>\n",
       "      <th>4</th>\n",
       "      <td>35</td>\n",
       "      <td>58</td>\n",
       "      <td>43</td>\n",
       "      <td>Red</td>\n",
       "      <td>Paddy</td>\n",
       "      <td>37</td>\n",
       "      <td>2</td>\n",
       "      <td>16</td>\n",
       "      <td>DAP</td>\n",
       "    </tr>\n",
       "  </tbody>\n",
       "</table>\n",
       "</div>"
      ],
      "text/plain": [
       "    Temperature  Humidity  Moisture Soil Type  Crop Type  Nitrogen  Potassium  \\\n",
       "id                                                                              \n",
       "0            37        70        36    Clayey  Sugarcane        36          4   \n",
       "1            27        69        65     Sandy    Millets        30          6   \n",
       "2            29        63        32     Sandy    Millets        24         12   \n",
       "3            35        62        54     Sandy     Barley        39         12   \n",
       "4            35        58        43       Red      Paddy        37          2   \n",
       "\n",
       "    Phosphorous Fertilizer Name  \n",
       "id                               \n",
       "0             5           28-28  \n",
       "1            18           28-28  \n",
       "2            16        17-17-17  \n",
       "3             4        10-26-26  \n",
       "4            16             DAP  "
      ]
     },
     "execution_count": 3,
     "metadata": {},
     "output_type": "execute_result"
    }
   ],
   "source": [
    "# Read in the training data\n",
    "train = pd.read_csv('Data/train.csv', index_col='id')\n",
    "train = train.rename(columns={'Temparature':'Temperature'})\n",
    "print(f'The training data has {train.shape[0]:,} rows and {train.shape[1]} columns.')\n",
    "train.head()"
   ]
  },
  {
   "cell_type": "code",
   "execution_count": 4,
   "id": "94248a8a",
   "metadata": {},
   "outputs": [],
   "source": [
    "# Store the numeric and categorical columns\n",
    "numeric_cols = ['Temperature', 'Humidity', 'Moisture', 'Nitrogen', 'Potassium', 'Phosphorous']\n",
    "categorical_cols = ['Soil Type', 'Crop Type']\n",
    "\n",
    "# Extract feature columns and the target column\n",
    "features = numeric_cols + categorical_cols\n",
    "cat_cols_idxs = [int(inx) for inx in np.where(np.isin(features, categorical_cols))[0]]\n",
    "target = 'Fertilizer Name'"
   ]
  },
  {
   "cell_type": "code",
   "execution_count": 5,
   "id": "7763ae69",
   "metadata": {},
   "outputs": [
    {
     "data": {
      "text/plain": [
       "['10-26-26', '14-35-14', '17-17-17', '20-20', '28-28', 'DAP', 'Urea']"
      ]
     },
     "execution_count": 5,
     "metadata": {},
     "output_type": "execute_result"
    }
   ],
   "source": [
    "# Fit LabelEncoder to the target\n",
    "le = LabelEncoder()\n",
    "le.fit(train[target])\n",
    "class_mapping = list(le.classes_)\n",
    "class_mapping"
   ]
  },
  {
   "cell_type": "code",
   "execution_count": 6,
   "id": "704012b9",
   "metadata": {},
   "outputs": [
    {
     "name": "stdout",
     "output_type": "stream",
     "text": [
      "learning_rate: 0.049745499889766426\n",
      "depth: 10\n",
      "colsample_bylevel: 0.46619923304859245\n",
      "od_wait: 39\n",
      "subsample: 0.06155900139866675\n",
      "min_data_in_leaf: 90\n",
      "l2_leaf_reg: 2.399719543149106\n",
      "random_strength: 0.050324592372389315\n",
      "bootstrap_type: Bernoulli\n",
      "boosting_type: Ordered\n",
      "loss_function: MultiClass\n",
      "od_type: IncToDec\n"
     ]
    }
   ],
   "source": [
    "# Read the hyperparameters from the file in which they are stored\n",
    "with open('Study_Results/Phase2/best_params.json', 'r') as file:\n",
    "    hyperparameters = json.load(file)\n",
    "\n",
    "for parameter, setting in hyperparameters.items():\n",
    "    print(f'{parameter}: {setting}')\n",
    "\n",
    "od_wait = hyperparameters.pop('od_wait')"
   ]
  },
  {
   "cell_type": "code",
   "execution_count": 7,
   "id": "d75ce1b4",
   "metadata": {},
   "outputs": [],
   "source": [
    "# Get the features and the target\n",
    "X, y = train[features], train[target]\n",
    "\n",
    "# Initialize the CatBoostClassifier model \n",
    "model = CatBoostClassifier(\n",
    "    **hyperparameters,\n",
    "    iterations = 5000, # Set the number of iterations high to allow the stopping criterion to kick in\n",
    "    allow_writing_files = False,\n",
    "    random_seed = model_seed                  \n",
    ")"
   ]
  },
  {
   "cell_type": "code",
   "execution_count": 8,
   "id": "ef7d3e7a",
   "metadata": {},
   "outputs": [
    {
     "name": "stdout",
     "output_type": "stream",
     "text": [      
      "Run 1:\n",
      "\t* Best iteration: 2367\n",
      "\t* Total number of trees: 2368\n",
      "\t* MAP@3 Score: 0.324840\n",
      "---------------------------------------------\n",
      "\n",
      "Run 2:\n",
      "\t* Best iteration: 2240\n",
      "\t* Total number of trees: 2241\n",
      "\t* MAP@3 Score: 0.326224\n",
      "---------------------------------------------\n",
      "\n",
      "Run 3:\n",
      "\t* Best iteration: 2607\n",
      "\t* Total number of trees: 2608\n",
      "\t* MAP@3 Score: 0.328037\n",
      "---------------------------------------------\n",
      "\n",
      "Run 4:\n",
      "\t* Best iteration: 2614\n",
      "\t* Total number of trees: 2615\n",
      "\t* MAP@3 Score: 0.327236\n",
      "---------------------------------------------\n",
      "\n",
      "Estimated MAP@3 Score: 0.326584 +/- 0.001195\n",
      "Number of iterations needed: 2458.0 +/- 160.0\n",
      "---------------------------------------------\n",
      "\n",
      "Model Validation Runtime: 159.71 minutes.\n"
     ]
    }
   ],
   "source": [
    "# Set up the folds\n",
    "sk_folds = StratifiedKFold(n_splits=4, shuffle=True, random_state=split_seed) # 4-folds, since the competition data split is 75/25\n",
    "\n",
    "# Initialize a list to keep the MAP@3 scores in\n",
    "scores = []\n",
    "\n",
    "# Initialize a list to keep track of the number of iterations required per run\n",
    "numIterations = []\n",
    "\n",
    "# Count of the number of fold iterations\n",
    "i = 0\n",
    "\n",
    "# Run and time the cross-validation step\n",
    "start = time.time()\n",
    "for train_indices, valid_indices in sk_folds.split(X, y):\n",
    "    i += 1\n",
    "\n",
    "    X_train, y_train = X.iloc[train_indices], y.iloc[train_indices]\n",
    "    y_train_encoded = le.transform(y_train)\n",
    "\n",
    "    X_valid, y_valid = X.iloc[valid_indices], y.iloc[valid_indices]\n",
    "    y_valid_encoded = le.transform(y_valid)\n",
    "\n",
    "    model.fit(X_train,\n",
    "              y_train_encoded,\n",
    "              cat_features=cat_cols_idxs,\n",
    "              eval_set=(X_valid, y_valid_encoded),\n",
    "              early_stopping_rounds=od_wait,\n",
    "              verbose=True)\n",
    "    \n",
    "    fold_rankings = generate_model_rankings(model, X_valid, class_mapping)\n",
    "\n",
    "    fold_score = MAP3(labels=y_valid, rankings=fold_rankings)\n",
    "\n",
    "    best_iteration = model.get_best_iteration()\n",
    "\n",
    "    scores.append(fold_score)\n",
    "    numIterations.append(best_iteration+1)\n",
    "\n",
    "    print(f'Run {i}:')\n",
    "    print(f'\\t* Best iteration: {best_iteration}')\n",
    "    print(f'\\t* Total number of trees: {model.tree_count_}')    \n",
    "    print(f'\\t* MAP@3 Score: {fold_score:.6f}')\n",
    "    print('---------------------------------------------\\n')\n",
    "end = time.time()\n",
    "\n",
    "# Print the results\n",
    "print(f'Estimated MAP@3 Score: {np.mean(scores):.6f} +/- {np.std(scores):.6f}')\n",
    "print(f'Number of iterations needed: {np.mean(numIterations):.1f} +/- {np.std(numIterations):.1f}')\n",
    "print('---------------------------------------------\\n')\n",
    "print(f'Model Validation Runtime: {(end-start)/60:.2f} minutes.')"
   ]
  },
  {
   "cell_type": "code",
   "execution_count": 9,
   "id": "73600998",
   "metadata": {},
   "outputs": [
    {
     "name": "stdout",
     "output_type": "stream",
     "text": [
      "2458\n"
     ]
    }
   ],
   "source": [
    "# Save the average number of iterations used\n",
    "iterations = int(round( np.mean(numIterations)))\n",
    "print(iterations)"
   ]
  },
  {
   "cell_type": "code",
   "execution_count": 10,
   "id": "6c6fdebe",
   "metadata": {},
   "outputs": [],
   "source": [
    "# Save the approximate number of iterations to a file for later use in the main model\n",
    "with open('average_iterations.txt', 'w') as file:\n",
    "    file.write(str(iterations))"
   ]
  }
 ],
 "metadata": {
  "kernelspec": {
   "display_name": "Python 3",
   "language": "python",
   "name": "python3"
  },
  "language_info": {
   "codemirror_mode": {
    "name": "ipython",
    "version": 3
   },
   "file_extension": ".py",
   "mimetype": "text/x-python",
   "name": "python",
   "nbconvert_exporter": "python",
   "pygments_lexer": "ipython3",
   "version": "3.10.12"
  }
 },
 "nbformat": 4,
 "nbformat_minor": 5
}
