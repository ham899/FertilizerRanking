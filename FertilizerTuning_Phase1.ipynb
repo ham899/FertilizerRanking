{
 "cells": [
  {
   "cell_type": "markdown",
   "id": "203f9e3b",
   "metadata": {},
   "source": [
    "# CatBoost Tuning Phase 1 - Exploration\n",
    "\n",
    "After deciding on using a CatBoost model, we will now investigate the different hyperparameters which can be tuned and the tuning ranges to explore in Phase 2.\n",
    "\n",
    "We are no longer working with the original dataset and will be working directly with the synthetically-generated competition dataset. This dataset can be found [here](https://www.kaggle.com/competitions/playground-series-s5e6/data) on Kaggle and is licensed under CC0: Public Domain.\n",
    "\n",
    "The primary goal of this phase is to explore a broad but computationally feasible range of hyperparameter values. The most promising ranges identified here will guide a more refined tuning in Phase 2.\n",
    "\n",
    "We will use the optuna package to tune our hyperparameters values for our CatBoost model. This tuning process does take quite some time to run (~ 2 hours), we will save the best parameter results from the tuning into a `.json` file."
   ]
  },
  {
   "cell_type": "markdown",
   "id": "5ae281fd",
   "metadata": {},
   "source": [
    "## Tuning Preparation"
   ]
  },
  {
   "cell_type": "code",
   "execution_count": null,
   "id": "5520f42c",
   "metadata": {},
   "outputs": [],
   "source": [
    "import time\n",
    "import json\n",
    "\n",
    "# Data Science Libraries\n",
    "import numpy as np\n",
    "import pandas as pd\n",
    "import matplotlib.pyplot as plt\n",
    "\n",
    "# Data Preparation\n",
    "from sklearn.preprocessing import LabelEncoder\n",
    "\n",
    "# Modelling\n",
    "from sklearn.model_selection import StratifiedKFold\n",
    "from catboost import CatBoostClassifier\n",
    "\n",
    "# Hyperparameter Tuning\n",
    "import optuna\n",
    "from optuna import Trial\n",
    "from optuna.samplers import TPESampler\n",
    "from optuna.pruners import MedianPruner\n",
    "from optuna.visualization import plot_optimization_history\n",
    "from optuna.visualization import plot_parallel_coordinate\n",
    "from optuna.visualization import plot_param_importances\n",
    "\n",
    "# Custom Functions -> Function definitions can be found in utils.py file\n",
    "from utils import MAP3, generate_model_rankings"
   ]
  },
  {
   "cell_type": "code",
   "execution_count": null,
   "id": "2d2b5009",
   "metadata": {},
   "outputs": [],
   "source": [
    "# Set seeds for reproducibility\n",
    "sampler_seed = 346346\n",
    "split_seed = 4326\n",
    "model_seed = 36209436"
   ]
  },
  {
   "cell_type": "code",
   "execution_count": 3,
   "id": "0d16d0b4",
   "metadata": {},
   "outputs": [
    {
     "data": {
      "text/html": [
       "<div>\n",
       "<style scoped>\n",
       "    .dataframe tbody tr th:only-of-type {\n",
       "        vertical-align: middle;\n",
       "    }\n",
       "\n",
       "    .dataframe tbody tr th {\n",
       "        vertical-align: top;\n",
       "    }\n",
       "\n",
       "    .dataframe thead th {\n",
       "        text-align: right;\n",
       "    }\n",
       "</style>\n",
       "<table border=\"1\" class=\"dataframe\">\n",
       "  <thead>\n",
       "    <tr style=\"text-align: right;\">\n",
       "      <th></th>\n",
       "      <th>Temperature</th>\n",
       "      <th>Humidity</th>\n",
       "      <th>Moisture</th>\n",
       "      <th>Soil Type</th>\n",
       "      <th>Crop Type</th>\n",
       "      <th>Nitrogen</th>\n",
       "      <th>Potassium</th>\n",
       "      <th>Phosphorous</th>\n",
       "      <th>Fertilizer Name</th>\n",
       "    </tr>\n",
       "    <tr>\n",
       "      <th>id</th>\n",
       "      <th></th>\n",
       "      <th></th>\n",
       "      <th></th>\n",
       "      <th></th>\n",
       "      <th></th>\n",
       "      <th></th>\n",
       "      <th></th>\n",
       "      <th></th>\n",
       "      <th></th>\n",
       "    </tr>\n",
       "  </thead>\n",
       "  <tbody>\n",
       "    <tr>\n",
       "      <th>0</th>\n",
       "      <td>37</td>\n",
       "      <td>70</td>\n",
       "      <td>36</td>\n",
       "      <td>Clayey</td>\n",
       "      <td>Sugarcane</td>\n",
       "      <td>36</td>\n",
       "      <td>4</td>\n",
       "      <td>5</td>\n",
       "      <td>28-28</td>\n",
       "    </tr>\n",
       "    <tr>\n",
       "      <th>1</th>\n",
       "      <td>27</td>\n",
       "      <td>69</td>\n",
       "      <td>65</td>\n",
       "      <td>Sandy</td>\n",
       "      <td>Millets</td>\n",
       "      <td>30</td>\n",
       "      <td>6</td>\n",
       "      <td>18</td>\n",
       "      <td>28-28</td>\n",
       "    </tr>\n",
       "    <tr>\n",
       "      <th>2</th>\n",
       "      <td>29</td>\n",
       "      <td>63</td>\n",
       "      <td>32</td>\n",
       "      <td>Sandy</td>\n",
       "      <td>Millets</td>\n",
       "      <td>24</td>\n",
       "      <td>12</td>\n",
       "      <td>16</td>\n",
       "      <td>17-17-17</td>\n",
       "    </tr>\n",
       "    <tr>\n",
       "      <th>3</th>\n",
       "      <td>35</td>\n",
       "      <td>62</td>\n",
       "      <td>54</td>\n",
       "      <td>Sandy</td>\n",
       "      <td>Barley</td>\n",
       "      <td>39</td>\n",
       "      <td>12</td>\n",
       "      <td>4</td>\n",
       "      <td>10-26-26</td>\n",
       "    </tr>\n",
       "    <tr>\n",
       "      <th>4</th>\n",
       "      <td>35</td>\n",
       "      <td>58</td>\n",
       "      <td>43</td>\n",
       "      <td>Red</td>\n",
       "      <td>Paddy</td>\n",
       "      <td>37</td>\n",
       "      <td>2</td>\n",
       "      <td>16</td>\n",
       "      <td>DAP</td>\n",
       "    </tr>\n",
       "  </tbody>\n",
       "</table>\n",
       "</div>"
      ],
      "text/plain": [
       "    Temperature  Humidity  Moisture Soil Type  Crop Type  Nitrogen  Potassium  \\\n",
       "id                                                                              \n",
       "0            37        70        36    Clayey  Sugarcane        36          4   \n",
       "1            27        69        65     Sandy    Millets        30          6   \n",
       "2            29        63        32     Sandy    Millets        24         12   \n",
       "3            35        62        54     Sandy     Barley        39         12   \n",
       "4            35        58        43       Red      Paddy        37          2   \n",
       "\n",
       "    Phosphorous Fertilizer Name  \n",
       "id                               \n",
       "0             5           28-28  \n",
       "1            18           28-28  \n",
       "2            16        17-17-17  \n",
       "3             4        10-26-26  \n",
       "4            16             DAP  "
      ]
     },
     "execution_count": 3,
     "metadata": {},
     "output_type": "execute_result"
    }
   ],
   "source": [
    "# Read in the training data\n",
    "train = pd.read_csv('Data/train.csv', index_col='id')\n",
    "train = train.rename(columns={'Temparature':'Temperature'})\n",
    "train.head()"
   ]
  },
  {
   "cell_type": "code",
   "execution_count": null,
   "id": "fb51dbf0",
   "metadata": {},
   "outputs": [],
   "source": [
    "# Store the numeric and categorical columns\n",
    "numeric_cols = ['Temperature', 'Humidity', 'Moisture', 'Nitrogen', 'Potassium', 'Phosphorous']\n",
    "categorical_cols = ['Soil Type', 'Crop Type']\n",
    "\n",
    "# Extract feature columns and the target column\n",
    "features = numeric_cols + categorical_cols\n",
    "cat_cols_idxs = [int(inx) for inx in np.where(np.isin(features, categorical_cols))[0]] # The indices of the categorical columns\n",
    "target = 'Fertilizer Name'"
   ]
  },
  {
   "cell_type": "code",
   "execution_count": 5,
   "id": "23b17a6d",
   "metadata": {},
   "outputs": [
    {
     "data": {
      "text/plain": [
       "['10-26-26', '14-35-14', '17-17-17', '20-20', '28-28', 'DAP', 'Urea']"
      ]
     },
     "execution_count": 5,
     "metadata": {},
     "output_type": "execute_result"
    }
   ],
   "source": [
    "# Fit LabelEncoder to the target\n",
    "le = LabelEncoder()\n",
    "le.fit(train[target])\n",
    "class_mapping = list(le.classes_)\n",
    "class_mapping"
   ]
  },
  {
   "cell_type": "code",
   "execution_count": null,
   "id": "714bdb97",
   "metadata": {},
   "outputs": [],
   "source": [
    "# Tune on a subsample of the data to reduce computation time - 5% should be a sufficient as a representative sample\n",
    "tuning_data = train.sample(frac=0.05, random_state=sampler_seed)"
   ]
  },
  {
   "cell_type": "markdown",
   "id": "5b6af84a",
   "metadata": {},
   "source": [
    "## Optuna Tuning"
   ]
  },
  {
   "cell_type": "code",
   "execution_count": null,
   "id": "8bef6715",
   "metadata": {},
   "outputs": [],
   "source": [
    "# Define an objective function for optuna to optimize\n",
    "fixed_params = {'boosting_type':'Ordered', 'loss_function':'MultiClass'}\n",
    "\n",
    "def objective(trial: Trial, num_folds: int) -> float:\n",
    "    \"\"\"\n",
    "    Objective function for Optuna hyperparameter tuning of a CatBoostClassifier using Stratified K-Fold cross-validation.\n",
    "\n",
    "    This function defines the search space, samples hyperparameters for each trial,\n",
    "    trains and evaluates the model using stratified cross-validation, uses early stopping in the training, \n",
    "    and returns the average MAP@3 score across all folds.\n",
    "\n",
    "    Parameters\n",
    "    ----------\n",
    "    trial : Trial\n",
    "        An Optuna Trial object used to suggest hyperparameters.\n",
    "    num_folds : int\n",
    "        The number of folds to use in Stratified K-Fold Cross-Validation.\n",
    "\n",
    "    Returns\n",
    "    -------\n",
    "    float\n",
    "        The average MAP@3 score across all cross-validation folds.\n",
    "    \"\"\"\n",
    "\n",
    "    # Suggest the bootstrap_type first as other parameters are conditional on it\n",
    "    bootstrap_type = trial.suggest_categorical('bootstrap_type', ['Bayesian', 'Bernoulli', 'MVS'])\n",
    "    \n",
    "    # Suggest the bagging_temp and subsample first as multivariate=True depends on it\n",
    "    bagging_temp = trial.suggest_float('bagging_temperature', 1e-10, 10.0, log=True)\n",
    "    subsample = trial.suggest_float('subsample', 0.05, 1.0)\n",
    "\n",
    "    # Suggest remaining unconditional parameters\n",
    "    hyperparameters = {\n",
    "        'iterations':300, # Fix at 300 for early model tuning\n",
    "        'learning_rate':trial.suggest_float('learning_rate', 0.001, 0.3, log=True), # log = True apparently biases Optuna toward better values\n",
    "        'depth':trial.suggest_int('depth', 3, 10), # Set the maximum depth to 10 to avoid long trial runtimes, but to still see if depth is important\n",
    "        'colsample_bylevel': trial.suggest_float('colsample_bylevel', 0.05, 0.8), # Set the maximum colsample_bylevel to 0.8 to avoid long trial runtimes\n",
    "        'min_data_in_leaf':trial.suggest_int('min_data_in_leaf', 1, 100),\n",
    "        'l2_leaf_reg':trial.suggest_float('l2_leaf_reg', 1.0, 5.0, log=True),\n",
    "        'random_strength':trial.suggest_float('random_strength', 0.0, 1.0),\n",
    "        'od_type':trial.suggest_categorical('od_type', ['IncToDec', 'Iter']),\n",
    "        'od_wait':trial.suggest_int('od_wait', 10, 50),\n",
    "        'bootstrap_type':bootstrap_type,\n",
    "        'boosting_type':fixed_params['boosting_type'], # From early study results, it is clear that the boosting_type should be ordered. We don't need to explore this as thoroughly as the other variables\n",
    "        'loss_function':fixed_params['loss_function'],\n",
    "        'allow_writing_files': False, # Unless you want to analyze the report\n",
    "        'random_seed': model_seed\n",
    "    }\n",
    "\n",
    "    # Add `bagging_temperature` only for Bayesian bootstrap\n",
    "    if bootstrap_type == 'Bayesian':\n",
    "        hyperparameters['bagging_temperature'] = bagging_temp\n",
    "    # Add `subsample` only for Bernoulli or MVS bootstrap\n",
    "    elif bootstrap_type in ['Bernoulli', 'MVS']:\n",
    "        hyperparameters['subsample'] = subsample\n",
    "\n",
    "    # Training-Test Split with Stratified K-Fold Cross-Validation\n",
    "    sk_folds = StratifiedKFold(n_splits=num_folds, shuffle=True, random_state=split_seed)\n",
    "\n",
    "    # Get the features and the target\n",
    "    X, y = tuning_data[features], tuning_data[target]\n",
    "\n",
    "    # Initialize a list to keep track of the scores\n",
    "    MAP3_folds_scores = []\n",
    "\n",
    "    # Loop through the folds and get the MAP3 fold scores\n",
    "    for train_indices, valid_indices in sk_folds.split(X, y):\n",
    "        # Get the training features and target observations\n",
    "        X_train_tune, y_train_tune = X.iloc[train_indices], y.iloc[train_indices]\n",
    "        y_train_tune_encoded = le.transform(y_train_tune)\n",
    "\n",
    "        # Get the test features and target observations\n",
    "        X_valid_tune, y_valid_tune = X.iloc[valid_indices], y.iloc[valid_indices]\n",
    "        y_valid_tune_encoded = le.transform(y_valid_tune)\n",
    "\n",
    "        # Initialize the CatBoost model\n",
    "        model = CatBoostClassifier(**hyperparameters, cat_features=cat_cols_idxs)\n",
    "\n",
    "        # Fit the model on the training fold data\n",
    "        model.fit(X_train_tune, \n",
    "                  y_train_tune_encoded,\n",
    "                  eval_set=(X_valid_tune, y_valid_tune_encoded),\n",
    "                  early_stopping_rounds=hyperparameters['od_wait'],\n",
    "                  verbose=0)\n",
    "\n",
    "        # Get the model rankings for the validation fold\n",
    "        valid_fold_rankings = generate_model_rankings(model, X_valid_tune, class_mapping)\n",
    "\n",
    "        # Compute the MAP3 score for this fold\n",
    "        MAP3_fold_score = MAP3(labels=y_valid_tune, rankings=valid_fold_rankings)\n",
    "\n",
    "        # Add the MAP3 score to the list of fold scores\n",
    "        MAP3_folds_scores.append(MAP3_fold_score)\n",
    "\n",
    "    # Return the average MAP3 score across all folds\n",
    "    return np.mean(MAP3_folds_scores)\n",
    "\n",
    "### Sources:\n",
    "# - https://www.datacamp.com/tutorial/optuna\n",
    "# - https://www.kaggle.com/code/tasnimniger/tune-a-catboostclassifier-model-with-optuna\n",
    "# - https://forecastegy.com/posts/catboost-hyperparameter-tuning-guide-with-optuna/\n",
    "# - https://www.kaggle.com/code/egorphysics/catboost-optuna-optimisation\n",
    "# - https://www.w3schools.com/python/python_ml_cross_validation.asp"
   ]
  },
  {
   "cell_type": "code",
   "execution_count": 8,
   "id": "4feb8fa6",
   "metadata": {},
   "outputs": [
    {
     "name": "stderr",
     "output_type": "stream",
     "text": [
      "[I 2025-06-26 12:41:30,605] A new study created in memory with name: CatBoost_Tuning_Phase1\n",
      "[I 2025-06-26 12:41:53,945] Trial 0 finished with value: 0.28421777777777774 and parameters: {'bootstrap_type': 'MVS', 'bagging_temperature': 6.2001779991879726e-06, 'subsample': 0.09138419995630612, 'learning_rate': 0.006207107247569148, 'depth': 6, 'colsample_bylevel': 0.20796318656065466, 'min_data_in_leaf': 98, 'l2_leaf_reg': 3.3148341382083104, 'random_strength': 0.883144702535295, 'od_type': 'IncToDec', 'od_wait': 39}. Best is trial 0 with value: 0.28421777777777774.\n",
      "[I 2025-06-26 12:42:06,521] Trial 1 finished with value: 0.28864 and parameters: {'bootstrap_type': 'MVS', 'bagging_temperature': 0.00035495333274965213, 'subsample': 0.1886730423158563, 'learning_rate': 0.059774504825516134, 'depth': 6, 'colsample_bylevel': 0.378895932221675, 'min_data_in_leaf': 56, 'l2_leaf_reg': 1.7652891555296786, 'random_strength': 0.0678417635387436, 'od_type': 'Iter', 'od_wait': 14}. Best is trial 1 with value: 0.28864.\n",
      "[I 2025-06-26 12:42:37,332] Trial 2 finished with value: 0.2804088888888889 and parameters: {'bootstrap_type': 'Bayesian', 'bagging_temperature': 5.030022644213864e-06, 'subsample': 0.1679483773988487, 'learning_rate': 0.0035048113780663617, 'depth': 7, 'colsample_bylevel': 0.7477621958654624, 'min_data_in_leaf': 26, 'l2_leaf_reg': 3.8077356838637604, 'random_strength': 0.563687539524252, 'od_type': 'Iter', 'od_wait': 22}. Best is trial 1 with value: 0.28864.\n",
      "[I 2025-06-26 12:42:51,808] Trial 3 finished with value: 0.2866888888888888 and parameters: {'bootstrap_type': 'Bernoulli', 'bagging_temperature': 7.718578327462994e-05, 'subsample': 0.9740025041452954, 'learning_rate': 0.23386744982122018, 'depth': 6, 'colsample_bylevel': 0.6160364572093902, 'min_data_in_leaf': 7, 'l2_leaf_reg': 1.958968637971008, 'random_strength': 0.7222337322806531, 'od_type': 'Iter', 'od_wait': 32}. Best is trial 1 with value: 0.28864.\n",
      "[I 2025-06-26 12:43:05,435] Trial 4 finished with value: 0.28589777777777775 and parameters: {'bootstrap_type': 'Bayesian', 'bagging_temperature': 5.460565689423071e-09, 'subsample': 0.6528984606629881, 'learning_rate': 0.2145703409285318, 'depth': 4, 'colsample_bylevel': 0.5244623512142426, 'min_data_in_leaf': 56, 'l2_leaf_reg': 3.9214817930319734, 'random_strength': 0.26984263977959355, 'od_type': 'IncToDec', 'od_wait': 31}. Best is trial 1 with value: 0.28864.\n",
      "[I 2025-06-26 12:43:28,011] Trial 5 finished with value: 0.2801022222222222 and parameters: {'bootstrap_type': 'Bernoulli', 'bagging_temperature': 3.597479721763355e-07, 'subsample': 0.36922533183654416, 'learning_rate': 0.002113719147378424, 'depth': 4, 'colsample_bylevel': 0.7968284287240831, 'min_data_in_leaf': 45, 'l2_leaf_reg': 1.0249614918876224, 'random_strength': 0.9553915219915697, 'od_type': 'IncToDec', 'od_wait': 32}. Best is trial 1 with value: 0.28864.\n",
      "[I 2025-06-26 12:43:54,511] Trial 6 finished with value: 0.28194222222222226 and parameters: {'bootstrap_type': 'MVS', 'bagging_temperature': 6.091632367989837, 'subsample': 0.5810277158986696, 'learning_rate': 0.007383225548039623, 'depth': 4, 'colsample_bylevel': 0.7930763409455063, 'min_data_in_leaf': 96, 'l2_leaf_reg': 3.2262570116716667, 'random_strength': 0.7234098481621414, 'od_type': 'IncToDec', 'od_wait': 10}. Best is trial 1 with value: 0.28864.\n",
      "[I 2025-06-26 12:44:26,972] Trial 7 finished with value: 0.28750666666666663 and parameters: {'bootstrap_type': 'Bayesian', 'bagging_temperature': 5.0141603332432515e-09, 'subsample': 0.42523428300105787, 'learning_rate': 0.0548995737881301, 'depth': 5, 'colsample_bylevel': 0.3907675676027332, 'min_data_in_leaf': 49, 'l2_leaf_reg': 2.107896005067556, 'random_strength': 0.36476663338200876, 'od_type': 'IncToDec', 'od_wait': 48}. Best is trial 1 with value: 0.28864.\n",
      "[I 2025-06-26 12:44:56,033] Trial 8 finished with value: 0.2853333333333333 and parameters: {'bootstrap_type': 'MVS', 'bagging_temperature': 0.1261465456556975, 'subsample': 0.19377895979047943, 'learning_rate': 0.008301119183150048, 'depth': 6, 'colsample_bylevel': 0.5983215674295758, 'min_data_in_leaf': 31, 'l2_leaf_reg': 1.2099232990564175, 'random_strength': 0.490215942025346, 'od_type': 'IncToDec', 'od_wait': 14}. Best is trial 1 with value: 0.28864.\n",
      "[I 2025-06-26 12:45:29,603] Trial 9 finished with value: 0.2801777777777778 and parameters: {'bootstrap_type': 'MVS', 'bagging_temperature': 0.007720119488315987, 'subsample': 0.16483604054753825, 'learning_rate': 0.0012438477203833424, 'depth': 9, 'colsample_bylevel': 0.7046784267509768, 'min_data_in_leaf': 83, 'l2_leaf_reg': 1.5300473589931054, 'random_strength': 0.9197402509078307, 'od_type': 'IncToDec', 'od_wait': 27}. Best is trial 1 with value: 0.28864.\n",
      "[I 2025-06-26 12:45:39,502] Trial 10 finished with value: 0.2852222222222222 and parameters: {'bootstrap_type': 'MVS', 'bagging_temperature': 0.00030123684125072455, 'subsample': 0.15420578518876235, 'learning_rate': 0.09826607669127363, 'depth': 5, 'colsample_bylevel': 0.5245319230529877, 'min_data_in_leaf': 72, 'l2_leaf_reg': 2.0538607718842314, 'random_strength': 0.043685281023554505, 'od_type': 'Iter', 'od_wait': 19}. Best is trial 1 with value: 0.28864.\n",
      "[I 2025-06-26 12:46:14,135] Trial 11 finished with value: 0.28741777777777777 and parameters: {'bootstrap_type': 'Bayesian', 'bagging_temperature': 2.9600483445277244e-09, 'subsample': 0.606344760632378, 'learning_rate': 0.06910072754232505, 'depth': 7, 'colsample_bylevel': 0.3972848717376405, 'min_data_in_leaf': 54, 'l2_leaf_reg': 1.317125137274358, 'random_strength': 0.31818098972345976, 'od_type': 'IncToDec', 'od_wait': 47}. Best is trial 1 with value: 0.28864.\n",
      "[I 2025-06-26 12:46:18,886] Trial 12 finished with value: 0.28404888888888885 and parameters: {'bootstrap_type': 'Bayesian', 'bagging_temperature': 0.06719415859825952, 'subsample': 0.11719526659574343, 'learning_rate': 0.23443067821034913, 'depth': 7, 'colsample_bylevel': 0.14568271201868888, 'min_data_in_leaf': 56, 'l2_leaf_reg': 1.2281604076002945, 'random_strength': 0.19158281300065388, 'od_type': 'Iter', 'od_wait': 12}. Best is trial 1 with value: 0.28864.\n",
      "[I 2025-06-26 12:46:43,069] Trial 13 finished with value: 0.28673333333333334 and parameters: {'bootstrap_type': 'Bayesian', 'bagging_temperature': 6.326164936646851e-08, 'subsample': 0.2409040242968412, 'learning_rate': 0.07267201029809955, 'depth': 3, 'colsample_bylevel': 0.39345751975096177, 'min_data_in_leaf': 2, 'l2_leaf_reg': 2.7667786919704183, 'random_strength': 0.3233097077691389, 'od_type': 'IncToDec', 'od_wait': 45}. Best is trial 1 with value: 0.28864.\n",
      "[I 2025-06-26 12:47:10,498] Trial 14 finished with value: 0.2868622222222222 and parameters: {'bootstrap_type': 'Bayesian', 'bagging_temperature': 3.500059913267833e-09, 'subsample': 0.435301195891857, 'learning_rate': 0.02789929644540657, 'depth': 4, 'colsample_bylevel': 0.27275825327040903, 'min_data_in_leaf': 79, 'l2_leaf_reg': 2.9588539299369856, 'random_strength': 0.2168648194417186, 'od_type': 'Iter', 'od_wait': 50}. Best is trial 1 with value: 0.28864.\n",
      "[I 2025-06-26 12:47:48,503] Trial 15 finished with value: 0.2878933333333333 and parameters: {'bootstrap_type': 'MVS', 'bagging_temperature': 8.616207287104098e-05, 'subsample': 0.4133841246599239, 'learning_rate': 0.016273312533793247, 'depth': 7, 'colsample_bylevel': 0.4128309344978989, 'min_data_in_leaf': 15, 'l2_leaf_reg': 2.662553443489604, 'random_strength': 0.15173916835323714, 'od_type': 'Iter', 'od_wait': 29}. Best is trial 1 with value: 0.28864.\n",
      "[I 2025-06-26 12:48:22,954] Trial 16 finished with value: 0.2874977777777778 and parameters: {'bootstrap_type': 'MVS', 'bagging_temperature': 3.407883588835695e-08, 'subsample': 0.5452592327373569, 'learning_rate': 0.013895074362176971, 'depth': 7, 'colsample_bylevel': 0.33677571175023396, 'min_data_in_leaf': 18, 'l2_leaf_reg': 2.4269735718083076, 'random_strength': 0.17890596404695353, 'od_type': 'Iter', 'od_wait': 24}. Best is trial 1 with value: 0.28864.\n",
      "[I 2025-06-26 12:48:35,739] Trial 17 finished with value: 0.28756444444444446 and parameters: {'bootstrap_type': 'MVS', 'bagging_temperature': 0.00030658583835541987, 'subsample': 0.4177367592068833, 'learning_rate': 0.17773264136693157, 'depth': 7, 'colsample_bylevel': 0.5584651657233021, 'min_data_in_leaf': 15, 'l2_leaf_reg': 2.944914657430673, 'random_strength': 0.1816751715830634, 'od_type': 'Iter', 'od_wait': 38}. Best is trial 1 with value: 0.28864.\n",
      "[I 2025-06-26 12:48:50,813] Trial 18 finished with value: 0.2859422222222222 and parameters: {'bootstrap_type': 'MVS', 'bagging_temperature': 6.4599789270089035e-06, 'subsample': 0.48676161456304984, 'learning_rate': 0.07492619447916601, 'depth': 5, 'colsample_bylevel': 0.30982364347758395, 'min_data_in_leaf': 49, 'l2_leaf_reg': 1.5476562932043851, 'random_strength': 0.36079152696897543, 'od_type': 'IncToDec', 'od_wait': 15}. Best is trial 1 with value: 0.28864.\n",
      "[I 2025-06-26 12:49:18,987] Trial 19 finished with value: 0.2862311111111111 and parameters: {'bootstrap_type': 'Bayesian', 'bagging_temperature': 0.04482970221702772, 'subsample': 0.6540247484359489, 'learning_rate': 0.007847962562602215, 'depth': 6, 'colsample_bylevel': 0.22444438000758257, 'min_data_in_leaf': 18, 'l2_leaf_reg': 2.5588562831010657, 'random_strength': 0.12231352746617617, 'od_type': 'Iter', 'od_wait': 34}. Best is trial 1 with value: 0.28864.\n",
      "[I 2025-06-26 12:50:19,841] Trial 20 finished with value: 0.2856444444444444 and parameters: {'bootstrap_type': 'MVS', 'bagging_temperature': 0.0003049017661559624, 'subsample': 0.4037680294058112, 'learning_rate': 0.002490233597744377, 'depth': 10, 'colsample_bylevel': 0.539018365792937, 'min_data_in_leaf': 21, 'l2_leaf_reg': 2.2506341546370914, 'random_strength': 0.1569938162262112, 'od_type': 'Iter', 'od_wait': 39}. Best is trial 1 with value: 0.28864.\n",
      "[I 2025-06-26 12:50:47,277] Trial 21 finished with value: 0.2885244444444444 and parameters: {'bootstrap_type': 'MVS', 'bagging_temperature': 0.00045311908760252233, 'subsample': 0.6057238124308177, 'learning_rate': 0.04966280347966698, 'depth': 4, 'colsample_bylevel': 0.6127429376707545, 'min_data_in_leaf': 25, 'l2_leaf_reg': 4.645720816806793, 'random_strength': 0.31197139921341366, 'od_type': 'Iter', 'od_wait': 30}. Best is trial 1 with value: 0.28864.\n",
      "[I 2025-06-26 12:51:15,183] Trial 22 finished with value: 0.2869333333333333 and parameters: {'bootstrap_type': 'MVS', 'bagging_temperature': 0.0007498728673823766, 'subsample': 0.9005168318122931, 'learning_rate': 0.015895615295780825, 'depth': 3, 'colsample_bylevel': 0.5975073497294088, 'min_data_in_leaf': 17, 'l2_leaf_reg': 2.716847943955667, 'random_strength': 0.3832515429445165, 'od_type': 'Iter', 'od_wait': 30}. Best is trial 1 with value: 0.28864.\n",
      "[I 2025-06-26 12:51:39,493] Trial 23 finished with value: 0.2888133333333333 and parameters: {'bootstrap_type': 'MVS', 'bagging_temperature': 7.288020515539088e-08, 'subsample': 0.7219883327942651, 'learning_rate': 0.04476000612946517, 'depth': 4, 'colsample_bylevel': 0.5926957723811817, 'min_data_in_leaf': 31, 'l2_leaf_reg': 4.766559364637123, 'random_strength': 0.048244045339864594, 'od_type': 'Iter', 'od_wait': 18}. Best is trial 23 with value: 0.2888133333333333.\n",
      "[I 2025-06-26 12:52:03,727] Trial 24 finished with value: 0.28687999999999997 and parameters: {'bootstrap_type': 'MVS', 'bagging_temperature': 7.531377863534551e-08, 'subsample': 0.6908255873181347, 'learning_rate': 0.035182816707718306, 'depth': 4, 'colsample_bylevel': 0.6254498179847321, 'min_data_in_leaf': 52, 'l2_leaf_reg': 4.140488789723247, 'random_strength': 0.0076975006101902416, 'od_type': 'IncToDec', 'od_wait': 14}. Best is trial 23 with value: 0.2888133333333333.\n",
      "[I 2025-06-26 12:52:26,770] Trial 25 finished with value: 0.28805333333333333 and parameters: {'bootstrap_type': 'MVS', 'bagging_temperature': 0.2724413019249582, 'subsample': 0.42099053660821456, 'learning_rate': 0.04637319178902088, 'depth': 4, 'colsample_bylevel': 0.6159074253228566, 'min_data_in_leaf': 9, 'l2_leaf_reg': 4.684193209682405, 'random_strength': 0.37166284278751277, 'od_type': 'IncToDec', 'od_wait': 26}. Best is trial 23 with value: 0.2888133333333333.\n",
      "[I 2025-06-26 12:53:02,420] Trial 26 finished with value: 0.28717333333333334 and parameters: {'bootstrap_type': 'Bayesian', 'bagging_temperature': 3.5837949650105145e-09, 'subsample': 0.7100862159073762, 'learning_rate': 0.008868702216900797, 'depth': 5, 'colsample_bylevel': 0.6904437784694604, 'min_data_in_leaf': 17, 'l2_leaf_reg': 3.654870502572405, 'random_strength': 0.162058670069428, 'od_type': 'Iter', 'od_wait': 20}. Best is trial 23 with value: 0.2888133333333333.\n",
      "[I 2025-06-26 12:53:15,071] Trial 27 finished with value: 0.28809333333333337 and parameters: {'bootstrap_type': 'MVS', 'bagging_temperature': 8.250361552173919e-07, 'subsample': 0.5795536266643171, 'learning_rate': 0.10154675804326323, 'depth': 4, 'colsample_bylevel': 0.766831228720642, 'min_data_in_leaf': 24, 'l2_leaf_reg': 4.15773422724691, 'random_strength': 0.10202051057351319, 'od_type': 'Iter', 'od_wait': 16}. Best is trial 23 with value: 0.2888133333333333.\n",
      "[I 2025-06-26 12:53:44,422] Trial 28 finished with value: 0.28704888888888885 and parameters: {'bootstrap_type': 'Bernoulli', 'bagging_temperature': 1.1061741463284216e-05, 'subsample': 0.9775802723533247, 'learning_rate': 0.024010361581122287, 'depth': 3, 'colsample_bylevel': 0.6020842875995371, 'min_data_in_leaf': 55, 'l2_leaf_reg': 4.597703099114672, 'random_strength': 0.10943544445129885, 'od_type': 'Iter', 'od_wait': 26}. Best is trial 23 with value: 0.2888133333333333.\n",
      "[I 2025-06-26 12:53:48,914] Trial 29 finished with value: 0.2849022222222222 and parameters: {'bootstrap_type': 'MVS', 'bagging_temperature': 5.048821356468425e-08, 'subsample': 0.8244503549896238, 'learning_rate': 0.22298226449813546, 'depth': 4, 'colsample_bylevel': 0.200541225041573, 'min_data_in_leaf': 16, 'l2_leaf_reg': 4.508605778608642, 'random_strength': 0.029607840461424128, 'od_type': 'Iter', 'od_wait': 17}. Best is trial 23 with value: 0.2888133333333333.\n",
      "[I 2025-06-26 12:53:55,622] Trial 30 finished with value: 0.28542666666666666 and parameters: {'bootstrap_type': 'Bernoulli', 'bagging_temperature': 0.06646163912356177, 'subsample': 0.48860038677011525, 'learning_rate': 0.15337280163120307, 'depth': 4, 'colsample_bylevel': 0.502804941986039, 'min_data_in_leaf': 27, 'l2_leaf_reg': 4.661884052530517, 'random_strength': 0.042424822846300614, 'od_type': 'Iter', 'od_wait': 16}. Best is trial 23 with value: 0.2888133333333333.\n",
      "[I 2025-06-26 12:54:18,790] Trial 31 finished with value: 0.28813777777777777 and parameters: {'bootstrap_type': 'MVS', 'bagging_temperature': 8.324684517015494e-06, 'subsample': 0.4351562620249605, 'learning_rate': 0.0442650079933302, 'depth': 3, 'colsample_bylevel': 0.7797636367809798, 'min_data_in_leaf': 25, 'l2_leaf_reg': 4.659000972236973, 'random_strength': 0.1912398527227757, 'od_type': 'Iter', 'od_wait': 29}. Best is trial 23 with value: 0.2888133333333333.\n",
      "[I 2025-06-26 12:54:45,264] Trial 32 finished with value: 0.28635555555555553 and parameters: {'bootstrap_type': 'MVS', 'bagging_temperature': 0.0010326576171847041, 'subsample': 0.23165730643802612, 'learning_rate': 0.01835238476507757, 'depth': 3, 'colsample_bylevel': 0.7013686958987722, 'min_data_in_leaf': 58, 'l2_leaf_reg': 3.08777579302636, 'random_strength': 0.2152897253734035, 'od_type': 'IncToDec', 'od_wait': 39}. Best is trial 23 with value: 0.2888133333333333.\n",
      "[I 2025-06-26 12:54:59,814] Trial 33 finished with value: 0.28798666666666667 and parameters: {'bootstrap_type': 'Bernoulli', 'bagging_temperature': 2.498112843730587e-06, 'subsample': 0.19396543817370077, 'learning_rate': 0.13829352048769503, 'depth': 3, 'colsample_bylevel': 0.7805267600340086, 'min_data_in_leaf': 16, 'l2_leaf_reg': 4.195226734394629, 'random_strength': 0.0799035020927515, 'od_type': 'IncToDec', 'od_wait': 36}. Best is trial 23 with value: 0.2888133333333333.\n",
      "[I 2025-06-26 12:55:22,914] Trial 34 finished with value: 0.28709777777777773 and parameters: {'bootstrap_type': 'MVS', 'bagging_temperature': 1.1346978128566626e-09, 'subsample': 0.1351699420608271, 'learning_rate': 0.03835951158447809, 'depth': 4, 'colsample_bylevel': 0.7182326106200158, 'min_data_in_leaf': 7, 'l2_leaf_reg': 3.790698415038191, 'random_strength': 0.3876154514298362, 'od_type': 'Iter', 'od_wait': 33}. Best is trial 23 with value: 0.2888133333333333.\n",
      "[I 2025-06-26 12:55:48,501] Trial 35 finished with value: 0.2875466666666667 and parameters: {'bootstrap_type': 'MVS', 'bagging_temperature': 2.8201535462108845e-06, 'subsample': 0.461105237380952, 'learning_rate': 0.06126990374489667, 'depth': 3, 'colsample_bylevel': 0.7348618602321216, 'min_data_in_leaf': 60, 'l2_leaf_reg': 4.788365751095074, 'random_strength': 0.4607523266449449, 'od_type': 'Iter', 'od_wait': 32}. Best is trial 23 with value: 0.2888133333333333.\n",
      "[I 2025-06-26 12:56:15,948] Trial 36 finished with value: 0.28677777777777774 and parameters: {'bootstrap_type': 'Bernoulli', 'bagging_temperature': 8.665026111642562e-07, 'subsample': 0.3607006984279498, 'learning_rate': 0.011607606122504041, 'depth': 3, 'colsample_bylevel': 0.768694596739817, 'min_data_in_leaf': 24, 'l2_leaf_reg': 2.3246398842802707, 'random_strength': 0.06842653044010415, 'od_type': 'Iter', 'od_wait': 23}. Best is trial 23 with value: 0.2888133333333333.\n",
      "[I 2025-06-26 12:56:35,422] Trial 37 finished with value: 0.2873866666666666 and parameters: {'bootstrap_type': 'MVS', 'bagging_temperature': 1.2159970318780626, 'subsample': 0.695751450826462, 'learning_rate': 0.07773466987977763, 'depth': 3, 'colsample_bylevel': 0.7058908816048274, 'min_data_in_leaf': 22, 'l2_leaf_reg': 3.9020006320959597, 'random_strength': 0.1670385657709448, 'od_type': 'Iter', 'od_wait': 34}. Best is trial 23 with value: 0.2888133333333333.\n",
      "[I 2025-06-26 12:57:06,123] Trial 38 finished with value: 0.28732444444444444 and parameters: {'bootstrap_type': 'Bayesian', 'bagging_temperature': 0.0001682732080772316, 'subsample': 0.44269552144334207, 'learning_rate': 0.0112484587427756, 'depth': 3, 'colsample_bylevel': 0.7848403200634759, 'min_data_in_leaf': 47, 'l2_leaf_reg': 3.705695298926441, 'random_strength': 0.13408123131878436, 'od_type': 'Iter', 'od_wait': 30}. Best is trial 23 with value: 0.2888133333333333.\n",
      "[I 2025-06-26 12:57:17,708] Trial 39 finished with value: 0.2843111111111111 and parameters: {'bootstrap_type': 'MVS', 'bagging_temperature': 3.0581830229871055e-05, 'subsample': 0.2970345417732435, 'learning_rate': 0.03978940986486047, 'depth': 5, 'colsample_bylevel': 0.06523755161373812, 'min_data_in_leaf': 35, 'l2_leaf_reg': 1.460823845791871, 'random_strength': 0.014003436397271862, 'od_type': 'Iter', 'od_wait': 16}. Best is trial 23 with value: 0.2888133333333333.\n",
      "[I 2025-06-26 12:57:48,916] Trial 40 finished with value: 0.2898266666666667 and parameters: {'bootstrap_type': 'MVS', 'bagging_temperature': 0.0003127055459513509, 'subsample': 0.5810398337042082, 'learning_rate': 0.06636310670484787, 'depth': 5, 'colsample_bylevel': 0.5721606839482257, 'min_data_in_leaf': 22, 'l2_leaf_reg': 4.638286856250468, 'random_strength': 0.5051697560735477, 'od_type': 'Iter', 'od_wait': 30}. Best is trial 40 with value: 0.2898266666666667.\n",
      "[I 2025-06-26 12:58:03,603] Trial 41 finished with value: 0.28864888888888884 and parameters: {'bootstrap_type': 'MVS', 'bagging_temperature': 5.104123071509267e-05, 'subsample': 0.6065023439392836, 'learning_rate': 0.170969617720109, 'depth': 6, 'colsample_bylevel': 0.7980204959811742, 'min_data_in_leaf': 6, 'l2_leaf_reg': 4.56160756298383, 'random_strength': 0.5363156614043115, 'od_type': 'Iter', 'od_wait': 29}. Best is trial 40 with value: 0.2898266666666667.\n",
      "[I 2025-06-26 12:58:20,688] Trial 42 finished with value: 0.28755555555555556 and parameters: {'bootstrap_type': 'Bernoulli', 'bagging_temperature': 3.636320108044865e-06, 'subsample': 0.5934825995482753, 'learning_rate': 0.15565271258579974, 'depth': 6, 'colsample_bylevel': 0.5486519580981288, 'min_data_in_leaf': 5, 'l2_leaf_reg': 4.045008889795057, 'random_strength': 0.7258598226687517, 'od_type': 'Iter', 'od_wait': 24}. Best is trial 40 with value: 0.2898266666666667.\n",
      "[I 2025-06-26 12:58:57,319] Trial 43 finished with value: 0.28756 and parameters: {'bootstrap_type': 'Bayesian', 'bagging_temperature': 0.0038636340136447215, 'subsample': 0.6210882828979563, 'learning_rate': 0.08154095962895037, 'depth': 7, 'colsample_bylevel': 0.6551818675923, 'min_data_in_leaf': 16, 'l2_leaf_reg': 4.8889174665287465, 'random_strength': 0.5573567015864892, 'od_type': 'Iter', 'od_wait': 35}. Best is trial 40 with value: 0.2898266666666667.\n",
      "[I 2025-06-26 12:59:18,110] Trial 44 finished with value: 0.28641777777777777 and parameters: {'bootstrap_type': 'MVS', 'bagging_temperature': 0.17028969643084088, 'subsample': 0.7067458819264937, 'learning_rate': 0.09006427995478943, 'depth': 7, 'colsample_bylevel': 0.7382561776004705, 'min_data_in_leaf': 5, 'l2_leaf_reg': 4.37352657731019, 'random_strength': 0.4128442025702397, 'od_type': 'Iter', 'od_wait': 20}. Best is trial 40 with value: 0.2898266666666667.\n",
      "[I 2025-06-26 12:59:33,933] Trial 45 finished with value: 0.28739999999999993 and parameters: {'bootstrap_type': 'MVS', 'bagging_temperature': 5.434062138104904e-06, 'subsample': 0.7411996996064365, 'learning_rate': 0.20413563712459443, 'depth': 7, 'colsample_bylevel': 0.6839681535979214, 'min_data_in_leaf': 8, 'l2_leaf_reg': 4.459394412412097, 'random_strength': 0.43534449250456897, 'od_type': 'Iter', 'od_wait': 34}. Best is trial 40 with value: 0.2898266666666667.\n",
      "[I 2025-06-26 13:00:02,799] Trial 46 finished with value: 0.2857955555555555 and parameters: {'bootstrap_type': 'MVS', 'bagging_temperature': 0.3447827954954226, 'subsample': 0.47682138918444833, 'learning_rate': 0.011924054086186815, 'depth': 5, 'colsample_bylevel': 0.6021601361148461, 'min_data_in_leaf': 32, 'l2_leaf_reg': 4.539773459242379, 'random_strength': 0.43025473381280155, 'od_type': 'Iter', 'od_wait': 33}. Best is trial 40 with value: 0.2898266666666667.\n",
      "[I 2025-06-26 13:00:07,406] Trial 47 finished with value: 0.2845333333333333 and parameters: {'bootstrap_type': 'Bernoulli', 'bagging_temperature': 0.0001563446815296347, 'subsample': 0.2948986247454493, 'learning_rate': 0.1925385678969829, 'depth': 6, 'colsample_bylevel': 0.4323880891931795, 'min_data_in_leaf': 38, 'l2_leaf_reg': 1.7306444502356786, 'random_strength': 0.023174551228959027, 'od_type': 'Iter', 'od_wait': 12}. Best is trial 40 with value: 0.2898266666666667.\n",
      "[I 2025-06-26 13:00:32,685] Trial 48 finished with value: 0.2874933333333333 and parameters: {'bootstrap_type': 'MVS', 'bagging_temperature': 0.00020458914747448852, 'subsample': 0.5652687557134604, 'learning_rate': 0.05923890441558655, 'depth': 5, 'colsample_bylevel': 0.6246153175078629, 'min_data_in_leaf': 13, 'l2_leaf_reg': 4.54052657349414, 'random_strength': 0.7274408536402807, 'od_type': 'Iter', 'od_wait': 28}. Best is trial 40 with value: 0.2898266666666667.\n",
      "[I 2025-06-26 13:01:00,212] Trial 49 finished with value: 0.28627111111111114 and parameters: {'bootstrap_type': 'MVS', 'bagging_temperature': 1.083071242891852e-06, 'subsample': 0.7190152297674418, 'learning_rate': 0.03450378157401949, 'depth': 5, 'colsample_bylevel': 0.47242887557077473, 'min_data_in_leaf': 12, 'l2_leaf_reg': 4.911038567948509, 'random_strength': 0.35470720452786364, 'od_type': 'Iter', 'od_wait': 23}. Best is trial 40 with value: 0.2898266666666667.\n",
      "[I 2025-06-26 13:01:36,467] Trial 50 finished with value: 0.2882577777777778 and parameters: {'bootstrap_type': 'MVS', 'bagging_temperature': 0.22112189876738653, 'subsample': 0.5001993869292545, 'learning_rate': 0.017364851742794608, 'depth': 6, 'colsample_bylevel': 0.43628873288141967, 'min_data_in_leaf': 78, 'l2_leaf_reg': 2.475853948605839, 'random_strength': 0.023431837116900493, 'od_type': 'IncToDec', 'od_wait': 13}. Best is trial 40 with value: 0.2898266666666667.\n",
      "[I 2025-06-26 13:02:01,634] Trial 51 finished with value: 0.2871244444444444 and parameters: {'bootstrap_type': 'MVS', 'bagging_temperature': 0.011836413324581943, 'subsample': 0.4255567060158094, 'learning_rate': 0.025215802642645637, 'depth': 5, 'colsample_bylevel': 0.49158790004732866, 'min_data_in_leaf': 77, 'l2_leaf_reg': 2.2390386194482623, 'random_strength': 0.1764556729774887, 'od_type': 'IncToDec', 'od_wait': 14}. Best is trial 40 with value: 0.2898266666666667.\n",
      "[I 2025-06-26 13:02:20,711] Trial 52 finished with value: 0.2884977777777778 and parameters: {'bootstrap_type': 'Bernoulli', 'bagging_temperature': 0.2159389537628958, 'subsample': 0.2197829610132046, 'learning_rate': 0.03629395917325977, 'depth': 7, 'colsample_bylevel': 0.2021575193831502, 'min_data_in_leaf': 50, 'l2_leaf_reg': 2.192713514198046, 'random_strength': 0.14997824642675722, 'od_type': 'IncToDec', 'od_wait': 15}. Best is trial 40 with value: 0.2898266666666667.\n",
      "[I 2025-06-26 13:02:35,522] Trial 53 finished with value: 0.28602666666666665 and parameters: {'bootstrap_type': 'Bernoulli', 'bagging_temperature': 8.153402854171228, 'subsample': 0.16387194313650957, 'learning_rate': 0.05076547847189423, 'depth': 7, 'colsample_bylevel': 0.3066814580094267, 'min_data_in_leaf': 61, 'l2_leaf_reg': 2.5905350149375796, 'random_strength': 0.2636091765500534, 'od_type': 'IncToDec', 'od_wait': 14}. Best is trial 40 with value: 0.2898266666666667.\n",
      "[I 2025-06-26 13:02:51,106] Trial 54 finished with value: 0.28719999999999996 and parameters: {'bootstrap_type': 'MVS', 'bagging_temperature': 0.0003577263113934399, 'subsample': 0.10755449133288848, 'learning_rate': 0.05107793301940725, 'depth': 8, 'colsample_bylevel': 0.3154891409728307, 'min_data_in_leaf': 32, 'l2_leaf_reg': 1.693941346935354, 'random_strength': 0.071071683687257, 'od_type': 'Iter', 'od_wait': 17}. Best is trial 40 with value: 0.2898266666666667.\n",
      "[I 2025-06-26 13:03:08,076] Trial 55 finished with value: 0.28655111111111103 and parameters: {'bootstrap_type': 'Bernoulli', 'bagging_temperature': 0.1628725344224456, 'subsample': 0.059093898736049366, 'learning_rate': 0.023479334882371673, 'depth': 6, 'colsample_bylevel': 0.14875097318522584, 'min_data_in_leaf': 29, 'l2_leaf_reg': 1.0209844547415607, 'random_strength': 0.23708398139506665, 'od_type': 'IncToDec', 'od_wait': 13}. Best is trial 40 with value: 0.2898266666666667.\n",
      "[I 2025-06-26 13:03:35,344] Trial 56 finished with value: 0.28532444444444444 and parameters: {'bootstrap_type': 'MVS', 'bagging_temperature': 8.184809804283687e-06, 'subsample': 0.13881220869882185, 'learning_rate': 0.004284348242294973, 'depth': 6, 'colsample_bylevel': 0.2825500851298717, 'min_data_in_leaf': 82, 'l2_leaf_reg': 1.5142592596950089, 'random_strength': 0.31747466959116877, 'od_type': 'Iter', 'od_wait': 21}. Best is trial 40 with value: 0.2898266666666667.\n",
      "[I 2025-06-26 13:03:59,116] Trial 57 finished with value: 0.28747999999999996 and parameters: {'bootstrap_type': 'MVS', 'bagging_temperature': 0.0011197036944173618, 'subsample': 0.6130369412285009, 'learning_rate': 0.06610045166656638, 'depth': 3, 'colsample_bylevel': 0.4357513188434776, 'min_data_in_leaf': 39, 'l2_leaf_reg': 3.644646139881467, 'random_strength': 0.4078680531760023, 'od_type': 'Iter', 'od_wait': 43}. Best is trial 40 with value: 0.2898266666666667.\n",
      "[I 2025-06-26 13:04:15,072] Trial 58 finished with value: 0.2890488888888889 and parameters: {'bootstrap_type': 'MVS', 'bagging_temperature': 0.0893685652724, 'subsample': 0.10191708012543314, 'learning_rate': 0.053990644920378625, 'depth': 7, 'colsample_bylevel': 0.24494998710408866, 'min_data_in_leaf': 78, 'l2_leaf_reg': 2.2850633871479706, 'random_strength': 0.047003966211052406, 'od_type': 'Iter', 'od_wait': 19}. Best is trial 40 with value: 0.2898266666666667.\n",
      "[I 2025-06-26 13:04:33,024] Trial 59 finished with value: 0.2885422222222222 and parameters: {'bootstrap_type': 'MVS', 'bagging_temperature': 9.652607367560078, 'subsample': 0.23738870333068057, 'learning_rate': 0.049036077464480715, 'depth': 9, 'colsample_bylevel': 0.1118218885688515, 'min_data_in_leaf': 66, 'l2_leaf_reg': 2.9693379121467878, 'random_strength': 0.256655438822523, 'od_type': 'Iter', 'od_wait': 25}. Best is trial 40 with value: 0.2898266666666667.\n",
      "[I 2025-06-26 13:05:02,260] Trial 60 finished with value: 0.28794222222222227 and parameters: {'bootstrap_type': 'MVS', 'bagging_temperature': 2.1743801440818253, 'subsample': 0.23283009266510268, 'learning_rate': 0.0509296326114008, 'depth': 10, 'colsample_bylevel': 0.2266468258653268, 'min_data_in_leaf': 52, 'l2_leaf_reg': 4.655222315169239, 'random_strength': 0.3064602537174661, 'od_type': 'Iter', 'od_wait': 25}. Best is trial 40 with value: 0.2898266666666667.\n",
      "[I 2025-06-26 13:05:13,490] Trial 61 finished with value: 0.28757777777777777 and parameters: {'bootstrap_type': 'MVS', 'bagging_temperature': 3.6489425880038198, 'subsample': 0.16702100732388525, 'learning_rate': 0.1255134132075788, 'depth': 9, 'colsample_bylevel': 0.16066145637426474, 'min_data_in_leaf': 89, 'l2_leaf_reg': 2.1721256086653975, 'random_strength': 0.3522981770482694, 'od_type': 'Iter', 'od_wait': 24}. Best is trial 40 with value: 0.2898266666666667.\n",
      "[I 2025-06-26 13:05:36,061] Trial 62 finished with value: 0.2852666666666666 and parameters: {'bootstrap_type': 'Bayesian', 'bagging_temperature': 2.383254159611888, 'subsample': 0.3266743016897196, 'learning_rate': 0.016370209196981764, 'depth': 8, 'colsample_bylevel': 0.1117509432183915, 'min_data_in_leaf': 70, 'l2_leaf_reg': 3.340858600307247, 'random_strength': 0.12426002232900307, 'od_type': 'Iter', 'od_wait': 21}. Best is trial 40 with value: 0.2898266666666667.\n",
      "[I 2025-06-26 13:06:01,866] Trial 63 finished with value: 0.2885422222222222 and parameters: {'bootstrap_type': 'MVS', 'bagging_temperature': 9.183618358956524e-05, 'subsample': 0.15784536606446894, 'learning_rate': 0.04498092541473367, 'depth': 8, 'colsample_bylevel': 0.34827544305186914, 'min_data_in_leaf': 78, 'l2_leaf_reg': 1.4876091715942654, 'random_strength': 0.07234050523366617, 'od_type': 'IncToDec', 'od_wait': 17}. Best is trial 40 with value: 0.2898266666666667.\n",
      "[I 2025-06-26 13:06:15,174] Trial 64 finished with value: 0.28533777777777775 and parameters: {'bootstrap_type': 'MVS', 'bagging_temperature': 0.007050145870253942, 'subsample': 0.1867659631870156, 'learning_rate': 0.07684981806906033, 'depth': 8, 'colsample_bylevel': 0.4644478133766317, 'min_data_in_leaf': 92, 'l2_leaf_reg': 1.1783334425993695, 'random_strength': 0.10155614201189472, 'od_type': 'IncToDec', 'od_wait': 14}. Best is trial 40 with value: 0.2898266666666667.\n",
      "[I 2025-06-26 13:06:43,353] Trial 65 finished with value: 0.2869644444444444 and parameters: {'bootstrap_type': 'MVS', 'bagging_temperature': 1.1189607344556756e-05, 'subsample': 0.13831125433052074, 'learning_rate': 0.018883015391774893, 'depth': 7, 'colsample_bylevel': 0.24250981873674732, 'min_data_in_leaf': 64, 'l2_leaf_reg': 2.181156968051143, 'random_strength': 0.18824356670380352, 'od_type': 'IncToDec', 'od_wait': 28}. Best is trial 40 with value: 0.2898266666666667.\n",
      "[I 2025-06-26 13:06:49,337] Trial 66 finished with value: 0.28467555555555557 and parameters: {'bootstrap_type': 'MVS', 'bagging_temperature': 2.5934856972005155e-05, 'subsample': 0.16021908940191085, 'learning_rate': 0.10961819858553343, 'depth': 5, 'colsample_bylevel': 0.51551755690661, 'min_data_in_leaf': 43, 'l2_leaf_reg': 1.0918860277954725, 'random_strength': 0.20727811724345618, 'od_type': 'Iter', 'od_wait': 12}. Best is trial 40 with value: 0.2898266666666667.\n",
      "[I 2025-06-26 13:07:16,532] Trial 67 finished with value: 0.2883422222222222 and parameters: {'bootstrap_type': 'MVS', 'bagging_temperature': 2.553627793729643e-08, 'subsample': 0.8770225884972256, 'learning_rate': 0.03520131772107553, 'depth': 4, 'colsample_bylevel': 0.5727063355657078, 'min_data_in_leaf': 43, 'l2_leaf_reg': 4.9204566614420795, 'random_strength': 0.05074958177052511, 'od_type': 'Iter', 'od_wait': 29}. Best is trial 40 with value: 0.2898266666666667.\n",
      "[I 2025-06-26 13:07:36,004] Trial 68 finished with value: 0.28685333333333335 and parameters: {'bootstrap_type': 'MVS', 'bagging_temperature': 0.6139422008997278, 'subsample': 0.26228857565992436, 'learning_rate': 0.03401954586097859, 'depth': 6, 'colsample_bylevel': 0.2971560238501617, 'min_data_in_leaf': 76, 'l2_leaf_reg': 2.0986580018552847, 'random_strength': 0.033200062568811875, 'od_type': 'Iter', 'od_wait': 14}. Best is trial 40 with value: 0.2898266666666667.\n",
      "[I 2025-06-26 13:07:45,214] Trial 69 finished with value: 0.28430666666666665 and parameters: {'bootstrap_type': 'MVS', 'bagging_temperature': 0.00011889146753960237, 'subsample': 0.24538524889790725, 'learning_rate': 0.29988185686273494, 'depth': 6, 'colsample_bylevel': 0.7477416870546882, 'min_data_in_leaf': 2, 'l2_leaf_reg': 3.4521914726420744, 'random_strength': 0.8327053002811236, 'od_type': 'IncToDec', 'od_wait': 36}. Best is trial 40 with value: 0.2898266666666667.\n",
      "[I 2025-06-26 13:08:04,764] Trial 70 finished with value: 0.2858266666666667 and parameters: {'bootstrap_type': 'Bayesian', 'bagging_temperature': 0.08198513131709187, 'subsample': 0.10087737663448815, 'learning_rate': 0.05734463617796946, 'depth': 9, 'colsample_bylevel': 0.07910413891905255, 'min_data_in_leaf': 62, 'l2_leaf_reg': 2.934273985926984, 'random_strength': 0.3764349379925006, 'od_type': 'IncToDec', 'od_wait': 29}. Best is trial 40 with value: 0.2898266666666667.\n",
      "[I 2025-06-26 13:08:12,920] Trial 71 finished with value: 0.2849511111111111 and parameters: {'bootstrap_type': 'MVS', 'bagging_temperature': 0.00011444771629718632, 'subsample': 0.07005684968530455, 'learning_rate': 0.2730108321311569, 'depth': 10, 'colsample_bylevel': 0.35252754877718206, 'min_data_in_leaf': 58, 'l2_leaf_reg': 2.218698731067549, 'random_strength': 0.04905637978804019, 'od_type': 'IncToDec', 'od_wait': 13}. Best is trial 40 with value: 0.2898266666666667.\n",
      "[I 2025-06-26 13:08:28,452] Trial 72 finished with value: 0.28587999999999997 and parameters: {'bootstrap_type': 'Bernoulli', 'bagging_temperature': 2.606933175322367e-08, 'subsample': 0.29093107236098914, 'learning_rate': 0.06403925785140877, 'depth': 7, 'colsample_bylevel': 0.3999944524762829, 'min_data_in_leaf': 93, 'l2_leaf_reg': 1.6542446654653058, 'random_strength': 0.23419076715354384, 'od_type': 'IncToDec', 'od_wait': 12}. Best is trial 40 with value: 0.2898266666666667.\n",
      "[I 2025-06-26 13:09:04,163] Trial 73 finished with value: 0.2880933333333333 and parameters: {'bootstrap_type': 'Bayesian', 'bagging_temperature': 2.727324235620148e-06, 'subsample': 0.42254189015675603, 'learning_rate': 0.012238407363059596, 'depth': 6, 'colsample_bylevel': 0.32883223891304136, 'min_data_in_leaf': 76, 'l2_leaf_reg': 1.522381816284578, 'random_strength': 0.04522720567620788, 'od_type': 'IncToDec', 'od_wait': 13}. Best is trial 40 with value: 0.2898266666666667.\n",
      "[I 2025-06-26 13:09:54,030] Trial 74 finished with value: 0.2901155555555555 and parameters: {'bootstrap_type': 'MVS', 'bagging_temperature': 5.233089240178375, 'subsample': 0.06783871147723564, 'learning_rate': 0.018387660525581693, 'depth': 8, 'colsample_bylevel': 0.4214429324162141, 'min_data_in_leaf': 61, 'l2_leaf_reg': 2.844166127031995, 'random_strength': 0.05785320613974244, 'od_type': 'Iter', 'od_wait': 31}. Best is trial 74 with value: 0.2901155555555555.\n",
      "[I 2025-06-26 13:10:45,429] Trial 75 finished with value: 0.28718666666666665 and parameters: {'bootstrap_type': 'MVS', 'bagging_temperature': 3.4272048060114444, 'subsample': 0.3333191401065893, 'learning_rate': 0.005964247457194557, 'depth': 8, 'colsample_bylevel': 0.44911379646453153, 'min_data_in_leaf': 72, 'l2_leaf_reg': 3.0801948651833713, 'random_strength': 0.08324446687512543, 'od_type': 'Iter', 'od_wait': 30}. Best is trial 74 with value: 0.2901155555555555.\n",
      "[I 2025-06-26 13:10:52,165] Trial 76 finished with value: 0.2868 and parameters: {'bootstrap_type': 'MVS', 'bagging_temperature': 3.4152155944767397, 'subsample': 0.27679930579166967, 'learning_rate': 0.26415836953813976, 'depth': 5, 'colsample_bylevel': 0.3372945526842357, 'min_data_in_leaf': 85, 'l2_leaf_reg': 2.3044302166706734, 'random_strength': 0.10119959610346776, 'od_type': 'Iter', 'od_wait': 36}. Best is trial 74 with value: 0.2901155555555555.\n",
      "[I 2025-06-26 13:11:43,665] Trial 77 finished with value: 0.28673777777777776 and parameters: {'bootstrap_type': 'MVS', 'bagging_temperature': 0.11524677931321495, 'subsample': 0.1195944744756165, 'learning_rate': 0.013241059041733838, 'depth': 8, 'colsample_bylevel': 0.5936087713702695, 'min_data_in_leaf': 52, 'l2_leaf_reg': 2.8806519868561398, 'random_strength': 0.19152264253503784, 'od_type': 'Iter', 'od_wait': 23}. Best is trial 74 with value: 0.2901155555555555.\n",
      "[I 2025-06-26 13:12:03,357] Trial 78 finished with value: 0.28792888888888885 and parameters: {'bootstrap_type': 'MVS', 'bagging_temperature': 0.08341632521170403, 'subsample': 0.690195330019247, 'learning_rate': 0.08013991643426768, 'depth': 8, 'colsample_bylevel': 0.2126180553108375, 'min_data_in_leaf': 46, 'l2_leaf_reg': 3.2676490166152705, 'random_strength': 0.1209277843666714, 'od_type': 'Iter', 'od_wait': 26}. Best is trial 74 with value: 0.2901155555555555.\n",
      "[I 2025-06-26 13:12:12,783] Trial 79 finished with value: 0.2861466666666666 and parameters: {'bootstrap_type': 'MVS', 'bagging_temperature': 0.824963619497223, 'subsample': 0.2175039583546629, 'learning_rate': 0.13403467442671105, 'depth': 9, 'colsample_bylevel': 0.09929668476181984, 'min_data_in_leaf': 45, 'l2_leaf_reg': 1.9629573057678027, 'random_strength': 0.12486452998975331, 'od_type': 'Iter', 'od_wait': 24}. Best is trial 74 with value: 0.2901155555555555.\n",
      "[I 2025-06-26 13:12:34,583] Trial 80 finished with value: 0.28780444444444436 and parameters: {'bootstrap_type': 'Bernoulli', 'bagging_temperature': 0.06708105794781098, 'subsample': 0.2224222430905064, 'learning_rate': 0.07587236911339539, 'depth': 8, 'colsample_bylevel': 0.4125872372223335, 'min_data_in_leaf': 38, 'l2_leaf_reg': 1.7391210658842493, 'random_strength': 0.06936947077739761, 'od_type': 'Iter', 'od_wait': 40}. Best is trial 74 with value: 0.2901155555555555.\n",
      "[I 2025-06-26 13:12:53,480] Trial 81 finished with value: 0.2853111111111111 and parameters: {'bootstrap_type': 'MVS', 'bagging_temperature': 0.0031724594495244752, 'subsample': 0.22201816621955411, 'learning_rate': 0.015522665279710282, 'depth': 8, 'colsample_bylevel': 0.09396058404199392, 'min_data_in_leaf': 84, 'l2_leaf_reg': 1.7350937393704857, 'random_strength': 0.34846092795698214, 'od_type': 'IncToDec', 'od_wait': 12}. Best is trial 74 with value: 0.2901155555555555.\n",
      "[I 2025-06-26 13:13:27,306] Trial 82 finished with value: 0.28756444444444446 and parameters: {'bootstrap_type': 'MVS', 'bagging_temperature': 2.682272506088703e-08, 'subsample': 0.7153353945199599, 'learning_rate': 0.022444002385003336, 'depth': 6, 'colsample_bylevel': 0.5799071781924273, 'min_data_in_leaf': 48, 'l2_leaf_reg': 4.558625083059886, 'random_strength': 0.20944318189057992, 'od_type': 'Iter', 'od_wait': 11}. Best is trial 74 with value: 0.2901155555555555.\n",
      "[I 2025-06-26 13:13:42,689] Trial 83 finished with value: 0.2863644444444444 and parameters: {'bootstrap_type': 'Bernoulli', 'bagging_temperature': 0.0009622154645571654, 'subsample': 0.43139879991177, 'learning_rate': 0.11340502783376342, 'depth': 9, 'colsample_bylevel': 0.2982287379191129, 'min_data_in_leaf': 78, 'l2_leaf_reg': 2.7758763989016058, 'random_strength': 0.10224450498705218, 'od_type': 'Iter', 'od_wait': 25}. Best is trial 74 with value: 0.2901155555555555.\n",
      "[I 2025-06-26 13:14:04,788] Trial 84 finished with value: 0.2873022222222222 and parameters: {'bootstrap_type': 'Bayesian', 'bagging_temperature': 0.00046710447290083295, 'subsample': 0.6168099997005101, 'learning_rate': 0.12078831180955388, 'depth': 3, 'colsample_bylevel': 0.6853139469688978, 'min_data_in_leaf': 37, 'l2_leaf_reg': 4.372190983994345, 'random_strength': 0.37685481323399195, 'od_type': 'IncToDec', 'od_wait': 27}. Best is trial 74 with value: 0.2901155555555555.\n",
      "[I 2025-06-26 13:14:49,415] Trial 85 finished with value: 0.28987111111111113 and parameters: {'bootstrap_type': 'MVS', 'bagging_temperature': 0.0021364471055914176, 'subsample': 0.06603249320328008, 'learning_rate': 0.03243269300119212, 'depth': 8, 'colsample_bylevel': 0.531020118990097, 'min_data_in_leaf': 87, 'l2_leaf_reg': 2.096338487635091, 'random_strength': 0.17336461797753341, 'od_type': 'Iter', 'od_wait': 38}. Best is trial 74 with value: 0.2901155555555555.\n",
      "[I 2025-06-26 13:15:30,371] Trial 86 finished with value: 0.28792888888888885 and parameters: {'bootstrap_type': 'MVS', 'bagging_temperature': 9.656003559631315e-05, 'subsample': 0.13088848367834144, 'learning_rate': 0.13332906110934062, 'depth': 10, 'colsample_bylevel': 0.7356116816911669, 'min_data_in_leaf': 100, 'l2_leaf_reg': 2.9874708137070893, 'random_strength': 0.22482381569495208, 'od_type': 'Iter', 'od_wait': 38}. Best is trial 74 with value: 0.2901155555555555.\n",
      "[I 2025-06-26 13:16:13,863] Trial 87 finished with value: 0.2898533333333333 and parameters: {'bootstrap_type': 'MVS', 'bagging_temperature': 0.8887063634223238, 'subsample': 0.061580186930116625, 'learning_rate': 0.03077373422004101, 'depth': 9, 'colsample_bylevel': 0.2571206436471817, 'min_data_in_leaf': 69, 'l2_leaf_reg': 3.233436452669683, 'random_strength': 0.096877206004031, 'od_type': 'Iter', 'od_wait': 42}. Best is trial 74 with value: 0.2901155555555555.\n",
      "[I 2025-06-26 13:16:40,542] Trial 88 finished with value: 0.2869333333333333 and parameters: {'bootstrap_type': 'MVS', 'bagging_temperature': 9.023998752010851e-06, 'subsample': 0.059038069235120824, 'learning_rate': 0.05539220613185494, 'depth': 7, 'colsample_bylevel': 0.5369225489986417, 'min_data_in_leaf': 97, 'l2_leaf_reg': 1.4750320901017953, 'random_strength': 0.1436976555032912, 'od_type': 'Iter', 'od_wait': 39}. Best is trial 74 with value: 0.2901155555555555.\n",
      "[I 2025-06-26 13:16:58,443] Trial 89 finished with value: 0.28775555555555554 and parameters: {'bootstrap_type': 'MVS', 'bagging_temperature': 2.5628793784522026, 'subsample': 0.08380194329053778, 'learning_rate': 0.1183970838331893, 'depth': 9, 'colsample_bylevel': 0.4632952219627101, 'min_data_in_leaf': 76, 'l2_leaf_reg': 3.085282415756191, 'random_strength': 0.19095182596516122, 'od_type': 'Iter', 'od_wait': 36}. Best is trial 74 with value: 0.2901155555555555.\n",
      "[I 2025-06-26 13:17:28,944] Trial 90 finished with value: 0.2863911111111111 and parameters: {'bootstrap_type': 'MVS', 'bagging_temperature': 0.33979903718386384, 'subsample': 0.0971783973048646, 'learning_rate': 0.011160771391584494, 'depth': 8, 'colsample_bylevel': 0.20808744358923162, 'min_data_in_leaf': 63, 'l2_leaf_reg': 3.1276211406602563, 'random_strength': 0.10388311442544274, 'od_type': 'Iter', 'od_wait': 33}. Best is trial 74 with value: 0.2901155555555555.\n",
      "[I 2025-06-26 13:18:15,699] Trial 91 finished with value: 0.28802222222222224 and parameters: {'bootstrap_type': 'MVS', 'bagging_temperature': 0.0006753729559291281, 'subsample': 0.05590871102477877, 'learning_rate': 0.019912986664550027, 'depth': 8, 'colsample_bylevel': 0.47571758697281313, 'min_data_in_leaf': 94, 'l2_leaf_reg': 2.4655107679178845, 'random_strength': 0.2818218858057427, 'od_type': 'Iter', 'od_wait': 45}. Best is trial 74 with value: 0.2901155555555555.\n",
      "[I 2025-06-26 13:18:43,097] Trial 92 finished with value: 0.2865955555555555 and parameters: {'bootstrap_type': 'MVS', 'bagging_temperature': 0.10265633304614506, 'subsample': 0.2553302208209787, 'learning_rate': 0.0966883165984872, 'depth': 8, 'colsample_bylevel': 0.7694561596236208, 'min_data_in_leaf': 35, 'l2_leaf_reg': 3.603574286238019, 'random_strength': 0.6384153918772757, 'od_type': 'Iter', 'od_wait': 30}. Best is trial 74 with value: 0.2901155555555555.\n",
      "[I 2025-06-26 13:19:37,917] Trial 93 finished with value: 0.2899288888888889 and parameters: {'bootstrap_type': 'MVS', 'bagging_temperature': 0.42823187941379504, 'subsample': 0.1394822614264652, 'learning_rate': 0.018943597460621214, 'depth': 9, 'colsample_bylevel': 0.4118897681855141, 'min_data_in_leaf': 73, 'l2_leaf_reg': 3.179783944087877, 'random_strength': 0.21505290128786128, 'od_type': 'IncToDec', 'od_wait': 23}. Best is trial 74 with value: 0.2901155555555555.\n",
      "[I 2025-06-26 13:20:58,736] Trial 94 finished with value: 0.2880933333333333 and parameters: {'bootstrap_type': 'MVS', 'bagging_temperature': 1.6365655006089306, 'subsample': 0.1645173471125567, 'learning_rate': 0.024668214562212052, 'depth': 10, 'colsample_bylevel': 0.6077404995589563, 'min_data_in_leaf': 75, 'l2_leaf_reg': 3.2111500357853893, 'random_strength': 0.2115074393613496, 'od_type': 'IncToDec', 'od_wait': 25}. Best is trial 74 with value: 0.2901155555555555.\n",
      "[I 2025-06-26 13:21:33,083] Trial 95 finished with value: 0.28757333333333335 and parameters: {'bootstrap_type': 'Bayesian', 'bagging_temperature': 0.012932612167816908, 'subsample': 0.0713335833368182, 'learning_rate': 0.03305755843108937, 'depth': 10, 'colsample_bylevel': 0.17702522421664557, 'min_data_in_leaf': 71, 'l2_leaf_reg': 3.5623220291761313, 'random_strength': 0.14365669155534286, 'od_type': 'Iter', 'od_wait': 50}. Best is trial 74 with value: 0.2901155555555555.\n",
      "[I 2025-06-26 13:22:05,534] Trial 96 finished with value: 0.28685777777777777 and parameters: {'bootstrap_type': 'MVS', 'bagging_temperature': 0.14071276338087463, 'subsample': 0.20586704787814025, 'learning_rate': 0.023765929627881738, 'depth': 7, 'colsample_bylevel': 0.39650347777866046, 'min_data_in_leaf': 83, 'l2_leaf_reg': 2.7338321440692255, 'random_strength': 0.3727035939889689, 'od_type': 'IncToDec', 'od_wait': 26}. Best is trial 74 with value: 0.2901155555555555.\n",
      "[I 2025-06-26 13:22:41,098] Trial 97 finished with value: 0.2849955555555555 and parameters: {'bootstrap_type': 'MVS', 'bagging_temperature': 0.3653504573426566, 'subsample': 0.14027607447251017, 'learning_rate': 0.0014369595092318535, 'depth': 8, 'colsample_bylevel': 0.355050341602406, 'min_data_in_leaf': 97, 'l2_leaf_reg': 3.6716596536894084, 'random_strength': 0.39108762646796236, 'od_type': 'IncToDec', 'od_wait': 11}. Best is trial 74 with value: 0.2901155555555555.\n",
      "[I 2025-06-26 13:23:17,377] Trial 98 finished with value: 0.2885155555555555 and parameters: {'bootstrap_type': 'MVS', 'bagging_temperature': 0.020915423248273866, 'subsample': 0.09134362959964845, 'learning_rate': 0.05987434653822892, 'depth': 10, 'colsample_bylevel': 0.2573272047768629, 'min_data_in_leaf': 76, 'l2_leaf_reg': 2.9749357804623364, 'random_strength': 0.21525332576374262, 'od_type': 'IncToDec', 'od_wait': 50}. Best is trial 74 with value: 0.2901155555555555.\n",
      "[I 2025-06-26 13:23:59,959] Trial 99 finished with value: 0.2879111111111112 and parameters: {'bootstrap_type': 'Bayesian', 'bagging_temperature': 0.04662787982595907, 'subsample': 0.2052145890443377, 'learning_rate': 0.07374112772227641, 'depth': 8, 'colsample_bylevel': 0.6314370248737978, 'min_data_in_leaf': 87, 'l2_leaf_reg': 1.6820312404740547, 'random_strength': 0.1436764929260162, 'od_type': 'Iter', 'od_wait': 41}. Best is trial 74 with value: 0.2901155555555555.\n",
      "[I 2025-06-26 13:24:08,380] Trial 100 finished with value: 0.2846933333333333 and parameters: {'bootstrap_type': 'MVS', 'bagging_temperature': 1.9181711664071997e-05, 'subsample': 0.18423565660794172, 'learning_rate': 0.08418510762330267, 'depth': 5, 'colsample_bylevel': 0.19337521191208187, 'min_data_in_leaf': 67, 'l2_leaf_reg': 1.9231626719493922, 'random_strength': 0.5492076664499022, 'od_type': 'Iter', 'od_wait': 16}. Best is trial 74 with value: 0.2901155555555555.\n",
      "[I 2025-06-26 13:24:16,313] Trial 101 finished with value: 0.28544888888888886 and parameters: {'bootstrap_type': 'MVS', 'bagging_temperature': 1.1981138399029129e-05, 'subsample': 0.4469445344756383, 'learning_rate': 0.2998382372150214, 'depth': 5, 'colsample_bylevel': 0.7832773940520601, 'min_data_in_leaf': 6, 'l2_leaf_reg': 4.452332420737919, 'random_strength': 0.7207094216931826, 'od_type': 'Iter', 'od_wait': 27}. Best is trial 74 with value: 0.2901155555555555.\n",
      "[I 2025-06-26 13:24:33,110] Trial 102 finished with value: 0.28668888888888894 and parameters: {'bootstrap_type': 'MVS', 'bagging_temperature': 0.0004234205034847293, 'subsample': 0.09138530940184124, 'learning_rate': 0.04653247090767139, 'depth': 9, 'colsample_bylevel': 0.05278460183390504, 'min_data_in_leaf': 100, 'l2_leaf_reg': 2.8349799992656157, 'random_strength': 0.01927978227300453, 'od_type': 'Iter', 'od_wait': 18}. Best is trial 74 with value: 0.2901155555555555.\n",
      "[I 2025-06-26 13:25:15,002] Trial 103 finished with value: 0.28862666666666664 and parameters: {'bootstrap_type': 'MVS', 'bagging_temperature': 0.031401033254228494, 'subsample': 0.16624386629003823, 'learning_rate': 0.019391285828493417, 'depth': 9, 'colsample_bylevel': 0.3008243481529067, 'min_data_in_leaf': 61, 'l2_leaf_reg': 4.591818777050838, 'random_strength': 0.2775346550706701, 'od_type': 'IncToDec', 'od_wait': 21}. Best is trial 74 with value: 0.2901155555555555.\n",
      "[I 2025-06-26 13:26:05,734] Trial 104 finished with value: 0.2884488888888889 and parameters: {'bootstrap_type': 'MVS', 'bagging_temperature': 0.001176852947625753, 'subsample': 0.3302024263860504, 'learning_rate': 0.02107538024926953, 'depth': 8, 'colsample_bylevel': 0.5088875453071882, 'min_data_in_leaf': 44, 'l2_leaf_reg': 4.617780885140394, 'random_strength': 0.1056240446398515, 'od_type': 'IncToDec', 'od_wait': 21}. Best is trial 74 with value: 0.2901155555555555.\n",
      "[I 2025-06-26 13:26:12,820] Trial 105 finished with value: 0.28544444444444445 and parameters: {'bootstrap_type': 'Bayesian', 'bagging_temperature': 0.00015117529376150338, 'subsample': 0.9949685856452165, 'learning_rate': 0.279959556880916, 'depth': 7, 'colsample_bylevel': 0.7806617378768332, 'min_data_in_leaf': 21, 'l2_leaf_reg': 4.707392034060425, 'random_strength': 0.6809357972158724, 'od_type': 'Iter', 'od_wait': 15}. Best is trial 74 with value: 0.2901155555555555.\n",
      "[I 2025-06-26 13:26:43,423] Trial 106 finished with value: 0.2886666666666667 and parameters: {'bootstrap_type': 'MVS', 'bagging_temperature': 0.00019087767084571404, 'subsample': 0.06948260861269935, 'learning_rate': 0.028131669416379904, 'depth': 8, 'colsample_bylevel': 0.2159207295860216, 'min_data_in_leaf': 45, 'l2_leaf_reg': 3.8856071548462308, 'random_strength': 0.1722107962156246, 'od_type': 'Iter', 'od_wait': 49}. Best is trial 74 with value: 0.2901155555555555.\n",
      "[I 2025-06-26 13:27:10,934] Trial 107 finished with value: 0.2825422222222222 and parameters: {'bootstrap_type': 'MVS', 'bagging_temperature': 0.007290914127645099, 'subsample': 0.614296876100188, 'learning_rate': 0.0037503176559519334, 'depth': 9, 'colsample_bylevel': 0.19530256744475016, 'min_data_in_leaf': 60, 'l2_leaf_reg': 4.663729715055593, 'random_strength': 0.5609561518333746, 'od_type': 'IncToDec', 'od_wait': 20}. Best is trial 74 with value: 0.2901155555555555.\n",
      "[I 2025-06-26 13:27:27,074] Trial 108 finished with value: 0.2862533333333333 and parameters: {'bootstrap_type': 'Bernoulli', 'bagging_temperature': 7.4361993122700766e-06, 'subsample': 0.05840545752370026, 'learning_rate': 0.07638219587245482, 'depth': 8, 'colsample_bylevel': 0.16858209549035422, 'min_data_in_leaf': 28, 'l2_leaf_reg': 3.5377729781325615, 'random_strength': 0.1626042221709493, 'od_type': 'Iter', 'od_wait': 49}. Best is trial 74 with value: 0.2901155555555555.\n",
      "[I 2025-06-26 13:28:03,157] Trial 109 finished with value: 0.28540000000000004 and parameters: {'bootstrap_type': 'MVS', 'bagging_temperature': 0.0007239482763667397, 'subsample': 0.2907580524759088, 'learning_rate': 0.011652889346709454, 'depth': 8, 'colsample_bylevel': 0.3451148807946405, 'min_data_in_leaf': 2, 'l2_leaf_reg': 4.789027467726989, 'random_strength': 0.31471933965868915, 'od_type': 'Iter', 'od_wait': 46}. Best is trial 74 with value: 0.2901155555555555.\n",
      "[I 2025-06-26 13:28:22,167] Trial 110 finished with value: 0.28582222222222226 and parameters: {'bootstrap_type': 'MVS', 'bagging_temperature': 8.285596164038378e-05, 'subsample': 0.08358311722484574, 'learning_rate': 0.020603556443531953, 'depth': 7, 'colsample_bylevel': 0.08504356234004395, 'min_data_in_leaf': 37, 'l2_leaf_reg': 2.3421209641665177, 'random_strength': 0.22436611558244393, 'od_type': 'Iter', 'od_wait': 46}. Best is trial 74 with value: 0.2901155555555555.\n",
      "[I 2025-06-26 13:28:38,581] Trial 111 finished with value: 0.28555555555555556 and parameters: {'bootstrap_type': 'MVS', 'bagging_temperature': 0.023675256043107048, 'subsample': 0.2455015945783785, 'learning_rate': 0.05482406267456186, 'depth': 10, 'colsample_bylevel': 0.14439505822973808, 'min_data_in_leaf': 76, 'l2_leaf_reg': 4.426546512645816, 'random_strength': 0.7016365684605606, 'od_type': 'IncToDec', 'od_wait': 19}. Best is trial 74 with value: 0.2901155555555555.\n",
      "[I 2025-06-26 13:29:29,574] Trial 112 finished with value: 0.28870666666666667 and parameters: {'bootstrap_type': 'MVS', 'bagging_temperature': 0.0020604617340743573, 'subsample': 0.29398341484194324, 'learning_rate': 0.04043156216592393, 'depth': 10, 'colsample_bylevel': 0.3034938686810922, 'min_data_in_leaf': 79, 'l2_leaf_reg': 4.949751197638831, 'random_strength': 0.10543516423519295, 'od_type': 'IncToDec', 'od_wait': 29}. Best is trial 74 with value: 0.2901155555555555.\n",
      "[I 2025-06-26 13:30:00,997] Trial 113 finished with value: 0.28744888888888886 and parameters: {'bootstrap_type': 'MVS', 'bagging_temperature': 0.0025226086234117965, 'subsample': 0.2194488125310469, 'learning_rate': 0.050248593947243576, 'depth': 9, 'colsample_bylevel': 0.3880337048221635, 'min_data_in_leaf': 68, 'l2_leaf_reg': 3.68605151257586, 'random_strength': 0.24385361195066868, 'od_type': 'IncToDec', 'od_wait': 29}. Best is trial 74 with value: 0.2901155555555555.\n",
      "[I 2025-06-26 13:30:07,691] Trial 114 finished with value: 0.28756444444444446 and parameters: {'bootstrap_type': 'MVS', 'bagging_temperature': 9.097040996058612e-09, 'subsample': 0.7142395827744844, 'learning_rate': 0.22091355095305878, 'depth': 4, 'colsample_bylevel': 0.5425365533828973, 'min_data_in_leaf': 44, 'l2_leaf_reg': 2.0185379252582925, 'random_strength': 0.07440644657582883, 'od_type': 'Iter', 'od_wait': 14}. Best is trial 74 with value: 0.2901155555555555.\n",
      "[I 2025-06-26 13:31:38,544] Trial 115 finished with value: 0.28815999999999997 and parameters: {'bootstrap_type': 'Bayesian', 'bagging_temperature': 0.4583028563522042, 'subsample': 0.21732270706507434, 'learning_rate': 0.015295059024336064, 'depth': 10, 'colsample_bylevel': 0.3356468468299864, 'min_data_in_leaf': 91, 'l2_leaf_reg': 4.778712142912054, 'random_strength': 0.029888129174123992, 'od_type': 'IncToDec', 'od_wait': 37}. Best is trial 74 with value: 0.2901155555555555.\n",
      "[I 2025-06-26 13:31:53,997] Trial 116 finished with value: 0.2862222222222222 and parameters: {'bootstrap_type': 'MVS', 'bagging_temperature': 5.173649162633222e-05, 'subsample': 0.11944981823527007, 'learning_rate': 0.08628557929744493, 'depth': 9, 'colsample_bylevel': 0.144634010640243, 'min_data_in_leaf': 27, 'l2_leaf_reg': 4.700846545824389, 'random_strength': 0.13023746200619174, 'od_type': 'Iter', 'od_wait': 49}. Best is trial 74 with value: 0.2901155555555555.\n",
      "[I 2025-06-26 13:31:59,905] Trial 117 finished with value: 0.28315555555555555 and parameters: {'bootstrap_type': 'MVS', 'bagging_temperature': 0.011650615303527807, 'subsample': 0.31919051711855995, 'learning_rate': 0.2572092460168047, 'depth': 10, 'colsample_bylevel': 0.18912131637205204, 'min_data_in_leaf': 44, 'l2_leaf_reg': 4.851124680010144, 'random_strength': 0.0668327973083393, 'od_type': 'IncToDec', 'od_wait': 19}. Best is trial 74 with value: 0.2901155555555555.\n",
      "[I 2025-06-26 13:32:23,692] Trial 118 finished with value: 0.28715111111111113 and parameters: {'bootstrap_type': 'Bernoulli', 'bagging_temperature': 3.7468674563417013, 'subsample': 0.12696003532717776, 'learning_rate': 0.05289638944209206, 'depth': 7, 'colsample_bylevel': 0.2800131772689315, 'min_data_in_leaf': 43, 'l2_leaf_reg': 4.483127021685066, 'random_strength': 0.14272548252777006, 'od_type': 'Iter', 'od_wait': 37}. Best is trial 74 with value: 0.2901155555555555.\n",
      "[I 2025-06-26 13:32:31,412] Trial 119 finished with value: 0.2863022222222222 and parameters: {'bootstrap_type': 'MVS', 'bagging_temperature': 0.00034504818011722954, 'subsample': 0.6255727557188941, 'learning_rate': 0.19888260300809565, 'depth': 5, 'colsample_bylevel': 0.46296849011753183, 'min_data_in_leaf': 29, 'l2_leaf_reg': 4.129484938480527, 'random_strength': 0.4649939795203327, 'od_type': 'Iter', 'od_wait': 26}. Best is trial 74 with value: 0.2901155555555555.\n",
      "[I 2025-06-26 13:32:45,409] Trial 120 finished with value: 0.2857422222222223 and parameters: {'bootstrap_type': 'MVS', 'bagging_temperature': 0.005786907832668096, 'subsample': 0.06601356947517287, 'learning_rate': 0.0764890633576085, 'depth': 7, 'colsample_bylevel': 0.21499580546834177, 'min_data_in_leaf': 68, 'l2_leaf_reg': 3.7751723917710525, 'random_strength': 0.10967964172948332, 'od_type': 'Iter', 'od_wait': 48}. Best is trial 74 with value: 0.2901155555555555.\n",
      "[I 2025-06-26 13:32:52,145] Trial 121 finished with value: 0.2853733333333333 and parameters: {'bootstrap_type': 'MVS', 'bagging_temperature': 0.0015280535053949467, 'subsample': 0.3068439679438031, 'learning_rate': 0.24342055961959846, 'depth': 8, 'colsample_bylevel': 0.4893024195431228, 'min_data_in_leaf': 74, 'l2_leaf_reg': 1.756403307973463, 'random_strength': 0.1937678794556587, 'od_type': 'Iter', 'od_wait': 15}. Best is trial 74 with value: 0.2901155555555555.\n",
      "[I 2025-06-26 13:33:21,855] Trial 122 finished with value: 0.28720888888888885 and parameters: {'bootstrap_type': 'MVS', 'bagging_temperature': 1.6018404363234757e-06, 'subsample': 0.272209203376338, 'learning_rate': 0.02505142556528828, 'depth': 7, 'colsample_bylevel': 0.30818625015060575, 'min_data_in_leaf': 49, 'l2_leaf_reg': 4.059393854800172, 'random_strength': 0.4240111120779171, 'od_type': 'IncToDec', 'od_wait': 47}. Best is trial 74 with value: 0.2901155555555555.\n",
      "[I 2025-06-26 13:33:51,452] Trial 123 finished with value: 0.28694222222222227 and parameters: {'bootstrap_type': 'MVS', 'bagging_temperature': 1.6552114685313194e-05, 'subsample': 0.6514835359282165, 'learning_rate': 0.12834616115064895, 'depth': 8, 'colsample_bylevel': 0.7749584099710836, 'min_data_in_leaf': 37, 'l2_leaf_reg': 4.11401198871114, 'random_strength': 0.6914195392465123, 'od_type': 'IncToDec', 'od_wait': 21}. Best is trial 74 with value: 0.2901155555555555.\n",
      "[I 2025-06-26 13:34:25,774] Trial 124 finished with value: 0.2891911111111111 and parameters: {'bootstrap_type': 'Bernoulli', 'bagging_temperature': 6.607933160886222, 'subsample': 0.07943235002973488, 'learning_rate': 0.02662263022937387, 'depth': 8, 'colsample_bylevel': 0.34754432602534613, 'min_data_in_leaf': 92, 'l2_leaf_reg': 2.1271212654342513, 'random_strength': 0.04027973133032417, 'od_type': 'Iter', 'od_wait': 24}. Best is trial 74 with value: 0.2901155555555555.\n",
      "[I 2025-06-26 13:34:52,294] Trial 125 finished with value: 0.2869822222222222 and parameters: {'bootstrap_type': 'Bernoulli', 'bagging_temperature': 3.3351383447136835, 'subsample': 0.06610868146935094, 'learning_rate': 0.045092205948498755, 'depth': 9, 'colsample_bylevel': 0.28154298522142895, 'min_data_in_leaf': 89, 'l2_leaf_reg': 1.574837288647737, 'random_strength': 0.04589332838734693, 'od_type': 'Iter', 'od_wait': 22}. Best is trial 74 with value: 0.2901155555555555.\n",
      "[I 2025-06-26 13:35:21,009] Trial 126 finished with value: 0.28576 and parameters: {'bootstrap_type': 'MVS', 'bagging_temperature': 1.003573647649338e-05, 'subsample': 0.13297112348713422, 'learning_rate': 0.005620458859415484, 'depth': 9, 'colsample_bylevel': 0.19298901101146262, 'min_data_in_leaf': 87, 'l2_leaf_reg': 4.948452882805021, 'random_strength': 0.2937141713194211, 'od_type': 'IncToDec', 'od_wait': 25}. Best is trial 74 with value: 0.2901155555555555.\n",
      "[I 2025-06-26 13:36:13,097] Trial 127 finished with value: 0.28818666666666665 and parameters: {'bootstrap_type': 'MVS', 'bagging_temperature': 0.09163524070157006, 'subsample': 0.32682181756652096, 'learning_rate': 0.025056171390460884, 'depth': 10, 'colsample_bylevel': 0.3311103022079057, 'min_data_in_leaf': 90, 'l2_leaf_reg': 4.643332827020686, 'random_strength': 0.24476628669498054, 'od_type': 'IncToDec', 'od_wait': 33}. Best is trial 74 with value: 0.2901155555555555.\n",
      "[I 2025-06-26 13:37:11,865] Trial 128 finished with value: 0.2877955555555555 and parameters: {'bootstrap_type': 'MVS', 'bagging_temperature': 1.3932909993262665, 'subsample': 0.27574008098832614, 'learning_rate': 0.008755759455664359, 'depth': 10, 'colsample_bylevel': 0.2529330876419962, 'min_data_in_leaf': 85, 'l2_leaf_reg': 3.9923589987479535, 'random_strength': 0.05522278283997964, 'od_type': 'IncToDec', 'od_wait': 11}. Best is trial 74 with value: 0.2901155555555555.\n",
      "[I 2025-06-26 13:37:56,474] Trial 129 finished with value: 0.28769333333333336 and parameters: {'bootstrap_type': 'Bernoulli', 'bagging_temperature': 4.759401564240975, 'subsample': 0.2430135436706103, 'learning_rate': 0.014550171038740208, 'depth': 8, 'colsample_bylevel': 0.5072781810933515, 'min_data_in_leaf': 83, 'l2_leaf_reg': 2.3672110280604572, 'random_strength': 0.09909881796970305, 'od_type': 'Iter', 'od_wait': 13}. Best is trial 74 with value: 0.2901155555555555.\n",
      "[I 2025-06-26 13:38:28,886] Trial 130 finished with value: 0.28702666666666665 and parameters: {'bootstrap_type': 'MVS', 'bagging_temperature': 0.055978755171338955, 'subsample': 0.1865531668304201, 'learning_rate': 0.011366953946029178, 'depth': 8, 'colsample_bylevel': 0.2503291448254326, 'min_data_in_leaf': 42, 'l2_leaf_reg': 4.813779595772767, 'random_strength': 0.3036068402025462, 'od_type': 'IncToDec', 'od_wait': 21}. Best is trial 74 with value: 0.2901155555555555.\n",
      "[I 2025-06-26 13:38:54,447] Trial 131 finished with value: 0.2865822222222222 and parameters: {'bootstrap_type': 'Bernoulli', 'bagging_temperature': 6.580408800634257, 'subsample': 0.15076974800269372, 'learning_rate': 0.00791704378214045, 'depth': 7, 'colsample_bylevel': 0.19131318476553866, 'min_data_in_leaf': 73, 'l2_leaf_reg': 2.173468652937146, 'random_strength': 0.020913870485352683, 'od_type': 'Iter', 'od_wait': 30}. Best is trial 74 with value: 0.2901155555555555.\n",
      "[I 2025-06-26 13:39:09,163] Trial 132 finished with value: 0.2848311111111111 and parameters: {'bootstrap_type': 'MVS', 'bagging_temperature': 0.6391188359084571, 'subsample': 0.4786525493261632, 'learning_rate': 0.07477729272333188, 'depth': 10, 'colsample_bylevel': 0.07169452307878507, 'min_data_in_leaf': 83, 'l2_leaf_reg': 3.0569764167569944, 'random_strength': 0.17701334582622205, 'od_type': 'Iter', 'od_wait': 29}. Best is trial 74 with value: 0.2901155555555555.\n",
      "[I 2025-06-26 13:39:37,432] Trial 133 finished with value: 0.2843688888888889 and parameters: {'bootstrap_type': 'MVS', 'bagging_temperature': 2.1772915149559653e-09, 'subsample': 0.9051361184830633, 'learning_rate': 0.005747019585212436, 'depth': 3, 'colsample_bylevel': 0.7115185458656106, 'min_data_in_leaf': 20, 'l2_leaf_reg': 4.045266770707602, 'random_strength': 0.25742825008076464, 'od_type': 'Iter', 'od_wait': 12}. Best is trial 74 with value: 0.2901155555555555.\n",
      "[I 2025-06-26 13:40:14,946] Trial 134 finished with value: 0.28662222222222217 and parameters: {'bootstrap_type': 'Bernoulli', 'bagging_temperature': 0.052212803500680936, 'subsample': 0.12330938036723102, 'learning_rate': 0.011666427743360172, 'depth': 9, 'colsample_bylevel': 0.3692636881343675, 'min_data_in_leaf': 99, 'l2_leaf_reg': 2.339120644354804, 'random_strength': 0.24355891326025386, 'od_type': 'IncToDec', 'od_wait': 22}. Best is trial 74 with value: 0.2901155555555555.\n",
      "[I 2025-06-26 13:40:40,918] Trial 135 finished with value: 0.28913777777777777 and parameters: {'bootstrap_type': 'MVS', 'bagging_temperature': 0.00668344554558355, 'subsample': 0.09967199256219622, 'learning_rate': 0.03490944521716908, 'depth': 5, 'colsample_bylevel': 0.43158438598109494, 'min_data_in_leaf': 61, 'l2_leaf_reg': 1.61942047143407, 'random_strength': 0.13891862653512135, 'od_type': 'Iter', 'od_wait': 15}. Best is trial 74 with value: 0.2901155555555555.\n",
      "[I 2025-06-26 13:41:04,071] Trial 136 finished with value: 0.2872488888888889 and parameters: {'bootstrap_type': 'MVS', 'bagging_temperature': 0.09306519629457471, 'subsample': 0.1290187289690519, 'learning_rate': 0.03280276266088346, 'depth': 4, 'colsample_bylevel': 0.4286222486970523, 'min_data_in_leaf': 59, 'l2_leaf_reg': 1.2383890874310592, 'random_strength': 0.15611625847349575, 'od_type': 'Iter', 'od_wait': 19}. Best is trial 74 with value: 0.2901155555555555.\n",
      "[I 2025-06-26 13:41:15,919] Trial 137 finished with value: 0.28940000000000005 and parameters: {'bootstrap_type': 'Bayesian', 'bagging_temperature': 2.6442990303630646e-05, 'subsample': 0.2814800958789066, 'learning_rate': 0.18159617412798004, 'depth': 6, 'colsample_bylevel': 0.38617527918713085, 'min_data_in_leaf': 76, 'l2_leaf_reg': 1.8368816955712872, 'random_strength': 0.09319705040869262, 'od_type': 'Iter', 'od_wait': 27}. Best is trial 74 with value: 0.2901155555555555.\n",
      "[I 2025-06-26 13:41:28,200] Trial 138 finished with value: 0.28761333333333333 and parameters: {'bootstrap_type': 'Bayesian', 'bagging_temperature': 1.5763797602441516e-07, 'subsample': 0.15042693556454298, 'learning_rate': 0.26704827618813987, 'depth': 7, 'colsample_bylevel': 0.40915435889768553, 'min_data_in_leaf': 73, 'l2_leaf_reg': 3.053059478327306, 'random_strength': 0.3131003511690469, 'od_type': 'Iter', 'od_wait': 36}. Best is trial 74 with value: 0.2901155555555555.\n",
      "[I 2025-06-26 13:42:21,933] Trial 139 finished with value: 0.28985333333333335 and parameters: {'bootstrap_type': 'MVS', 'bagging_temperature': 6.298828553915307e-06, 'subsample': 0.05974469258834258, 'learning_rate': 0.027420501260131968, 'depth': 9, 'colsample_bylevel': 0.32989146063076885, 'min_data_in_leaf': 53, 'l2_leaf_reg': 3.482575570362497, 'random_strength': 0.03203841280044782, 'od_type': 'Iter', 'od_wait': 45}. Best is trial 74 with value: 0.2901155555555555.\n",
      "[I 2025-06-26 13:43:06,680] Trial 140 finished with value: 0.28709333333333337 and parameters: {'bootstrap_type': 'Bernoulli', 'bagging_temperature': 4.4628405272975076e-08, 'subsample': 0.1618976556586258, 'learning_rate': 0.013065078882403316, 'depth': 8, 'colsample_bylevel': 0.504276000110814, 'min_data_in_leaf': 68, 'l2_leaf_reg': 3.994075987680903, 'random_strength': 0.09574842786764542, 'od_type': 'Iter', 'od_wait': 41}. Best is trial 74 with value: 0.2901155555555555.\n",
      "[I 2025-06-26 13:43:20,348] Trial 141 finished with value: 0.2900266666666666 and parameters: {'bootstrap_type': 'Bayesian', 'bagging_temperature': 0.00033335420302589124, 'subsample': 0.36425547287519766, 'learning_rate': 0.11875364723404337, 'depth': 6, 'colsample_bylevel': 0.27158558997555926, 'min_data_in_leaf': 86, 'l2_leaf_reg': 1.9476054057441434, 'random_strength': 0.11221249561278573, 'od_type': 'Iter', 'od_wait': 25}. Best is trial 74 with value: 0.2901155555555555.\n",
      "[I 2025-06-26 13:43:42,722] Trial 142 finished with value: 0.2885111111111111 and parameters: {'bootstrap_type': 'Bayesian', 'bagging_temperature': 7.275561596063151e-06, 'subsample': 0.24788517017097528, 'learning_rate': 0.06094598181621934, 'depth': 6, 'colsample_bylevel': 0.148141937550965, 'min_data_in_leaf': 74, 'l2_leaf_reg': 1.415909633866031, 'random_strength': 0.001988336804215174, 'od_type': 'Iter', 'od_wait': 25}. Best is trial 74 with value: 0.2901155555555555.\n",
      "[I 2025-06-26 13:44:10,210] Trial 143 finished with value: 0.28864 and parameters: {'bootstrap_type': 'Bayesian', 'bagging_temperature': 0.001476089833839546, 'subsample': 0.7339087437578304, 'learning_rate': 0.059421024654855825, 'depth': 4, 'colsample_bylevel': 0.2737449281019572, 'min_data_in_leaf': 81, 'l2_leaf_reg': 1.7580694301629378, 'random_strength': 0.2215316714130055, 'od_type': 'Iter', 'od_wait': 31}. Best is trial 74 with value: 0.2901155555555555.\n",
      "[I 2025-06-26 13:45:03,898] Trial 144 finished with value: 0.28891555555555554 and parameters: {'bootstrap_type': 'MVS', 'bagging_temperature': 5.377515108409943, 'subsample': 0.1266836252428351, 'learning_rate': 0.03684883402958898, 'depth': 10, 'colsample_bylevel': 0.24869574931240668, 'min_data_in_leaf': 63, 'l2_leaf_reg': 1.9443609170416647, 'random_strength': 0.020399286827037177, 'od_type': 'Iter', 'od_wait': 43}. Best is trial 74 with value: 0.2901155555555555.\n",
      "[I 2025-06-26 13:46:10,820] Trial 145 finished with value: 0.2893866666666666 and parameters: {'bootstrap_type': 'MVS', 'bagging_temperature': 0.7400989300222024, 'subsample': 0.22572433476942014, 'learning_rate': 0.05092935920948347, 'depth': 10, 'colsample_bylevel': 0.44813112633771446, 'min_data_in_leaf': 71, 'l2_leaf_reg': 1.3330336808102468, 'random_strength': 0.10578673868397305, 'od_type': 'Iter', 'od_wait': 44}. Best is trial 74 with value: 0.2901155555555555.\n",
      "[I 2025-06-26 13:47:26,539] Trial 146 finished with value: 0.2863733333333333 and parameters: {'bootstrap_type': 'MVS', 'bagging_temperature': 5.642514794320496, 'subsample': 0.16560754927537513, 'learning_rate': 0.015623233128785316, 'depth': 10, 'colsample_bylevel': 0.383571563623787, 'min_data_in_leaf': 70, 'l2_leaf_reg': 2.091182145856507, 'random_strength': 0.16944887145350496, 'od_type': 'Iter', 'od_wait': 36}. Best is trial 74 with value: 0.2901155555555555.\n",
      "[I 2025-06-26 13:47:50,335] Trial 147 finished with value: 0.28619999999999995 and parameters: {'bootstrap_type': 'MVS', 'bagging_temperature': 5.8767991613317365, 'subsample': 0.08957329926674648, 'learning_rate': 0.017163870951787057, 'depth': 8, 'colsample_bylevel': 0.15326725565071486, 'min_data_in_leaf': 80, 'l2_leaf_reg': 1.681641178797654, 'random_strength': 0.005643469075187091, 'od_type': 'Iter', 'od_wait': 46}. Best is trial 74 with value: 0.2901155555555555.\n",
      "[I 2025-06-26 13:48:16,787] Trial 148 finished with value: 0.2880844444444444 and parameters: {'bootstrap_type': 'MVS', 'bagging_temperature': 0.010859818098527195, 'subsample': 0.1292366492900066, 'learning_rate': 0.09614814842808705, 'depth': 8, 'colsample_bylevel': 0.6302697477932189, 'min_data_in_leaf': 47, 'l2_leaf_reg': 1.1359521892217965, 'random_strength': 0.3327206113570706, 'od_type': 'Iter', 'od_wait': 46}. Best is trial 74 with value: 0.2901155555555555.\n",
      "[I 2025-06-26 13:48:30,093] Trial 149 finished with value: 0.28773333333333334 and parameters: {'bootstrap_type': 'Bayesian', 'bagging_temperature': 0.38512364424208634, 'subsample': 0.42116689822779546, 'learning_rate': 0.12959563630748888, 'depth': 6, 'colsample_bylevel': 0.2815195443153181, 'min_data_in_leaf': 65, 'l2_leaf_reg': 2.0864179123094924, 'random_strength': 0.0019352447111774251, 'od_type': 'Iter', 'od_wait': 28}. Best is trial 74 with value: 0.2901155555555555.\n",
      "[I 2025-06-26 13:48:55,719] Trial 150 finished with value: 0.2873822222222222 and parameters: {'bootstrap_type': 'MVS', 'bagging_temperature': 1.052529258498081, 'subsample': 0.5597555050766257, 'learning_rate': 0.11525827613459608, 'depth': 10, 'colsample_bylevel': 0.3571440961747178, 'min_data_in_leaf': 72, 'l2_leaf_reg': 1.5489915711254025, 'random_strength': 0.06299310806895936, 'od_type': 'Iter', 'od_wait': 39}. Best is trial 74 with value: 0.2901155555555555.\n",
      "[I 2025-06-26 13:50:37,530] Trial 151 finished with value: 0.2867244444444444 and parameters: {'bootstrap_type': 'MVS', 'bagging_temperature': 3.0618037464923745e-07, 'subsample': 0.12931179934607273, 'learning_rate': 0.003220931089638235, 'depth': 10, 'colsample_bylevel': 0.3930315719382078, 'min_data_in_leaf': 70, 'l2_leaf_reg': 3.6335186692377737, 'random_strength': 0.06174491991287999, 'od_type': 'Iter', 'od_wait': 39}. Best is trial 74 with value: 0.2901155555555555.\n",
      "[I 2025-06-26 13:51:18,603] Trial 152 finished with value: 0.2882222222222222 and parameters: {'bootstrap_type': 'MVS', 'bagging_temperature': 3.801275933693832e-07, 'subsample': 0.15602717756384474, 'learning_rate': 0.03216001070850031, 'depth': 8, 'colsample_bylevel': 0.40114057443378637, 'min_data_in_leaf': 51, 'l2_leaf_reg': 2.4249214566094834, 'random_strength': 0.31501242504141175, 'od_type': 'Iter', 'od_wait': 47}. Best is trial 74 with value: 0.2901155555555555.\n",
      "[I 2025-06-26 13:51:38,086] Trial 153 finished with value: 0.29019555555555554 and parameters: {'bootstrap_type': 'Bayesian', 'bagging_temperature': 0.0011724917738042842, 'subsample': 0.12998696809906374, 'learning_rate': 0.1377977886481511, 'depth': 7, 'colsample_bylevel': 0.34130348041251707, 'min_data_in_leaf': 88, 'l2_leaf_reg': 2.121547808667496, 'random_strength': 0.15354992360365338, 'od_type': 'Iter', 'od_wait': 27}. Best is trial 153 with value: 0.29019555555555554.\n",
      "[I 2025-06-26 13:51:56,653] Trial 154 finished with value: 0.28558222222222224 and parameters: {'bootstrap_type': 'MVS', 'bagging_temperature': 4.90386120624313, 'subsample': 0.22291859687643234, 'learning_rate': 0.11004690084867495, 'depth': 10, 'colsample_bylevel': 0.06840110334397237, 'min_data_in_leaf': 45, 'l2_leaf_reg': 1.9204889268648688, 'random_strength': 0.01765989153775388, 'od_type': 'Iter', 'od_wait': 48}. Best is trial 153 with value: 0.29019555555555554.\n",
      "[I 2025-06-26 13:52:44,848] Trial 155 finished with value: 0.29016 and parameters: {'bootstrap_type': 'MVS', 'bagging_temperature': 0.0012062348040780082, 'subsample': 0.24949889691532126, 'learning_rate': 0.07142795030585304, 'depth': 10, 'colsample_bylevel': 0.4229980028036562, 'min_data_in_leaf': 65, 'l2_leaf_reg': 1.2417829212992182, 'random_strength': 0.02082619149408467, 'od_type': 'IncToDec', 'od_wait': 40}. Best is trial 153 with value: 0.29019555555555554.\n",
      "[I 2025-06-26 13:52:56,382] Trial 156 finished with value: 0.2868577777777777 and parameters: {'bootstrap_type': 'Bayesian', 'bagging_temperature': 0.004545494505234134, 'subsample': 0.15503378749011282, 'learning_rate': 0.1479388943847109, 'depth': 6, 'colsample_bylevel': 0.29529919027360857, 'min_data_in_leaf': 88, 'l2_leaf_reg': 2.295073774517274, 'random_strength': 0.2965658941016059, 'od_type': 'IncToDec', 'od_wait': 23}. Best is trial 153 with value: 0.29019555555555554.\n",
      "[I 2025-06-26 13:53:12,601] Trial 157 finished with value: 0.28530666666666665 and parameters: {'bootstrap_type': 'Bayesian', 'bagging_temperature': 0.0002278523935178948, 'subsample': 0.3312613298211867, 'learning_rate': 0.12946816011738135, 'depth': 10, 'colsample_bylevel': 0.21772885154905666, 'min_data_in_leaf': 68, 'l2_leaf_reg': 1.1290274983753879, 'random_strength': 0.033295042068097774, 'od_type': 'IncToDec', 'od_wait': 39}. Best is trial 153 with value: 0.29019555555555554.\n",
      "[I 2025-06-26 13:53:35,517] Trial 158 finished with value: 0.28799555555555556 and parameters: {'bootstrap_type': 'Bayesian', 'bagging_temperature': 5.556800436185019e-06, 'subsample': 0.5495166177218059, 'learning_rate': 0.10769415543822465, 'depth': 6, 'colsample_bylevel': 0.5761755984586752, 'min_data_in_leaf': 89, 'l2_leaf_reg': 1.6735541419780713, 'random_strength': 0.16706511824120426, 'od_type': 'Iter', 'od_wait': 26}. Best is trial 153 with value: 0.29019555555555554.\n",
      "[I 2025-06-26 13:55:31,573] Trial 159 finished with value: 0.28926222222222214 and parameters: {'bootstrap_type': 'Bernoulli', 'bagging_temperature': 4.505003726285735e-05, 'subsample': 0.41911988884355483, 'learning_rate': 0.026668647647763617, 'depth': 10, 'colsample_bylevel': 0.4701045946198261, 'min_data_in_leaf': 77, 'l2_leaf_reg': 1.4553590431878067, 'random_strength': 0.021786331704760326, 'od_type': 'IncToDec', 'od_wait': 43}. Best is trial 153 with value: 0.29019555555555554.\n",
      "[I 2025-06-26 13:57:31,647] Trial 160 finished with value: 0.2905688888888889 and parameters: {'bootstrap_type': 'Bernoulli', 'bagging_temperature': 3.851579501966772e-05, 'subsample': 0.5656247419496974, 'learning_rate': 0.027816293131505784, 'depth': 10, 'colsample_bylevel': 0.5396698901117247, 'min_data_in_leaf': 85, 'l2_leaf_reg': 2.3595944761366017, 'random_strength': 0.008179345523639161, 'od_type': 'IncToDec', 'od_wait': 46}. Best is trial 160 with value: 0.2905688888888889.\n",
      "[I 2025-06-26 13:58:16,433] Trial 161 finished with value: 0.28976444444444444 and parameters: {'bootstrap_type': 'Bernoulli', 'bagging_temperature': 4.9216041977178004e-05, 'subsample': 0.36438540964986266, 'learning_rate': 0.12358115977615772, 'depth': 10, 'colsample_bylevel': 0.6100593290500942, 'min_data_in_leaf': 88, 'l2_leaf_reg': 2.6169648814151776, 'random_strength': 0.20275310447884143, 'od_type': 'IncToDec', 'od_wait': 46}. Best is trial 160 with value: 0.2905688888888889.\n",
      "[I 2025-06-26 13:58:46,173] Trial 162 finished with value: 0.28820444444444443 and parameters: {'bootstrap_type': 'Bernoulli', 'bagging_temperature': 9.237235525655826e-06, 'subsample': 0.6544986141197986, 'learning_rate': 0.08810342781383139, 'depth': 9, 'colsample_bylevel': 0.3932172508207964, 'min_data_in_leaf': 94, 'l2_leaf_reg': 1.5124851769591963, 'random_strength': 0.00990587586674489, 'od_type': 'IncToDec', 'od_wait': 37}. Best is trial 160 with value: 0.2905688888888889.\n",
      "[I 2025-06-26 14:00:16,238] Trial 163 finished with value: 0.28805777777777775 and parameters: {'bootstrap_type': 'Bernoulli', 'bagging_temperature': 1.823850762310258e-05, 'subsample': 0.5166692204911684, 'learning_rate': 0.003436552244757087, 'depth': 9, 'colsample_bylevel': 0.6270226574141974, 'min_data_in_leaf': 90, 'l2_leaf_reg': 2.3114049191337975, 'random_strength': 0.005849544946781396, 'od_type': 'IncToDec', 'od_wait': 39}. Best is trial 160 with value: 0.2905688888888889.\n",
      "[I 2025-06-26 14:01:27,343] Trial 164 finished with value: 0.2868088888888889 and parameters: {'bootstrap_type': 'MVS', 'bagging_temperature': 6.558546817710094e-07, 'subsample': 0.5282115765531827, 'learning_rate': 0.006699085696859935, 'depth': 9, 'colsample_bylevel': 0.5020451234223133, 'min_data_in_leaf': 83, 'l2_leaf_reg': 1.0413981016221663, 'random_strength': 0.06085275446695071, 'od_type': 'IncToDec', 'od_wait': 41}. Best is trial 160 with value: 0.2905688888888889.\n",
      "[I 2025-06-26 14:02:16,541] Trial 165 finished with value: 0.2882488888888889 and parameters: {'bootstrap_type': 'Bernoulli', 'bagging_temperature': 5.64217984015271e-07, 'subsample': 0.1994751678246052, 'learning_rate': 0.060174756308766494, 'depth': 9, 'colsample_bylevel': 0.7992316884306194, 'min_data_in_leaf': 76, 'l2_leaf_reg': 2.446406147360591, 'random_strength': 0.23145729460709338, 'od_type': 'IncToDec', 'od_wait': 45}. Best is trial 160 with value: 0.2905688888888889.\n",
      "[I 2025-06-26 14:02:54,877] Trial 166 finished with value: 0.28672000000000003 and parameters: {'bootstrap_type': 'MVS', 'bagging_temperature': 0.021200339286901487, 'subsample': 0.4736668203770807, 'learning_rate': 0.09558034145497958, 'depth': 10, 'colsample_bylevel': 0.4291634300278086, 'min_data_in_leaf': 85, 'l2_leaf_reg': 1.0652251994550372, 'random_strength': 0.4813919005032284, 'od_type': 'IncToDec', 'od_wait': 45}. Best is trial 160 with value: 0.2905688888888889.\n",
      "[I 2025-06-26 14:04:39,432] Trial 167 finished with value: 0.2882444444444444 and parameters: {'bootstrap_type': 'Bernoulli', 'bagging_temperature': 7.488767029115264e-05, 'subsample': 0.17730075017990926, 'learning_rate': 0.013196050811406044, 'depth': 10, 'colsample_bylevel': 0.5295857300679192, 'min_data_in_leaf': 80, 'l2_leaf_reg': 1.628245450091038, 'random_strength': 0.050406108084866424, 'od_type': 'IncToDec', 'od_wait': 45}. Best is trial 160 with value: 0.2905688888888889.\n",
      "[I 2025-06-26 14:06:32,854] Trial 168 finished with value: 0.28914666666666666 and parameters: {'bootstrap_type': 'Bernoulli', 'bagging_temperature': 0.0014461364050200169, 'subsample': 0.6546659354485516, 'learning_rate': 0.012631571269305428, 'depth': 10, 'colsample_bylevel': 0.5626241017977983, 'min_data_in_leaf': 51, 'l2_leaf_reg': 1.4855789567568967, 'random_strength': 0.0463038451372018, 'od_type': 'IncToDec', 'od_wait': 49}. Best is trial 160 with value: 0.2905688888888889.\n",
      "[I 2025-06-26 14:07:00,845] Trial 169 finished with value: 0.29041333333333336 and parameters: {'bootstrap_type': 'Bernoulli', 'bagging_temperature': 0.0017887353217498675, 'subsample': 0.415884173862209, 'learning_rate': 0.10650231271827791, 'depth': 9, 'colsample_bylevel': 0.5062042152667681, 'min_data_in_leaf': 94, 'l2_leaf_reg': 2.724816942419469, 'random_strength': 0.20145999287004346, 'od_type': 'IncToDec', 'od_wait': 47}. Best is trial 160 with value: 0.2905688888888889.\n",
      "[I 2025-06-26 14:07:29,961] Trial 170 finished with value: 0.2852177777777778 and parameters: {'bootstrap_type': 'Bernoulli', 'bagging_temperature': 0.030691807352975192, 'subsample': 0.536741664314389, 'learning_rate': 0.22338875006942513, 'depth': 10, 'colsample_bylevel': 0.5900185608460597, 'min_data_in_leaf': 57, 'l2_leaf_reg': 2.333039420959143, 'random_strength': 0.1247724588029917, 'od_type': 'IncToDec', 'od_wait': 47}. Best is trial 160 with value: 0.2905688888888889.\n",
      "[I 2025-06-26 14:07:38,999] Trial 171 finished with value: 0.28154666666666667 and parameters: {'bootstrap_type': 'Bernoulli', 'bagging_temperature': 0.018503241295001843, 'subsample': 0.2625189220101665, 'learning_rate': 0.2042394825823943, 'depth': 8, 'colsample_bylevel': 0.3576104771117338, 'min_data_in_leaf': 94, 'l2_leaf_reg': 2.0292740342728073, 'random_strength': 0.16730470498368505, 'od_type': 'IncToDec', 'od_wait': 46}. Best is trial 160 with value: 0.2905688888888889.\n",
      "[I 2025-06-26 14:09:03,076] Trial 172 finished with value: 0.2889111111111111 and parameters: {'bootstrap_type': 'Bernoulli', 'bagging_temperature': 0.000412248046356664, 'subsample': 0.44005994146377586, 'learning_rate': 0.010256624147040441, 'depth': 9, 'colsample_bylevel': 0.5173429916119463, 'min_data_in_leaf': 41, 'l2_leaf_reg': 1.4292640576867988, 'random_strength': 0.0034830512725191817, 'od_type': 'IncToDec', 'od_wait': 50}. Best is trial 160 with value: 0.2905688888888889.\n",
      "[I 2025-06-26 14:10:17,679] Trial 173 finished with value: 0.28729333333333334 and parameters: {'bootstrap_type': 'MVS', 'bagging_temperature': 0.00023673478764289465, 'subsample': 0.1752539308508413, 'learning_rate': 0.02268915744817791, 'depth': 10, 'colsample_bylevel': 0.3901490989018817, 'min_data_in_leaf': 68, 'l2_leaf_reg': 1.1531668407526046, 'random_strength': 0.11708457937424611, 'od_type': 'IncToDec', 'od_wait': 31}. Best is trial 160 with value: 0.2905688888888889.\n",
      "[I 2025-06-26 14:11:04,538] Trial 174 finished with value: 0.29035555555555553 and parameters: {'bootstrap_type': 'MVS', 'bagging_temperature': 0.001478735480584917, 'subsample': 0.13396446683943186, 'learning_rate': 0.04574655662039907, 'depth': 10, 'colsample_bylevel': 0.36711763895159977, 'min_data_in_leaf': 78, 'l2_leaf_reg': 1.017503517076649, 'random_strength': 0.29276115033123995, 'od_type': 'Iter', 'od_wait': 49}. Best is trial 160 with value: 0.2905688888888889.\n",
      "[I 2025-06-26 14:11:33,044] Trial 175 finished with value: 0.2873333333333333 and parameters: {'bootstrap_type': 'Bayesian', 'bagging_temperature': 6.23224971124856e-05, 'subsample': 0.3304521139002097, 'learning_rate': 0.05428775859928438, 'depth': 7, 'colsample_bylevel': 0.3430097038296848, 'min_data_in_leaf': 91, 'l2_leaf_reg': 2.412814552651253, 'random_strength': 0.41347771216739765, 'od_type': 'Iter', 'od_wait': 27}. Best is trial 160 with value: 0.2905688888888889.\n",
      "[I 2025-06-26 14:13:21,715] Trial 176 finished with value: 0.28950666666666663 and parameters: {'bootstrap_type': 'MVS', 'bagging_temperature': 0.0004204690776011746, 'subsample': 0.09945488616762915, 'learning_rate': 0.02978836235258952, 'depth': 10, 'colsample_bylevel': 0.5468631564894055, 'min_data_in_leaf': 79, 'l2_leaf_reg': 1.159037443424923, 'random_strength': 0.07884712191082141, 'od_type': 'Iter', 'od_wait': 39}. Best is trial 160 with value: 0.2905688888888889.\n",
      "[I 2025-06-26 14:13:38,563] Trial 177 finished with value: 0.2873866666666666 and parameters: {'bootstrap_type': 'Bayesian', 'bagging_temperature': 0.00010607320041269782, 'subsample': 0.08038159311874085, 'learning_rate': 0.10110011975499426, 'depth': 4, 'colsample_bylevel': 0.42850489785961815, 'min_data_in_leaf': 78, 'l2_leaf_reg': 1.6125814287738298, 'random_strength': 0.2266912575554832, 'od_type': 'Iter', 'od_wait': 35}. Best is trial 160 with value: 0.2905688888888889.\n",
      "[I 2025-06-26 14:14:09,637] Trial 178 finished with value: 0.2859688888888889 and parameters: {'bootstrap_type': 'Bernoulli', 'bagging_temperature': 0.00010346859719167692, 'subsample': 0.3424592593926079, 'learning_rate': 0.18525640040643923, 'depth': 10, 'colsample_bylevel': 0.549686368861856, 'min_data_in_leaf': 94, 'l2_leaf_reg': 3.5984492620093316, 'random_strength': 0.3860322827283832, 'od_type': 'IncToDec', 'od_wait': 48}. Best is trial 160 with value: 0.2905688888888889.\n",
      "[I 2025-06-26 14:14:32,258] Trial 179 finished with value: 0.2869644444444444 and parameters: {'bootstrap_type': 'Bernoulli', 'bagging_temperature': 8.701136575613293e-06, 'subsample': 0.28524625970640594, 'learning_rate': 0.16881599428669564, 'depth': 10, 'colsample_bylevel': 0.39963987916924393, 'min_data_in_leaf': 62, 'l2_leaf_reg': 1.0959592115112382, 'random_strength': 0.18313156702837646, 'od_type': 'Iter', 'od_wait': 49}. Best is trial 160 with value: 0.2905688888888889.\n",
      "[I 2025-06-26 14:15:31,998] Trial 180 finished with value: 0.28589777777777775 and parameters: {'bootstrap_type': 'MVS', 'bagging_temperature': 2.6052688285988832e-05, 'subsample': 0.13498817779600225, 'learning_rate': 0.05889841397737654, 'depth': 10, 'colsample_bylevel': 0.6015348317690261, 'min_data_in_leaf': 76, 'l2_leaf_reg': 1.0780053017087703, 'random_strength': 0.11430953222692179, 'od_type': 'Iter', 'od_wait': 42}. Best is trial 160 with value: 0.2905688888888889.\n",
      "[I 2025-06-26 14:16:20,350] Trial 181 finished with value: 0.28783999999999993 and parameters: {'bootstrap_type': 'Bernoulli', 'bagging_temperature': 2.4090447177253626e-05, 'subsample': 0.5896822618944504, 'learning_rate': 0.022482380684927594, 'depth': 8, 'colsample_bylevel': 0.554577933096433, 'min_data_in_leaf': 96, 'l2_leaf_reg': 2.4240675895307575, 'random_strength': 0.10746257829865441, 'od_type': 'IncToDec', 'od_wait': 50}. Best is trial 160 with value: 0.2905688888888889.\n",
      "[I 2025-06-26 14:17:28,057] Trial 182 finished with value: 0.28903999999999996 and parameters: {'bootstrap_type': 'MVS', 'bagging_temperature': 4.4649640447745575, 'subsample': 0.3933505364151709, 'learning_rate': 0.0389510133939771, 'depth': 9, 'colsample_bylevel': 0.646631988295587, 'min_data_in_leaf': 62, 'l2_leaf_reg': 1.3688620602774102, 'random_strength': 0.153583976061371, 'od_type': 'Iter', 'od_wait': 49}. Best is trial 160 with value: 0.2905688888888889.\n",
      "[I 2025-06-26 14:18:21,117] Trial 183 finished with value: 0.2877955555555555 and parameters: {'bootstrap_type': 'MVS', 'bagging_temperature': 0.00637547273007008, 'subsample': 0.24948222883440208, 'learning_rate': 0.04377386453082605, 'depth': 9, 'colsample_bylevel': 0.4458331650398667, 'min_data_in_leaf': 43, 'l2_leaf_reg': 1.4268183751200465, 'random_strength': 0.015212400033558022, 'od_type': 'IncToDec', 'od_wait': 45}. Best is trial 160 with value: 0.2905688888888889.\n",
      "[I 2025-06-26 14:18:33,000] Trial 184 finished with value: 0.28745777777777776 and parameters: {'bootstrap_type': 'Bayesian', 'bagging_temperature': 6.516595178716132e-05, 'subsample': 0.13409576304929102, 'learning_rate': 0.14942321136798523, 'depth': 7, 'colsample_bylevel': 0.3170640704985369, 'min_data_in_leaf': 100, 'l2_leaf_reg': 2.2266774965175657, 'random_strength': 0.16739502566202835, 'od_type': 'Iter', 'od_wait': 25}. Best is trial 160 with value: 0.2905688888888889.\n",
      "[I 2025-06-26 14:19:16,236] Trial 185 finished with value: 0.2873555555555556 and parameters: {'bootstrap_type': 'MVS', 'bagging_temperature': 0.00015494194384181194, 'subsample': 0.11620520891661802, 'learning_rate': 0.02532599072382148, 'depth': 10, 'colsample_bylevel': 0.25260290960427734, 'min_data_in_leaf': 94, 'l2_leaf_reg': 1.056190791678878, 'random_strength': 0.3796812878483006, 'od_type': 'Iter', 'od_wait': 48}. Best is trial 160 with value: 0.2905688888888889.\n",
      "[I 2025-06-26 14:21:00,963] Trial 186 finished with value: 0.2881244444444444 and parameters: {'bootstrap_type': 'Bernoulli', 'bagging_temperature': 1.6875505130339024e-07, 'subsample': 0.6254769240720793, 'learning_rate': 0.013979165121430197, 'depth': 10, 'colsample_bylevel': 0.5183924943247437, 'min_data_in_leaf': 44, 'l2_leaf_reg': 1.7166512926938693, 'random_strength': 0.053262479104850116, 'od_type': 'Iter', 'od_wait': 49}. Best is trial 160 with value: 0.2905688888888889.\n",
      "[I 2025-06-26 14:21:44,124] Trial 187 finished with value: 0.2863644444444444 and parameters: {'bootstrap_type': 'Bernoulli', 'bagging_temperature': 0.002462722652746886, 'subsample': 0.7237577795788266, 'learning_rate': 0.013552637014935672, 'depth': 9, 'colsample_bylevel': 0.6611806999395033, 'min_data_in_leaf': 50, 'l2_leaf_reg': 1.0919178195014978, 'random_strength': 0.28329670352011344, 'od_type': 'IncToDec', 'od_wait': 44}. Best is trial 160 with value: 0.2905688888888889.\n",
      "[I 2025-06-26 14:22:20,003] Trial 188 finished with value: 0.28612444444444446 and parameters: {'bootstrap_type': 'MVS', 'bagging_temperature': 2.2310878729701527e-05, 'subsample': 0.4441462794292809, 'learning_rate': 0.017648511432724015, 'depth': 10, 'colsample_bylevel': 0.21419492054181513, 'min_data_in_leaf': 43, 'l2_leaf_reg': 1.2294826713821954, 'random_strength': 0.28468655295839473, 'od_type': 'Iter', 'od_wait': 48}. Best is trial 160 with value: 0.2905688888888889.\n",
      "[I 2025-06-26 14:23:06,136] Trial 189 finished with value: 0.28824 and parameters: {'bootstrap_type': 'MVS', 'bagging_temperature': 1.1885771474165921e-05, 'subsample': 0.33049294092670733, 'learning_rate': 0.10063297761820045, 'depth': 10, 'colsample_bylevel': 0.5325573844904814, 'min_data_in_leaf': 74, 'l2_leaf_reg': 2.336107928076391, 'random_strength': 0.11519019280736316, 'od_type': 'IncToDec', 'od_wait': 42}. Best is trial 160 with value: 0.2905688888888889.\n",
      "[I 2025-06-26 14:23:40,129] Trial 190 finished with value: 0.2844044444444444 and parameters: {'bootstrap_type': 'Bayesian', 'bagging_temperature': 0.0020043083721696907, 'subsample': 0.21901019847222508, 'learning_rate': 0.21776497923104052, 'depth': 10, 'colsample_bylevel': 0.5898787748752132, 'min_data_in_leaf': 97, 'l2_leaf_reg': 2.4799761083782186, 'random_strength': 0.30454078744731, 'od_type': 'IncToDec', 'od_wait': 50}. Best is trial 160 with value: 0.2905688888888889.\n",
      "[I 2025-06-26 14:24:07,910] Trial 191 finished with value: 0.28520888888888885 and parameters: {'bootstrap_type': 'Bernoulli', 'bagging_temperature': 0.03989271456950016, 'subsample': 0.06460339456439251, 'learning_rate': 0.007092704396092792, 'depth': 6, 'colsample_bylevel': 0.5076965729744969, 'min_data_in_leaf': 94, 'l2_leaf_reg': 2.7806379277969837, 'random_strength': 0.2251213138147147, 'od_type': 'Iter', 'od_wait': 39}. Best is trial 160 with value: 0.2905688888888889.\n",
      "[I 2025-06-26 14:25:01,297] Trial 192 finished with value: 0.28735555555555553 and parameters: {'bootstrap_type': 'Bernoulli', 'bagging_temperature': 0.0016635164960379768, 'subsample': 0.46317129474984237, 'learning_rate': 0.04056589095890608, 'depth': 10, 'colsample_bylevel': 0.4884138451582709, 'min_data_in_leaf': 95, 'l2_leaf_reg': 1.6898725695132393, 'random_strength': 0.30984573958704736, 'od_type': 'IncToDec', 'od_wait': 44}. Best is trial 160 with value: 0.2905688888888889.\n",
      "[I 2025-06-26 14:25:59,235] Trial 193 finished with value: 0.2882711111111111 and parameters: {'bootstrap_type': 'Bayesian', 'bagging_temperature': 9.313427476393512, 'subsample': 0.1795231330757956, 'learning_rate': 0.007015418994419504, 'depth': 8, 'colsample_bylevel': 0.38278620296790855, 'min_data_in_leaf': 88, 'l2_leaf_reg': 1.3222307596064529, 'random_strength': 0.01727394031387279, 'od_type': 'Iter', 'od_wait': 33}. Best is trial 160 with value: 0.2905688888888889.\n",
      "[I 2025-06-26 14:27:01,750] Trial 194 finished with value: 0.28800888888888887 and parameters: {'bootstrap_type': 'Bernoulli', 'bagging_temperature': 1.2671912495213599e-05, 'subsample': 0.32411432418121255, 'learning_rate': 0.08851208217461244, 'depth': 10, 'colsample_bylevel': 0.690431461087971, 'min_data_in_leaf': 95, 'l2_leaf_reg': 2.414783508073685, 'random_strength': 0.038850678222327184, 'od_type': 'IncToDec', 'od_wait': 49}. Best is trial 160 with value: 0.2905688888888889.\n",
      "[I 2025-06-26 14:27:38,138] Trial 195 finished with value: 0.28832444444444444 and parameters: {'bootstrap_type': 'Bayesian', 'bagging_temperature': 3.5766097641120744e-06, 'subsample': 0.1988725563752131, 'learning_rate': 0.07498718755827528, 'depth': 9, 'colsample_bylevel': 0.5576175369101765, 'min_data_in_leaf': 66, 'l2_leaf_reg': 1.592973559913995, 'random_strength': 0.2032743384604323, 'od_type': 'Iter', 'od_wait': 26}. Best is trial 160 with value: 0.2905688888888889.\n",
      "[I 2025-06-26 14:27:54,009] Trial 196 finished with value: 0.28759111111111113 and parameters: {'bootstrap_type': 'Bayesian', 'bagging_temperature': 0.06360203123677699, 'subsample': 0.13253552395019846, 'learning_rate': 0.16568520176811358, 'depth': 5, 'colsample_bylevel': 0.6783007982630462, 'min_data_in_leaf': 66, 'l2_leaf_reg': 1.6632041276186353, 'random_strength': 0.3126139727889955, 'od_type': 'Iter', 'od_wait': 16}. Best is trial 160 with value: 0.2905688888888889.\n",
      "[I 2025-06-26 14:28:34,392] Trial 197 finished with value: 0.28583555555555556 and parameters: {'bootstrap_type': 'Bernoulli', 'bagging_temperature': 0.2680185866540847, 'subsample': 0.7553349899234714, 'learning_rate': 0.008028800711411373, 'depth': 9, 'colsample_bylevel': 0.3099090989516032, 'min_data_in_leaf': 56, 'l2_leaf_reg': 1.3586427518694786, 'random_strength': 0.17637195752423357, 'od_type': 'IncToDec', 'od_wait': 42}. Best is trial 160 with value: 0.2905688888888889.\n",
      "[I 2025-06-26 14:29:13,225] Trial 198 finished with value: 0.2903955555555555 and parameters: {'bootstrap_type': 'MVS', 'bagging_temperature': 0.05348070534075387, 'subsample': 0.29019483388436895, 'learning_rate': 0.09549234266440819, 'depth': 10, 'colsample_bylevel': 0.46716859125872134, 'min_data_in_leaf': 85, 'l2_leaf_reg': 1.32155087200765, 'random_strength': 0.026053398189976366, 'od_type': 'IncToDec', 'od_wait': 38}. Best is trial 160 with value: 0.2905688888888889.\n",
      "[I 2025-06-26 14:29:51,140] Trial 199 finished with value: 0.28709777777777773 and parameters: {'bootstrap_type': 'MVS', 'bagging_temperature': 1.5229308037388207, 'subsample': 0.24493485253409417, 'learning_rate': 0.060994223606300725, 'depth': 10, 'colsample_bylevel': 0.32495814263630773, 'min_data_in_leaf': 98, 'l2_leaf_reg': 1.7317787561945877, 'random_strength': 0.04841252354016268, 'od_type': 'IncToDec', 'od_wait': 34}. Best is trial 160 with value: 0.2905688888888889.\n"
     ]
    },
    {
     "name": "stdout",
     "output_type": "stream",
     "text": [
      "-----------------------------------------------------------\n",
      "Hyperparameter Tuning Runtime: 108.34 minutes.\n"
     ]
    }
   ],
   "source": [
    "# Study parameters\n",
    "trials = 200\n",
    "start_up_trials = trials // 10 + 1\n",
    "warmup_steps = 50\n",
    "num_folds = 3\n",
    "sampler = TPESampler(multivariate=True, seed=sampler_seed) # Multivariate=True means considers \"dependencies of hyperparameters during optimization\" - https://medium.com/optuna/multivariate-tpe-makes-optuna-even-more-powerful-63c4bfbaebe2\n",
    "pruner = MedianPruner(n_startup_trials=start_up_trials, n_warmup_steps=warmup_steps)\n",
    "\n",
    "# Study\n",
    "study = optuna.create_study(\n",
    "    direction='maximize', \n",
    "    pruner=pruner, \n",
    "    sampler=sampler,\n",
    "    study_name='CatBoost_Tuning_Phase1'\n",
    ")\n",
    "\n",
    "# Run and time the study\n",
    "start = time.time()\n",
    "study.optimize(lambda trial: objective(trial, num_folds), n_trials=trials, timeout=7200) # Run 200 trials or stop after 2 hours\n",
    "end = time.time()\n",
    "\n",
    "# Print the total runtime\n",
    "print('-----------------------------------------------------------')\n",
    "print(f'Hyperparameter Tuning Runtime: {(end-start)/60:.2f} minutes.')"
   ]
  },
  {
   "cell_type": "code",
   "execution_count": 9,
   "id": "90810fb4",
   "metadata": {},
   "outputs": [
    {
     "name": "stdout",
     "output_type": "stream",
     "text": [
      "Best MAP@3: 0.2906 achieved in Trial #160\n",
      "Best hyperparameters: {'bootstrap_type': 'Bernoulli', 'subsample': 0.5656247419496974, 'learning_rate': 0.027816293131505784, 'depth': 10, 'colsample_bylevel': 0.5396698901117247, 'min_data_in_leaf': 85, 'l2_leaf_reg': 2.3595944761366017, 'random_strength': 0.008179345523639161, 'od_type': 'IncToDec', 'od_wait': 46, 'boosting_type': 'Ordered', 'loss_function': 'MultiClass'}\n"
     ]
    }
   ],
   "source": [
    "# Save the best trial\n",
    "best_trial = study.best_trial\n",
    "\n",
    "# Save best parameters\n",
    "best_params = best_trial.params\n",
    "# Include the fixed parameters\n",
    "for key, value in fixed_params.items():\n",
    "    best_params[key] = value\n",
    "\n",
    "# Exclude the impermissible hyperparameter combinations\n",
    "if best_params['bootstrap_type'] == 'Bayesian':\n",
    "    best_params.pop('subsample')\n",
    "elif best_params['bootstrap_type'] in ['MVS', 'Bernoulli']:\n",
    "    best_params.pop('bagging_temperature')\n",
    "\n",
    "# Save the study's best parameters to a file\n",
    "with open('Study_Results/Phase1/best_params.json', 'w') as file:\n",
    "    json.dump(best_params, file)\n",
    "\n",
    "# Print the results\n",
    "print(f'Best MAP@3: {study.best_value:.4f} achieved in Trial #{best_trial.number}')\n",
    "print(f'Best hyperparameters: {best_params}')\n",
    "\n",
    "# Save the od_wait parameter for later use\n",
    "od_wait = best_params.pop('od_wait')"
   ]
  },
  {
   "cell_type": "markdown",
   "id": "cbc7e909",
   "metadata": {},
   "source": [
    "## Tuning Results"
   ]
  },
  {
   "cell_type": "markdown",
   "id": "e4a0886d",
   "metadata": {},
   "source": [
    "**Best Hyperparameter Selection - Phase 1**\n",
    "- depth: 10\n",
    "- learning_rate: 0.027816293131505784\n",
    "- bootstrap_type: Bernoulli\n",
    "- colsample_bylevel: 0.5396698901117247\n",
    "- min_data_in_leaf: 85\n",
    "- subsample: 0.5656247419496974\n",
    "- random_strength: 0.008179345523639161\n",
    "- l2_leaf_reg: 2.3595944761366017\n",
    "- boosting_type: Ordered\n",
    "- loss_function: MultiClass\n",
    "- od_type: IncToDec\n",
    "- od_wait: 46"
   ]
  },
  {
   "cell_type": "code",
   "execution_count": 10,
   "id": "b1a01b76",
   "metadata": {},
   "outputs": [
    {
     "name": "stdout",
     "output_type": "stream",
     "text": [
      "MAP@3 = 0.2906 achieved on Trial #160 with parameters: {'bootstrap_type': 'Bernoulli', 'bagging_temperature': 3.851579501966772e-05, 'subsample': 0.5656247419496974, 'learning_rate': 0.027816293131505784, 'depth': 10, 'colsample_bylevel': 0.5396698901117247, 'min_data_in_leaf': 85, 'l2_leaf_reg': 2.3595944761366017, 'random_strength': 0.008179345523639161, 'od_type': 'IncToDec', 'od_wait': 46}\n",
      "MAP@3 = 0.2904 achieved on Trial #169 with parameters: {'bootstrap_type': 'Bernoulli', 'bagging_temperature': 0.0017887353217498675, 'subsample': 0.415884173862209, 'learning_rate': 0.10650231271827791, 'depth': 9, 'colsample_bylevel': 0.5062042152667681, 'min_data_in_leaf': 94, 'l2_leaf_reg': 2.724816942419469, 'random_strength': 0.20145999287004346, 'od_type': 'IncToDec', 'od_wait': 47}\n",
      "MAP@3 = 0.2904 achieved on Trial #198 with parameters: {'bootstrap_type': 'MVS', 'bagging_temperature': 0.05348070534075387, 'subsample': 0.29019483388436895, 'learning_rate': 0.09549234266440819, 'depth': 10, 'colsample_bylevel': 0.46716859125872134, 'min_data_in_leaf': 85, 'l2_leaf_reg': 1.32155087200765, 'random_strength': 0.026053398189976366, 'od_type': 'IncToDec', 'od_wait': 38}\n",
      "MAP@3 = 0.2904 achieved on Trial #174 with parameters: {'bootstrap_type': 'MVS', 'bagging_temperature': 0.001478735480584917, 'subsample': 0.13396446683943186, 'learning_rate': 0.04574655662039907, 'depth': 10, 'colsample_bylevel': 0.36711763895159977, 'min_data_in_leaf': 78, 'l2_leaf_reg': 1.017503517076649, 'random_strength': 0.29276115033123995, 'od_type': 'Iter', 'od_wait': 49}\n",
      "MAP@3 = 0.2902 achieved on Trial #153 with parameters: {'bootstrap_type': 'Bayesian', 'bagging_temperature': 0.0011724917738042842, 'subsample': 0.12998696809906374, 'learning_rate': 0.1377977886481511, 'depth': 7, 'colsample_bylevel': 0.34130348041251707, 'min_data_in_leaf': 88, 'l2_leaf_reg': 2.121547808667496, 'random_strength': 0.15354992360365338, 'od_type': 'Iter', 'od_wait': 27}\n",
      "MAP@3 = 0.2902 achieved on Trial #155 with parameters: {'bootstrap_type': 'MVS', 'bagging_temperature': 0.0012062348040780082, 'subsample': 0.24949889691532126, 'learning_rate': 0.07142795030585304, 'depth': 10, 'colsample_bylevel': 0.4229980028036562, 'min_data_in_leaf': 65, 'l2_leaf_reg': 1.2417829212992182, 'random_strength': 0.02082619149408467, 'od_type': 'IncToDec', 'od_wait': 40}\n",
      "MAP@3 = 0.2901 achieved on Trial #74 with parameters: {'bootstrap_type': 'MVS', 'bagging_temperature': 5.233089240178375, 'subsample': 0.06783871147723564, 'learning_rate': 0.018387660525581693, 'depth': 8, 'colsample_bylevel': 0.4214429324162141, 'min_data_in_leaf': 61, 'l2_leaf_reg': 2.844166127031995, 'random_strength': 0.05785320613974244, 'od_type': 'Iter', 'od_wait': 31}\n",
      "MAP@3 = 0.2900 achieved on Trial #141 with parameters: {'bootstrap_type': 'Bayesian', 'bagging_temperature': 0.00033335420302589124, 'subsample': 0.36425547287519766, 'learning_rate': 0.11875364723404337, 'depth': 6, 'colsample_bylevel': 0.27158558997555926, 'min_data_in_leaf': 86, 'l2_leaf_reg': 1.9476054057441434, 'random_strength': 0.11221249561278573, 'od_type': 'Iter', 'od_wait': 25}\n",
      "MAP@3 = 0.2899 achieved on Trial #93 with parameters: {'bootstrap_type': 'MVS', 'bagging_temperature': 0.42823187941379504, 'subsample': 0.1394822614264652, 'learning_rate': 0.018943597460621214, 'depth': 9, 'colsample_bylevel': 0.4118897681855141, 'min_data_in_leaf': 73, 'l2_leaf_reg': 3.179783944087877, 'random_strength': 0.21505290128786128, 'od_type': 'IncToDec', 'od_wait': 23}\n",
      "MAP@3 = 0.2899 achieved on Trial #85 with parameters: {'bootstrap_type': 'MVS', 'bagging_temperature': 0.0021364471055914176, 'subsample': 0.06603249320328008, 'learning_rate': 0.03243269300119212, 'depth': 8, 'colsample_bylevel': 0.531020118990097, 'min_data_in_leaf': 87, 'l2_leaf_reg': 2.096338487635091, 'random_strength': 0.17336461797753341, 'od_type': 'Iter', 'od_wait': 38}\n",
      "MAP@3 = 0.2899 achieved on Trial #139 with parameters: {'bootstrap_type': 'MVS', 'bagging_temperature': 6.298828553915307e-06, 'subsample': 0.05974469258834258, 'learning_rate': 0.027420501260131968, 'depth': 9, 'colsample_bylevel': 0.32989146063076885, 'min_data_in_leaf': 53, 'l2_leaf_reg': 3.482575570362497, 'random_strength': 0.03203841280044782, 'od_type': 'Iter', 'od_wait': 45}\n",
      "MAP@3 = 0.2899 achieved on Trial #87 with parameters: {'bootstrap_type': 'MVS', 'bagging_temperature': 0.8887063634223238, 'subsample': 0.061580186930116625, 'learning_rate': 0.03077373422004101, 'depth': 9, 'colsample_bylevel': 0.2571206436471817, 'min_data_in_leaf': 69, 'l2_leaf_reg': 3.233436452669683, 'random_strength': 0.096877206004031, 'od_type': 'Iter', 'od_wait': 42}\n",
      "MAP@3 = 0.2898 achieved on Trial #40 with parameters: {'bootstrap_type': 'MVS', 'bagging_temperature': 0.0003127055459513509, 'subsample': 0.5810398337042082, 'learning_rate': 0.06636310670484787, 'depth': 5, 'colsample_bylevel': 0.5721606839482257, 'min_data_in_leaf': 22, 'l2_leaf_reg': 4.638286856250468, 'random_strength': 0.5051697560735477, 'od_type': 'Iter', 'od_wait': 30}\n",
      "MAP@3 = 0.2898 achieved on Trial #161 with parameters: {'bootstrap_type': 'Bernoulli', 'bagging_temperature': 4.9216041977178004e-05, 'subsample': 0.36438540964986266, 'learning_rate': 0.12358115977615772, 'depth': 10, 'colsample_bylevel': 0.6100593290500942, 'min_data_in_leaf': 88, 'l2_leaf_reg': 2.6169648814151776, 'random_strength': 0.20275310447884143, 'od_type': 'IncToDec', 'od_wait': 46}\n",
      "MAP@3 = 0.2895 achieved on Trial #176 with parameters: {'bootstrap_type': 'MVS', 'bagging_temperature': 0.0004204690776011746, 'subsample': 0.09945488616762915, 'learning_rate': 0.02978836235258952, 'depth': 10, 'colsample_bylevel': 0.5468631564894055, 'min_data_in_leaf': 79, 'l2_leaf_reg': 1.159037443424923, 'random_strength': 0.07884712191082141, 'od_type': 'Iter', 'od_wait': 39}\n",
      "MAP@3 = 0.2894 achieved on Trial #137 with parameters: {'bootstrap_type': 'Bayesian', 'bagging_temperature': 2.6442990303630646e-05, 'subsample': 0.2814800958789066, 'learning_rate': 0.18159617412798004, 'depth': 6, 'colsample_bylevel': 0.38617527918713085, 'min_data_in_leaf': 76, 'l2_leaf_reg': 1.8368816955712872, 'random_strength': 0.09319705040869262, 'od_type': 'Iter', 'od_wait': 27}\n",
      "MAP@3 = 0.2894 achieved on Trial #145 with parameters: {'bootstrap_type': 'MVS', 'bagging_temperature': 0.7400989300222024, 'subsample': 0.22572433476942014, 'learning_rate': 0.05092935920948347, 'depth': 10, 'colsample_bylevel': 0.44813112633771446, 'min_data_in_leaf': 71, 'l2_leaf_reg': 1.3330336808102468, 'random_strength': 0.10578673868397305, 'od_type': 'Iter', 'od_wait': 44}\n",
      "MAP@3 = 0.2893 achieved on Trial #159 with parameters: {'bootstrap_type': 'Bernoulli', 'bagging_temperature': 4.505003726285735e-05, 'subsample': 0.41911988884355483, 'learning_rate': 0.026668647647763617, 'depth': 10, 'colsample_bylevel': 0.4701045946198261, 'min_data_in_leaf': 77, 'l2_leaf_reg': 1.4553590431878067, 'random_strength': 0.021786331704760326, 'od_type': 'IncToDec', 'od_wait': 43}\n",
      "MAP@3 = 0.2892 achieved on Trial #124 with parameters: {'bootstrap_type': 'Bernoulli', 'bagging_temperature': 6.607933160886222, 'subsample': 0.07943235002973488, 'learning_rate': 0.02662263022937387, 'depth': 8, 'colsample_bylevel': 0.34754432602534613, 'min_data_in_leaf': 92, 'l2_leaf_reg': 2.1271212654342513, 'random_strength': 0.04027973133032417, 'od_type': 'Iter', 'od_wait': 24}\n",
      "MAP@3 = 0.2891 achieved on Trial #168 with parameters: {'bootstrap_type': 'Bernoulli', 'bagging_temperature': 0.0014461364050200169, 'subsample': 0.6546659354485516, 'learning_rate': 0.012631571269305428, 'depth': 10, 'colsample_bylevel': 0.5626241017977983, 'min_data_in_leaf': 51, 'l2_leaf_reg': 1.4855789567568967, 'random_strength': 0.0463038451372018, 'od_type': 'IncToDec', 'od_wait': 49}\n"
     ]
    }
   ],
   "source": [
    "# Examine the top 20 trials\n",
    "top20_trials = sorted(study.trials, key=lambda trial: trial.value, reverse=True)[:20]\n",
    "for i, trial in enumerate(top20_trials):\n",
    "    print(f'MAP@3 = {trial.value:.4f} achieved on Trial #{trial.number} with parameters: {trial.params}')"
   ]
  },
  {
   "cell_type": "code",
   "execution_count": 17,
   "id": "36ed91c8",
   "metadata": {},
   "outputs": [
    {
     "data": {
      "text/html": [
       "<div>\n",
       "<style scoped>\n",
       "    .dataframe tbody tr th:only-of-type {\n",
       "        vertical-align: middle;\n",
       "    }\n",
       "\n",
       "    .dataframe tbody tr th {\n",
       "        vertical-align: top;\n",
       "    }\n",
       "\n",
       "    .dataframe thead th {\n",
       "        text-align: right;\n",
       "    }\n",
       "</style>\n",
       "<table border=\"1\" class=\"dataframe\">\n",
       "  <thead>\n",
       "    <tr style=\"text-align: right;\">\n",
       "      <th></th>\n",
       "      <th>bootstrap_type</th>\n",
       "      <th>bagging_temperature</th>\n",
       "      <th>subsample</th>\n",
       "      <th>learning_rate</th>\n",
       "      <th>depth</th>\n",
       "      <th>colsample_bylevel</th>\n",
       "      <th>min_data_in_leaf</th>\n",
       "      <th>l2_leaf_reg</th>\n",
       "      <th>random_strength</th>\n",
       "      <th>od_type</th>\n",
       "      <th>od_wait</th>\n",
       "      <th>MAP@3</th>\n",
       "    </tr>\n",
       "  </thead>\n",
       "  <tbody>\n",
       "    <tr>\n",
       "      <th>0</th>\n",
       "      <td>Bernoulli</td>\n",
       "      <td>0.000039</td>\n",
       "      <td>0.565625</td>\n",
       "      <td>0.027816</td>\n",
       "      <td>10</td>\n",
       "      <td>0.539670</td>\n",
       "      <td>85</td>\n",
       "      <td>2.359594</td>\n",
       "      <td>0.008179</td>\n",
       "      <td>IncToDec</td>\n",
       "      <td>46</td>\n",
       "      <td>0.290569</td>\n",
       "    </tr>\n",
       "    <tr>\n",
       "      <th>1</th>\n",
       "      <td>Bernoulli</td>\n",
       "      <td>0.001789</td>\n",
       "      <td>0.415884</td>\n",
       "      <td>0.106502</td>\n",
       "      <td>9</td>\n",
       "      <td>0.506204</td>\n",
       "      <td>94</td>\n",
       "      <td>2.724817</td>\n",
       "      <td>0.201460</td>\n",
       "      <td>IncToDec</td>\n",
       "      <td>47</td>\n",
       "      <td>0.290413</td>\n",
       "    </tr>\n",
       "    <tr>\n",
       "      <th>2</th>\n",
       "      <td>MVS</td>\n",
       "      <td>0.053481</td>\n",
       "      <td>0.290195</td>\n",
       "      <td>0.095492</td>\n",
       "      <td>10</td>\n",
       "      <td>0.467169</td>\n",
       "      <td>85</td>\n",
       "      <td>1.321551</td>\n",
       "      <td>0.026053</td>\n",
       "      <td>IncToDec</td>\n",
       "      <td>38</td>\n",
       "      <td>0.290396</td>\n",
       "    </tr>\n",
       "    <tr>\n",
       "      <th>3</th>\n",
       "      <td>MVS</td>\n",
       "      <td>0.001479</td>\n",
       "      <td>0.133964</td>\n",
       "      <td>0.045747</td>\n",
       "      <td>10</td>\n",
       "      <td>0.367118</td>\n",
       "      <td>78</td>\n",
       "      <td>1.017504</td>\n",
       "      <td>0.292761</td>\n",
       "      <td>Iter</td>\n",
       "      <td>49</td>\n",
       "      <td>0.290356</td>\n",
       "    </tr>\n",
       "    <tr>\n",
       "      <th>4</th>\n",
       "      <td>Bayesian</td>\n",
       "      <td>0.001172</td>\n",
       "      <td>0.129987</td>\n",
       "      <td>0.137798</td>\n",
       "      <td>7</td>\n",
       "      <td>0.341303</td>\n",
       "      <td>88</td>\n",
       "      <td>2.121548</td>\n",
       "      <td>0.153550</td>\n",
       "      <td>Iter</td>\n",
       "      <td>27</td>\n",
       "      <td>0.290196</td>\n",
       "    </tr>\n",
       "    <tr>\n",
       "      <th>5</th>\n",
       "      <td>MVS</td>\n",
       "      <td>0.001206</td>\n",
       "      <td>0.249499</td>\n",
       "      <td>0.071428</td>\n",
       "      <td>10</td>\n",
       "      <td>0.422998</td>\n",
       "      <td>65</td>\n",
       "      <td>1.241783</td>\n",
       "      <td>0.020826</td>\n",
       "      <td>IncToDec</td>\n",
       "      <td>40</td>\n",
       "      <td>0.290160</td>\n",
       "    </tr>\n",
       "    <tr>\n",
       "      <th>6</th>\n",
       "      <td>MVS</td>\n",
       "      <td>5.233089</td>\n",
       "      <td>0.067839</td>\n",
       "      <td>0.018388</td>\n",
       "      <td>8</td>\n",
       "      <td>0.421443</td>\n",
       "      <td>61</td>\n",
       "      <td>2.844166</td>\n",
       "      <td>0.057853</td>\n",
       "      <td>Iter</td>\n",
       "      <td>31</td>\n",
       "      <td>0.290116</td>\n",
       "    </tr>\n",
       "    <tr>\n",
       "      <th>7</th>\n",
       "      <td>Bayesian</td>\n",
       "      <td>0.000333</td>\n",
       "      <td>0.364255</td>\n",
       "      <td>0.118754</td>\n",
       "      <td>6</td>\n",
       "      <td>0.271586</td>\n",
       "      <td>86</td>\n",
       "      <td>1.947605</td>\n",
       "      <td>0.112212</td>\n",
       "      <td>Iter</td>\n",
       "      <td>25</td>\n",
       "      <td>0.290027</td>\n",
       "    </tr>\n",
       "    <tr>\n",
       "      <th>8</th>\n",
       "      <td>MVS</td>\n",
       "      <td>0.428232</td>\n",
       "      <td>0.139482</td>\n",
       "      <td>0.018944</td>\n",
       "      <td>9</td>\n",
       "      <td>0.411890</td>\n",
       "      <td>73</td>\n",
       "      <td>3.179784</td>\n",
       "      <td>0.215053</td>\n",
       "      <td>IncToDec</td>\n",
       "      <td>23</td>\n",
       "      <td>0.289929</td>\n",
       "    </tr>\n",
       "    <tr>\n",
       "      <th>9</th>\n",
       "      <td>MVS</td>\n",
       "      <td>0.002136</td>\n",
       "      <td>0.066032</td>\n",
       "      <td>0.032433</td>\n",
       "      <td>8</td>\n",
       "      <td>0.531020</td>\n",
       "      <td>87</td>\n",
       "      <td>2.096338</td>\n",
       "      <td>0.173365</td>\n",
       "      <td>Iter</td>\n",
       "      <td>38</td>\n",
       "      <td>0.289871</td>\n",
       "    </tr>\n",
       "    <tr>\n",
       "      <th>10</th>\n",
       "      <td>MVS</td>\n",
       "      <td>0.000006</td>\n",
       "      <td>0.059745</td>\n",
       "      <td>0.027421</td>\n",
       "      <td>9</td>\n",
       "      <td>0.329891</td>\n",
       "      <td>53</td>\n",
       "      <td>3.482576</td>\n",
       "      <td>0.032038</td>\n",
       "      <td>Iter</td>\n",
       "      <td>45</td>\n",
       "      <td>0.289853</td>\n",
       "    </tr>\n",
       "    <tr>\n",
       "      <th>11</th>\n",
       "      <td>MVS</td>\n",
       "      <td>0.888706</td>\n",
       "      <td>0.061580</td>\n",
       "      <td>0.030774</td>\n",
       "      <td>9</td>\n",
       "      <td>0.257121</td>\n",
       "      <td>69</td>\n",
       "      <td>3.233436</td>\n",
       "      <td>0.096877</td>\n",
       "      <td>Iter</td>\n",
       "      <td>42</td>\n",
       "      <td>0.289853</td>\n",
       "    </tr>\n",
       "    <tr>\n",
       "      <th>12</th>\n",
       "      <td>MVS</td>\n",
       "      <td>0.000313</td>\n",
       "      <td>0.581040</td>\n",
       "      <td>0.066363</td>\n",
       "      <td>5</td>\n",
       "      <td>0.572161</td>\n",
       "      <td>22</td>\n",
       "      <td>4.638287</td>\n",
       "      <td>0.505170</td>\n",
       "      <td>Iter</td>\n",
       "      <td>30</td>\n",
       "      <td>0.289827</td>\n",
       "    </tr>\n",
       "    <tr>\n",
       "      <th>13</th>\n",
       "      <td>Bernoulli</td>\n",
       "      <td>0.000049</td>\n",
       "      <td>0.364385</td>\n",
       "      <td>0.123581</td>\n",
       "      <td>10</td>\n",
       "      <td>0.610059</td>\n",
       "      <td>88</td>\n",
       "      <td>2.616965</td>\n",
       "      <td>0.202753</td>\n",
       "      <td>IncToDec</td>\n",
       "      <td>46</td>\n",
       "      <td>0.289764</td>\n",
       "    </tr>\n",
       "    <tr>\n",
       "      <th>14</th>\n",
       "      <td>MVS</td>\n",
       "      <td>0.000420</td>\n",
       "      <td>0.099455</td>\n",
       "      <td>0.029788</td>\n",
       "      <td>10</td>\n",
       "      <td>0.546863</td>\n",
       "      <td>79</td>\n",
       "      <td>1.159037</td>\n",
       "      <td>0.078847</td>\n",
       "      <td>Iter</td>\n",
       "      <td>39</td>\n",
       "      <td>0.289507</td>\n",
       "    </tr>\n",
       "    <tr>\n",
       "      <th>15</th>\n",
       "      <td>Bayesian</td>\n",
       "      <td>0.000026</td>\n",
       "      <td>0.281480</td>\n",
       "      <td>0.181596</td>\n",
       "      <td>6</td>\n",
       "      <td>0.386175</td>\n",
       "      <td>76</td>\n",
       "      <td>1.836882</td>\n",
       "      <td>0.093197</td>\n",
       "      <td>Iter</td>\n",
       "      <td>27</td>\n",
       "      <td>0.289400</td>\n",
       "    </tr>\n",
       "    <tr>\n",
       "      <th>16</th>\n",
       "      <td>MVS</td>\n",
       "      <td>0.740099</td>\n",
       "      <td>0.225724</td>\n",
       "      <td>0.050929</td>\n",
       "      <td>10</td>\n",
       "      <td>0.448131</td>\n",
       "      <td>71</td>\n",
       "      <td>1.333034</td>\n",
       "      <td>0.105787</td>\n",
       "      <td>Iter</td>\n",
       "      <td>44</td>\n",
       "      <td>0.289387</td>\n",
       "    </tr>\n",
       "    <tr>\n",
       "      <th>17</th>\n",
       "      <td>Bernoulli</td>\n",
       "      <td>0.000045</td>\n",
       "      <td>0.419120</td>\n",
       "      <td>0.026669</td>\n",
       "      <td>10</td>\n",
       "      <td>0.470105</td>\n",
       "      <td>77</td>\n",
       "      <td>1.455359</td>\n",
       "      <td>0.021786</td>\n",
       "      <td>IncToDec</td>\n",
       "      <td>43</td>\n",
       "      <td>0.289262</td>\n",
       "    </tr>\n",
       "    <tr>\n",
       "      <th>18</th>\n",
       "      <td>Bernoulli</td>\n",
       "      <td>6.607933</td>\n",
       "      <td>0.079432</td>\n",
       "      <td>0.026623</td>\n",
       "      <td>8</td>\n",
       "      <td>0.347544</td>\n",
       "      <td>92</td>\n",
       "      <td>2.127121</td>\n",
       "      <td>0.040280</td>\n",
       "      <td>Iter</td>\n",
       "      <td>24</td>\n",
       "      <td>0.289191</td>\n",
       "    </tr>\n",
       "    <tr>\n",
       "      <th>19</th>\n",
       "      <td>Bernoulli</td>\n",
       "      <td>0.001446</td>\n",
       "      <td>0.654666</td>\n",
       "      <td>0.012632</td>\n",
       "      <td>10</td>\n",
       "      <td>0.562624</td>\n",
       "      <td>51</td>\n",
       "      <td>1.485579</td>\n",
       "      <td>0.046304</td>\n",
       "      <td>IncToDec</td>\n",
       "      <td>49</td>\n",
       "      <td>0.289147</td>\n",
       "    </tr>\n",
       "  </tbody>\n",
       "</table>\n",
       "</div>"
      ],
      "text/plain": [
       "   bootstrap_type  bagging_temperature  subsample  learning_rate  depth  \\\n",
       "0       Bernoulli             0.000039   0.565625       0.027816     10   \n",
       "1       Bernoulli             0.001789   0.415884       0.106502      9   \n",
       "2             MVS             0.053481   0.290195       0.095492     10   \n",
       "3             MVS             0.001479   0.133964       0.045747     10   \n",
       "4        Bayesian             0.001172   0.129987       0.137798      7   \n",
       "5             MVS             0.001206   0.249499       0.071428     10   \n",
       "6             MVS             5.233089   0.067839       0.018388      8   \n",
       "7        Bayesian             0.000333   0.364255       0.118754      6   \n",
       "8             MVS             0.428232   0.139482       0.018944      9   \n",
       "9             MVS             0.002136   0.066032       0.032433      8   \n",
       "10            MVS             0.000006   0.059745       0.027421      9   \n",
       "11            MVS             0.888706   0.061580       0.030774      9   \n",
       "12            MVS             0.000313   0.581040       0.066363      5   \n",
       "13      Bernoulli             0.000049   0.364385       0.123581     10   \n",
       "14            MVS             0.000420   0.099455       0.029788     10   \n",
       "15       Bayesian             0.000026   0.281480       0.181596      6   \n",
       "16            MVS             0.740099   0.225724       0.050929     10   \n",
       "17      Bernoulli             0.000045   0.419120       0.026669     10   \n",
       "18      Bernoulli             6.607933   0.079432       0.026623      8   \n",
       "19      Bernoulli             0.001446   0.654666       0.012632     10   \n",
       "\n",
       "    colsample_bylevel  min_data_in_leaf  l2_leaf_reg  random_strength  \\\n",
       "0            0.539670                85     2.359594         0.008179   \n",
       "1            0.506204                94     2.724817         0.201460   \n",
       "2            0.467169                85     1.321551         0.026053   \n",
       "3            0.367118                78     1.017504         0.292761   \n",
       "4            0.341303                88     2.121548         0.153550   \n",
       "5            0.422998                65     1.241783         0.020826   \n",
       "6            0.421443                61     2.844166         0.057853   \n",
       "7            0.271586                86     1.947605         0.112212   \n",
       "8            0.411890                73     3.179784         0.215053   \n",
       "9            0.531020                87     2.096338         0.173365   \n",
       "10           0.329891                53     3.482576         0.032038   \n",
       "11           0.257121                69     3.233436         0.096877   \n",
       "12           0.572161                22     4.638287         0.505170   \n",
       "13           0.610059                88     2.616965         0.202753   \n",
       "14           0.546863                79     1.159037         0.078847   \n",
       "15           0.386175                76     1.836882         0.093197   \n",
       "16           0.448131                71     1.333034         0.105787   \n",
       "17           0.470105                77     1.455359         0.021786   \n",
       "18           0.347544                92     2.127121         0.040280   \n",
       "19           0.562624                51     1.485579         0.046304   \n",
       "\n",
       "     od_type  od_wait     MAP@3  \n",
       "0   IncToDec       46  0.290569  \n",
       "1   IncToDec       47  0.290413  \n",
       "2   IncToDec       38  0.290396  \n",
       "3       Iter       49  0.290356  \n",
       "4       Iter       27  0.290196  \n",
       "5   IncToDec       40  0.290160  \n",
       "6       Iter       31  0.290116  \n",
       "7       Iter       25  0.290027  \n",
       "8   IncToDec       23  0.289929  \n",
       "9       Iter       38  0.289871  \n",
       "10      Iter       45  0.289853  \n",
       "11      Iter       42  0.289853  \n",
       "12      Iter       30  0.289827  \n",
       "13  IncToDec       46  0.289764  \n",
       "14      Iter       39  0.289507  \n",
       "15      Iter       27  0.289400  \n",
       "16      Iter       44  0.289387  \n",
       "17  IncToDec       43  0.289262  \n",
       "18      Iter       24  0.289191  \n",
       "19  IncToDec       49  0.289147  "
      ]
     },
     "execution_count": 17,
     "metadata": {},
     "output_type": "execute_result"
    }
   ],
   "source": [
    "# Put the top 20 trials into a dataframe\n",
    "top20_df = pd.DataFrame([trial.params for trial in top20_trials])\n",
    "top20_df['MAP@3'] = pd.Series([trial.value for trial in top20_trials])\n",
    "top20_df"
   ]
  },
  {
   "cell_type": "markdown",
   "id": "75828cb4",
   "metadata": {},
   "source": [
    "- Note: bagging_temperature when used with Bayesian typically had low values - around 0.00051033\n",
    "\n",
    "- Note: subsample when used with MVS or Bernoulli typically had values ranging from 0.059745 to 0.654666 - the best trial had subsample set to 0.565625"
   ]
  },
  {
   "cell_type": "code",
   "execution_count": 18,
   "id": "76b2e1a8",
   "metadata": {},
   "outputs": [
    {
     "data": {
      "text/html": [
       "<div>\n",
       "<style scoped>\n",
       "    .dataframe tbody tr th:only-of-type {\n",
       "        vertical-align: middle;\n",
       "    }\n",
       "\n",
       "    .dataframe tbody tr th {\n",
       "        vertical-align: top;\n",
       "    }\n",
       "\n",
       "    .dataframe thead th {\n",
       "        text-align: right;\n",
       "    }\n",
       "</style>\n",
       "<table border=\"1\" class=\"dataframe\">\n",
       "  <thead>\n",
       "    <tr style=\"text-align: right;\">\n",
       "      <th></th>\n",
       "      <th>bagging_temperature</th>\n",
       "      <th>subsample</th>\n",
       "      <th>learning_rate</th>\n",
       "      <th>depth</th>\n",
       "      <th>colsample_bylevel</th>\n",
       "      <th>min_data_in_leaf</th>\n",
       "      <th>l2_leaf_reg</th>\n",
       "      <th>random_strength</th>\n",
       "      <th>od_wait</th>\n",
       "      <th>MAP@3</th>\n",
       "    </tr>\n",
       "  </thead>\n",
       "  <tbody>\n",
       "    <tr>\n",
       "      <th>count</th>\n",
       "      <td>20.000000</td>\n",
       "      <td>20.000000</td>\n",
       "      <td>20.000000</td>\n",
       "      <td>20.000000</td>\n",
       "      <td>20.000000</td>\n",
       "      <td>20.000000</td>\n",
       "      <td>20.000000</td>\n",
       "      <td>20.000000</td>\n",
       "      <td>20.000000</td>\n",
       "      <td>20.000000</td>\n",
       "    </tr>\n",
       "    <tr>\n",
       "      <th>mean</th>\n",
       "      <td>0.698100</td>\n",
       "      <td>0.262470</td>\n",
       "      <td>0.062484</td>\n",
       "      <td>8.700000</td>\n",
       "      <td>0.440554</td>\n",
       "      <td>74.000000</td>\n",
       "      <td>2.211148</td>\n",
       "      <td>0.124218</td>\n",
       "      <td>37.650000</td>\n",
       "      <td>0.289861</td>\n",
       "    </tr>\n",
       "    <tr>\n",
       "      <th>std</th>\n",
       "      <td>1.818428</td>\n",
       "      <td>0.189996</td>\n",
       "      <td>0.048449</td>\n",
       "      <td>1.592747</td>\n",
       "      <td>0.102342</td>\n",
       "      <td>17.296182</td>\n",
       "      <td>0.937844</td>\n",
       "      <td>0.119593</td>\n",
       "      <td>8.957649</td>\n",
       "      <td>0.000431</td>\n",
       "    </tr>\n",
       "    <tr>\n",
       "      <th>min</th>\n",
       "      <td>0.000006</td>\n",
       "      <td>0.059745</td>\n",
       "      <td>0.012632</td>\n",
       "      <td>5.000000</td>\n",
       "      <td>0.257121</td>\n",
       "      <td>22.000000</td>\n",
       "      <td>1.017504</td>\n",
       "      <td>0.008179</td>\n",
       "      <td>23.000000</td>\n",
       "      <td>0.289147</td>\n",
       "    </tr>\n",
       "    <tr>\n",
       "      <th>25%</th>\n",
       "      <td>0.000247</td>\n",
       "      <td>0.094449</td>\n",
       "      <td>0.027233</td>\n",
       "      <td>8.000000</td>\n",
       "      <td>0.362224</td>\n",
       "      <td>68.000000</td>\n",
       "      <td>1.424778</td>\n",
       "      <td>0.038219</td>\n",
       "      <td>29.250000</td>\n",
       "      <td>0.289480</td>\n",
       "    </tr>\n",
       "    <tr>\n",
       "      <th>50%</th>\n",
       "      <td>0.001326</td>\n",
       "      <td>0.237612</td>\n",
       "      <td>0.039090</td>\n",
       "      <td>9.000000</td>\n",
       "      <td>0.435565</td>\n",
       "      <td>77.500000</td>\n",
       "      <td>2.108943</td>\n",
       "      <td>0.095037</td>\n",
       "      <td>39.500000</td>\n",
       "      <td>0.289862</td>\n",
       "    </tr>\n",
       "    <tr>\n",
       "      <th>75%</th>\n",
       "      <td>0.147168</td>\n",
       "      <td>0.377260</td>\n",
       "      <td>0.098245</td>\n",
       "      <td>10.000000</td>\n",
       "      <td>0.533183</td>\n",
       "      <td>86.250000</td>\n",
       "      <td>2.754654</td>\n",
       "      <td>0.180388</td>\n",
       "      <td>45.250000</td>\n",
       "      <td>0.290169</td>\n",
       "    </tr>\n",
       "    <tr>\n",
       "      <th>max</th>\n",
       "      <td>6.607933</td>\n",
       "      <td>0.654666</td>\n",
       "      <td>0.181596</td>\n",
       "      <td>10.000000</td>\n",
       "      <td>0.610059</td>\n",
       "      <td>94.000000</td>\n",
       "      <td>4.638287</td>\n",
       "      <td>0.505170</td>\n",
       "      <td>49.000000</td>\n",
       "      <td>0.290569</td>\n",
       "    </tr>\n",
       "  </tbody>\n",
       "</table>\n",
       "</div>"
      ],
      "text/plain": [
       "       bagging_temperature  subsample  learning_rate      depth  \\\n",
       "count            20.000000  20.000000      20.000000  20.000000   \n",
       "mean              0.698100   0.262470       0.062484   8.700000   \n",
       "std               1.818428   0.189996       0.048449   1.592747   \n",
       "min               0.000006   0.059745       0.012632   5.000000   \n",
       "25%               0.000247   0.094449       0.027233   8.000000   \n",
       "50%               0.001326   0.237612       0.039090   9.000000   \n",
       "75%               0.147168   0.377260       0.098245  10.000000   \n",
       "max               6.607933   0.654666       0.181596  10.000000   \n",
       "\n",
       "       colsample_bylevel  min_data_in_leaf  l2_leaf_reg  random_strength  \\\n",
       "count          20.000000         20.000000    20.000000        20.000000   \n",
       "mean            0.440554         74.000000     2.211148         0.124218   \n",
       "std             0.102342         17.296182     0.937844         0.119593   \n",
       "min             0.257121         22.000000     1.017504         0.008179   \n",
       "25%             0.362224         68.000000     1.424778         0.038219   \n",
       "50%             0.435565         77.500000     2.108943         0.095037   \n",
       "75%             0.533183         86.250000     2.754654         0.180388   \n",
       "max             0.610059         94.000000     4.638287         0.505170   \n",
       "\n",
       "         od_wait      MAP@3  \n",
       "count  20.000000  20.000000  \n",
       "mean   37.650000   0.289861  \n",
       "std     8.957649   0.000431  \n",
       "min    23.000000   0.289147  \n",
       "25%    29.250000   0.289480  \n",
       "50%    39.500000   0.289862  \n",
       "75%    45.250000   0.290169  \n",
       "max    49.000000   0.290569  "
      ]
     },
     "execution_count": 18,
     "metadata": {},
     "output_type": "execute_result"
    }
   ],
   "source": [
    "# Get a sense of the value ranges for the numeric parameters\n",
    "top20_df.describe()"
   ]
  },
  {
   "cell_type": "markdown",
   "id": "0c7c0b88",
   "metadata": {},
   "source": [
    "- learning_rate range: [0.012632, 0.159382] with a mean of 0.062484\n",
    "- depth range: [6, 10] with a mean of 8.700000\n",
    "- colsample_bylevel range: [0.257121, 0.610059] with a mean of 0.440554\n",
    "- subsample range: [0.000006, 0.642462] with a mean of 0.262470\n",
    "- min_data_in_leaf range: [39, 94] with a mean of 74\n",
    "- l2_leaf_reg range: [1.017504, 4.086836] with a mean of 2.211148\n",
    "- random_strength range: [0.008179, 0.363404] with a mean of 0.124218\n",
    "- od_wait range: [20, 49] with an mean of 37.650000"
   ]
  },
  {
   "cell_type": "code",
   "execution_count": 19,
   "id": "fe8ecbaa",
   "metadata": {},
   "outputs": [
    {
     "name": "stdout",
     "output_type": "stream",
     "text": [
      "bootstrap_type\n",
      "MVS          11\n",
      "Bernoulli     6\n",
      "Bayesian      3\n",
      "Name: count, dtype: int64\n",
      "od_type\n",
      "Iter        12\n",
      "IncToDec     8\n",
      "Name: count, dtype: int64\n"
     ]
    }
   ],
   "source": [
    "# Get the frequency counts of the categorical data\n",
    "print(top20_df['bootstrap_type'].value_counts())\n",
    "print(top20_df['od_type'].value_counts())"
   ]
  },
  {
   "cell_type": "markdown",
   "id": "44d41be3",
   "metadata": {},
   "source": [
    "Bootstrap Type:\n",
    "- MVS occurs the most frequently in the top 20 trials; however, the best two trials in the study use Bernoulli, so we will keep Bernoulli too.\n",
    "- Bayesian occurs relatively infrequently and has a long runtime, so let's drop Bayesian from the Bootstrap in phase 2.\n",
    "- Removing Bayesian also allows the Multivariate parameter of the study to work more efficiently.\n",
    "\n",
    "Od_Type:\n",
    "- There is no apparent reason to prefer Iter of IncToDec, so let's keep both for phase 2."
   ]
  },
  {
   "cell_type": "code",
   "execution_count": 20,
   "id": "12d6bb8c",
   "metadata": {},
   "outputs": [],
   "source": [
    "# Save study trial results\n",
    "study_dataframe = study.trials_dataframe()\n",
    "study_dataframe.to_csv('Study_Results/Phase1/trials.csv')"
   ]
  },
  {
   "cell_type": "code",
   "execution_count": 21,
   "id": "6906dd90",
   "metadata": {},
   "outputs": [
    {
     "data": {
      "image/png": "[encoded data removed]",
      "text/plain": [
       "<Figure size 432x288 with 1 Axes>"
      ]
     },
     "metadata": {
      "needs_background": "light"
     },
     "output_type": "display_data"
    }
   ],
   "source": [
    "# Examine top trial results and performance trend\n",
    "study_dataframe['value'].plot(title='MAP@3 over trials', xlabel='Trial #', ylabel='MAP@3')\n",
    "plt.grid(True)\n",
    "plt.show()"
   ]
  },
  {
   "cell_type": "markdown",
   "id": "2ce5be9b",
   "metadata": {},
   "source": [
    "The appears to be lots of fluctuations, however the range of average MAP@3 scores (the y-axis) is quite small. Also, we only used 5% of the dataset and 3-fold cross-validation, therefore, randomness in model performance needs to be taken into account."
   ]
  },
  {
   "cell_type": "code",
   "execution_count": 22,
   "id": "e308285c",
   "metadata": {},
   "outputs": [
    {
     "data": {
      "application/vnd.plotly.v1+json": {
       "config": {
        "plotlyServerURL": "https://plot.ly"
       },
       "data": [
        {
         "mode": "markers",
         "name": "Objective Value",
         "type": "scatter",
         "x": [
          0,
          1,
          2,
          3,
          4,
          5,
          6,
          7,
          8,
          9,
          10,
          11,
          12,
          13,
          14,
          15,
          16,
          17,
          18,
          19,
          20,
          21,
          22,
          23,
          24,
          25,
          26,
          27,
          28,
          29,
          30,
          31,
          32,
          33,
          34,
          35,
          36,
          37,
          38,
          39,
          40,
          41,
          42,
          43,
          44,
          45,
          46,
          47,
          48,
          49,
          50,
          51,
          52,
          53,
          54,
          55,
          56,
          57,
          58,
          59,
          60,
          61,
          62,
          63,
          64,
          65,
          66,
          67,
          68,
          69,
          70,
          71,
          72,
          73,
          74,
          75,
          76,
          77,
          78,
          79,
          80,
          81,
          82,
          83,
          84,
          85,
          86,
          87,
          88,
          89,
          90,
          91,
          92,
          93,
          94,
          95,
          96,
          97,
          98,
          99,
          100,
          101,
          102,
          103,
          104,
          105,
          106,
          107,
          108,
          109,
          110,
          111,
          112,
          113,
          114,
          115,
          116,
          117,
          118,
          119,
          120,
          121,
          122,
          123,
          124,
          125,
          126,
          127,
          128,
          129,
          130,
          131,
          132,
          133,
          134,
          135,
          136,
          137,
          138,
          139,
          140,
          141,
          142,
          143,
          144,
          145,
          146,
          147,
          148,
          149,
          150,
          151,
          152,
          153,
          154,
          155,
          156,
          157,
          158,
          159,
          160,
          161,
          162,
          163,
          164,
          165,
          166,
          167,
          168,
          169,
          170,
          171,
          172,
          173,
          174,
          175,
          176,
          177,
          178,
          179,
          180,
          181,
          182,
          183,
          184,
          185,
          186,
          187,
          188,
          189,
          190,
          191,
          192,
          193,
          194,
          195,
          196,
          197,
          198,
          199
         ],
         "y": [
          0.28421777777777774,
          0.28864,
          0.2804088888888889,
          0.2866888888888888,
          0.28589777777777775,
          0.2801022222222222,
          0.28194222222222226,
          0.28750666666666663,
          0.2853333333333333,
          0.2801777777777778,
          0.2852222222222222,
          0.28741777777777777,
          0.28404888888888885,
          0.28673333333333334,
          0.2868622222222222,
          0.2878933333333333,
          0.2874977777777778,
          0.28756444444444446,
          0.2859422222222222,
          0.2862311111111111,
          0.2856444444444444,
          0.2885244444444444,
          0.2869333333333333,
          0.2888133333333333,
          0.28687999999999997,
          0.28805333333333333,
          0.28717333333333334,
          0.28809333333333337,
          0.28704888888888885,
          0.2849022222222222,
          0.28542666666666666,
          0.28813777777777777,
          0.28635555555555553,
          0.28798666666666667,
          0.28709777777777773,
          0.2875466666666667,
          0.28677777777777774,
          0.2873866666666666,
          0.28732444444444444,
          0.2843111111111111,
          0.2898266666666667,
          0.28864888888888884,
          0.28755555555555556,
          0.28756,
          0.28641777777777777,
          0.28739999999999993,
          0.2857955555555555,
          0.2845333333333333,
          0.2874933333333333,
          0.28627111111111114,
          0.2882577777777778,
          0.2871244444444444,
          0.2884977777777778,
          0.28602666666666665,
          0.28719999999999996,
          0.28655111111111103,
          0.28532444444444444,
          0.28747999999999996,
          0.2890488888888889,
          0.2885422222222222,
          0.28794222222222227,
          0.28757777777777777,
          0.2852666666666666,
          0.2885422222222222,
          0.28533777777777775,
          0.2869644444444444,
          0.28467555555555557,
          0.2883422222222222,
          0.28685333333333335,
          0.28430666666666665,
          0.2858266666666667,
          0.2849511111111111,
          0.28587999999999997,
          0.2880933333333333,
          0.2901155555555555,
          0.28718666666666665,
          0.2868,
          0.28673777777777776,
          0.28792888888888885,
          0.2861466666666666,
          0.28780444444444436,
          0.2853111111111111,
          0.28756444444444446,
          0.2863644444444444,
          0.2873022222222222,
          0.28987111111111113,
          0.28792888888888885,
          0.2898533333333333,
          0.2869333333333333,
          0.28775555555555554,
          0.2863911111111111,
          0.28802222222222224,
          0.2865955555555555,
          0.2899288888888889,
          0.2880933333333333,
          0.28757333333333335,
          0.28685777777777777,
          0.2849955555555555,
          0.2885155555555555,
          0.2879111111111112,
          0.2846933333333333,
          0.28544888888888886,
          0.28668888888888894,
          0.28862666666666664,
          0.2884488888888889,
          0.28544444444444445,
          0.2886666666666667,
          0.2825422222222222,
          0.2862533333333333,
          0.28540000000000004,
          0.28582222222222226,
          0.28555555555555556,
          0.28870666666666667,
          0.28744888888888886,
          0.28756444444444446,
          0.28815999999999997,
          0.2862222222222222,
          0.28315555555555555,
          0.28715111111111113,
          0.2863022222222222,
          0.2857422222222223,
          0.2853733333333333,
          0.28720888888888885,
          0.28694222222222227,
          0.2891911111111111,
          0.2869822222222222,
          0.28576,
          0.28818666666666665,
          0.2877955555555555,
          0.28769333333333336,
          0.28702666666666665,
          0.2865822222222222,
          0.2848311111111111,
          0.2843688888888889,
          0.28662222222222217,
          0.28913777777777777,
          0.2872488888888889,
          0.28940000000000005,
          0.28761333333333333,
          0.28985333333333335,
          0.28709333333333337,
          0.2900266666666666,
          0.2885111111111111,
          0.28864,
          0.28891555555555554,
          0.2893866666666666,
          0.2863733333333333,
          0.28619999999999995,
          0.2880844444444444,
          0.28773333333333334,
          0.2873822222222222,
          0.2867244444444444,
          0.2882222222222222,
          0.29019555555555554,
          0.28558222222222224,
          0.29016,
          0.2868577777777777,
          0.28530666666666665,
          0.28799555555555556,
          0.28926222222222214,
          0.2905688888888889,
          0.28976444444444444,
          0.28820444444444443,
          0.28805777777777775,
          0.2868088888888889,
          0.2882488888888889,
          0.28672000000000003,
          0.2882444444444444,
          0.28914666666666666,
          0.29041333333333336,
          0.2852177777777778,
          0.28154666666666667,
          0.2889111111111111,
          0.28729333333333334,
          0.29035555555555553,
          0.2873333333333333,
          0.28950666666666663,
          0.2873866666666666,
          0.2859688888888889,
          0.2869644444444444,
          0.28589777777777775,
          0.28783999999999993,
          0.28903999999999996,
          0.2877955555555555,
          0.28745777777777776,
          0.2873555555555556,
          0.2881244444444444,
          0.2863644444444444,
          0.28612444444444446,
          0.28824,
          0.2844044444444444,
          0.28520888888888885,
          0.28735555555555553,
          0.2882711111111111,
          0.28800888888888887,
          0.28832444444444444,
          0.28759111111111113,
          0.28583555555555556,
          0.2903955555555555,
          0.28709777777777773
         ]
        },
        {
         "mode": "lines",
         "name": "Best Value",
         "type": "scatter",
         "x": [
          0,
          1,
          2,
          3,
          4,
          5,
          6,
          7,
          8,
          9,
          10,
          11,
          12,
          13,
          14,
          15,
          16,
          17,
          18,
          19,
          20,
          21,
          22,
          23,
          24,
          25,
          26,
          27,
          28,
          29,
          30,
          31,
          32,
          33,
          34,
          35,
          36,
          37,
          38,
          39,
          40,
          41,
          42,
          43,
          44,
          45,
          46,
          47,
          48,
          49,
          50,
          51,
          52,
          53,
          54,
          55,
          56,
          57,
          58,
          59,
          60,
          61,
          62,
          63,
          64,
          65,
          66,
          67,
          68,
          69,
          70,
          71,
          72,
          73,
          74,
          75,
          76,
          77,
          78,
          79,
          80,
          81,
          82,
          83,
          84,
          85,
          86,
          87,
          88,
          89,
          90,
          91,
          92,
          93,
          94,
          95,
          96,
          97,
          98,
          99,
          100,
          101,
          102,
          103,
          104,
          105,
          106,
          107,
          108,
          109,
          110,
          111,
          112,
          113,
          114,
          115,
          116,
          117,
          118,
          119,
          120,
          121,
          122,
          123,
          124,
          125,
          126,
          127,
          128,
          129,
          130,
          131,
          132,
          133,
          134,
          135,
          136,
          137,
          138,
          139,
          140,
          141,
          142,
          143,
          144,
          145,
          146,
          147,
          148,
          149,
          150,
          151,
          152,
          153,
          154,
          155,
          156,
          157,
          158,
          159,
          160,
          161,
          162,
          163,
          164,
          165,
          166,
          167,
          168,
          169,
          170,
          171,
          172,
          173,
          174,
          175,
          176,
          177,
          178,
          179,
          180,
          181,
          182,
          183,
          184,
          185,
          186,
          187,
          188,
          189,
          190,
          191,
          192,
          193,
          194,
          195,
          196,
          197,
          198,
          199
         ],
         "y": [
          0.28421777777777774,
          0.28864,
          0.28864,
          0.28864,
          0.28864,
          0.28864,
          0.28864,
          0.28864,
          0.28864,
          0.28864,
          0.28864,
          0.28864,
          0.28864,
          0.28864,
          0.28864,
          0.28864,
          0.28864,
          0.28864,
          0.28864,
          0.28864,
          0.28864,
          0.28864,
          0.28864,
          0.2888133333333333,
          0.2888133333333333,
          0.2888133333333333,
          0.2888133333333333,
          0.2888133333333333,
          0.2888133333333333,
          0.2888133333333333,
          0.2888133333333333,
          0.2888133333333333,
          0.2888133333333333,
          0.2888133333333333,
          0.2888133333333333,
          0.2888133333333333,
          0.2888133333333333,
          0.2888133333333333,
          0.2888133333333333,
          0.2888133333333333,
          0.2898266666666667,
          0.2898266666666667,
          0.2898266666666667,
          0.2898266666666667,
          0.2898266666666667,
          0.2898266666666667,
          0.2898266666666667,
          0.2898266666666667,
          0.2898266666666667,
          0.2898266666666667,
          0.2898266666666667,
          0.2898266666666667,
          0.2898266666666667,
          0.2898266666666667,
          0.2898266666666667,
          0.2898266666666667,
          0.2898266666666667,
          0.2898266666666667,
          0.2898266666666667,
          0.2898266666666667,
          0.2898266666666667,
          0.2898266666666667,
          0.2898266666666667,
          0.2898266666666667,
          0.2898266666666667,
          0.2898266666666667,
          0.2898266666666667,
          0.2898266666666667,
          0.2898266666666667,
          0.2898266666666667,
          0.2898266666666667,
          0.2898266666666667,
          0.2898266666666667,
          0.2898266666666667,
          0.2901155555555555,
          0.2901155555555555,
          0.2901155555555555,
          0.2901155555555555,
          0.2901155555555555,
          0.2901155555555555,
          0.2901155555555555,
          0.2901155555555555,
          0.2901155555555555,
          0.2901155555555555,
          0.2901155555555555,
          0.2901155555555555,
          0.2901155555555555,
          0.2901155555555555,
          0.2901155555555555,
          0.2901155555555555,
          0.2901155555555555,
          0.2901155555555555,
          0.2901155555555555,
          0.2901155555555555,
          0.2901155555555555,
          0.2901155555555555,
          0.2901155555555555,
          0.2901155555555555,
          0.2901155555555555,
          0.2901155555555555,
          0.2901155555555555,
          0.2901155555555555,
          0.2901155555555555,
          0.2901155555555555,
          0.2901155555555555,
          0.2901155555555555,
          0.2901155555555555,
          0.2901155555555555,
          0.2901155555555555,
          0.2901155555555555,
          0.2901155555555555,
          0.2901155555555555,
          0.2901155555555555,
          0.2901155555555555,
          0.2901155555555555,
          0.2901155555555555,
          0.2901155555555555,
          0.2901155555555555,
          0.2901155555555555,
          0.2901155555555555,
          0.2901155555555555,
          0.2901155555555555,
          0.2901155555555555,
          0.2901155555555555,
          0.2901155555555555,
          0.2901155555555555,
          0.2901155555555555,
          0.2901155555555555,
          0.2901155555555555,
          0.2901155555555555,
          0.2901155555555555,
          0.2901155555555555,
          0.2901155555555555,
          0.2901155555555555,
          0.2901155555555555,
          0.2901155555555555,
          0.2901155555555555,
          0.2901155555555555,
          0.2901155555555555,
          0.2901155555555555,
          0.2901155555555555,
          0.2901155555555555,
          0.2901155555555555,
          0.2901155555555555,
          0.2901155555555555,
          0.2901155555555555,
          0.2901155555555555,
          0.2901155555555555,
          0.2901155555555555,
          0.2901155555555555,
          0.2901155555555555,
          0.2901155555555555,
          0.2901155555555555,
          0.29019555555555554,
          0.29019555555555554,
          0.29019555555555554,
          0.29019555555555554,
          0.29019555555555554,
          0.29019555555555554,
          0.29019555555555554,
          0.2905688888888889,
          0.2905688888888889,
          0.2905688888888889,
          0.2905688888888889,
          0.2905688888888889,
          0.2905688888888889,
          0.2905688888888889,
          0.2905688888888889,
          0.2905688888888889,
          0.2905688888888889,
          0.2905688888888889,
          0.2905688888888889,
          0.2905688888888889,
          0.2905688888888889,
          0.2905688888888889,
          0.2905688888888889,
          0.2905688888888889,
          0.2905688888888889,
          0.2905688888888889,
          0.2905688888888889,
          0.2905688888888889,
          0.2905688888888889,
          0.2905688888888889,
          0.2905688888888889,
          0.2905688888888889,
          0.2905688888888889,
          0.2905688888888889,
          0.2905688888888889,
          0.2905688888888889,
          0.2905688888888889,
          0.2905688888888889,
          0.2905688888888889,
          0.2905688888888889,
          0.2905688888888889,
          0.2905688888888889,
          0.2905688888888889,
          0.2905688888888889,
          0.2905688888888889,
          0.2905688888888889,
          0.2905688888888889
         ]
        },
        {
         "marker": {
          "color": "#cccccc"
         },
         "mode": "markers",
         "name": "Infeasible Trial",
         "showlegend": false,
         "type": "scatter",
         "x": [],
         "y": []
        }
       ],
       "layout": {
        "template": {
         "data": {
          "bar": [
           {
            "error_x": {
             "color": "#2a3f5f"
            },
            "error_y": {
             "color": "#2a3f5f"
            },
            "marker": {
             "line": {
              "color": "#E5ECF6",
              "width": 0.5
             },
             "pattern": {
              "fillmode": "overlay",
              "size": 10,
              "solidity": 0.2
             }
            },
            "type": "bar"
           }
          ],
          "barpolar": [
           {
            "marker": {
             "line": {
              "color": "#E5ECF6",
              "width": 0.5
             },
             "pattern": {
              "fillmode": "overlay",
              "size": 10,
              "solidity": 0.2
             }
            },
            "type": "barpolar"
           }
          ],
          "carpet": [
           {
            "aaxis": {
             "endlinecolor": "#2a3f5f",
             "gridcolor": "white",
             "linecolor": "white",
             "minorgridcolor": "white",
             "startlinecolor": "#2a3f5f"
            },
            "baxis": {
             "endlinecolor": "#2a3f5f",
             "gridcolor": "white",
             "linecolor": "white",
             "minorgridcolor": "white",
             "startlinecolor": "#2a3f5f"
            },
            "type": "carpet"
           }
          ],
          "choropleth": [
           {
            "colorbar": {
             "outlinewidth": 0,
             "ticks": ""
            },
            "type": "choropleth"
           }
          ],
          "contour": [
           {
            "colorbar": {
             "outlinewidth": 0,
             "ticks": ""
            },
            "colorscale": [
             [
              0,
              "#0d0887"
             ],
             [
              0.1111111111111111,
              "#46039f"
             ],
             [
              0.2222222222222222,
              "#7201a8"
             ],
             [
              0.3333333333333333,
              "#9c179e"
             ],
             [
              0.4444444444444444,
              "#bd3786"
             ],
             [
              0.5555555555555556,
              "#d8576b"
             ],
             [
              0.6666666666666666,
              "#ed7953"
             ],
             [
              0.7777777777777778,
              "#fb9f3a"
             ],
             [
              0.8888888888888888,
              "#fdca26"
             ],
             [
              1,
              "#f0f921"
             ]
            ],
            "type": "contour"
           }
          ],
          "contourcarpet": [
           {
            "colorbar": {
             "outlinewidth": 0,
             "ticks": ""
            },
            "type": "contourcarpet"
           }
          ],
          "heatmap": [
           {
            "colorbar": {
             "outlinewidth": 0,
             "ticks": ""
            },
            "colorscale": [
             [
              0,
              "#0d0887"
             ],
             [
              0.1111111111111111,
              "#46039f"
             ],
             [
              0.2222222222222222,
              "#7201a8"
             ],
             [
              0.3333333333333333,
              "#9c179e"
             ],
             [
              0.4444444444444444,
              "#bd3786"
             ],
             [
              0.5555555555555556,
              "#d8576b"
             ],
             [
              0.6666666666666666,
              "#ed7953"
             ],
             [
              0.7777777777777778,
              "#fb9f3a"
             ],
             [
              0.8888888888888888,
              "#fdca26"
             ],
             [
              1,
              "#f0f921"
             ]
            ],
            "type": "heatmap"
           }
          ],
          "histogram": [
           {
            "marker": {
             "pattern": {
              "fillmode": "overlay",
              "size": 10,
              "solidity": 0.2
             }
            },
            "type": "histogram"
           }
          ],
          "histogram2d": [
           {
            "colorbar": {
             "outlinewidth": 0,
             "ticks": ""
            },
            "colorscale": [
             [
              0,
              "#0d0887"
             ],
             [
              0.1111111111111111,
              "#46039f"
             ],
             [
              0.2222222222222222,
              "#7201a8"
             ],
             [
              0.3333333333333333,
              "#9c179e"
             ],
             [
              0.4444444444444444,
              "#bd3786"
             ],
             [
              0.5555555555555556,
              "#d8576b"
             ],
             [
              0.6666666666666666,
              "#ed7953"
             ],
             [
              0.7777777777777778,
              "#fb9f3a"
             ],
             [
              0.8888888888888888,
              "#fdca26"
             ],
             [
              1,
              "#f0f921"
             ]
            ],
            "type": "histogram2d"
           }
          ],
          "histogram2dcontour": [
           {
            "colorbar": {
             "outlinewidth": 0,
             "ticks": ""
            },
            "colorscale": [
             [
              0,
              "#0d0887"
             ],
             [
              0.1111111111111111,
              "#46039f"
             ],
             [
              0.2222222222222222,
              "#7201a8"
             ],
             [
              0.3333333333333333,
              "#9c179e"
             ],
             [
              0.4444444444444444,
              "#bd3786"
             ],
             [
              0.5555555555555556,
              "#d8576b"
             ],
             [
              0.6666666666666666,
              "#ed7953"
             ],
             [
              0.7777777777777778,
              "#fb9f3a"
             ],
             [
              0.8888888888888888,
              "#fdca26"
             ],
             [
              1,
              "#f0f921"
             ]
            ],
            "type": "histogram2dcontour"
           }
          ],
          "mesh3d": [
           {
            "colorbar": {
             "outlinewidth": 0,
             "ticks": ""
            },
            "type": "mesh3d"
           }
          ],
          "parcoords": [
           {
            "line": {
             "colorbar": {
              "outlinewidth": 0,
              "ticks": ""
             }
            },
            "type": "parcoords"
           }
          ],
          "pie": [
           {
            "automargin": true,
            "type": "pie"
           }
          ],
          "scatter": [
           {
            "fillpattern": {
             "fillmode": "overlay",
             "size": 10,
             "solidity": 0.2
            },
            "type": "scatter"
           }
          ],
          "scatter3d": [
           {
            "line": {
             "colorbar": {
              "outlinewidth": 0,
              "ticks": ""
             }
            },
            "marker": {
             "colorbar": {
              "outlinewidth": 0,
              "ticks": ""
             }
            },
            "type": "scatter3d"
           }
          ],
          "scattercarpet": [
           {
            "marker": {
             "colorbar": {
              "outlinewidth": 0,
              "ticks": ""
             }
            },
            "type": "scattercarpet"
           }
          ],
          "scattergeo": [
           {
            "marker": {
             "colorbar": {
              "outlinewidth": 0,
              "ticks": ""
             }
            },
            "type": "scattergeo"
           }
          ],
          "scattergl": [
           {
            "marker": {
             "colorbar": {
              "outlinewidth": 0,
              "ticks": ""
             }
            },
            "type": "scattergl"
           }
          ],
          "scattermap": [
           {
            "marker": {
             "colorbar": {
              "outlinewidth": 0,
              "ticks": ""
             }
            },
            "type": "scattermap"
           }
          ],
          "scattermapbox": [
           {
            "marker": {
             "colorbar": {
              "outlinewidth": 0,
              "ticks": ""
             }
            },
            "type": "scattermapbox"
           }
          ],
          "scatterpolar": [
           {
            "marker": {
             "colorbar": {
              "outlinewidth": 0,
              "ticks": ""
             }
            },
            "type": "scatterpolar"
           }
          ],
          "scatterpolargl": [
           {
            "marker": {
             "colorbar": {
              "outlinewidth": 0,
              "ticks": ""
             }
            },
            "type": "scatterpolargl"
           }
          ],
          "scatterternary": [
           {
            "marker": {
             "colorbar": {
              "outlinewidth": 0,
              "ticks": ""
             }
            },
            "type": "scatterternary"
           }
          ],
          "surface": [
           {
            "colorbar": {
             "outlinewidth": 0,
             "ticks": ""
            },
            "colorscale": [
             [
              0,
              "#0d0887"
             ],
             [
              0.1111111111111111,
              "#46039f"
             ],
             [
              0.2222222222222222,
              "#7201a8"
             ],
             [
              0.3333333333333333,
              "#9c179e"
             ],
             [
              0.4444444444444444,
              "#bd3786"
             ],
             [
              0.5555555555555556,
              "#d8576b"
             ],
             [
              0.6666666666666666,
              "#ed7953"
             ],
             [
              0.7777777777777778,
              "#fb9f3a"
             ],
             [
              0.8888888888888888,
              "#fdca26"
             ],
             [
              1,
              "#f0f921"
             ]
            ],
            "type": "surface"
           }
          ],
          "table": [
           {
            "cells": {
             "fill": {
              "color": "#EBF0F8"
             },
             "line": {
              "color": "white"
             }
            },
            "header": {
             "fill": {
              "color": "#C8D4E3"
             },
             "line": {
              "color": "white"
             }
            },
            "type": "table"
           }
          ]
         },
         "layout": {
          "annotationdefaults": {
           "arrowcolor": "#2a3f5f",
           "arrowhead": 0,
           "arrowwidth": 1
          },
          "autotypenumbers": "strict",
          "coloraxis": {
           "colorbar": {
            "outlinewidth": 0,
            "ticks": ""
           }
          },
          "colorscale": {
           "diverging": [
            [
             0,
             "#8e0152"
            ],
            [
             0.1,
             "#c51b7d"
            ],
            [
             0.2,
             "#de77ae"
            ],
            [
             0.3,
             "#f1b6da"
            ],
            [
             0.4,
             "#fde0ef"
            ],
            [
             0.5,
             "#f7f7f7"
            ],
            [
             0.6,
             "#e6f5d0"
            ],
            [
             0.7,
             "#b8e186"
            ],
            [
             0.8,
             "#7fbc41"
            ],
            [
             0.9,
             "#4d9221"
            ],
            [
             1,
             "#276419"
            ]
           ],
           "sequential": [
            [
             0,
             "#0d0887"
            ],
            [
             0.1111111111111111,
             "#46039f"
            ],
            [
             0.2222222222222222,
             "#7201a8"
            ],
            [
             0.3333333333333333,
             "#9c179e"
            ],
            [
             0.4444444444444444,
             "#bd3786"
            ],
            [
             0.5555555555555556,
             "#d8576b"
            ],
            [
             0.6666666666666666,
             "#ed7953"
            ],
            [
             0.7777777777777778,
             "#fb9f3a"
            ],
            [
             0.8888888888888888,
             "#fdca26"
            ],
            [
             1,
             "#f0f921"
            ]
           ],
           "sequentialminus": [
            [
             0,
             "#0d0887"
            ],
            [
             0.1111111111111111,
             "#46039f"
            ],
            [
             0.2222222222222222,
             "#7201a8"
            ],
            [
             0.3333333333333333,
             "#9c179e"
            ],
            [
             0.4444444444444444,
             "#bd3786"
            ],
            [
             0.5555555555555556,
             "#d8576b"
            ],
            [
             0.6666666666666666,
             "#ed7953"
            ],
            [
             0.7777777777777778,
             "#fb9f3a"
            ],
            [
             0.8888888888888888,
             "#fdca26"
            ],
            [
             1,
             "#f0f921"
            ]
           ]
          },
          "colorway": [
           "#636efa",
           "#EF553B",
           "#00cc96",
           "#ab63fa",
           "#FFA15A",
           "#19d3f3",
           "#FF6692",
           "#B6E880",
           "#FF97FF",
           "#FECB52"
          ],
          "font": {
           "color": "#2a3f5f"
          },
          "geo": {
           "bgcolor": "white",
           "lakecolor": "white",
           "landcolor": "#E5ECF6",
           "showlakes": true,
           "showland": true,
           "subunitcolor": "white"
          },
          "hoverlabel": {
           "align": "left"
          },
          "hovermode": "closest",
          "mapbox": {
           "style": "light"
          },
          "paper_bgcolor": "white",
          "plot_bgcolor": "#E5ECF6",
          "polar": {
           "angularaxis": {
            "gridcolor": "white",
            "linecolor": "white",
            "ticks": ""
           },
           "bgcolor": "#E5ECF6",
           "radialaxis": {
            "gridcolor": "white",
            "linecolor": "white",
            "ticks": ""
           }
          },
          "scene": {
           "xaxis": {
            "backgroundcolor": "#E5ECF6",
            "gridcolor": "white",
            "gridwidth": 2,
            "linecolor": "white",
            "showbackground": true,
            "ticks": "",
            "zerolinecolor": "white"
           },
           "yaxis": {
            "backgroundcolor": "#E5ECF6",
            "gridcolor": "white",
            "gridwidth": 2,
            "linecolor": "white",
            "showbackground": true,
            "ticks": "",
            "zerolinecolor": "white"
           },
           "zaxis": {
            "backgroundcolor": "#E5ECF6",
            "gridcolor": "white",
            "gridwidth": 2,
            "linecolor": "white",
            "showbackground": true,
            "ticks": "",
            "zerolinecolor": "white"
           }
          },
          "shapedefaults": {
           "line": {
            "color": "#2a3f5f"
           }
          },
          "ternary": {
           "aaxis": {
            "gridcolor": "white",
            "linecolor": "white",
            "ticks": ""
           },
           "baxis": {
            "gridcolor": "white",
            "linecolor": "white",
            "ticks": ""
           },
           "bgcolor": "#E5ECF6",
           "caxis": {
            "gridcolor": "white",
            "linecolor": "white",
            "ticks": ""
           }
          },
          "title": {
           "x": 0.05
          },
          "xaxis": {
           "automargin": true,
           "gridcolor": "white",
           "linecolor": "white",
           "ticks": "",
           "title": {
            "standoff": 15
           },
           "zerolinecolor": "white",
           "zerolinewidth": 2
          },
          "yaxis": {
           "automargin": true,
           "gridcolor": "white",
           "linecolor": "white",
           "ticks": "",
           "title": {
            "standoff": 15
           },
           "zerolinecolor": "white",
           "zerolinewidth": 2
          }
         }
        },
        "title": {
         "text": "Optimization History Plot"
        },
        "xaxis": {
         "title": {
          "text": "Trial"
         }
        },
        "yaxis": {
         "title": {
          "text": "Objective Value"
         }
        }
       }
      }
     },
     "metadata": {},
     "output_type": "display_data"
    }
   ],
   "source": [
    "# An interactive version of the plot above\n",
    "plot_optimization_history(study).show()"
   ]
  },
  {
   "cell_type": "code",
   "execution_count": 23,
   "id": "face7d14",
   "metadata": {},
   "outputs": [
    {
     "data": {
      "application/vnd.plotly.v1+json": {
       "config": {
        "plotlyServerURL": "https://plot.ly"
       },
       "data": [
        {
         "cliponaxis": false,
         "hovertemplate": [
          "bagging_temperature (FloatDistribution): 0.0016958967510244548<extra></extra>",
          "bootstrap_type (CategoricalDistribution): 0.005373042599110817<extra></extra>",
          "od_type (CategoricalDistribution): 0.013848959838657625<extra></extra>",
          "depth (IntDistribution): 0.015997824556794066<extra></extra>",
          "min_data_in_leaf (IntDistribution): 0.01673766535666145<extra></extra>",
          "l2_leaf_reg (FloatDistribution): 0.02013397798090536<extra></extra>",
          "subsample (FloatDistribution): 0.033538028800340264<extra></extra>",
          "od_wait (IntDistribution): 0.0773832041110653<extra></extra>",
          "colsample_bylevel (FloatDistribution): 0.09341579269472564<extra></extra>",
          "random_strength (FloatDistribution): 0.2449337609131689<extra></extra>",
          "learning_rate (FloatDistribution): 0.4769418463975463<extra></extra>"
         ],
         "name": "Objective Value",
         "orientation": "h",
         "text": [
          "<0.01",
          "<0.01",
          "0.01",
          "0.02",
          "0.02",
          "0.02",
          "0.03",
          "0.08",
          "0.09",
          "0.24",
          "0.48"
         ],
         "textposition": "outside",
         "type": "bar",
         "x": [
          0.0016958967510244548,
          0.005373042599110817,
          0.013848959838657625,
          0.015997824556794066,
          0.01673766535666145,
          0.02013397798090536,
          0.033538028800340264,
          0.0773832041110653,
          0.09341579269472564,
          0.2449337609131689,
          0.4769418463975463
         ],
         "y": [
          "bagging_temperature",
          "bootstrap_type",
          "od_type",
          "depth",
          "min_data_in_leaf",
          "l2_leaf_reg",
          "subsample",
          "od_wait",
          "colsample_bylevel",
          "random_strength",
          "learning_rate"
         ]
        }
       ],
       "layout": {
        "template": {
         "data": {
          "bar": [
           {
            "error_x": {
             "color": "#2a3f5f"
            },
            "error_y": {
             "color": "#2a3f5f"
            },
            "marker": {
             "line": {
              "color": "#E5ECF6",
              "width": 0.5
             },
             "pattern": {
              "fillmode": "overlay",
              "size": 10,
              "solidity": 0.2
             }
            },
            "type": "bar"
           }
          ],
          "barpolar": [
           {
            "marker": {
             "line": {
              "color": "#E5ECF6",
              "width": 0.5
             },
             "pattern": {
              "fillmode": "overlay",
              "size": 10,
              "solidity": 0.2
             }
            },
            "type": "barpolar"
           }
          ],
          "carpet": [
           {
            "aaxis": {
             "endlinecolor": "#2a3f5f",
             "gridcolor": "white",
             "linecolor": "white",
             "minorgridcolor": "white",
             "startlinecolor": "#2a3f5f"
            },
            "baxis": {
             "endlinecolor": "#2a3f5f",
             "gridcolor": "white",
             "linecolor": "white",
             "minorgridcolor": "white",
             "startlinecolor": "#2a3f5f"
            },
            "type": "carpet"
           }
          ],
          "choropleth": [
           {
            "colorbar": {
             "outlinewidth": 0,
             "ticks": ""
            },
            "type": "choropleth"
           }
          ],
          "contour": [
           {
            "colorbar": {
             "outlinewidth": 0,
             "ticks": ""
            },
            "colorscale": [
             [
              0,
              "#0d0887"
             ],
             [
              0.1111111111111111,
              "#46039f"
             ],
             [
              0.2222222222222222,
              "#7201a8"
             ],
             [
              0.3333333333333333,
              "#9c179e"
             ],
             [
              0.4444444444444444,
              "#bd3786"
             ],
             [
              0.5555555555555556,
              "#d8576b"
             ],
             [
              0.6666666666666666,
              "#ed7953"
             ],
             [
              0.7777777777777778,
              "#fb9f3a"
             ],
             [
              0.8888888888888888,
              "#fdca26"
             ],
             [
              1,
              "#f0f921"
             ]
            ],
            "type": "contour"
           }
          ],
          "contourcarpet": [
           {
            "colorbar": {
             "outlinewidth": 0,
             "ticks": ""
            },
            "type": "contourcarpet"
           }
          ],
          "heatmap": [
           {
            "colorbar": {
             "outlinewidth": 0,
             "ticks": ""
            },
            "colorscale": [
             [
              0,
              "#0d0887"
             ],
             [
              0.1111111111111111,
              "#46039f"
             ],
             [
              0.2222222222222222,
              "#7201a8"
             ],
             [
              0.3333333333333333,
              "#9c179e"
             ],
             [
              0.4444444444444444,
              "#bd3786"
             ],
             [
              0.5555555555555556,
              "#d8576b"
             ],
             [
              0.6666666666666666,
              "#ed7953"
             ],
             [
              0.7777777777777778,
              "#fb9f3a"
             ],
             [
              0.8888888888888888,
              "#fdca26"
             ],
             [
              1,
              "#f0f921"
             ]
            ],
            "type": "heatmap"
           }
          ],
          "histogram": [
           {
            "marker": {
             "pattern": {
              "fillmode": "overlay",
              "size": 10,
              "solidity": 0.2
             }
            },
            "type": "histogram"
           }
          ],
          "histogram2d": [
           {
            "colorbar": {
             "outlinewidth": 0,
             "ticks": ""
            },
            "colorscale": [
             [
              0,
              "#0d0887"
             ],
             [
              0.1111111111111111,
              "#46039f"
             ],
             [
              0.2222222222222222,
              "#7201a8"
             ],
             [
              0.3333333333333333,
              "#9c179e"
             ],
             [
              0.4444444444444444,
              "#bd3786"
             ],
             [
              0.5555555555555556,
              "#d8576b"
             ],
             [
              0.6666666666666666,
              "#ed7953"
             ],
             [
              0.7777777777777778,
              "#fb9f3a"
             ],
             [
              0.8888888888888888,
              "#fdca26"
             ],
             [
              1,
              "#f0f921"
             ]
            ],
            "type": "histogram2d"
           }
          ],
          "histogram2dcontour": [
           {
            "colorbar": {
             "outlinewidth": 0,
             "ticks": ""
            },
            "colorscale": [
             [
              0,
              "#0d0887"
             ],
             [
              0.1111111111111111,
              "#46039f"
             ],
             [
              0.2222222222222222,
              "#7201a8"
             ],
             [
              0.3333333333333333,
              "#9c179e"
             ],
             [
              0.4444444444444444,
              "#bd3786"
             ],
             [
              0.5555555555555556,
              "#d8576b"
             ],
             [
              0.6666666666666666,
              "#ed7953"
             ],
             [
              0.7777777777777778,
              "#fb9f3a"
             ],
             [
              0.8888888888888888,
              "#fdca26"
             ],
             [
              1,
              "#f0f921"
             ]
            ],
            "type": "histogram2dcontour"
           }
          ],
          "mesh3d": [
           {
            "colorbar": {
             "outlinewidth": 0,
             "ticks": ""
            },
            "type": "mesh3d"
           }
          ],
          "parcoords": [
           {
            "line": {
             "colorbar": {
              "outlinewidth": 0,
              "ticks": ""
             }
            },
            "type": "parcoords"
           }
          ],
          "pie": [
           {
            "automargin": true,
            "type": "pie"
           }
          ],
          "scatter": [
           {
            "fillpattern": {
             "fillmode": "overlay",
             "size": 10,
             "solidity": 0.2
            },
            "type": "scatter"
           }
          ],
          "scatter3d": [
           {
            "line": {
             "colorbar": {
              "outlinewidth": 0,
              "ticks": ""
             }
            },
            "marker": {
             "colorbar": {
              "outlinewidth": 0,
              "ticks": ""
             }
            },
            "type": "scatter3d"
           }
          ],
          "scattercarpet": [
           {
            "marker": {
             "colorbar": {
              "outlinewidth": 0,
              "ticks": ""
             }
            },
            "type": "scattercarpet"
           }
          ],
          "scattergeo": [
           {
            "marker": {
             "colorbar": {
              "outlinewidth": 0,
              "ticks": ""
             }
            },
            "type": "scattergeo"
           }
          ],
          "scattergl": [
           {
            "marker": {
             "colorbar": {
              "outlinewidth": 0,
              "ticks": ""
             }
            },
            "type": "scattergl"
           }
          ],
          "scattermap": [
           {
            "marker": {
             "colorbar": {
              "outlinewidth": 0,
              "ticks": ""
             }
            },
            "type": "scattermap"
           }
          ],
          "scattermapbox": [
           {
            "marker": {
             "colorbar": {
              "outlinewidth": 0,
              "ticks": ""
             }
            },
            "type": "scattermapbox"
           }
          ],
          "scatterpolar": [
           {
            "marker": {
             "colorbar": {
              "outlinewidth": 0,
              "ticks": ""
             }
            },
            "type": "scatterpolar"
           }
          ],
          "scatterpolargl": [
           {
            "marker": {
             "colorbar": {
              "outlinewidth": 0,
              "ticks": ""
             }
            },
            "type": "scatterpolargl"
           }
          ],
          "scatterternary": [
           {
            "marker": {
             "colorbar": {
              "outlinewidth": 0,
              "ticks": ""
             }
            },
            "type": "scatterternary"
           }
          ],
          "surface": [
           {
            "colorbar": {
             "outlinewidth": 0,
             "ticks": ""
            },
            "colorscale": [
             [
              0,
              "#0d0887"
             ],
             [
              0.1111111111111111,
              "#46039f"
             ],
             [
              0.2222222222222222,
              "#7201a8"
             ],
             [
              0.3333333333333333,
              "#9c179e"
             ],
             [
              0.4444444444444444,
              "#bd3786"
             ],
             [
              0.5555555555555556,
              "#d8576b"
             ],
             [
              0.6666666666666666,
              "#ed7953"
             ],
             [
              0.7777777777777778,
              "#fb9f3a"
             ],
             [
              0.8888888888888888,
              "#fdca26"
             ],
             [
              1,
              "#f0f921"
             ]
            ],
            "type": "surface"
           }
          ],
          "table": [
           {
            "cells": {
             "fill": {
              "color": "#EBF0F8"
             },
             "line": {
              "color": "white"
             }
            },
            "header": {
             "fill": {
              "color": "#C8D4E3"
             },
             "line": {
              "color": "white"
             }
            },
            "type": "table"
           }
          ]
         },
         "layout": {
          "annotationdefaults": {
           "arrowcolor": "#2a3f5f",
           "arrowhead": 0,
           "arrowwidth": 1
          },
          "autotypenumbers": "strict",
          "coloraxis": {
           "colorbar": {
            "outlinewidth": 0,
            "ticks": ""
           }
          },
          "colorscale": {
           "diverging": [
            [
             0,
             "#8e0152"
            ],
            [
             0.1,
             "#c51b7d"
            ],
            [
             0.2,
             "#de77ae"
            ],
            [
             0.3,
             "#f1b6da"
            ],
            [
             0.4,
             "#fde0ef"
            ],
            [
             0.5,
             "#f7f7f7"
            ],
            [
             0.6,
             "#e6f5d0"
            ],
            [
             0.7,
             "#b8e186"
            ],
            [
             0.8,
             "#7fbc41"
            ],
            [
             0.9,
             "#4d9221"
            ],
            [
             1,
             "#276419"
            ]
           ],
           "sequential": [
            [
             0,
             "#0d0887"
            ],
            [
             0.1111111111111111,
             "#46039f"
            ],
            [
             0.2222222222222222,
             "#7201a8"
            ],
            [
             0.3333333333333333,
             "#9c179e"
            ],
            [
             0.4444444444444444,
             "#bd3786"
            ],
            [
             0.5555555555555556,
             "#d8576b"
            ],
            [
             0.6666666666666666,
             "#ed7953"
            ],
            [
             0.7777777777777778,
             "#fb9f3a"
            ],
            [
             0.8888888888888888,
             "#fdca26"
            ],
            [
             1,
             "#f0f921"
            ]
           ],
           "sequentialminus": [
            [
             0,
             "#0d0887"
            ],
            [
             0.1111111111111111,
             "#46039f"
            ],
            [
             0.2222222222222222,
             "#7201a8"
            ],
            [
             0.3333333333333333,
             "#9c179e"
            ],
            [
             0.4444444444444444,
             "#bd3786"
            ],
            [
             0.5555555555555556,
             "#d8576b"
            ],
            [
             0.6666666666666666,
             "#ed7953"
            ],
            [
             0.7777777777777778,
             "#fb9f3a"
            ],
            [
             0.8888888888888888,
             "#fdca26"
            ],
            [
             1,
             "#f0f921"
            ]
           ]
          },
          "colorway": [
           "#636efa",
           "#EF553B",
           "#00cc96",
           "#ab63fa",
           "#FFA15A",
           "#19d3f3",
           "#FF6692",
           "#B6E880",
           "#FF97FF",
           "#FECB52"
          ],
          "font": {
           "color": "#2a3f5f"
          },
          "geo": {
           "bgcolor": "white",
           "lakecolor": "white",
           "landcolor": "#E5ECF6",
           "showlakes": true,
           "showland": true,
           "subunitcolor": "white"
          },
          "hoverlabel": {
           "align": "left"
          },
          "hovermode": "closest",
          "mapbox": {
           "style": "light"
          },
          "paper_bgcolor": "white",
          "plot_bgcolor": "#E5ECF6",
          "polar": {
           "angularaxis": {
            "gridcolor": "white",
            "linecolor": "white",
            "ticks": ""
           },
           "bgcolor": "#E5ECF6",
           "radialaxis": {
            "gridcolor": "white",
            "linecolor": "white",
            "ticks": ""
           }
          },
          "scene": {
           "xaxis": {
            "backgroundcolor": "#E5ECF6",
            "gridcolor": "white",
            "gridwidth": 2,
            "linecolor": "white",
            "showbackground": true,
            "ticks": "",
            "zerolinecolor": "white"
           },
           "yaxis": {
            "backgroundcolor": "#E5ECF6",
            "gridcolor": "white",
            "gridwidth": 2,
            "linecolor": "white",
            "showbackground": true,
            "ticks": "",
            "zerolinecolor": "white"
           },
           "zaxis": {
            "backgroundcolor": "#E5ECF6",
            "gridcolor": "white",
            "gridwidth": 2,
            "linecolor": "white",
            "showbackground": true,
            "ticks": "",
            "zerolinecolor": "white"
           }
          },
          "shapedefaults": {
           "line": {
            "color": "#2a3f5f"
           }
          },
          "ternary": {
           "aaxis": {
            "gridcolor": "white",
            "linecolor": "white",
            "ticks": ""
           },
           "baxis": {
            "gridcolor": "white",
            "linecolor": "white",
            "ticks": ""
           },
           "bgcolor": "#E5ECF6",
           "caxis": {
            "gridcolor": "white",
            "linecolor": "white",
            "ticks": ""
           }
          },
          "title": {
           "x": 0.05
          },
          "xaxis": {
           "automargin": true,
           "gridcolor": "white",
           "linecolor": "white",
           "ticks": "",
           "title": {
            "standoff": 15
           },
           "zerolinecolor": "white",
           "zerolinewidth": 2
          },
          "yaxis": {
           "automargin": true,
           "gridcolor": "white",
           "linecolor": "white",
           "ticks": "",
           "title": {
            "standoff": 15
           },
           "zerolinecolor": "white",
           "zerolinewidth": 2
          }
         }
        },
        "title": {
         "text": "Hyperparameter Importances"
        },
        "xaxis": {
         "title": {
          "text": "Hyperparameter Importance"
         }
        },
        "yaxis": {
         "title": {
          "text": "Hyperparameter"
         }
        }
       }
      }
     },
     "metadata": {},
     "output_type": "display_data"
    }
   ],
   "source": [
    "# Plot Paramerter Importances\n",
    "plot_param_importances(study).show()"
   ]
  },
  {
   "cell_type": "markdown",
   "id": "28a5b359",
   "metadata": {},
   "source": [
    "This plot tells us that fine tuning the learning rate parameter is the most important, along with random strength, colsample_bylevel, and od_wait, and subsample, so let's ensure we focus on these in phase 2.\n",
    "\n",
    "Learning rate is very important, explaining 48% of the variation in MAP@3.\n",
    "\n",
    "Tuning bagging_temperature, bootstrap_type, od_type isn't as important.\n",
    "\n",
    "Since od_type is not that important, let's fix it to 'IncToDec', as it was in the top 3 trials."
   ]
  },
  {
   "cell_type": "code",
   "execution_count": null,
   "id": "75d69936",
   "metadata": {},
   "outputs": [
    {
     "data": {
      "application/vnd.plotly.v1+json": {
       "config": {
        "plotlyServerURL": "https://plot.ly"
       },
       "data": [
        {
         "dimensions": [
          {
           "label": "Objective Value",
           "range": [
            0.2801022222222222,
            0.2905688888888889
           ],
           "values": [
            0.28421777777777774,
            0.28864,
            0.2804088888888889,
            0.2866888888888888,
            0.28589777777777775,
            0.2801022222222222,
            0.28194222222222226,
            0.28750666666666663,
            0.2853333333333333,
            0.2801777777777778,
            0.2852222222222222,
            0.28741777777777777,
            0.28404888888888885,
            0.28673333333333334,
            0.2868622222222222,
            0.2878933333333333,
            0.2874977777777778,
            0.28756444444444446,
            0.2859422222222222,
            0.2862311111111111,
            0.2856444444444444,
            0.2885244444444444,
            0.2869333333333333,
            0.2888133333333333,
            0.28687999999999997,
            0.28805333333333333,
            0.28717333333333334,
            0.28809333333333337,
            0.28704888888888885,
            0.2849022222222222,
            0.28542666666666666,
            0.28813777777777777,
            0.28635555555555553,
            0.28798666666666667,
            0.28709777777777773,
            0.2875466666666667,
            0.28677777777777774,
            0.2873866666666666,
            0.28732444444444444,
            0.2843111111111111,
            0.2898266666666667,
            0.28864888888888884,
            0.28755555555555556,
            0.28756,
            0.28641777777777777,
            0.28739999999999993,
            0.2857955555555555,
            0.2845333333333333,
            0.2874933333333333,
            0.28627111111111114,
            0.2882577777777778,
            0.2871244444444444,
            0.2884977777777778,
            0.28602666666666665,
            0.28719999999999996,
            0.28655111111111103,
            0.28532444444444444,
            0.28747999999999996,
            0.2890488888888889,
            0.2885422222222222,
            0.28794222222222227,
            0.28757777777777777,
            0.2852666666666666,
            0.2885422222222222,
            0.28533777777777775,
            0.2869644444444444,
            0.28467555555555557,
            0.2883422222222222,
            0.28685333333333335,
            0.28430666666666665,
            0.2858266666666667,
            0.2849511111111111,
            0.28587999999999997,
            0.2880933333333333,
            0.2901155555555555,
            0.28718666666666665,
            0.2868,
            0.28673777777777776,
            0.28792888888888885,
            0.2861466666666666,
            0.28780444444444436,
            0.2853111111111111,
            0.28756444444444446,
            0.2863644444444444,
            0.2873022222222222,
            0.28987111111111113,
            0.28792888888888885,
            0.2898533333333333,
            0.2869333333333333,
            0.28775555555555554,
            0.2863911111111111,
            0.28802222222222224,
            0.2865955555555555,
            0.2899288888888889,
            0.2880933333333333,
            0.28757333333333335,
            0.28685777777777777,
            0.2849955555555555,
            0.2885155555555555,
            0.2879111111111112,
            0.2846933333333333,
            0.28544888888888886,
            0.28668888888888894,
            0.28862666666666664,
            0.2884488888888889,
            0.28544444444444445,
            0.2886666666666667,
            0.2825422222222222,
            0.2862533333333333,
            0.28540000000000004,
            0.28582222222222226,
            0.28555555555555556,
            0.28870666666666667,
            0.28744888888888886,
            0.28756444444444446,
            0.28815999999999997,
            0.2862222222222222,
            0.28315555555555555,
            0.28715111111111113,
            0.2863022222222222,
            0.2857422222222223,
            0.2853733333333333,
            0.28720888888888885,
            0.28694222222222227,
            0.2891911111111111,
            0.2869822222222222,
            0.28576,
            0.28818666666666665,
            0.2877955555555555,
            0.28769333333333336,
            0.28702666666666665,
            0.2865822222222222,
            0.2848311111111111,
            0.2843688888888889,
            0.28662222222222217,
            0.28913777777777777,
            0.2872488888888889,
            0.28940000000000005,
            0.28761333333333333,
            0.28985333333333335,
            0.28709333333333337,
            0.2900266666666666,
            0.2885111111111111,
            0.28864,
            0.28891555555555554,
            0.2893866666666666,
            0.2863733333333333,
            0.28619999999999995,
            0.2880844444444444,
            0.28773333333333334,
            0.2873822222222222,
            0.2867244444444444,
            0.2882222222222222,
            0.29019555555555554,
            0.28558222222222224,
            0.29016,
            0.2868577777777777,
            0.28530666666666665,
            0.28799555555555556,
            0.28926222222222214,
            0.2905688888888889,
            0.28976444444444444,
            0.28820444444444443,
            0.28805777777777775,
            0.2868088888888889,
            0.2882488888888889,
            0.28672000000000003,
            0.2882444444444444,
            0.28914666666666666,
            0.29041333333333336,
            0.2852177777777778,
            0.28154666666666667,
            0.2889111111111111,
            0.28729333333333334,
            0.29035555555555553,
            0.2873333333333333,
            0.28950666666666663,
            0.2873866666666666,
            0.2859688888888889,
            0.2869644444444444,
            0.28589777777777775,
            0.28783999999999993,
            0.28903999999999996,
            0.2877955555555555,
            0.28745777777777776,
            0.2873555555555556,
            0.2881244444444444,
            0.2863644444444444,
            0.28612444444444446,
            0.28824,
            0.2844044444444444,
            0.28520888888888885,
            0.28735555555555553,
            0.2882711111111111,
            0.28800888888888887,
            0.28832444444444444,
            0.28759111111111113,
            0.28583555555555556,
            0.2903955555555555,
            0.28709777777777773
           ]
          },
          {
           "label": "bagging_temperature",
           "range": [
            -8.945119782244127,
            0.9846446410528383
           ],
           "ticktext": [
            "1.13e-09",
            "1e-08",
            "1e-07",
            "1e-06",
            "1e-05",
            "0.0001",
            "0.001",
            "0.01",
            "0.1",
            "1",
            "9.65"
           ],
           "tickvals": [
            -8.945119782244127,
            -8,
            -7,
            -6,
            -5,
            -4,
            -3,
            -2,
            -1,
            0,
            0.9846446410528383
           ],
           "values": [
            -5.207595842283124,
            -3.44982874176623,
            -5.298430059827772,
            -4.112462684301002,
            -8.262762364059176,
            -6.44400164541112,
            0.7847336856405199,
            -8.29980178311623,
            -0.8991246375222246,
            -2.1123759778100286,
            -3.5210919150295723,
            -8.528701195836275,
            -1.1726684799046445,
            -7.19885948928691,
            -8.455924521427178,
            -4.064683861408939,
            -7.467515248878862,
            -3.5134479097104103,
            -5.189768898707498,
            -1.3484341459419527,
            -3.515840059958768,
            -3.3437876428178446,
            -3.1250123601741855,
            -7.137390413508593,
            -7.1231255624728576,
            -0.5647270530059529,
            -8.445656845023223,
            -6.083527019126016,
            -4.956176496145388,
            -7.296809995767687,
            -1.1774289520500894,
            -5.0796322160937715,
            -2.986043647129885,
            -5.602387947746261,
            -8.945119782244127,
            -5.5497272454193896,
            -6.062230124222402,
            0.08493251487047253,
            -3.7739850255004628,
            -4.514536526937165,
            -3.50486441631156,
            -4.292078862376048,
            -5.439337892491256,
            -2.413004019260286,
            -0.7688116287173924,
            -5.2648753997639535,
            -0.46245441340364435,
            -3.805916887824425,
            -3.689117407363589,
            -5.965342975159374,
            -0.6553682450156556,
            -1.9267798777923264,
            -0.6656690071410031,
            0.911338901053485,
            -3.4464491155604575,
            -0.7881521456144709,
            -5.0869914081164005,
            -2.950896888851881,
            -1.0488152141955533,
            0.9846446410528383,
            0.33733547353343873,
            0.5621670302845476,
            0.3771703596905901,
            -4.036986172424663,
            -2.151801897194278,
            -4.951185153068099,
            -4.586116142751954,
            -7.592842403434892,
            -0.21187251324297893,
            -3.9248493121889965,
            -1.0862649033779308,
            -3.9413928688647153,
            -7.583870101152618,
            -5.564263228259296,
            0.7187581408521383,
            0.5349400581686812,
            0.533418124865618,
            -0.9383712025634154,
            -1.0787489462982913,
            -0.08356520320762979,
            -1.173400096673088,
            -2.498603920363379,
            -7.5714971019957495,
            -3.016727667473081,
            -3.330585973973512,
            -2.6703078550275183,
            -4.015202582810463,
            -0.051241710132948703,
            -5.0446009734222175,
            0.408728166658165,
            -0.46877785603297506,
            -3.170456333878132,
            -0.988614253091694,
            -0.3683210050982311,
            0.2139333918522425,
            -1.8883137461566393,
            -0.8516665080060205,
            -0.43729034467221206,
            -1.6795333425330305,
            -1.3313543315071272,
            -4.717112641529614,
            -4.921501915091294,
            -3.3732281157670565,
            -1.503056061187075,
            -2.929277800558902,
            -3.8205191788068498,
            -3.7192448730504384,
            -2.137218016853053,
            -5.128648978359657,
            -3.1402924615527876,
            -4.081676237825525,
            -1.6257053154922825,
            -2.686035446577232,
            -2.5981501239879132,
            -8.041099848125118,
            -0.3388474360257022,
            -4.286203025155326,
            -1.933651137653389,
            0.5736683304043051,
            -3.4621202588452284,
            -2.2375534345333623,
            -2.8158614385018574,
            -5.795380747350142,
            -4.781146513217979,
            0.8200656414544116,
            0.5231138535747866,
            -4.998450751134566,
            -1.0379374750339345,
            0.14404183157333242,
            0.6775523490048065,
            -1.2519767633944976,
            0.8182528745174218,
            -0.1944183828730382,
            -8.662083419897352,
            -1.282222987268352,
            -2.174999586079876,
            -1.0312127022964444,
            -4.577689434249442,
            -6.80233914984723,
            -5.200740212431496,
            -7.350388631723689,
            -3.477094064793871,
            -5.138133478127915,
            -2.830887210837106,
            0.7305816392342749,
            -0.13071022365952353,
            0.7514727064442315,
            0.7691408490237776,
            -1.9641774490996118,
            -0.41439981752723815,
            0.022234177313074175,
            -6.51402264987124,
            -6.420070603922009,
            -2.930890195609842,
            0.6905381698676717,
            -2.9185681447748975,
            -2.342418862890398,
            -3.6423464049303176,
            -5.255175199943056,
            -4.346304845460797,
            -4.4143611332671115,
            -4.307893315797561,
            -5.034457982848004,
            -4.739010700961967,
            -6.183192376929553,
            -6.248553075156692,
            -1.6736571886349276,
            -4.125589679834577,
            -2.8397907408218876,
            -2.7474539170108905,
            -1.5129775364520948,
            -1.7327521876385081,
            -3.384841393799953,
            -3.6257379187872503,
            -2.830109506595836,
            -4.205355153852074,
            -3.376265937847003,
            -3.9743943275317895,
            -3.985191438958214,
            -5.060424014475956,
            -4.58414745672019,
            -4.618155138365658,
            0.6498179659750966,
            -2.1954876075294254,
            -4.185979257232186,
            -3.8098309998442073,
            -6.772743218672606,
            -2.608584494845344,
            -4.651483324384696,
            -4.924972624108334,
            -2.698035459437177,
            -1.3991064103574247,
            -2.7789728881508875,
            0.9691095370661851,
            -4.897157834726889,
            -5.446528442165281,
            -1.1965290142126397,
            -0.5718350873092459,
            -1.2718028735944729,
            0.18268017107267875
           ]
          },
          {
           "label": "bootstrap_type",
           "range": [
            0,
            2
           ],
           "ticktext": [
            "MVS",
            "Bayesian",
            "Bernoulli"
           ],
           "tickvals": [
            0,
            1,
            2
           ],
           "values": [
            0,
            0,
            1,
            2,
            1,
            2,
            0,
            1,
            0,
            0,
            0,
            1,
            1,
            1,
            1,
            0,
            0,
            0,
            0,
            1,
            0,
            0,
            0,
            0,
            0,
            0,
            1,
            0,
            2,
            0,
            2,
            0,
            0,
            2,
            0,
            0,
            2,
            0,
            1,
            0,
            0,
            0,
            2,
            1,
            0,
            0,
            0,
            2,
            0,
            0,
            0,
            0,
            2,
            2,
            0,
            2,
            0,
            0,
            0,
            0,
            0,
            0,
            1,
            0,
            0,
            0,
            0,
            0,
            0,
            0,
            1,
            0,
            2,
            1,
            0,
            0,
            0,
            0,
            0,
            0,
            2,
            0,
            0,
            2,
            1,
            0,
            0,
            0,
            0,
            0,
            0,
            0,
            0,
            0,
            0,
            1,
            0,
            0,
            0,
            1,
            0,
            0,
            0,
            0,
            0,
            1,
            0,
            0,
            2,
            0,
            0,
            0,
            0,
            0,
            0,
            1,
            0,
            0,
            2,
            0,
            0,
            0,
            0,
            0,
            2,
            2,
            0,
            0,
            0,
            2,
            0,
            2,
            0,
            0,
            2,
            0,
            0,
            1,
            1,
            0,
            2,
            1,
            1,
            1,
            0,
            0,
            0,
            0,
            0,
            1,
            0,
            0,
            0,
            1,
            0,
            0,
            1,
            1,
            1,
            2,
            2,
            2,
            2,
            2,
            0,
            2,
            0,
            2,
            2,
            2,
            2,
            2,
            2,
            0,
            0,
            1,
            0,
            1,
            2,
            2,
            0,
            2,
            0,
            0,
            1,
            0,
            2,
            2,
            0,
            0,
            1,
            2,
            2,
            1,
            2,
            1,
            1,
            2,
            0,
            0
           ]
          },
          {
           "label": "colsample_bylevel",
           "range": [
            0.05278460183390504,
            0.7992316884306194
           ],
           "values": [
            0.20796318656065466,
            0.378895932221675,
            0.7477621958654624,
            0.6160364572093902,
            0.5244623512142426,
            0.7968284287240831,
            0.7930763409455063,
            0.3907675676027332,
            0.5983215674295758,
            0.7046784267509768,
            0.5245319230529877,
            0.3972848717376405,
            0.14568271201868888,
            0.39345751975096177,
            0.27275825327040903,
            0.4128309344978989,
            0.33677571175023396,
            0.5584651657233021,
            0.30982364347758395,
            0.22444438000758257,
            0.539018365792937,
            0.6127429376707545,
            0.5975073497294088,
            0.5926957723811817,
            0.6254498179847321,
            0.6159074253228566,
            0.6904437784694604,
            0.766831228720642,
            0.6020842875995371,
            0.200541225041573,
            0.502804941986039,
            0.7797636367809798,
            0.7013686958987722,
            0.7805267600340086,
            0.7182326106200158,
            0.7348618602321216,
            0.768694596739817,
            0.7058908816048274,
            0.7848403200634759,
            0.06523755161373812,
            0.5721606839482257,
            0.7980204959811742,
            0.5486519580981288,
            0.6551818675923,
            0.7382561776004705,
            0.6839681535979214,
            0.6021601361148461,
            0.4323880891931795,
            0.6246153175078629,
            0.47242887557077473,
            0.43628873288141967,
            0.49158790004732866,
            0.2021575193831502,
            0.3066814580094267,
            0.3154891409728307,
            0.14875097318522584,
            0.2825500851298717,
            0.4357513188434776,
            0.24494998710408866,
            0.1118218885688515,
            0.2266468258653268,
            0.16066145637426474,
            0.1117509432183915,
            0.34827544305186914,
            0.4644478133766317,
            0.24250981873674732,
            0.51551755690661,
            0.5727063355657078,
            0.2971560238501617,
            0.7477416870546882,
            0.07910413891905255,
            0.35252754877718206,
            0.3999944524762829,
            0.32883223891304136,
            0.4214429324162141,
            0.44911379646453153,
            0.3372945526842357,
            0.5936087713702695,
            0.2126180553108375,
            0.09929668476181984,
            0.4125872372223335,
            0.09396058404199392,
            0.5799071781924273,
            0.2982287379191129,
            0.6853139469688978,
            0.531020118990097,
            0.7356116816911669,
            0.2571206436471817,
            0.5369225489986417,
            0.4632952219627101,
            0.20808744358923162,
            0.47571758697281313,
            0.7694561596236208,
            0.4118897681855141,
            0.6077404995589563,
            0.17702522421664557,
            0.39650347777866046,
            0.355050341602406,
            0.2573272047768629,
            0.6314370248737978,
            0.19337521191208187,
            0.7832773940520601,
            0.05278460183390504,
            0.3008243481529067,
            0.5088875453071882,
            0.7806617378768332,
            0.2159207295860216,
            0.19530256744475016,
            0.16858209549035422,
            0.3451148807946405,
            0.08504356234004395,
            0.14439505822973808,
            0.3034938686810922,
            0.3880337048221635,
            0.5425365533828973,
            0.3356468468299864,
            0.144634010640243,
            0.18912131637205204,
            0.2800131772689315,
            0.46296849011753183,
            0.21499580546834177,
            0.4893024195431228,
            0.30818625015060575,
            0.7749584099710836,
            0.34754432602534613,
            0.28154298522142895,
            0.19298901101146262,
            0.3311103022079057,
            0.2529330876419962,
            0.5072781810933515,
            0.2503291448254326,
            0.19131318476553866,
            0.07169452307878507,
            0.7115185458656106,
            0.3692636881343675,
            0.43158438598109494,
            0.4286222486970523,
            0.38617527918713085,
            0.40915435889768553,
            0.32989146063076885,
            0.504276000110814,
            0.27158558997555926,
            0.148141937550965,
            0.2737449281019572,
            0.24869574931240668,
            0.44813112633771446,
            0.383571563623787,
            0.15326725565071486,
            0.6302697477932189,
            0.2815195443153181,
            0.3571440961747178,
            0.3930315719382078,
            0.40114057443378637,
            0.34130348041251707,
            0.06840110334397237,
            0.4229980028036562,
            0.29529919027360857,
            0.21772885154905666,
            0.5761755984586752,
            0.4701045946198261,
            0.5396698901117247,
            0.6100593290500942,
            0.3932172508207964,
            0.6270226574141974,
            0.5020451234223133,
            0.7992316884306194,
            0.4291634300278086,
            0.5295857300679192,
            0.5626241017977983,
            0.5062042152667681,
            0.5900185608460597,
            0.3576104771117338,
            0.5173429916119463,
            0.3901490989018817,
            0.36711763895159977,
            0.3430097038296848,
            0.5468631564894055,
            0.42850489785961815,
            0.549686368861856,
            0.39963987916924393,
            0.6015348317690261,
            0.554577933096433,
            0.646631988295587,
            0.4458331650398667,
            0.3170640704985369,
            0.25260290960427734,
            0.5183924943247437,
            0.6611806999395033,
            0.21419492054181513,
            0.5325573844904814,
            0.5898787748752132,
            0.5076965729744969,
            0.4884138451582709,
            0.38278620296790855,
            0.690431461087971,
            0.5576175369101765,
            0.6783007982630462,
            0.3099090989516032,
            0.46716859125872134,
            0.32495814263630773
           ]
          },
          {
           "label": "depth",
           "range": [
            3,
            10
           ],
           "values": [
            6,
            6,
            7,
            6,
            4,
            4,
            4,
            5,
            6,
            9,
            5,
            7,
            7,
            3,
            4,
            7,
            7,
            7,
            5,
            6,
            10,
            4,
            3,
            4,
            4,
            4,
            5,
            4,
            3,
            4,
            4,
            3,
            3,
            3,
            4,
            3,
            3,
            3,
            3,
            5,
            5,
            6,
            6,
            7,
            7,
            7,
            5,
            6,
            5,
            5,
            6,
            5,
            7,
            7,
            8,
            6,
            6,
            3,
            7,
            9,
            10,
            9,
            8,
            8,
            8,
            7,
            5,
            4,
            6,
            6,
            9,
            10,
            7,
            6,
            8,
            8,
            5,
            8,
            8,
            9,
            8,
            8,
            6,
            9,
            3,
            8,
            10,
            9,
            7,
            9,
            8,
            8,
            8,
            9,
            10,
            10,
            7,
            8,
            10,
            8,
            5,
            5,
            9,
            9,
            8,
            7,
            8,
            9,
            8,
            8,
            7,
            10,
            10,
            9,
            4,
            10,
            9,
            10,
            7,
            5,
            7,
            8,
            7,
            8,
            8,
            9,
            9,
            10,
            10,
            8,
            8,
            7,
            10,
            3,
            9,
            5,
            4,
            6,
            7,
            9,
            8,
            6,
            6,
            4,
            10,
            10,
            10,
            8,
            8,
            6,
            10,
            10,
            8,
            7,
            10,
            10,
            6,
            10,
            6,
            10,
            10,
            10,
            9,
            9,
            9,
            9,
            10,
            10,
            10,
            9,
            10,
            8,
            9,
            10,
            10,
            7,
            10,
            4,
            10,
            10,
            10,
            8,
            9,
            9,
            7,
            10,
            10,
            9,
            10,
            10,
            10,
            6,
            10,
            8,
            10,
            9,
            5,
            9,
            10,
            10
           ]
          },
          {
           "label": "l2_leaf_reg",
           "range": [
            0.0075359190710574155,
            0.694583369396562
           ],
           "ticktext": [
            "1.02",
            "4.95"
           ],
           "tickvals": [
            0.0075359190710574155,
            0.694583369396562
           ],
           "values": [
            0.5204618028273724,
            0.24681585327367514,
            0.5806667939604679,
            0.2920274832304897,
            0.5934502029737768,
            0.010707549123606858,
            0.508698961411516,
            0.3238491807628042,
            0.08275783985994446,
            0.18470487358299612,
            0.31257100009290145,
            0.11962703832243889,
            0.08925509285247603,
            0.44197442235025275,
            0.47112352582701567,
            0.4252983338100566,
            0.3850650471682304,
            0.46907271360734015,
            0.189674518014447,
            0.4080458946371279,
            0.3523049052470069,
            0.6670531074523033,
            0.4340653325846425,
            0.6782050062690677,
            0.6170516131376251,
            0.6706348001852044,
            0.5628719938753987,
            0.6188567246950386,
            0.6625409228751116,
            0.6540422633261519,
            0.6685614678176799,
            0.6682928010764907,
            0.48964575818361045,
            0.6227554375927203,
            0.5787192336760254,
            0.6801873158395705,
            0.36635568480310554,
            0.5912873354110788,
            0.568869706554614,
            0.16459784946411593,
            0.6663576042058607,
            0.6591179200108559,
            0.6069194804068069,
            0.6892127056758444,
            0.6408317700163229,
            0.6492758853478127,
            0.6570341815232489,
            0.23820785403298478,
            0.6571062217341127,
            0.6911733447977503,
            0.3937250219371841,
            0.35006158445380836,
            0.34098189326872963,
            0.41338946679932354,
            0.22889836872000321,
            0.009019129676179712,
            0.1802002380541116,
            0.561655368879781,
            0.35889825180489043,
            0.4726596233387516,
            0.6679404260146281,
            0.33688493582148327,
            0.5238580947923254,
            0.17248884726188854,
            0.07126820368508124,
            0.3386869209227767,
            0.03817730862263132,
            0.6920054109667374,
            0.3219416715464323,
            0.538094875457359,
            0.46750066336571705,
            0.3460983349865676,
            0.218599742824343,
            0.18252358798624824,
            0.4539549598306452,
            0.48857819253837276,
            0.36256356124607814,
            0.45949079409530186,
            0.5142354021035489,
            0.29291085381748283,
            0.24032981570907375,
            0.23932294275318425,
            0.6588338758050121,
            0.44340012443769583,
            0.6406991243397202,
            0.3214614078171502,
            0.47530367110836985,
            0.5096643300964674,
            0.16880146872267923,
            0.48929492395785035,
            0.495214140012587,
            0.39190690361714914,
            0.5567334792942304,
            0.5023976120982281,
            0.5066605977469503,
            0.5517331765457086,
            0.4367718455857089,
            0.5648624172527617,
            0.47347759510931914,
            0.22583405771605364,
            0.28401602086979233,
            0.6485875822355779,
            0.45254999929974815,
            0.6619847396512667,
            0.6644333216881116,
            0.6727803680833926,
            0.5894588901631926,
            0.6687333730843011,
            0.5487299604256904,
            0.6802473279693255,
            0.3696093214423147,
            0.6460650319983805,
            0.694583369396562,
            0.5665614001915527,
            0.30503691355592955,
            0.6793108705479803,
            0.6721760743345092,
            0.6858424366843133,
            0.6515810440264875,
            0.615895886444477,
            0.576936788305721,
            0.24462424637431573,
            0.6084611899396729,
            0.6142655529453622,
            0.3277922493797957,
            0.19723568936827215,
            0.6944694394418454,
            0.6668298143484932,
            0.6012295867649218,
            0.37423697539296463,
            0.6824862017406371,
            0.33715338091765656,
            0.48529208834604004,
            0.6069471670424776,
            0.3690526219059265,
            0.20935962498255797,
            0.09285711639327854,
            0.26408118645547024,
            0.48473526511023246,
            0.5419005491980363,
            0.601416323107689,
            0.289500971296733,
            0.151035536711328,
            0.2450360223539224,
            0.28877688287991155,
            0.12484112256107954,
            0.32039186232278366,
            0.2257333334995981,
            0.05536005285906048,
            0.3194013025716582,
            0.190049054541849,
            0.5603273959662176,
            0.3846976763347717,
            0.32665282295464193,
            0.2834118074577955,
            0.09404568253805828,
            0.36079665037471587,
            0.0527045196461882,
            0.22363976699673116,
            0.16297014881285113,
            0.3728373708052128,
            0.4177978946269132,
            0.17969112706244267,
            0.36387603320787887,
            0.017616781659464984,
            0.3885285593703331,
            0.027441431757535117,
            0.21171987327135194,
            0.17189573898893484,
            0.4353373309915477,
            0.36792207705366986,
            0.3073406983573859,
            0.15511247245935958,
            0.06189214578240836,
            0.0075359190710574155,
            0.3825239436015984,
            0.0640974663433685,
            0.20752165395800737,
            0.5561153835318577,
            0.03979439124212159,
            0.03262089674793849,
            0.3845447249624861,
            0.1363596866448515,
            0.15436869371499468,
            0.347657320031204,
            0.023742376804735166,
            0.23468208488767486,
            0.03818995349686317,
            0.08972241206934681,
            0.3684929032884985,
            0.3944474969352955,
            0.4441444422273291,
            0.227853956422069,
            0.12130725611640088,
            0.38287820114820176,
            0.20220856746544547,
            0.22094555412510367,
            0.13310527624093216,
            0.12108388559634521,
            0.23849240783071401
           ]
          },
          {
           "label": "learning_rate",
           "range": [
            -2.9052327854372715,
            -0.5230498086744554
           ],
           "ticktext": [
            "0.00124",
            "0.01",
            "0.1",
            "0.3"
           ],
           "tickvals": [
            -2.9052327854372715,
            -2,
            -1,
            -0.5230498086744554
           ],
           "values": [
            -2.207110750727847,
            -1.2234840129108353,
            -2.455335349928199,
            -0.6310302200324384,
            -0.6684303087505937,
            -2.6749527184698216,
            -2.1317538642373197,
            -1.2604310271743477,
            -2.080863350720421,
            -2.9052327854372715,
            -1.0075963829664356,
            -1.1605173800360222,
            -0.6299855560256821,
            -1.1386328259179836,
            -1.554406748473006,
            -1.7885240347264437,
            -1.8571391246695022,
            -0.7502328048130338,
            -1.125366324771033,
            -2.1052430773526307,
            -2.6037599117585115,
            -1.3039687680399377,
            -1.798722656526154,
            -1.3491098626711067,
            -1.4536693942233425,
            -1.3337330113145907,
            -2.0521399270989122,
            -0.9933339372163016,
            -1.6196012996887554,
            -0.6517296783729261,
            -0.8142516491795606,
            -1.3539394530198956,
            -1.736307494190065,
            -0.8591981675578005,
            -1.416126931155087,
            -1.2127528019447404,
            -1.935257337107644,
            -1.1093852414402916,
            -1.9489069802515768,
            -1.4002325020281596,
            -1.1780732912252732,
            -0.7670810593671189,
            -0.807843306393099,
            -1.0886241817837217,
            -1.0454474187257181,
            -0.6900811713959878,
            -1.9235760627233378,
            -0.7154822627937872,
            -1.2273929820661744,
            -1.4621333041519928,
            -1.7603289202461683,
            -1.5983272032841849,
            -1.4401656536425915,
            -1.2944315161729565,
            -1.2917666857318144,
            -1.6293142098523234,
            -2.3681152358886557,
            -1.1797955729557021,
            -1.2676814848330937,
            -1.309484277552949,
            -1.2930294566613798,
            -0.9013098600732968,
            -1.7859457706482726,
            -1.3469716138541883,
            -1.1143571562930157,
            -1.723928652864122,
            -0.9601173391986002,
            -1.453441078900268,
            -1.4682714882363086,
            -0.5230498086744554,
            -1.2415071982902133,
            -0.5638201213055387,
            -1.193553709746266,
            -1.9122750951347525,
            -1.735473522826207,
            -2.2244443459258476,
            -0.5781356246641638,
            -1.8780772779184185,
            -1.0961511147627567,
            -0.8727828362309775,
            -1.1199163548866264,
            -1.8090337072472231,
            -1.6488996938184408,
            -0.9453676904867244,
            -0.9179750885808122,
            -1.4890169888231732,
            -0.8750751791394344,
            -1.5118198013554391,
            -1.2565513376550652,
            -0.9266589943255227,
            -1.9523057875193275,
            -1.7008635970968573,
            -1.014626001029273,
            -1.7225375433402166,
            -1.607862282769672,
            -1.4807292257513287,
            -1.6240451931780606,
            -2.842555469280476,
            -1.2227592133918266,
            -1.1322902250182563,
            -1.074764728560393,
            -0.5231129840541868,
            -1.3322438855050898,
            -1.712393392071146,
            -1.6762245809419039,
            -0.5529047025579843,
            -1.5508044947523603,
            -2.4259319455031125,
            -1.1170078604745903,
            -1.9335663774919145,
            -1.6860578082478748,
            -1.261028784707355,
            -1.3932794783810458,
            -1.2988760861362647,
            -0.6557776434602238,
            -1.8154488427136934,
            -1.0640617808185298,
            -0.589713423687537,
            -1.2765739706659478,
            -0.7014032045478933,
            -1.1164006571730498,
            -0.6136427434754834,
            -1.6011675553247828,
            -0.8916171165992595,
            -1.574749039857817,
            -1.3458985181237655,
            -2.2502282267837526,
            -1.6010852889294287,
            -2.0577061781813795,
            -1.8371319014722685,
            -1.9443558995747923,
            -2.101436953356432,
            -1.1262302623243712,
            -2.240557322835818,
            -1.9330621044381964,
            -1.4570570529628657,
            -1.4840895783050438,
            -0.7408933054438404,
            -0.5734102210814567,
            -1.5619246103590694,
            -1.8838879638096706,
            -0.9253530431827167,
            -1.2150549222452476,
            -1.226059863503191,
            -1.43357624952886,
            -1.2930317880597555,
            -1.8062290866755666,
            -1.765384759411882,
            -1.0170590747661912,
            -0.8874096216095917,
            -0.9383278802503348,
            -2.4920185666146457,
            -1.4926838153140771,
            -0.8607577518450219,
            -0.9584221835810665,
            -1.1461318121970263,
            -0.8299176313040676,
            -0.8878370237489102,
            -0.9678078652238628,
            -1.573999006582524,
            -1.555700745652212,
            -0.908047733364667,
            -1.0550071942931534,
            -2.463877049270638,
            -2.1739844665386,
            -1.2205856598227254,
            -1.0196314223217267,
            -1.8795560208721638,
            -1.8985426232257507,
            -0.9726409613343436,
            -0.6509387018819729,
            -0.6898602984383128,
            -1.9889955588697326,
            -1.6441816311490447,
            -1.339641590057421,
            -1.2652980888666523,
            -1.5259533719371348,
            -0.9952483299787083,
            -0.7322267786890887,
            -0.7725864090054645,
            -1.2298963997824657,
            -1.6481577027300283,
            -1.4094812387439974,
            -1.358785110450508,
            -0.8255819340732559,
            -1.5964335565314374,
            -1.8545187652128694,
            -1.8679761933792474,
            -1.7532919193875882,
            -0.9972596768279894,
            -0.6620119618144987,
            -2.149188139942944,
            -1.3918389810620124,
            -2.1539463857147,
            -1.052997442707641,
            -1.1250129345827387,
            -0.7807162790124507,
            -2.095349321883765,
            -1.020031452206035,
            -1.2147112924432486
           ]
          },
          {
           "label": "min_data_in_leaf",
           "range": [
            2,
            100
           ],
           "values": [
            98,
            56,
            26,
            7,
            56,
            45,
            96,
            49,
            31,
            83,
            72,
            54,
            56,
            2,
            79,
            15,
            18,
            15,
            49,
            18,
            21,
            25,
            17,
            31,
            52,
            9,
            17,
            24,
            55,
            16,
            27,
            25,
            58,
            16,
            7,
            60,
            24,
            22,
            47,
            35,
            22,
            6,
            5,
            16,
            5,
            8,
            32,
            38,
            13,
            12,
            78,
            77,
            50,
            61,
            32,
            29,
            82,
            39,
            78,
            66,
            52,
            89,
            70,
            78,
            92,
            64,
            43,
            43,
            76,
            2,
            62,
            58,
            93,
            76,
            61,
            72,
            85,
            52,
            46,
            45,
            38,
            84,
            48,
            78,
            37,
            87,
            100,
            69,
            97,
            76,
            63,
            94,
            35,
            73,
            75,
            71,
            83,
            97,
            76,
            87,
            67,
            6,
            100,
            61,
            44,
            21,
            45,
            60,
            28,
            2,
            37,
            76,
            79,
            68,
            44,
            91,
            27,
            44,
            43,
            29,
            68,
            74,
            49,
            37,
            92,
            89,
            87,
            90,
            85,
            83,
            42,
            73,
            83,
            20,
            99,
            61,
            59,
            76,
            73,
            53,
            68,
            86,
            74,
            81,
            63,
            71,
            70,
            80,
            47,
            65,
            72,
            70,
            51,
            88,
            45,
            65,
            88,
            68,
            89,
            77,
            85,
            88,
            94,
            90,
            83,
            76,
            85,
            80,
            51,
            94,
            57,
            94,
            41,
            68,
            78,
            91,
            79,
            78,
            94,
            62,
            76,
            96,
            62,
            43,
            100,
            94,
            44,
            50,
            43,
            74,
            97,
            94,
            95,
            88,
            95,
            66,
            66,
            56,
            85,
            98
           ]
          },
          {
           "label": "od_type",
           "range": [
            0,
            1
           ],
           "ticktext": [
            "IncToDec",
            "Iter"
           ],
           "tickvals": [
            0,
            1
           ],
           "values": [
            0,
            1,
            1,
            1,
            0,
            0,
            0,
            0,
            0,
            0,
            1,
            0,
            1,
            0,
            1,
            1,
            1,
            1,
            0,
            1,
            1,
            1,
            1,
            1,
            0,
            0,
            1,
            1,
            1,
            1,
            1,
            1,
            0,
            0,
            1,
            1,
            1,
            1,
            1,
            1,
            1,
            1,
            1,
            1,
            1,
            1,
            1,
            1,
            1,
            1,
            0,
            0,
            0,
            0,
            1,
            0,
            1,
            1,
            1,
            1,
            1,
            1,
            1,
            0,
            0,
            0,
            1,
            1,
            1,
            0,
            0,
            0,
            0,
            0,
            1,
            1,
            1,
            1,
            1,
            1,
            1,
            0,
            1,
            1,
            0,
            1,
            1,
            1,
            1,
            1,
            1,
            1,
            1,
            0,
            0,
            1,
            0,
            0,
            0,
            1,
            1,
            1,
            1,
            0,
            0,
            1,
            1,
            0,
            1,
            1,
            1,
            0,
            0,
            0,
            1,
            0,
            1,
            0,
            1,
            1,
            1,
            1,
            0,
            0,
            1,
            1,
            0,
            0,
            0,
            1,
            0,
            1,
            1,
            1,
            0,
            1,
            1,
            1,
            1,
            1,
            1,
            1,
            1,
            1,
            1,
            1,
            1,
            1,
            1,
            1,
            1,
            1,
            1,
            1,
            1,
            0,
            0,
            0,
            1,
            0,
            0,
            0,
            0,
            0,
            0,
            0,
            0,
            0,
            0,
            0,
            0,
            0,
            0,
            0,
            1,
            1,
            1,
            1,
            0,
            1,
            1,
            0,
            1,
            0,
            1,
            1,
            1,
            0,
            1,
            0,
            0,
            1,
            0,
            1,
            0,
            1,
            1,
            0,
            0,
            0
           ]
          },
          {
           "label": "od_wait",
           "range": [
            10,
            50
           ],
           "values": [
            39,
            14,
            22,
            32,
            31,
            32,
            10,
            48,
            14,
            27,
            19,
            47,
            12,
            45,
            50,
            29,
            24,
            38,
            15,
            34,
            39,
            30,
            30,
            18,
            14,
            26,
            20,
            16,
            26,
            17,
            16,
            29,
            39,
            36,
            33,
            32,
            23,
            34,
            30,
            16,
            30,
            29,
            24,
            35,
            20,
            34,
            33,
            12,
            28,
            23,
            13,
            14,
            15,
            14,
            17,
            13,
            21,
            43,
            19,
            25,
            25,
            24,
            21,
            17,
            14,
            28,
            12,
            29,
            14,
            36,
            29,
            13,
            12,
            13,
            31,
            30,
            36,
            23,
            26,
            24,
            40,
            12,
            11,
            25,
            27,
            38,
            38,
            42,
            39,
            36,
            33,
            45,
            30,
            23,
            25,
            50,
            26,
            11,
            50,
            41,
            16,
            27,
            18,
            21,
            21,
            15,
            49,
            20,
            49,
            46,
            46,
            19,
            29,
            29,
            14,
            37,
            49,
            19,
            37,
            26,
            48,
            15,
            47,
            21,
            24,
            22,
            25,
            33,
            11,
            13,
            21,
            30,
            29,
            12,
            22,
            15,
            19,
            27,
            36,
            45,
            41,
            25,
            25,
            31,
            43,
            44,
            36,
            46,
            46,
            28,
            39,
            39,
            47,
            27,
            48,
            40,
            23,
            39,
            26,
            43,
            46,
            46,
            37,
            39,
            41,
            45,
            45,
            45,
            49,
            47,
            47,
            46,
            50,
            31,
            49,
            27,
            39,
            35,
            48,
            49,
            42,
            50,
            49,
            45,
            25,
            48,
            49,
            44,
            48,
            42,
            50,
            39,
            44,
            33,
            49,
            26,
            16,
            42,
            38,
            34
           ]
          },
          {
           "label": "random_strength",
           "range": [
            0.0019352447111774251,
            0.9553915219915697
           ],
           "values": [
            0.883144702535295,
            0.0678417635387436,
            0.563687539524252,
            0.7222337322806531,
            0.26984263977959355,
            0.9553915219915697,
            0.7234098481621414,
            0.36476663338200876,
            0.490215942025346,
            0.9197402509078307,
            0.043685281023554505,
            0.31818098972345976,
            0.19158281300065388,
            0.3233097077691389,
            0.2168648194417186,
            0.15173916835323714,
            0.17890596404695353,
            0.1816751715830634,
            0.36079152696897543,
            0.12231352746617617,
            0.1569938162262112,
            0.31197139921341366,
            0.3832515429445165,
            0.048244045339864594,
            0.0076975006101902416,
            0.37166284278751277,
            0.162058670069428,
            0.10202051057351319,
            0.10943544445129885,
            0.029607840461424128,
            0.042424822846300614,
            0.1912398527227757,
            0.2152897253734035,
            0.0799035020927515,
            0.3876154514298362,
            0.4607523266449449,
            0.06842653044010415,
            0.1670385657709448,
            0.13408123131878436,
            0.014003436397271862,
            0.5051697560735477,
            0.5363156614043115,
            0.7258598226687517,
            0.5573567015864892,
            0.4128442025702397,
            0.43534449250456897,
            0.43025473381280155,
            0.023174551228959027,
            0.7274408536402807,
            0.35470720452786364,
            0.023431837116900493,
            0.1764556729774887,
            0.14997824642675722,
            0.2636091765500534,
            0.071071683687257,
            0.23708398139506665,
            0.31747466959116877,
            0.4078680531760023,
            0.047003966211052406,
            0.256655438822523,
            0.3064602537174661,
            0.3522981770482694,
            0.12426002232900307,
            0.07234050523366617,
            0.10155614201189472,
            0.18824356670380352,
            0.20727811724345618,
            0.05074958177052511,
            0.033200062568811875,
            0.8327053002811236,
            0.3764349379925006,
            0.04905637978804019,
            0.23419076715354384,
            0.04522720567620788,
            0.05785320613974244,
            0.08324446687512543,
            0.10119959610346776,
            0.19152264253503784,
            0.1209277843666714,
            0.12486452998975331,
            0.06936947077739761,
            0.34846092795698214,
            0.20944318189057992,
            0.10224450498705218,
            0.37685481323399195,
            0.17336461797753341,
            0.22482381569495208,
            0.096877206004031,
            0.1436976555032912,
            0.19095182596516122,
            0.10388311442544274,
            0.2818218858057427,
            0.6384153918772757,
            0.21505290128786128,
            0.2115074393613496,
            0.14365669155534286,
            0.3727035939889689,
            0.39108762646796236,
            0.21525332576374262,
            0.1436764929260162,
            0.5492076664499022,
            0.7207094216931826,
            0.01927978227300453,
            0.2775346550706701,
            0.1056240446398515,
            0.6809357972158724,
            0.1722107962156246,
            0.5609561518333746,
            0.1626042221709493,
            0.31471933965868915,
            0.22436611558244393,
            0.7016365684605606,
            0.10543516423519295,
            0.24385361195066868,
            0.07440644657582883,
            0.029888129174123992,
            0.13023746200619174,
            0.0668327973083393,
            0.14272548252777006,
            0.4649939795203327,
            0.10967964172948332,
            0.1937678794556587,
            0.4240111120779171,
            0.6914195392465123,
            0.04027973133032417,
            0.04589332838734693,
            0.2937141713194211,
            0.24476628669498054,
            0.05522278283997964,
            0.09909881796970305,
            0.3036068402025462,
            0.020913870485352683,
            0.17701334582622205,
            0.25742825008076464,
            0.24355891326025386,
            0.13891862653512135,
            0.15611625847349575,
            0.09319705040869262,
            0.3131003511690469,
            0.03203841280044782,
            0.09574842786764542,
            0.11221249561278573,
            0.001988336804215174,
            0.2215316714130055,
            0.020399286827037177,
            0.10578673868397305,
            0.16944887145350496,
            0.005643469075187091,
            0.3327206113570706,
            0.0019352447111774251,
            0.06299310806895936,
            0.06174491991287999,
            0.31501242504141175,
            0.15354992360365338,
            0.01765989153775388,
            0.02082619149408467,
            0.2965658941016059,
            0.033295042068097774,
            0.16706511824120426,
            0.021786331704760326,
            0.008179345523639161,
            0.20275310447884143,
            0.00990587586674489,
            0.005849544946781396,
            0.06085275446695071,
            0.23145729460709338,
            0.4813919005032284,
            0.050406108084866424,
            0.0463038451372018,
            0.20145999287004346,
            0.1247724588029917,
            0.16730470498368505,
            0.0034830512725191817,
            0.11708457937424611,
            0.29276115033123995,
            0.41347771216739765,
            0.07884712191082141,
            0.2266912575554832,
            0.3860322827283832,
            0.18313156702837646,
            0.11430953222692179,
            0.10746257829865441,
            0.153583976061371,
            0.015212400033558022,
            0.16739502566202835,
            0.3796812878483006,
            0.053262479104850116,
            0.28329670352011344,
            0.28468655295839473,
            0.11519019280736316,
            0.30454078744731,
            0.2251213138147147,
            0.30984573958704736,
            0.01727394031387279,
            0.038850678222327184,
            0.2032743384604323,
            0.3126139727889955,
            0.17637195752423357,
            0.026053398189976366,
            0.04841252354016268
           ]
          },
          {
           "label": "subsample",
           "range": [
            0.05590871102477877,
            0.9949685856452165
           ],
           "values": [
            0.09138419995630612,
            0.1886730423158563,
            0.1679483773988487,
            0.9740025041452954,
            0.6528984606629881,
            0.36922533183654416,
            0.5810277158986696,
            0.42523428300105787,
            0.19377895979047943,
            0.16483604054753825,
            0.15420578518876235,
            0.606344760632378,
            0.11719526659574343,
            0.2409040242968412,
            0.435301195891857,
            0.4133841246599239,
            0.5452592327373569,
            0.4177367592068833,
            0.48676161456304984,
            0.6540247484359489,
            0.4037680294058112,
            0.6057238124308177,
            0.9005168318122931,
            0.7219883327942651,
            0.6908255873181347,
            0.42099053660821456,
            0.7100862159073762,
            0.5795536266643171,
            0.9775802723533247,
            0.8244503549896238,
            0.48860038677011525,
            0.4351562620249605,
            0.23165730643802612,
            0.19396543817370077,
            0.1351699420608271,
            0.461105237380952,
            0.3607006984279498,
            0.695751450826462,
            0.44269552144334207,
            0.2970345417732435,
            0.5810398337042082,
            0.6065023439392836,
            0.5934825995482753,
            0.6210882828979563,
            0.7067458819264937,
            0.7411996996064365,
            0.47682138918444833,
            0.2948986247454493,
            0.5652687557134604,
            0.7190152297674418,
            0.5001993869292545,
            0.4255567060158094,
            0.2197829610132046,
            0.16387194313650957,
            0.10755449133288848,
            0.059093898736049366,
            0.13881220869882185,
            0.6130369412285009,
            0.10191708012543314,
            0.23738870333068057,
            0.23283009266510268,
            0.16702100732388525,
            0.3266743016897196,
            0.15784536606446894,
            0.1867659631870156,
            0.13831125433052074,
            0.16021908940191085,
            0.8770225884972256,
            0.26228857565992436,
            0.24538524889790725,
            0.10087737663448815,
            0.07005684968530455,
            0.29093107236098914,
            0.42254189015675603,
            0.06783871147723564,
            0.3333191401065893,
            0.27679930579166967,
            0.1195944744756165,
            0.690195330019247,
            0.2175039583546629,
            0.2224222430905064,
            0.22201816621955411,
            0.7153353945199599,
            0.43139879991177,
            0.6168099997005101,
            0.06603249320328008,
            0.13088848367834144,
            0.061580186930116625,
            0.059038069235120824,
            0.08380194329053778,
            0.0971783973048646,
            0.05590871102477877,
            0.2553302208209787,
            0.1394822614264652,
            0.1645173471125567,
            0.0713335833368182,
            0.20586704787814025,
            0.14027607447251017,
            0.09134362959964845,
            0.2052145890443377,
            0.18423565660794172,
            0.4469445344756383,
            0.09138530940184124,
            0.16624386629003823,
            0.3302024263860504,
            0.9949685856452165,
            0.06948260861269935,
            0.614296876100188,
            0.05840545752370026,
            0.2907580524759088,
            0.08358311722484574,
            0.2455015945783785,
            0.29398341484194324,
            0.2194488125310469,
            0.7142395827744844,
            0.21732270706507434,
            0.11944981823527007,
            0.31919051711855995,
            0.12696003532717776,
            0.6255727557188941,
            0.06601356947517287,
            0.3068439679438031,
            0.272209203376338,
            0.6514835359282165,
            0.07943235002973488,
            0.06610868146935094,
            0.13297112348713422,
            0.32682181756652096,
            0.27574008098832614,
            0.2430135436706103,
            0.1865531668304201,
            0.15076974800269372,
            0.4786525493261632,
            0.9051361184830633,
            0.12330938036723102,
            0.09967199256219622,
            0.1290187289690519,
            0.2814800958789066,
            0.15042693556454298,
            0.05974469258834258,
            0.1618976556586258,
            0.36425547287519766,
            0.24788517017097528,
            0.7339087437578304,
            0.1266836252428351,
            0.22572433476942014,
            0.16560754927537513,
            0.08957329926674648,
            0.1292366492900066,
            0.42116689822779546,
            0.5597555050766257,
            0.12931179934607273,
            0.15602717756384474,
            0.12998696809906374,
            0.22291859687643234,
            0.24949889691532126,
            0.15503378749011282,
            0.3312613298211867,
            0.5495166177218059,
            0.41911988884355483,
            0.5656247419496974,
            0.36438540964986266,
            0.6544986141197986,
            0.5166692204911684,
            0.5282115765531827,
            0.1994751678246052,
            0.4736668203770807,
            0.17730075017990926,
            0.6546659354485516,
            0.415884173862209,
            0.536741664314389,
            0.2625189220101665,
            0.44005994146377586,
            0.1752539308508413,
            0.13396446683943186,
            0.3304521139002097,
            0.09945488616762915,
            0.08038159311874085,
            0.3424592593926079,
            0.28524625970640594,
            0.13498817779600225,
            0.5896822618944504,
            0.3933505364151709,
            0.24948222883440208,
            0.13409576304929102,
            0.11620520891661802,
            0.6254769240720793,
            0.7237577795788266,
            0.4441462794292809,
            0.33049294092670733,
            0.21901019847222508,
            0.06460339456439251,
            0.46317129474984237,
            0.1795231330757956,
            0.32411432418121255,
            0.1988725563752131,
            0.13253552395019846,
            0.7553349899234714,
            0.29019483388436895,
            0.24493485253409417
           ]
          }
         ],
         "labelangle": 30,
         "labelside": "bottom",
         "line": {
          "color": [
           0.28421777777777774,
           0.28864,
           0.2804088888888889,
           0.2866888888888888,
           0.28589777777777775,
           0.2801022222222222,
           0.28194222222222226,
           0.28750666666666663,
           0.2853333333333333,
           0.2801777777777778,
           0.2852222222222222,
           0.28741777777777777,
           0.28404888888888885,
           0.28673333333333334,
           0.2868622222222222,
           0.2878933333333333,
           0.2874977777777778,
           0.28756444444444446,
           0.2859422222222222,
           0.2862311111111111,
           0.2856444444444444,
           0.2885244444444444,
           0.2869333333333333,
           0.2888133333333333,
           0.28687999999999997,
           0.28805333333333333,
           0.28717333333333334,
           0.28809333333333337,
           0.28704888888888885,
           0.2849022222222222,
           0.28542666666666666,
           0.28813777777777777,
           0.28635555555555553,
           0.28798666666666667,
           0.28709777777777773,
           0.2875466666666667,
           0.28677777777777774,
           0.2873866666666666,
           0.28732444444444444,
           0.2843111111111111,
           0.2898266666666667,
           0.28864888888888884,
           0.28755555555555556,
           0.28756,
           0.28641777777777777,
           0.28739999999999993,
           0.2857955555555555,
           0.2845333333333333,
           0.2874933333333333,
           0.28627111111111114,
           0.2882577777777778,
           0.2871244444444444,
           0.2884977777777778,
           0.28602666666666665,
           0.28719999999999996,
           0.28655111111111103,
           0.28532444444444444,
           0.28747999999999996,
           0.2890488888888889,
           0.2885422222222222,
           0.28794222222222227,
           0.28757777777777777,
           0.2852666666666666,
           0.2885422222222222,
           0.28533777777777775,
           0.2869644444444444,
           0.28467555555555557,
           0.2883422222222222,
           0.28685333333333335,
           0.28430666666666665,
           0.2858266666666667,
           0.2849511111111111,
           0.28587999999999997,
           0.2880933333333333,
           0.2901155555555555,
           0.28718666666666665,
           0.2868,
           0.28673777777777776,
           0.28792888888888885,
           0.2861466666666666,
           0.28780444444444436,
           0.2853111111111111,
           0.28756444444444446,
           0.2863644444444444,
           0.2873022222222222,
           0.28987111111111113,
           0.28792888888888885,
           0.2898533333333333,
           0.2869333333333333,
           0.28775555555555554,
           0.2863911111111111,
           0.28802222222222224,
           0.2865955555555555,
           0.2899288888888889,
           0.2880933333333333,
           0.28757333333333335,
           0.28685777777777777,
           0.2849955555555555,
           0.2885155555555555,
           0.2879111111111112,
           0.2846933333333333,
           0.28544888888888886,
           0.28668888888888894,
           0.28862666666666664,
           0.2884488888888889,
           0.28544444444444445,
           0.2886666666666667,
           0.2825422222222222,
           0.2862533333333333,
           0.28540000000000004,
           0.28582222222222226,
           0.28555555555555556,
           0.28870666666666667,
           0.28744888888888886,
           0.28756444444444446,
           0.28815999999999997,
           0.2862222222222222,
           0.28315555555555555,
           0.28715111111111113,
           0.2863022222222222,
           0.2857422222222223,
           0.2853733333333333,
           0.28720888888888885,
           0.28694222222222227,
           0.2891911111111111,
           0.2869822222222222,
           0.28576,
           0.28818666666666665,
           0.2877955555555555,
           0.28769333333333336,
           0.28702666666666665,
           0.2865822222222222,
           0.2848311111111111,
           0.2843688888888889,
           0.28662222222222217,
           0.28913777777777777,
           0.2872488888888889,
           0.28940000000000005,
           0.28761333333333333,
           0.28985333333333335,
           0.28709333333333337,
           0.2900266666666666,
           0.2885111111111111,
           0.28864,
           0.28891555555555554,
           0.2893866666666666,
           0.2863733333333333,
           0.28619999999999995,
           0.2880844444444444,
           0.28773333333333334,
           0.2873822222222222,
           0.2867244444444444,
           0.2882222222222222,
           0.29019555555555554,
           0.28558222222222224,
           0.29016,
           0.2868577777777777,
           0.28530666666666665,
           0.28799555555555556,
           0.28926222222222214,
           0.2905688888888889,
           0.28976444444444444,
           0.28820444444444443,
           0.28805777777777775,
           0.2868088888888889,
           0.2882488888888889,
           0.28672000000000003,
           0.2882444444444444,
           0.28914666666666666,
           0.29041333333333336,
           0.2852177777777778,
           0.28154666666666667,
           0.2889111111111111,
           0.28729333333333334,
           0.29035555555555553,
           0.2873333333333333,
           0.28950666666666663,
           0.2873866666666666,
           0.2859688888888889,
           0.2869644444444444,
           0.28589777777777775,
           0.28783999999999993,
           0.28903999999999996,
           0.2877955555555555,
           0.28745777777777776,
           0.2873555555555556,
           0.2881244444444444,
           0.2863644444444444,
           0.28612444444444446,
           0.28824,
           0.2844044444444444,
           0.28520888888888885,
           0.28735555555555553,
           0.2882711111111111,
           0.28800888888888887,
           0.28832444444444444,
           0.28759111111111113,
           0.28583555555555556,
           0.2903955555555555,
           0.28709777777777773
          ],
          "colorbar": {
           "title": {
            "text": "Objective Value"
           }
          },
          "colorscale": [
           [
            0,
            "rgb(247,251,255)"
           ],
           [
            0.125,
            "rgb(222,235,247)"
           ],
           [
            0.25,
            "rgb(198,219,239)"
           ],
           [
            0.375,
            "rgb(158,202,225)"
           ],
           [
            0.5,
            "rgb(107,174,214)"
           ],
           [
            0.625,
            "rgb(66,146,198)"
           ],
           [
            0.75,
            "rgb(33,113,181)"
           ],
           [
            0.875,
            "rgb(8,81,156)"
           ],
           [
            1,
            "rgb(8,48,107)"
           ]
          ],
          "reversescale": false,
          "showscale": true
         },
         "type": "parcoords"
        }
       ],
       "layout": {
        "template": {
         "data": {
          "bar": [
           {
            "error_x": {
             "color": "#2a3f5f"
            },
            "error_y": {
             "color": "#2a3f5f"
            },
            "marker": {
             "line": {
              "color": "#E5ECF6",
              "width": 0.5
             },
             "pattern": {
              "fillmode": "overlay",
              "size": 10,
              "solidity": 0.2
             }
            },
            "type": "bar"
           }
          ],
          "barpolar": [
           {
            "marker": {
             "line": {
              "color": "#E5ECF6",
              "width": 0.5
             },
             "pattern": {
              "fillmode": "overlay",
              "size": 10,
              "solidity": 0.2
             }
            },
            "type": "barpolar"
           }
          ],
          "carpet": [
           {
            "aaxis": {
             "endlinecolor": "#2a3f5f",
             "gridcolor": "white",
             "linecolor": "white",
             "minorgridcolor": "white",
             "startlinecolor": "#2a3f5f"
            },
            "baxis": {
             "endlinecolor": "#2a3f5f",
             "gridcolor": "white",
             "linecolor": "white",
             "minorgridcolor": "white",
             "startlinecolor": "#2a3f5f"
            },
            "type": "carpet"
           }
          ],
          "choropleth": [
           {
            "colorbar": {
             "outlinewidth": 0,
             "ticks": ""
            },
            "type": "choropleth"
           }
          ],
          "contour": [
           {
            "colorbar": {
             "outlinewidth": 0,
             "ticks": ""
            },
            "colorscale": [
             [
              0,
              "#0d0887"
             ],
             [
              0.1111111111111111,
              "#46039f"
             ],
             [
              0.2222222222222222,
              "#7201a8"
             ],
             [
              0.3333333333333333,
              "#9c179e"
             ],
             [
              0.4444444444444444,
              "#bd3786"
             ],
             [
              0.5555555555555556,
              "#d8576b"
             ],
             [
              0.6666666666666666,
              "#ed7953"
             ],
             [
              0.7777777777777778,
              "#fb9f3a"
             ],
             [
              0.8888888888888888,
              "#fdca26"
             ],
             [
              1,
              "#f0f921"
             ]
            ],
            "type": "contour"
           }
          ],
          "contourcarpet": [
           {
            "colorbar": {
             "outlinewidth": 0,
             "ticks": ""
            },
            "type": "contourcarpet"
           }
          ],
          "heatmap": [
           {
            "colorbar": {
             "outlinewidth": 0,
             "ticks": ""
            },
            "colorscale": [
             [
              0,
              "#0d0887"
             ],
             [
              0.1111111111111111,
              "#46039f"
             ],
             [
              0.2222222222222222,
              "#7201a8"
             ],
             [
              0.3333333333333333,
              "#9c179e"
             ],
             [
              0.4444444444444444,
              "#bd3786"
             ],
             [
              0.5555555555555556,
              "#d8576b"
             ],
             [
              0.6666666666666666,
              "#ed7953"
             ],
             [
              0.7777777777777778,
              "#fb9f3a"
             ],
             [
              0.8888888888888888,
              "#fdca26"
             ],
             [
              1,
              "#f0f921"
             ]
            ],
            "type": "heatmap"
           }
          ],
          "histogram": [
           {
            "marker": {
             "pattern": {
              "fillmode": "overlay",
              "size": 10,
              "solidity": 0.2
             }
            },
            "type": "histogram"
           }
          ],
          "histogram2d": [
           {
            "colorbar": {
             "outlinewidth": 0,
             "ticks": ""
            },
            "colorscale": [
             [
              0,
              "#0d0887"
             ],
             [
              0.1111111111111111,
              "#46039f"
             ],
             [
              0.2222222222222222,
              "#7201a8"
             ],
             [
              0.3333333333333333,
              "#9c179e"
             ],
             [
              0.4444444444444444,
              "#bd3786"
             ],
             [
              0.5555555555555556,
              "#d8576b"
             ],
             [
              0.6666666666666666,
              "#ed7953"
             ],
             [
              0.7777777777777778,
              "#fb9f3a"
             ],
             [
              0.8888888888888888,
              "#fdca26"
             ],
             [
              1,
              "#f0f921"
             ]
            ],
            "type": "histogram2d"
           }
          ],
          "histogram2dcontour": [
           {
            "colorbar": {
             "outlinewidth": 0,
             "ticks": ""
            },
            "colorscale": [
             [
              0,
              "#0d0887"
             ],
             [
              0.1111111111111111,
              "#46039f"
             ],
             [
              0.2222222222222222,
              "#7201a8"
             ],
             [
              0.3333333333333333,
              "#9c179e"
             ],
             [
              0.4444444444444444,
              "#bd3786"
             ],
             [
              0.5555555555555556,
              "#d8576b"
             ],
             [
              0.6666666666666666,
              "#ed7953"
             ],
             [
              0.7777777777777778,
              "#fb9f3a"
             ],
             [
              0.8888888888888888,
              "#fdca26"
             ],
             [
              1,
              "#f0f921"
             ]
            ],
            "type": "histogram2dcontour"
           }
          ],
          "mesh3d": [
           {
            "colorbar": {
             "outlinewidth": 0,
             "ticks": ""
            },
            "type": "mesh3d"
           }
          ],
          "parcoords": [
           {
            "line": {
             "colorbar": {
              "outlinewidth": 0,
              "ticks": ""
             }
            },
            "type": "parcoords"
           }
          ],
          "pie": [
           {
            "automargin": true,
            "type": "pie"
           }
          ],
          "scatter": [
           {
            "fillpattern": {
             "fillmode": "overlay",
             "size": 10,
             "solidity": 0.2
            },
            "type": "scatter"
           }
          ],
          "scatter3d": [
           {
            "line": {
             "colorbar": {
              "outlinewidth": 0,
              "ticks": ""
             }
            },
            "marker": {
             "colorbar": {
              "outlinewidth": 0,
              "ticks": ""
             }
            },
            "type": "scatter3d"
           }
          ],
          "scattercarpet": [
           {
            "marker": {
             "colorbar": {
              "outlinewidth": 0,
              "ticks": ""
             }
            },
            "type": "scattercarpet"
           }
          ],
          "scattergeo": [
           {
            "marker": {
             "colorbar": {
              "outlinewidth": 0,
              "ticks": ""
             }
            },
            "type": "scattergeo"
           }
          ],
          "scattergl": [
           {
            "marker": {
             "colorbar": {
              "outlinewidth": 0,
              "ticks": ""
             }
            },
            "type": "scattergl"
           }
          ],
          "scattermap": [
           {
            "marker": {
             "colorbar": {
              "outlinewidth": 0,
              "ticks": ""
             }
            },
            "type": "scattermap"
           }
          ],
          "scattermapbox": [
           {
            "marker": {
             "colorbar": {
              "outlinewidth": 0,
              "ticks": ""
             }
            },
            "type": "scattermapbox"
           }
          ],
          "scatterpolar": [
           {
            "marker": {
             "colorbar": {
              "outlinewidth": 0,
              "ticks": ""
             }
            },
            "type": "scatterpolar"
           }
          ],
          "scatterpolargl": [
           {
            "marker": {
             "colorbar": {
              "outlinewidth": 0,
              "ticks": ""
             }
            },
            "type": "scatterpolargl"
           }
          ],
          "scatterternary": [
           {
            "marker": {
             "colorbar": {
              "outlinewidth": 0,
              "ticks": ""
             }
            },
            "type": "scatterternary"
           }
          ],
          "surface": [
           {
            "colorbar": {
             "outlinewidth": 0,
             "ticks": ""
            },
            "colorscale": [
             [
              0,
              "#0d0887"
             ],
             [
              0.1111111111111111,
              "#46039f"
             ],
             [
              0.2222222222222222,
              "#7201a8"
             ],
             [
              0.3333333333333333,
              "#9c179e"
             ],
             [
              0.4444444444444444,
              "#bd3786"
             ],
             [
              0.5555555555555556,
              "#d8576b"
             ],
             [
              0.6666666666666666,
              "#ed7953"
             ],
             [
              0.7777777777777778,
              "#fb9f3a"
             ],
             [
              0.8888888888888888,
              "#fdca26"
             ],
             [
              1,
              "#f0f921"
             ]
            ],
            "type": "surface"
           }
          ],
          "table": [
           {
            "cells": {
             "fill": {
              "color": "#EBF0F8"
             },
             "line": {
              "color": "white"
             }
            },
            "header": {
             "fill": {
              "color": "#C8D4E3"
             },
             "line": {
              "color": "white"
             }
            },
            "type": "table"
           }
          ]
         },
         "layout": {
          "annotationdefaults": {
           "arrowcolor": "#2a3f5f",
           "arrowhead": 0,
           "arrowwidth": 1
          },
          "autotypenumbers": "strict",
          "coloraxis": {
           "colorbar": {
            "outlinewidth": 0,
            "ticks": ""
           }
          },
          "colorscale": {
           "diverging": [
            [
             0,
             "#8e0152"
            ],
            [
             0.1,
             "#c51b7d"
            ],
            [
             0.2,
             "#de77ae"
            ],
            [
             0.3,
             "#f1b6da"
            ],
            [
             0.4,
             "#fde0ef"
            ],
            [
             0.5,
             "#f7f7f7"
            ],
            [
             0.6,
             "#e6f5d0"
            ],
            [
             0.7,
             "#b8e186"
            ],
            [
             0.8,
             "#7fbc41"
            ],
            [
             0.9,
             "#4d9221"
            ],
            [
             1,
             "#276419"
            ]
           ],
           "sequential": [
            [
             0,
             "#0d0887"
            ],
            [
             0.1111111111111111,
             "#46039f"
            ],
            [
             0.2222222222222222,
             "#7201a8"
            ],
            [
             0.3333333333333333,
             "#9c179e"
            ],
            [
             0.4444444444444444,
             "#bd3786"
            ],
            [
             0.5555555555555556,
             "#d8576b"
            ],
            [
             0.6666666666666666,
             "#ed7953"
            ],
            [
             0.7777777777777778,
             "#fb9f3a"
            ],
            [
             0.8888888888888888,
             "#fdca26"
            ],
            [
             1,
             "#f0f921"
            ]
           ],
           "sequentialminus": [
            [
             0,
             "#0d0887"
            ],
            [
             0.1111111111111111,
             "#46039f"
            ],
            [
             0.2222222222222222,
             "#7201a8"
            ],
            [
             0.3333333333333333,
             "#9c179e"
            ],
            [
             0.4444444444444444,
             "#bd3786"
            ],
            [
             0.5555555555555556,
             "#d8576b"
            ],
            [
             0.6666666666666666,
             "#ed7953"
            ],
            [
             0.7777777777777778,
             "#fb9f3a"
            ],
            [
             0.8888888888888888,
             "#fdca26"
            ],
            [
             1,
             "#f0f921"
            ]
           ]
          },
          "colorway": [
           "#636efa",
           "#EF553B",
           "#00cc96",
           "#ab63fa",
           "#FFA15A",
           "#19d3f3",
           "#FF6692",
           "#B6E880",
           "#FF97FF",
           "#FECB52"
          ],
          "font": {
           "color": "#2a3f5f"
          },
          "geo": {
           "bgcolor": "white",
           "lakecolor": "white",
           "landcolor": "#E5ECF6",
           "showlakes": true,
           "showland": true,
           "subunitcolor": "white"
          },
          "hoverlabel": {
           "align": "left"
          },
          "hovermode": "closest",
          "mapbox": {
           "style": "light"
          },
          "paper_bgcolor": "white",
          "plot_bgcolor": "#E5ECF6",
          "polar": {
           "angularaxis": {
            "gridcolor": "white",
            "linecolor": "white",
            "ticks": ""
           },
           "bgcolor": "#E5ECF6",
           "radialaxis": {
            "gridcolor": "white",
            "linecolor": "white",
            "ticks": ""
           }
          },
          "scene": {
           "xaxis": {
            "backgroundcolor": "#E5ECF6",
            "gridcolor": "white",
            "gridwidth": 2,
            "linecolor": "white",
            "showbackground": true,
            "ticks": "",
            "zerolinecolor": "white"
           },
           "yaxis": {
            "backgroundcolor": "#E5ECF6",
            "gridcolor": "white",
            "gridwidth": 2,
            "linecolor": "white",
            "showbackground": true,
            "ticks": "",
            "zerolinecolor": "white"
           },
           "zaxis": {
            "backgroundcolor": "#E5ECF6",
            "gridcolor": "white",
            "gridwidth": 2,
            "linecolor": "white",
            "showbackground": true,
            "ticks": "",
            "zerolinecolor": "white"
           }
          },
          "shapedefaults": {
           "line": {
            "color": "#2a3f5f"
           }
          },
          "ternary": {
           "aaxis": {
            "gridcolor": "white",
            "linecolor": "white",
            "ticks": ""
           },
           "baxis": {
            "gridcolor": "white",
            "linecolor": "white",
            "ticks": ""
           },
           "bgcolor": "#E5ECF6",
           "caxis": {
            "gridcolor": "white",
            "linecolor": "white",
            "ticks": ""
           }
          },
          "title": {
           "x": 0.05
          },
          "xaxis": {
           "automargin": true,
           "gridcolor": "white",
           "linecolor": "white",
           "ticks": "",
           "title": {
            "standoff": 15
           },
           "zerolinecolor": "white",
           "zerolinewidth": 2
          },
          "yaxis": {
           "automargin": true,
           "gridcolor": "white",
           "linecolor": "white",
           "ticks": "",
           "title": {
            "standoff": 15
           },
           "zerolinecolor": "white",
           "zerolinewidth": 2
          }
         }
        },
        "title": {
         "text": "Parallel Coordinate Plot"
        }
       }
      }
     },
     "metadata": {},
     "output_type": "display_data"
    }
   ],
   "source": [
    "# Plot Multivariate Visualization\n",
    "plot_parallel_coordinate(study).show()\n",
    "\n",
    "## Notes:\n",
    "# - Each line is a trial\n",
    "# - X-axis has the hyperparameters\n",
    "# - Y-axis is the hyperparameter value\n",
    "# - Colour Shade is the Objective Value\n",
    "# - See which parameter ranges tend to result in better scores"
   ]
  },
  {
   "cell_type": "markdown",
   "id": "3924586d",
   "metadata": {},
   "source": [
    "We can see favourtism for MVS, medium range colsample_bylevel, high depth, medium learning rates, higher min_data_in_leaf, low random strength values, and low subsample values."
   ]
  },
  {
   "cell_type": "markdown",
   "id": "cc9e033e",
   "metadata": {},
   "source": [
    "## Conclusion\n",
    "\n",
    "For phase 2, we are going to narrow the search range and allow for increased depths and larger colsample_bylevel values. We are also going to increase the number of iterations each trial and run 5-fold cross validation."
   ]
  }
 ],
 "metadata": {
  "kernelspec": {
   "display_name": "Python 3",
   "language": "python",
   "name": "python3"
  },
  "language_info": {
   "codemirror_mode": {
    "name": "ipython",
    "version": 3
   },
   "file_extension": ".py",
   "mimetype": "text/x-python",
   "name": "python",
   "nbconvert_exporter": "python",
   "pygments_lexer": "ipython3",
   "version": "3.10.12"
  }
 },
 "nbformat": 4,
 "nbformat_minor": 5
}
